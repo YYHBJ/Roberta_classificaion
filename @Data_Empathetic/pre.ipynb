{
 "cells": [
  {
   "cell_type": "markdown",
   "metadata": {
    "id": "V0C1wl1LPZ80"
   },
   "source": [
    "## 前處理"
   ]
  },
  {
   "cell_type": "code",
   "execution_count": 4,
   "metadata": {
    "colab": {
     "base_uri": "https://localhost:8080/"
    },
    "id": "r8FRguy6Ghai",
    "outputId": "51d1d699-307a-4d65-f1f0-c53a5f66cc4e"
   },
   "outputs": [
    {
     "name": "stderr",
     "output_type": "stream",
     "text": [
      "b'Skipping line 3: expected 8 fields, saw 9\\nSkipping line 5: expected 8 fields, saw 9\\nSkipping line 8: expected 8 fields, saw 9\\nSkipping line 10: expected 8 fields, saw 9\\nSkipping line 12: expected 8 fields, saw 9\\nSkipping line 14: expected 8 fields, saw 9\\nSkipping line 16: expected 8 fields, saw 9\\nSkipping line 18: expected 8 fields, saw 9\\nSkipping line 20: expected 8 fields, saw 9\\nSkipping line 22: expected 8 fields, saw 9\\nSkipping line 24: expected 8 fields, saw 9\\nSkipping line 26: expected 8 fields, saw 9\\nSkipping line 28: expected 8 fields, saw 9\\nSkipping line 30: expected 8 fields, saw 9\\nSkipping line 32: expected 8 fields, saw 9\\nSkipping line 34: expected 8 fields, saw 9\\nSkipping line 37: expected 8 fields, saw 9\\nSkipping line 39: expected 8 fields, saw 9\\nSkipping line 41: expected 8 fields, saw 9\\nSkipping line 43: expected 8 fields, saw 9\\nSkipping line 45: expected 8 fields, saw 9\\nSkipping line 47: expected 8 fields, saw 9\\nSkipping line 50: expected 8 fields, saw 9\\nSkipping line 52: expected 8 fields, saw 9\\nSkipping line 55: expected 8 fields, saw 9\\nSkipping line 57: expected 8 fields, saw 9\\nSkipping line 59: expected 8 fields, saw 9\\nSkipping line 61: expected 8 fields, saw 9\\nSkipping line 63: expected 8 fields, saw 9\\nSkipping line 65: expected 8 fields, saw 9\\nSkipping line 67: expected 8 fields, saw 9\\nSkipping line 69: expected 8 fields, saw 9\\nSkipping line 71: expected 8 fields, saw 9\\nSkipping line 73: expected 8 fields, saw 9\\nSkipping line 75: expected 8 fields, saw 9\\nSkipping line 77: expected 8 fields, saw 9\\nSkipping line 79: expected 8 fields, saw 9\\nSkipping line 81: expected 8 fields, saw 9\\nSkipping line 83: expected 8 fields, saw 9\\nSkipping line 85: expected 8 fields, saw 9\\nSkipping line 87: expected 8 fields, saw 9\\nSkipping line 89: expected 8 fields, saw 9\\nSkipping line 91: expected 8 fields, saw 9\\nSkipping line 93: expected 8 fields, saw 9\\nSkipping line 95: expected 8 fields, saw 9\\nSkipping line 97: expected 8 fields, saw 9\\nSkipping line 99: expected 8 fields, saw 9\\nSkipping line 101: expected 8 fields, saw 9\\nSkipping line 103: expected 8 fields, saw 9\\nSkipping line 105: expected 8 fields, saw 9\\nSkipping line 107: expected 8 fields, saw 9\\nSkipping line 109: expected 8 fields, saw 9\\nSkipping line 111: expected 8 fields, saw 9\\nSkipping line 113: expected 8 fields, saw 9\\nSkipping line 116: expected 8 fields, saw 9\\nSkipping line 118: expected 8 fields, saw 9\\nSkipping line 120: expected 8 fields, saw 9\\nSkipping line 122: expected 8 fields, saw 9\\nSkipping line 124: expected 8 fields, saw 9\\nSkipping line 126: expected 8 fields, saw 9\\nSkipping line 128: expected 8 fields, saw 9\\nSkipping line 130: expected 8 fields, saw 9\\nSkipping line 132: expected 8 fields, saw 9\\nSkipping line 134: expected 8 fields, saw 9\\nSkipping line 136: expected 8 fields, saw 9\\nSkipping line 138: expected 8 fields, saw 9\\nSkipping line 140: expected 8 fields, saw 9\\nSkipping line 142: expected 8 fields, saw 9\\nSkipping line 145: expected 8 fields, saw 9\\nSkipping line 147: expected 8 fields, saw 9\\nSkipping line 149: expected 8 fields, saw 9\\nSkipping line 151: expected 8 fields, saw 9\\nSkipping line 153: expected 8 fields, saw 9\\nSkipping line 155: expected 8 fields, saw 9\\nSkipping line 157: expected 8 fields, saw 9\\nSkipping line 159: expected 8 fields, saw 9\\nSkipping line 161: expected 8 fields, saw 9\\nSkipping line 163: expected 8 fields, saw 9\\nSkipping line 165: expected 8 fields, saw 9\\nSkipping line 167: expected 8 fields, saw 9\\nSkipping line 169: expected 8 fields, saw 9\\nSkipping line 171: expected 8 fields, saw 9\\nSkipping line 174: expected 8 fields, saw 9\\nSkipping line 176: expected 8 fields, saw 9\\nSkipping line 179: expected 8 fields, saw 9\\nSkipping line 181: expected 8 fields, saw 9\\nSkipping line 184: expected 8 fields, saw 9\\nSkipping line 186: expected 8 fields, saw 9\\nSkipping line 188: expected 8 fields, saw 9\\nSkipping line 190: expected 8 fields, saw 9\\nSkipping line 192: expected 8 fields, saw 9\\nSkipping line 194: expected 8 fields, saw 9\\nSkipping line 197: expected 8 fields, saw 9\\nSkipping line 199: expected 8 fields, saw 9\\nSkipping line 201: expected 8 fields, saw 9\\nSkipping line 203: expected 8 fields, saw 9\\nSkipping line 205: expected 8 fields, saw 9\\nSkipping line 207: expected 8 fields, saw 9\\nSkipping line 209: expected 8 fields, saw 9\\nSkipping line 211: expected 8 fields, saw 9\\nSkipping line 214: expected 8 fields, saw 9\\nSkipping line 216: expected 8 fields, saw 9\\nSkipping line 218: expected 8 fields, saw 9\\nSkipping line 220: expected 8 fields, saw 9\\nSkipping line 222: expected 8 fields, saw 9\\nSkipping line 224: expected 8 fields, saw 9\\nSkipping line 226: expected 8 fields, saw 9\\nSkipping line 228: expected 8 fields, saw 9\\nSkipping line 231: expected 8 fields, saw 9\\nSkipping line 233: expected 8 fields, saw 9\\nSkipping line 236: expected 8 fields, saw 9\\nSkipping line 238: expected 8 fields, saw 9\\nSkipping line 241: expected 8 fields, saw 9\\nSkipping line 243: expected 8 fields, saw 9\\nSkipping line 245: expected 8 fields, saw 9\\nSkipping line 247: expected 8 fields, saw 9\\nSkipping line 249: expected 8 fields, saw 9\\nSkipping line 251: expected 8 fields, saw 9\\nSkipping line 253: expected 8 fields, saw 9\\nSkipping line 255: expected 8 fields, saw 9\\nSkipping line 257: expected 8 fields, saw 9\\nSkipping line 259: expected 8 fields, saw 9\\nSkipping line 261: expected 8 fields, saw 9\\nSkipping line 264: expected 8 fields, saw 9\\nSkipping line 266: expected 8 fields, saw 9\\nSkipping line 268: expected 8 fields, saw 9\\nSkipping line 270: expected 8 fields, saw 9\\nSkipping line 272: expected 8 fields, saw 9\\nSkipping line 274: expected 8 fields, saw 9\\nSkipping line 277: expected 8 fields, saw 9\\nSkipping line 279: expected 8 fields, saw 9\\nSkipping line 282: expected 8 fields, saw 9\\nSkipping line 284: expected 8 fields, saw 9\\nSkipping line 286: expected 8 fields, saw 9\\nSkipping line 288: expected 8 fields, saw 9\\nSkipping line 290: expected 8 fields, saw 9\\nSkipping line 292: expected 8 fields, saw 9\\nSkipping line 294: expected 8 fields, saw 9\\nSkipping line 296: expected 8 fields, saw 9\\nSkipping line 299: expected 8 fields, saw 9\\nSkipping line 301: expected 8 fields, saw 9\\nSkipping line 304: expected 8 fields, saw 9\\nSkipping line 306: expected 8 fields, saw 9\\nSkipping line 309: expected 8 fields, saw 9\\nSkipping line 311: expected 8 fields, saw 9\\nSkipping line 313: expected 8 fields, saw 9\\nSkipping line 315: expected 8 fields, saw 9\\nSkipping line 317: expected 8 fields, saw 9\\nSkipping line 319: expected 8 fields, saw 9\\nSkipping line 321: expected 8 fields, saw 9\\nSkipping line 323: expected 8 fields, saw 9\\nSkipping line 325: expected 8 fields, saw 9\\nSkipping line 327: expected 8 fields, saw 9\\nSkipping line 329: expected 8 fields, saw 9\\nSkipping line 331: expected 8 fields, saw 9\\nSkipping line 333: expected 8 fields, saw 9\\nSkipping line 335: expected 8 fields, saw 9\\nSkipping line 337: expected 8 fields, saw 9\\nSkipping line 339: expected 8 fields, saw 9\\nSkipping line 342: expected 8 fields, saw 9\\nSkipping line 344: expected 8 fields, saw 9\\nSkipping line 346: expected 8 fields, saw 9\\nSkipping line 348: expected 8 fields, saw 9\\nSkipping line 351: expected 8 fields, saw 9\\nSkipping line 353: expected 8 fields, saw 9\\nSkipping line 355: expected 8 fields, saw 9\\nSkipping line 357: expected 8 fields, saw 9\\nSkipping line 360: expected 8 fields, saw 9\\nSkipping line 362: expected 8 fields, saw 9\\nSkipping line 364: expected 8 fields, saw 9\\nSkipping line 366: expected 8 fields, saw 9\\nSkipping line 369: expected 8 fields, saw 9\\nSkipping line 371: expected 8 fields, saw 9\\nSkipping line 374: expected 8 fields, saw 9\\nSkipping line 376: expected 8 fields, saw 9\\nSkipping line 379: expected 8 fields, saw 9\\nSkipping line 381: expected 8 fields, saw 9\\nSkipping line 383: expected 8 fields, saw 9\\nSkipping line 385: expected 8 fields, saw 9\\nSkipping line 388: expected 8 fields, saw 9\\nSkipping line 390: expected 8 fields, saw 9\\nSkipping line 393: expected 8 fields, saw 9\\nSkipping line 395: expected 8 fields, saw 9\\nSkipping line 398: expected 8 fields, saw 9\\nSkipping line 400: expected 8 fields, saw 9\\nSkipping line 402: expected 8 fields, saw 9\\nSkipping line 405: expected 8 fields, saw 9\\nSkipping line 407: expected 8 fields, saw 9\\nSkipping line 410: expected 8 fields, saw 9\\nSkipping line 412: expected 8 fields, saw 9\\nSkipping line 414: expected 8 fields, saw 9\\nSkipping line 416: expected 8 fields, saw 9\\nSkipping line 419: expected 8 fields, saw 9\\nSkipping line 421: expected 8 fields, saw 9\\nSkipping line 424: expected 8 fields, saw 9\\nSkipping line 426: expected 8 fields, saw 9\\nSkipping line 429: expected 8 fields, saw 9\\nSkipping line 431: expected 8 fields, saw 9\\nSkipping line 433: expected 8 fields, saw 9\\nSkipping line 435: expected 8 fields, saw 9\\nSkipping line 437: expected 8 fields, saw 9\\nSkipping line 440: expected 8 fields, saw 9\\nSkipping line 442: expected 8 fields, saw 9\\nSkipping line 444: expected 8 fields, saw 9\\nSkipping line 446: expected 8 fields, saw 9\\nSkipping line 448: expected 8 fields, saw 9\\nSkipping line 451: expected 8 fields, saw 9\\nSkipping line 453: expected 8 fields, saw 9\\nSkipping line 455: expected 8 fields, saw 9\\nSkipping line 457: expected 8 fields, saw 9\\nSkipping line 459: expected 8 fields, saw 9\\nSkipping line 461: expected 8 fields, saw 9\\nSkipping line 463: expected 8 fields, saw 9\\nSkipping line 465: expected 8 fields, saw 9\\nSkipping line 468: expected 8 fields, saw 9\\nSkipping line 470: expected 8 fields, saw 9\\nSkipping line 473: expected 8 fields, saw 9\\nSkipping line 475: expected 8 fields, saw 9\\nSkipping line 477: expected 8 fields, saw 9\\nSkipping line 479: expected 8 fields, saw 9\\nSkipping line 481: expected 8 fields, saw 9\\nSkipping line 483: expected 8 fields, saw 9\\nSkipping line 485: expected 8 fields, saw 9\\nSkipping line 487: expected 8 fields, saw 9\\nSkipping line 489: expected 8 fields, saw 9\\nSkipping line 491: expected 8 fields, saw 9\\nSkipping line 494: expected 8 fields, saw 9\\nSkipping line 496: expected 8 fields, saw 9\\nSkipping line 498: expected 8 fields, saw 9\\nSkipping line 501: expected 8 fields, saw 9\\nSkipping line 503: expected 8 fields, saw 9\\nSkipping line 505: expected 8 fields, saw 9\\nSkipping line 507: expected 8 fields, saw 9\\nSkipping line 510: expected 8 fields, saw 9\\nSkipping line 512: expected 8 fields, saw 9\\nSkipping line 514: expected 8 fields, saw 9\\nSkipping line 516: expected 8 fields, saw 9\\nSkipping line 518: expected 8 fields, saw 9\\nSkipping line 521: expected 8 fields, saw 9\\nSkipping line 523: expected 8 fields, saw 9\\nSkipping line 525: expected 8 fields, saw 9\\nSkipping line 527: expected 8 fields, saw 9\\nSkipping line 529: expected 8 fields, saw 9\\nSkipping line 531: expected 8 fields, saw 9\\nSkipping line 533: expected 8 fields, saw 9\\nSkipping line 535: expected 8 fields, saw 9\\nSkipping line 537: expected 8 fields, saw 9\\nSkipping line 540: expected 8 fields, saw 9\\nSkipping line 542: expected 8 fields, saw 9\\nSkipping line 544: expected 8 fields, saw 9\\nSkipping line 546: expected 8 fields, saw 9\\nSkipping line 549: expected 8 fields, saw 9\\nSkipping line 551: expected 8 fields, saw 9\\nSkipping line 553: expected 8 fields, saw 9\\nSkipping line 555: expected 8 fields, saw 9\\nSkipping line 557: expected 8 fields, saw 9\\nSkipping line 559: expected 8 fields, saw 9\\nSkipping line 562: expected 8 fields, saw 9\\nSkipping line 564: expected 8 fields, saw 9\\nSkipping line 567: expected 8 fields, saw 9\\nSkipping line 569: expected 8 fields, saw 9\\nSkipping line 572: expected 8 fields, saw 9\\nSkipping line 574: expected 8 fields, saw 9\\nSkipping line 576: expected 8 fields, saw 9\\nSkipping line 578: expected 8 fields, saw 9\\nSkipping line 580: expected 8 fields, saw 9\\nSkipping line 582: expected 8 fields, saw 9\\nSkipping line 584: expected 8 fields, saw 9\\nSkipping line 587: expected 8 fields, saw 9\\nSkipping line 589: expected 8 fields, saw 9\\nSkipping line 592: expected 8 fields, saw 9\\nSkipping line 594: expected 8 fields, saw 9\\nSkipping line 596: expected 8 fields, saw 9\\nSkipping line 598: expected 8 fields, saw 9\\nSkipping line 600: expected 8 fields, saw 9\\nSkipping line 602: expected 8 fields, saw 9\\nSkipping line 604: expected 8 fields, saw 9\\nSkipping line 607: expected 8 fields, saw 9\\nSkipping line 609: expected 8 fields, saw 9\\nSkipping line 611: expected 8 fields, saw 9\\nSkipping line 613: expected 8 fields, saw 9\\nSkipping line 616: expected 8 fields, saw 9\\nSkipping line 618: expected 8 fields, saw 9\\nSkipping line 620: expected 8 fields, saw 9\\nSkipping line 622: expected 8 fields, saw 9\\nSkipping line 625: expected 8 fields, saw 9\\nSkipping line 627: expected 8 fields, saw 9\\nSkipping line 629: expected 8 fields, saw 9\\nSkipping line 631: expected 8 fields, saw 9\\nSkipping line 633: expected 8 fields, saw 9\\nSkipping line 635: expected 8 fields, saw 9\\nSkipping line 637: expected 8 fields, saw 9\\nSkipping line 639: expected 8 fields, saw 9\\nSkipping line 641: expected 8 fields, saw 9\\nSkipping line 643: expected 8 fields, saw 9\\nSkipping line 645: expected 8 fields, saw 9\\nSkipping line 647: expected 8 fields, saw 9\\nSkipping line 650: expected 8 fields, saw 9\\nSkipping line 652: expected 8 fields, saw 9\\nSkipping line 654: expected 8 fields, saw 9\\nSkipping line 656: expected 8 fields, saw 9\\nSkipping line 658: expected 8 fields, saw 9\\nSkipping line 660: expected 8 fields, saw 9\\nSkipping line 662: expected 8 fields, saw 9\\nSkipping line 664: expected 8 fields, saw 9\\nSkipping line 666: expected 8 fields, saw 9\\nSkipping line 668: expected 8 fields, saw 9\\nSkipping line 670: expected 8 fields, saw 9\\nSkipping line 672: expected 8 fields, saw 9\\nSkipping line 674: expected 8 fields, saw 9\\nSkipping line 676: expected 8 fields, saw 9\\nSkipping line 678: expected 8 fields, saw 9\\nSkipping line 680: expected 8 fields, saw 9\\nSkipping line 682: expected 8 fields, saw 9\\nSkipping line 684: expected 8 fields, saw 9\\nSkipping line 686: expected 8 fields, saw 9\\nSkipping line 688: expected 8 fields, saw 9\\nSkipping line 691: expected 8 fields, saw 9\\nSkipping line 693: expected 8 fields, saw 9\\nSkipping line 695: expected 8 fields, saw 9\\nSkipping line 697: expected 8 fields, saw 9\\nSkipping line 700: expected 8 fields, saw 9\\nSkipping line 702: expected 8 fields, saw 9\\nSkipping line 704: expected 8 fields, saw 9\\nSkipping line 706: expected 8 fields, saw 9\\nSkipping line 708: expected 8 fields, saw 9\\nSkipping line 710: expected 8 fields, saw 9\\nSkipping line 713: expected 8 fields, saw 9\\nSkipping line 715: expected 8 fields, saw 9\\nSkipping line 718: expected 8 fields, saw 9\\nSkipping line 720: expected 8 fields, saw 9\\nSkipping line 722: expected 8 fields, saw 9\\nSkipping line 724: expected 8 fields, saw 9\\nSkipping line 726: expected 8 fields, saw 9\\nSkipping line 728: expected 8 fields, saw 9\\nSkipping line 731: expected 8 fields, saw 9\\nSkipping line 733: expected 8 fields, saw 9\\nSkipping line 736: expected 8 fields, saw 9\\nSkipping line 738: expected 8 fields, saw 9\\nSkipping line 741: expected 8 fields, saw 9\\nSkipping line 743: expected 8 fields, saw 9\\nSkipping line 745: expected 8 fields, saw 9\\nSkipping line 747: expected 8 fields, saw 9\\nSkipping line 749: expected 8 fields, saw 9\\nSkipping line 751: expected 8 fields, saw 9\\nSkipping line 754: expected 8 fields, saw 9\\nSkipping line 756: expected 8 fields, saw 9\\nSkipping line 758: expected 8 fields, saw 9\\nSkipping line 760: expected 8 fields, saw 9\\nSkipping line 762: expected 8 fields, saw 9\\nSkipping line 764: expected 8 fields, saw 9\\nSkipping line 767: expected 8 fields, saw 9\\nSkipping line 769: expected 8 fields, saw 9\\nSkipping line 771: expected 8 fields, saw 9\\nSkipping line 773: expected 8 fields, saw 9\\nSkipping line 775: expected 8 fields, saw 9\\nSkipping line 777: expected 8 fields, saw 9\\nSkipping line 779: expected 8 fields, saw 9\\nSkipping line 782: expected 8 fields, saw 9\\nSkipping line 784: expected 8 fields, saw 9\\nSkipping line 787: expected 8 fields, saw 9\\nSkipping line 789: expected 8 fields, saw 9\\nSkipping line 791: expected 8 fields, saw 9\\nSkipping line 793: expected 8 fields, saw 9\\nSkipping line 795: expected 8 fields, saw 9\\nSkipping line 797: expected 8 fields, saw 9\\nSkipping line 799: expected 8 fields, saw 9\\nSkipping line 801: expected 8 fields, saw 9\\nSkipping line 803: expected 8 fields, saw 9\\nSkipping line 805: expected 8 fields, saw 9\\nSkipping line 807: expected 8 fields, saw 9\\nSkipping line 809: expected 8 fields, saw 9\\nSkipping line 811: expected 8 fields, saw 9\\nSkipping line 813: expected 8 fields, saw 9\\nSkipping line 816: expected 8 fields, saw 9\\nSkipping line 818: expected 8 fields, saw 9\\nSkipping line 820: expected 8 fields, saw 9\\nSkipping line 822: expected 8 fields, saw 9\\nSkipping line 824: expected 8 fields, saw 9\\nSkipping line 826: expected 8 fields, saw 9\\nSkipping line 828: expected 8 fields, saw 9\\nSkipping line 830: expected 8 fields, saw 9\\nSkipping line 832: expected 8 fields, saw 9\\nSkipping line 834: expected 8 fields, saw 9\\nSkipping line 836: expected 8 fields, saw 9\\nSkipping line 838: expected 8 fields, saw 9\\nSkipping line 841: expected 8 fields, saw 9\\nSkipping line 843: expected 8 fields, saw 9\\nSkipping line 846: expected 8 fields, saw 9\\nSkipping line 848: expected 8 fields, saw 9\\nSkipping line 850: expected 8 fields, saw 9\\nSkipping line 852: expected 8 fields, saw 9\\nSkipping line 854: expected 8 fields, saw 9\\nSkipping line 856: expected 8 fields, saw 9\\nSkipping line 859: expected 8 fields, saw 9\\nSkipping line 861: expected 8 fields, saw 9\\nSkipping line 863: expected 8 fields, saw 9\\nSkipping line 865: expected 8 fields, saw 9\\nSkipping line 868: expected 8 fields, saw 9\\nSkipping line 870: expected 8 fields, saw 9\\nSkipping line 872: expected 8 fields, saw 9\\nSkipping line 874: expected 8 fields, saw 9\\nSkipping line 876: expected 8 fields, saw 9\\nSkipping line 878: expected 8 fields, saw 9\\nSkipping line 880: expected 8 fields, saw 9\\nSkipping line 882: expected 8 fields, saw 9\\nSkipping line 885: expected 8 fields, saw 9\\nSkipping line 887: expected 8 fields, saw 9\\nSkipping line 890: expected 8 fields, saw 9\\nSkipping line 892: expected 8 fields, saw 9\\nSkipping line 894: expected 8 fields, saw 9\\nSkipping line 896: expected 8 fields, saw 9\\nSkipping line 899: expected 8 fields, saw 9\\nSkipping line 901: expected 8 fields, saw 9\\nSkipping line 903: expected 8 fields, saw 9\\nSkipping line 905: expected 8 fields, saw 9\\nSkipping line 907: expected 8 fields, saw 9\\nSkipping line 909: expected 8 fields, saw 9\\nSkipping line 911: expected 8 fields, saw 9\\nSkipping line 913: expected 8 fields, saw 9\\nSkipping line 915: expected 8 fields, saw 9\\nSkipping line 917: expected 8 fields, saw 9\\nSkipping line 920: expected 8 fields, saw 9\\nSkipping line 922: expected 8 fields, saw 9\\nSkipping line 924: expected 8 fields, saw 9\\nSkipping line 926: expected 8 fields, saw 9\\nSkipping line 928: expected 8 fields, saw 9\\nSkipping line 930: expected 8 fields, saw 9\\nSkipping line 932: expected 8 fields, saw 9\\nSkipping line 934: expected 8 fields, saw 9\\nSkipping line 936: expected 8 fields, saw 9\\nSkipping line 938: expected 8 fields, saw 9\\nSkipping line 940: expected 8 fields, saw 9\\nSkipping line 942: expected 8 fields, saw 9\\nSkipping line 945: expected 8 fields, saw 9\\nSkipping line 947: expected 8 fields, saw 9\\nSkipping line 949: expected 8 fields, saw 9\\nSkipping line 951: expected 8 fields, saw 9\\nSkipping line 953: expected 8 fields, saw 9\\nSkipping line 955: expected 8 fields, saw 9\\nSkipping line 957: expected 8 fields, saw 9\\nSkipping line 959: expected 8 fields, saw 9\\nSkipping line 961: expected 8 fields, saw 9\\nSkipping line 963: expected 8 fields, saw 9\\nSkipping line 965: expected 8 fields, saw 9\\nSkipping line 967: expected 8 fields, saw 9\\nSkipping line 969: expected 8 fields, saw 9\\nSkipping line 971: expected 8 fields, saw 9\\nSkipping line 973: expected 8 fields, saw 9\\nSkipping line 975: expected 8 fields, saw 9\\nSkipping line 977: expected 8 fields, saw 9\\nSkipping line 979: expected 8 fields, saw 9\\nSkipping line 981: expected 8 fields, saw 9\\nSkipping line 983: expected 8 fields, saw 9\\nSkipping line 985: expected 8 fields, saw 9\\nSkipping line 987: expected 8 fields, saw 9\\nSkipping line 989: expected 8 fields, saw 9\\nSkipping line 991: expected 8 fields, saw 9\\nSkipping line 993: expected 8 fields, saw 9\\nSkipping line 995: expected 8 fields, saw 9\\nSkipping line 997: expected 8 fields, saw 9\\nSkipping line 999: expected 8 fields, saw 9\\nSkipping line 1001: expected 8 fields, saw 9\\nSkipping line 1003: expected 8 fields, saw 9\\nSkipping line 1005: expected 8 fields, saw 9\\nSkipping line 1007: expected 8 fields, saw 9\\nSkipping line 1009: expected 8 fields, saw 9\\nSkipping line 1011: expected 8 fields, saw 9\\nSkipping line 1013: expected 8 fields, saw 9\\nSkipping line 1015: expected 8 fields, saw 9\\nSkipping line 1017: expected 8 fields, saw 9\\nSkipping line 1019: expected 8 fields, saw 9\\nSkipping line 1021: expected 8 fields, saw 9\\nSkipping line 1023: expected 8 fields, saw 9\\nSkipping line 1025: expected 8 fields, saw 9\\nSkipping line 1027: expected 8 fields, saw 9\\nSkipping line 1029: expected 8 fields, saw 9\\nSkipping line 1031: expected 8 fields, saw 9\\nSkipping line 1033: expected 8 fields, saw 9\\nSkipping line 1035: expected 8 fields, saw 9\\nSkipping line 1037: expected 8 fields, saw 9\\nSkipping line 1039: expected 8 fields, saw 9\\nSkipping line 1041: expected 8 fields, saw 9\\nSkipping line 1043: expected 8 fields, saw 9\\nSkipping line 1045: expected 8 fields, saw 9\\nSkipping line 1047: expected 8 fields, saw 9\\nSkipping line 1049: expected 8 fields, saw 9\\nSkipping line 1051: expected 8 fields, saw 9\\nSkipping line 1053: expected 8 fields, saw 9\\nSkipping line 1055: expected 8 fields, saw 9\\nSkipping line 1057: expected 8 fields, saw 9\\nSkipping line 1059: expected 8 fields, saw 9\\nSkipping line 1061: expected 8 fields, saw 9\\nSkipping line 1063: expected 8 fields, saw 9\\nSkipping line 1065: expected 8 fields, saw 9\\nSkipping line 1067: expected 8 fields, saw 9\\nSkipping line 1069: expected 8 fields, saw 9\\nSkipping line 1071: expected 8 fields, saw 9\\nSkipping line 1073: expected 8 fields, saw 9\\nSkipping line 1075: expected 8 fields, saw 9\\nSkipping line 1077: expected 8 fields, saw 9\\nSkipping line 1079: expected 8 fields, saw 9\\nSkipping line 1081: expected 8 fields, saw 9\\nSkipping line 1083: expected 8 fields, saw 9\\nSkipping line 1085: expected 8 fields, saw 9\\nSkipping line 1087: expected 8 fields, saw 9\\nSkipping line 1089: expected 8 fields, saw 9\\nSkipping line 1091: expected 8 fields, saw 9\\nSkipping line 1093: expected 8 fields, saw 9\\nSkipping line 1095: expected 8 fields, saw 9\\nSkipping line 1097: expected 8 fields, saw 9\\nSkipping line 1099: expected 8 fields, saw 9\\nSkipping line 1101: expected 8 fields, saw 9\\nSkipping line 1103: expected 8 fields, saw 9\\nSkipping line 1105: expected 8 fields, saw 9\\nSkipping line 1107: expected 8 fields, saw 9\\nSkipping line 1109: expected 8 fields, saw 9\\nSkipping line 1111: expected 8 fields, saw 9\\nSkipping line 1113: expected 8 fields, saw 9\\nSkipping line 1115: expected 8 fields, saw 9\\nSkipping line 1117: expected 8 fields, saw 9\\nSkipping line 1119: expected 8 fields, saw 9\\nSkipping line 1121: expected 8 fields, saw 9\\nSkipping line 1123: expected 8 fields, saw 9\\nSkipping line 1125: expected 8 fields, saw 9\\nSkipping line 1127: expected 8 fields, saw 9\\nSkipping line 1129: expected 8 fields, saw 9\\nSkipping line 1131: expected 8 fields, saw 9\\nSkipping line 1133: expected 8 fields, saw 9\\nSkipping line 1135: expected 8 fields, saw 9\\nSkipping line 1137: expected 8 fields, saw 9\\nSkipping line 1139: expected 8 fields, saw 9\\nSkipping line 1141: expected 8 fields, saw 9\\nSkipping line 1143: expected 8 fields, saw 9\\nSkipping line 1145: expected 8 fields, saw 9\\nSkipping line 1147: expected 8 fields, saw 9\\nSkipping line 1149: expected 8 fields, saw 9\\nSkipping line 1151: expected 8 fields, saw 9\\nSkipping line 1153: expected 8 fields, saw 9\\nSkipping line 1155: expected 8 fields, saw 9\\nSkipping line 1157: expected 8 fields, saw 9\\nSkipping line 1159: expected 8 fields, saw 9\\nSkipping line 1161: expected 8 fields, saw 9\\nSkipping line 1163: expected 8 fields, saw 9\\nSkipping line 1165: expected 8 fields, saw 9\\nSkipping line 1167: expected 8 fields, saw 9\\nSkipping line 1169: expected 8 fields, saw 9\\nSkipping line 1171: expected 8 fields, saw 9\\nSkipping line 1173: expected 8 fields, saw 9\\nSkipping line 1175: expected 8 fields, saw 9\\nSkipping line 1177: expected 8 fields, saw 9\\nSkipping line 1179: expected 8 fields, saw 9\\nSkipping line 1181: expected 8 fields, saw 9\\nSkipping line 1183: expected 8 fields, saw 9\\nSkipping line 1185: expected 8 fields, saw 9\\nSkipping line 1187: expected 8 fields, saw 9\\nSkipping line 1189: expected 8 fields, saw 9\\nSkipping line 1191: expected 8 fields, saw 9\\nSkipping line 1193: expected 8 fields, saw 9\\nSkipping line 1195: expected 8 fields, saw 9\\nSkipping line 1197: expected 8 fields, saw 9\\nSkipping line 1199: expected 8 fields, saw 9\\nSkipping line 1202: expected 8 fields, saw 9\\nSkipping line 1204: expected 8 fields, saw 9\\nSkipping line 1206: expected 8 fields, saw 9\\nSkipping line 1208: expected 8 fields, saw 9\\nSkipping line 1211: expected 8 fields, saw 9\\nSkipping line 1213: expected 8 fields, saw 9\\nSkipping line 1215: expected 8 fields, saw 9\\nSkipping line 1217: expected 8 fields, saw 9\\nSkipping line 1219: expected 8 fields, saw 9\\nSkipping line 1221: expected 8 fields, saw 9\\nSkipping line 1223: expected 8 fields, saw 9\\nSkipping line 1225: expected 8 fields, saw 9\\nSkipping line 1227: expected 8 fields, saw 9\\nSkipping line 1229: expected 8 fields, saw 9\\nSkipping line 1231: expected 8 fields, saw 9\\nSkipping line 1233: expected 8 fields, saw 9\\nSkipping line 1235: expected 8 fields, saw 9\\nSkipping line 1237: expected 8 fields, saw 9\\nSkipping line 1239: expected 8 fields, saw 9\\nSkipping line 1241: expected 8 fields, saw 9\\nSkipping line 1243: expected 8 fields, saw 9\\nSkipping line 1245: expected 8 fields, saw 9\\nSkipping line 1247: expected 8 fields, saw 9\\nSkipping line 1249: expected 8 fields, saw 9\\nSkipping line 1251: expected 8 fields, saw 9\\nSkipping line 1253: expected 8 fields, saw 9\\nSkipping line 1255: expected 8 fields, saw 9\\nSkipping line 1257: expected 8 fields, saw 9\\nSkipping line 1259: expected 8 fields, saw 9\\nSkipping line 1261: expected 8 fields, saw 9\\nSkipping line 1263: expected 8 fields, saw 9\\nSkipping line 1265: expected 8 fields, saw 9\\nSkipping line 1267: expected 8 fields, saw 9\\nSkipping line 1269: expected 8 fields, saw 9\\nSkipping line 1271: expected 8 fields, saw 9\\nSkipping line 1273: expected 8 fields, saw 9\\nSkipping line 1275: expected 8 fields, saw 9\\nSkipping line 1277: expected 8 fields, saw 9\\nSkipping line 1279: expected 8 fields, saw 9\\nSkipping line 1281: expected 8 fields, saw 9\\nSkipping line 1284: expected 8 fields, saw 9\\nSkipping line 1286: expected 8 fields, saw 9\\nSkipping line 1288: expected 8 fields, saw 9\\nSkipping line 1290: expected 8 fields, saw 9\\nSkipping line 1292: expected 8 fields, saw 9\\nSkipping line 1294: expected 8 fields, saw 9\\nSkipping line 1297: expected 8 fields, saw 9\\nSkipping line 1299: expected 8 fields, saw 9\\nSkipping line 1302: expected 8 fields, saw 9\\nSkipping line 1304: expected 8 fields, saw 9\\nSkipping line 1307: expected 8 fields, saw 9\\nSkipping line 1309: expected 8 fields, saw 9\\nSkipping line 1312: expected 8 fields, saw 9\\nSkipping line 1314: expected 8 fields, saw 9\\nSkipping line 1317: expected 8 fields, saw 9\\nSkipping line 1319: expected 8 fields, saw 9\\nSkipping line 1321: expected 8 fields, saw 9\\nSkipping line 1323: expected 8 fields, saw 9\\nSkipping line 1325: expected 8 fields, saw 9\\nSkipping line 1327: expected 8 fields, saw 9\\nSkipping line 1329: expected 8 fields, saw 9\\nSkipping line 1332: expected 8 fields, saw 9\\nSkipping line 1334: expected 8 fields, saw 9\\nSkipping line 1337: expected 8 fields, saw 9\\nSkipping line 1339: expected 8 fields, saw 9\\nSkipping line 1341: expected 8 fields, saw 9\\nSkipping line 1343: expected 8 fields, saw 9\\nSkipping line 1345: expected 8 fields, saw 9\\nSkipping line 1347: expected 8 fields, saw 9\\nSkipping line 1349: expected 8 fields, saw 9\\nSkipping line 1351: expected 8 fields, saw 9\\nSkipping line 1353: expected 8 fields, saw 9\\nSkipping line 1355: expected 8 fields, saw 9\\nSkipping line 1357: expected 8 fields, saw 9\\nSkipping line 1359: expected 8 fields, saw 9\\nSkipping line 1362: expected 8 fields, saw 9\\nSkipping line 1364: expected 8 fields, saw 9\\nSkipping line 1366: expected 8 fields, saw 9\\nSkipping line 1368: expected 8 fields, saw 9\\nSkipping line 1370: expected 8 fields, saw 9\\nSkipping line 1372: expected 8 fields, saw 9\\nSkipping line 1374: expected 8 fields, saw 9\\nSkipping line 1376: expected 8 fields, saw 9\\nSkipping line 1378: expected 8 fields, saw 9\\nSkipping line 1381: expected 8 fields, saw 9\\nSkipping line 1383: expected 8 fields, saw 9\\nSkipping line 1385: expected 8 fields, saw 9\\nSkipping line 1387: expected 8 fields, saw 9\\nSkipping line 1389: expected 8 fields, saw 9\\nSkipping line 1391: expected 8 fields, saw 9\\nSkipping line 1394: expected 8 fields, saw 9\\nSkipping line 1396: expected 8 fields, saw 9\\nSkipping line 1399: expected 8 fields, saw 9\\nSkipping line 1401: expected 8 fields, saw 9\\nSkipping line 1403: expected 8 fields, saw 9\\nSkipping line 1405: expected 8 fields, saw 9\\nSkipping line 1408: expected 8 fields, saw 9\\nSkipping line 1410: expected 8 fields, saw 9\\nSkipping line 1412: expected 8 fields, saw 9\\nSkipping line 1414: expected 8 fields, saw 9\\nSkipping line 1417: expected 8 fields, saw 9\\nSkipping line 1419: expected 8 fields, saw 9\\nSkipping line 1421: expected 8 fields, saw 9\\nSkipping line 1423: expected 8 fields, saw 9\\nSkipping line 1425: expected 8 fields, saw 9\\nSkipping line 1427: expected 8 fields, saw 9\\nSkipping line 1429: expected 8 fields, saw 9\\nSkipping line 1431: expected 8 fields, saw 9\\nSkipping line 1433: expected 8 fields, saw 9\\nSkipping line 1435: expected 8 fields, saw 9\\nSkipping line 1437: expected 8 fields, saw 9\\nSkipping line 1439: expected 8 fields, saw 9\\nSkipping line 1441: expected 8 fields, saw 9\\nSkipping line 1443: expected 8 fields, saw 9\\nSkipping line 1445: expected 8 fields, saw 9\\nSkipping line 1447: expected 8 fields, saw 9\\nSkipping line 1449: expected 8 fields, saw 9\\nSkipping line 1451: expected 8 fields, saw 9\\nSkipping line 1453: expected 8 fields, saw 9\\nSkipping line 1455: expected 8 fields, saw 9\\nSkipping line 1457: expected 8 fields, saw 9\\nSkipping line 1459: expected 8 fields, saw 9\\nSkipping line 1461: expected 8 fields, saw 9\\nSkipping line 1463: expected 8 fields, saw 9\\nSkipping line 1466: expected 8 fields, saw 9\\nSkipping line 1468: expected 8 fields, saw 9\\nSkipping line 1470: expected 8 fields, saw 9\\nSkipping line 1472: expected 8 fields, saw 9\\nSkipping line 1474: expected 8 fields, saw 9\\nSkipping line 1476: expected 8 fields, saw 9\\nSkipping line 1478: expected 8 fields, saw 9\\nSkipping line 1480: expected 8 fields, saw 9\\nSkipping line 1482: expected 8 fields, saw 9\\nSkipping line 1484: expected 8 fields, saw 9\\nSkipping line 1486: expected 8 fields, saw 9\\nSkipping line 1488: expected 8 fields, saw 9\\nSkipping line 1491: expected 8 fields, saw 9\\nSkipping line 1493: expected 8 fields, saw 9\\nSkipping line 1496: expected 8 fields, saw 9\\nSkipping line 1498: expected 8 fields, saw 9\\nSkipping line 1501: expected 8 fields, saw 9\\nSkipping line 1503: expected 8 fields, saw 9\\nSkipping line 1505: expected 8 fields, saw 9\\nSkipping line 1507: expected 8 fields, saw 9\\nSkipping line 1509: expected 8 fields, saw 9\\nSkipping line 1512: expected 8 fields, saw 9\\nSkipping line 1514: expected 8 fields, saw 9\\nSkipping line 1516: expected 8 fields, saw 9\\nSkipping line 1518: expected 8 fields, saw 9\\nSkipping line 1520: expected 8 fields, saw 9\\nSkipping line 1522: expected 8 fields, saw 9\\nSkipping line 1524: expected 8 fields, saw 9\\nSkipping line 1526: expected 8 fields, saw 9\\nSkipping line 1528: expected 8 fields, saw 9\\nSkipping line 1530: expected 8 fields, saw 9\\nSkipping line 1532: expected 8 fields, saw 9\\nSkipping line 1534: expected 8 fields, saw 9\\nSkipping line 1536: expected 8 fields, saw 9\\nSkipping line 1538: expected 8 fields, saw 9\\nSkipping line 1540: expected 8 fields, saw 9\\nSkipping line 1542: expected 8 fields, saw 9\\nSkipping line 1544: expected 8 fields, saw 9\\nSkipping line 1546: expected 8 fields, saw 9\\nSkipping line 1548: expected 8 fields, saw 9\\nSkipping line 1550: expected 8 fields, saw 9\\nSkipping line 1552: expected 8 fields, saw 9\\nSkipping line 1554: expected 8 fields, saw 9\\nSkipping line 1556: expected 8 fields, saw 9\\nSkipping line 1558: expected 8 fields, saw 9\\nSkipping line 1560: expected 8 fields, saw 9\\nSkipping line 1562: expected 8 fields, saw 9\\nSkipping line 1564: expected 8 fields, saw 9\\nSkipping line 1566: expected 8 fields, saw 9\\nSkipping line 1568: expected 8 fields, saw 9\\nSkipping line 1570: expected 8 fields, saw 9\\nSkipping line 1572: expected 8 fields, saw 9\\nSkipping line 1574: expected 8 fields, saw 9\\nSkipping line 1576: expected 8 fields, saw 9\\nSkipping line 1578: expected 8 fields, saw 9\\nSkipping line 1580: expected 8 fields, saw 9\\nSkipping line 1582: expected 8 fields, saw 9\\nSkipping line 1584: expected 8 fields, saw 9\\nSkipping line 1586: expected 8 fields, saw 9\\nSkipping line 1589: expected 8 fields, saw 9\\nSkipping line 1591: expected 8 fields, saw 9\\nSkipping line 1593: expected 8 fields, saw 9\\nSkipping line 1595: expected 8 fields, saw 9\\nSkipping line 1597: expected 8 fields, saw 9\\nSkipping line 1599: expected 8 fields, saw 9\\nSkipping line 1601: expected 8 fields, saw 9\\nSkipping line 1603: expected 8 fields, saw 9\\nSkipping line 1605: expected 8 fields, saw 9\\nSkipping line 1607: expected 8 fields, saw 9\\nSkipping line 1609: expected 8 fields, saw 9\\nSkipping line 1611: expected 8 fields, saw 9\\nSkipping line 1613: expected 8 fields, saw 9\\nSkipping line 1615: expected 8 fields, saw 9\\nSkipping line 1617: expected 8 fields, saw 9\\nSkipping line 1619: expected 8 fields, saw 9\\nSkipping line 1621: expected 8 fields, saw 9\\nSkipping line 1623: expected 8 fields, saw 9\\nSkipping line 1625: expected 8 fields, saw 9\\nSkipping line 1627: expected 8 fields, saw 9\\nSkipping line 1629: expected 8 fields, saw 9\\nSkipping line 1631: expected 8 fields, saw 9\\nSkipping line 1634: expected 8 fields, saw 9\\nSkipping line 1636: expected 8 fields, saw 9\\nSkipping line 1638: expected 8 fields, saw 9\\nSkipping line 1640: expected 8 fields, saw 9\\nSkipping line 1643: expected 8 fields, saw 9\\nSkipping line 1645: expected 8 fields, saw 9\\nSkipping line 1648: expected 8 fields, saw 9\\nSkipping line 1650: expected 8 fields, saw 9\\nSkipping line 1652: expected 8 fields, saw 9\\nSkipping line 1654: expected 8 fields, saw 9\\nSkipping line 1656: expected 8 fields, saw 9\\nSkipping line 1658: expected 8 fields, saw 9\\nSkipping line 1660: expected 8 fields, saw 9\\nSkipping line 1662: expected 8 fields, saw 9\\nSkipping line 1664: expected 8 fields, saw 9\\nSkipping line 1666: expected 8 fields, saw 9\\nSkipping line 1669: expected 8 fields, saw 9\\nSkipping line 1671: expected 8 fields, saw 9\\nSkipping line 1673: expected 8 fields, saw 9\\nSkipping line 1675: expected 8 fields, saw 9\\nSkipping line 1677: expected 8 fields, saw 9\\nSkipping line 1679: expected 8 fields, saw 9\\nSkipping line 1682: expected 8 fields, saw 9\\nSkipping line 1684: expected 8 fields, saw 9\\nSkipping line 1686: expected 8 fields, saw 9\\nSkipping line 1688: expected 8 fields, saw 9\\nSkipping line 1690: expected 8 fields, saw 9\\nSkipping line 1693: expected 8 fields, saw 9\\nSkipping line 1695: expected 8 fields, saw 9\\nSkipping line 1698: expected 8 fields, saw 9\\nSkipping line 1700: expected 8 fields, saw 9\\nSkipping line 1702: expected 8 fields, saw 9\\nSkipping line 1704: expected 8 fields, saw 9\\nSkipping line 1707: expected 8 fields, saw 9\\nSkipping line 1709: expected 8 fields, saw 9\\nSkipping line 1712: expected 8 fields, saw 9\\nSkipping line 1714: expected 8 fields, saw 9\\nSkipping line 1716: expected 8 fields, saw 9\\nSkipping line 1718: expected 8 fields, saw 9\\nSkipping line 1720: expected 8 fields, saw 9\\nSkipping line 1722: expected 8 fields, saw 9\\nSkipping line 1725: expected 8 fields, saw 9\\nSkipping line 1727: expected 8 fields, saw 9\\nSkipping line 1729: expected 8 fields, saw 9\\nSkipping line 1731: expected 8 fields, saw 9\\nSkipping line 1733: expected 8 fields, saw 9\\nSkipping line 1735: expected 8 fields, saw 9\\nSkipping line 1738: expected 8 fields, saw 9\\nSkipping line 1740: expected 8 fields, saw 9\\nSkipping line 1742: expected 8 fields, saw 9\\nSkipping line 1744: expected 8 fields, saw 9\\nSkipping line 1746: expected 8 fields, saw 9\\nSkipping line 1749: expected 8 fields, saw 9\\nSkipping line 1751: expected 8 fields, saw 9\\nSkipping line 1753: expected 8 fields, saw 9\\nSkipping line 1755: expected 8 fields, saw 9\\nSkipping line 1757: expected 8 fields, saw 9\\nSkipping line 1759: expected 8 fields, saw 9\\nSkipping line 1761: expected 8 fields, saw 9\\nSkipping line 1764: expected 8 fields, saw 9\\nSkipping line 1766: expected 8 fields, saw 9\\nSkipping line 1769: expected 8 fields, saw 9\\nSkipping line 1771: expected 8 fields, saw 9\\nSkipping line 1773: expected 8 fields, saw 9\\nSkipping line 1775: expected 8 fields, saw 9\\nSkipping line 1777: expected 8 fields, saw 9\\nSkipping line 1780: expected 8 fields, saw 9\\nSkipping line 1782: expected 8 fields, saw 9\\nSkipping line 1785: expected 8 fields, saw 9\\nSkipping line 1787: expected 8 fields, saw 9\\nSkipping line 1790: expected 8 fields, saw 9\\nSkipping line 1792: expected 8 fields, saw 9\\nSkipping line 1795: expected 8 fields, saw 9\\nSkipping line 1797: expected 8 fields, saw 9\\nSkipping line 1799: expected 8 fields, saw 9\\nSkipping line 1801: expected 8 fields, saw 9\\nSkipping line 1803: expected 8 fields, saw 9\\nSkipping line 1805: expected 8 fields, saw 9\\nSkipping line 1807: expected 8 fields, saw 9\\nSkipping line 1809: expected 8 fields, saw 9\\nSkipping line 1811: expected 8 fields, saw 9\\nSkipping line 1813: expected 8 fields, saw 9\\nSkipping line 1815: expected 8 fields, saw 9\\nSkipping line 1818: expected 8 fields, saw 9\\nSkipping line 1820: expected 8 fields, saw 9\\nSkipping line 1823: expected 8 fields, saw 9\\nSkipping line 1825: expected 8 fields, saw 9\\nSkipping line 1827: expected 8 fields, saw 9\\nSkipping line 1829: expected 8 fields, saw 9\\nSkipping line 1831: expected 8 fields, saw 9\\nSkipping line 1833: expected 8 fields, saw 9\\nSkipping line 1836: expected 8 fields, saw 9\\nSkipping line 1838: expected 8 fields, saw 9\\nSkipping line 1841: expected 8 fields, saw 9\\nSkipping line 1843: expected 8 fields, saw 9\\nSkipping line 1845: expected 8 fields, saw 9\\nSkipping line 1847: expected 8 fields, saw 9\\nSkipping line 1849: expected 8 fields, saw 9\\nSkipping line 1851: expected 8 fields, saw 9\\nSkipping line 1854: expected 8 fields, saw 9\\nSkipping line 1856: expected 8 fields, saw 9\\nSkipping line 1858: expected 8 fields, saw 9\\nSkipping line 1861: expected 8 fields, saw 9\\nSkipping line 1863: expected 8 fields, saw 9\\nSkipping line 1866: expected 8 fields, saw 9\\nSkipping line 1868: expected 8 fields, saw 9\\nSkipping line 1871: expected 8 fields, saw 9\\nSkipping line 1873: expected 8 fields, saw 9\\nSkipping line 1876: expected 8 fields, saw 9\\nSkipping line 1878: expected 8 fields, saw 9\\nSkipping line 1880: expected 8 fields, saw 9\\nSkipping line 1882: expected 8 fields, saw 9\\nSkipping line 1884: expected 8 fields, saw 9\\nSkipping line 1886: expected 8 fields, saw 9\\nSkipping line 1888: expected 8 fields, saw 9\\nSkipping line 1890: expected 8 fields, saw 9\\nSkipping line 1893: expected 8 fields, saw 9\\nSkipping line 1895: expected 8 fields, saw 9\\nSkipping line 1897: expected 8 fields, saw 9\\nSkipping line 1899: expected 8 fields, saw 9\\nSkipping line 1901: expected 8 fields, saw 9\\nSkipping line 1903: expected 8 fields, saw 9\\nSkipping line 1905: expected 8 fields, saw 9\\nSkipping line 1907: expected 8 fields, saw 9\\nSkipping line 1909: expected 8 fields, saw 9\\nSkipping line 1911: expected 8 fields, saw 9\\nSkipping line 1914: expected 8 fields, saw 9\\nSkipping line 1916: expected 8 fields, saw 9\\nSkipping line 1918: expected 8 fields, saw 9\\nSkipping line 1920: expected 8 fields, saw 9\\nSkipping line 1922: expected 8 fields, saw 9\\nSkipping line 1924: expected 8 fields, saw 9\\nSkipping line 1926: expected 8 fields, saw 9\\nSkipping line 1928: expected 8 fields, saw 9\\nSkipping line 1930: expected 8 fields, saw 9\\nSkipping line 1932: expected 8 fields, saw 9\\nSkipping line 1934: expected 8 fields, saw 9\\nSkipping line 1936: expected 8 fields, saw 9\\nSkipping line 1938: expected 8 fields, saw 9\\nSkipping line 1940: expected 8 fields, saw 9\\nSkipping line 1942: expected 8 fields, saw 9\\nSkipping line 1945: expected 8 fields, saw 9\\nSkipping line 1947: expected 8 fields, saw 9\\nSkipping line 1949: expected 8 fields, saw 9\\nSkipping line 1951: expected 8 fields, saw 9\\nSkipping line 1953: expected 8 fields, saw 9\\nSkipping line 1955: expected 8 fields, saw 9\\nSkipping line 1957: expected 8 fields, saw 9\\nSkipping line 1959: expected 8 fields, saw 9\\nSkipping line 1962: expected 8 fields, saw 9\\nSkipping line 1964: expected 8 fields, saw 9\\nSkipping line 1966: expected 8 fields, saw 9\\nSkipping line 1968: expected 8 fields, saw 9\\nSkipping line 1971: expected 8 fields, saw 9\\nSkipping line 1973: expected 8 fields, saw 9\\nSkipping line 1975: expected 8 fields, saw 9\\nSkipping line 1977: expected 8 fields, saw 9\\nSkipping line 1979: expected 8 fields, saw 9\\nSkipping line 1981: expected 8 fields, saw 9\\nSkipping line 1984: expected 8 fields, saw 9\\nSkipping line 1986: expected 8 fields, saw 9\\nSkipping line 1988: expected 8 fields, saw 9\\nSkipping line 1990: expected 8 fields, saw 9\\nSkipping line 1993: expected 8 fields, saw 9\\nSkipping line 1995: expected 8 fields, saw 9\\nSkipping line 1997: expected 8 fields, saw 9\\nSkipping line 1999: expected 8 fields, saw 9\\nSkipping line 2002: expected 8 fields, saw 9\\nSkipping line 2004: expected 8 fields, saw 9\\nSkipping line 2006: expected 8 fields, saw 9\\nSkipping line 2008: expected 8 fields, saw 9\\nSkipping line 2010: expected 8 fields, saw 9\\nSkipping line 2012: expected 8 fields, saw 9\\nSkipping line 2014: expected 8 fields, saw 9\\nSkipping line 2016: expected 8 fields, saw 9\\nSkipping line 2018: expected 8 fields, saw 9\\nSkipping line 2020: expected 8 fields, saw 9\\nSkipping line 2022: expected 8 fields, saw 9\\nSkipping line 2024: expected 8 fields, saw 9\\nSkipping line 2026: expected 8 fields, saw 9\\nSkipping line 2029: expected 8 fields, saw 9\\nSkipping line 2031: expected 8 fields, saw 9\\nSkipping line 2033: expected 8 fields, saw 9\\nSkipping line 2035: expected 8 fields, saw 9\\nSkipping line 2038: expected 8 fields, saw 9\\nSkipping line 2040: expected 8 fields, saw 9\\nSkipping line 2043: expected 8 fields, saw 9\\nSkipping line 2045: expected 8 fields, saw 9\\nSkipping line 2047: expected 8 fields, saw 9\\nSkipping line 2049: expected 8 fields, saw 9\\nSkipping line 2051: expected 8 fields, saw 9\\nSkipping line 2053: expected 8 fields, saw 9\\nSkipping line 2055: expected 8 fields, saw 9\\nSkipping line 2057: expected 8 fields, saw 9\\nSkipping line 2059: expected 8 fields, saw 9\\nSkipping line 2061: expected 8 fields, saw 9\\nSkipping line 2063: expected 8 fields, saw 9\\nSkipping line 2066: expected 8 fields, saw 9\\nSkipping line 2068: expected 8 fields, saw 9\\nSkipping line 2070: expected 8 fields, saw 9\\nSkipping line 2072: expected 8 fields, saw 9\\nSkipping line 2074: expected 8 fields, saw 9\\nSkipping line 2076: expected 8 fields, saw 9\\nSkipping line 2078: expected 8 fields, saw 9\\nSkipping line 2080: expected 8 fields, saw 9\\nSkipping line 2083: expected 8 fields, saw 9\\nSkipping line 2085: expected 8 fields, saw 9\\nSkipping line 2087: expected 8 fields, saw 9\\nSkipping line 2089: expected 8 fields, saw 9\\nSkipping line 2091: expected 8 fields, saw 9\\nSkipping line 2093: expected 8 fields, saw 9\\nSkipping line 2095: expected 8 fields, saw 9\\nSkipping line 2097: expected 8 fields, saw 9\\nSkipping line 2099: expected 8 fields, saw 9\\nSkipping line 2101: expected 8 fields, saw 9\\nSkipping line 2104: expected 8 fields, saw 9\\nSkipping line 2106: expected 8 fields, saw 9\\nSkipping line 2108: expected 8 fields, saw 9\\nSkipping line 2110: expected 8 fields, saw 9\\nSkipping line 2113: expected 8 fields, saw 9\\nSkipping line 2115: expected 8 fields, saw 9\\nSkipping line 2117: expected 8 fields, saw 9\\nSkipping line 2119: expected 8 fields, saw 9\\nSkipping line 2121: expected 8 fields, saw 9\\nSkipping line 2123: expected 8 fields, saw 9\\nSkipping line 2125: expected 8 fields, saw 9\\nSkipping line 2127: expected 8 fields, saw 9\\nSkipping line 2129: expected 8 fields, saw 9\\nSkipping line 2131: expected 8 fields, saw 9\\nSkipping line 2133: expected 8 fields, saw 9\\nSkipping line 2135: expected 8 fields, saw 9\\nSkipping line 2137: expected 8 fields, saw 9\\nSkipping line 2139: expected 8 fields, saw 9\\nSkipping line 2141: expected 8 fields, saw 9\\nSkipping line 2143: expected 8 fields, saw 9\\nSkipping line 2145: expected 8 fields, saw 9\\nSkipping line 2147: expected 8 fields, saw 9\\nSkipping line 2149: expected 8 fields, saw 9\\nSkipping line 2151: expected 8 fields, saw 9\\nSkipping line 2154: expected 8 fields, saw 9\\nSkipping line 2156: expected 8 fields, saw 9\\nSkipping line 2158: expected 8 fields, saw 9\\nSkipping line 2160: expected 8 fields, saw 9\\nSkipping line 2162: expected 8 fields, saw 9\\nSkipping line 2164: expected 8 fields, saw 9\\nSkipping line 2166: expected 8 fields, saw 9\\nSkipping line 2168: expected 8 fields, saw 9\\nSkipping line 2170: expected 8 fields, saw 9\\nSkipping line 2172: expected 8 fields, saw 9\\nSkipping line 2175: expected 8 fields, saw 9\\nSkipping line 2177: expected 8 fields, saw 9\\nSkipping line 2179: expected 8 fields, saw 9\\nSkipping line 2181: expected 8 fields, saw 9\\nSkipping line 2183: expected 8 fields, saw 9\\nSkipping line 2185: expected 8 fields, saw 9\\nSkipping line 2187: expected 8 fields, saw 9\\nSkipping line 2189: expected 8 fields, saw 9\\nSkipping line 2191: expected 8 fields, saw 9\\nSkipping line 2193: expected 8 fields, saw 9\\nSkipping line 2195: expected 8 fields, saw 9\\nSkipping line 2197: expected 8 fields, saw 9\\nSkipping line 2199: expected 8 fields, saw 9\\nSkipping line 2201: expected 8 fields, saw 9\\nSkipping line 2203: expected 8 fields, saw 9\\nSkipping line 2205: expected 8 fields, saw 9\\nSkipping line 2207: expected 8 fields, saw 9\\nSkipping line 2209: expected 8 fields, saw 9\\nSkipping line 2211: expected 8 fields, saw 9\\nSkipping line 2213: expected 8 fields, saw 9\\nSkipping line 2215: expected 8 fields, saw 9\\nSkipping line 2217: expected 8 fields, saw 9\\nSkipping line 2219: expected 8 fields, saw 9\\nSkipping line 2221: expected 8 fields, saw 9\\nSkipping line 2223: expected 8 fields, saw 9\\nSkipping line 2225: expected 8 fields, saw 9\\nSkipping line 2227: expected 8 fields, saw 9\\nSkipping line 2229: expected 8 fields, saw 9\\nSkipping line 2231: expected 8 fields, saw 9\\nSkipping line 2234: expected 8 fields, saw 9\\nSkipping line 2236: expected 8 fields, saw 9\\nSkipping line 2238: expected 8 fields, saw 9\\nSkipping line 2240: expected 8 fields, saw 9\\nSkipping line 2242: expected 8 fields, saw 9\\nSkipping line 2244: expected 8 fields, saw 9\\nSkipping line 2246: expected 8 fields, saw 9\\nSkipping line 2248: expected 8 fields, saw 9\\nSkipping line 2250: expected 8 fields, saw 9\\nSkipping line 2252: expected 8 fields, saw 9\\nSkipping line 2254: expected 8 fields, saw 9\\nSkipping line 2256: expected 8 fields, saw 9\\nSkipping line 2258: expected 8 fields, saw 9\\nSkipping line 2260: expected 8 fields, saw 9\\nSkipping line 2262: expected 8 fields, saw 9\\nSkipping line 2264: expected 8 fields, saw 9\\nSkipping line 2266: expected 8 fields, saw 9\\nSkipping line 2268: expected 8 fields, saw 9\\nSkipping line 2271: expected 8 fields, saw 9\\nSkipping line 2273: expected 8 fields, saw 9\\nSkipping line 2275: expected 8 fields, saw 9\\nSkipping line 2277: expected 8 fields, saw 9\\nSkipping line 2280: expected 8 fields, saw 9\\nSkipping line 2282: expected 8 fields, saw 9\\nSkipping line 2284: expected 8 fields, saw 9\\nSkipping line 2286: expected 8 fields, saw 9\\nSkipping line 2288: expected 8 fields, saw 9\\nSkipping line 2290: expected 8 fields, saw 9\\nSkipping line 2292: expected 8 fields, saw 9\\nSkipping line 2294: expected 8 fields, saw 9\\nSkipping line 2296: expected 8 fields, saw 9\\nSkipping line 2298: expected 8 fields, saw 9\\nSkipping line 2300: expected 8 fields, saw 9\\nSkipping line 2302: expected 8 fields, saw 9\\nSkipping line 2304: expected 8 fields, saw 9\\nSkipping line 2306: expected 8 fields, saw 9\\nSkipping line 2308: expected 8 fields, saw 9\\nSkipping line 2310: expected 8 fields, saw 9\\nSkipping line 2313: expected 8 fields, saw 9\\nSkipping line 2315: expected 8 fields, saw 9\\nSkipping line 2317: expected 8 fields, saw 9\\nSkipping line 2319: expected 8 fields, saw 9\\nSkipping line 2321: expected 8 fields, saw 9\\nSkipping line 2323: expected 8 fields, saw 9\\nSkipping line 2326: expected 8 fields, saw 9\\nSkipping line 2328: expected 8 fields, saw 9\\nSkipping line 2330: expected 8 fields, saw 9\\nSkipping line 2332: expected 8 fields, saw 9\\nSkipping line 2334: expected 8 fields, saw 9\\nSkipping line 2336: expected 8 fields, saw 9\\nSkipping line 2338: expected 8 fields, saw 9\\nSkipping line 2340: expected 8 fields, saw 9\\nSkipping line 2342: expected 8 fields, saw 9\\nSkipping line 2344: expected 8 fields, saw 9\\nSkipping line 2346: expected 8 fields, saw 9\\nSkipping line 2348: expected 8 fields, saw 9\\nSkipping line 2350: expected 8 fields, saw 9\\nSkipping line 2352: expected 8 fields, saw 9\\nSkipping line 2354: expected 8 fields, saw 9\\nSkipping line 2356: expected 8 fields, saw 9\\nSkipping line 2358: expected 8 fields, saw 9\\nSkipping line 2360: expected 8 fields, saw 9\\nSkipping line 2362: expected 8 fields, saw 9\\nSkipping line 2364: expected 8 fields, saw 9\\nSkipping line 2366: expected 8 fields, saw 9\\nSkipping line 2368: expected 8 fields, saw 9\\nSkipping line 2370: expected 8 fields, saw 9\\nSkipping line 2372: expected 8 fields, saw 9\\nSkipping line 2374: expected 8 fields, saw 9\\nSkipping line 2376: expected 8 fields, saw 9\\nSkipping line 2378: expected 8 fields, saw 9\\nSkipping line 2380: expected 8 fields, saw 9\\nSkipping line 2383: expected 8 fields, saw 9\\nSkipping line 2385: expected 8 fields, saw 9\\nSkipping line 2388: expected 8 fields, saw 9\\nSkipping line 2390: expected 8 fields, saw 9\\nSkipping line 2393: expected 8 fields, saw 9\\nSkipping line 2395: expected 8 fields, saw 9\\nSkipping line 2398: expected 8 fields, saw 9\\nSkipping line 2400: expected 8 fields, saw 9\\nSkipping line 2402: expected 8 fields, saw 9\\nSkipping line 2404: expected 8 fields, saw 9\\nSkipping line 2406: expected 8 fields, saw 9\\nSkipping line 2408: expected 8 fields, saw 9\\nSkipping line 2410: expected 8 fields, saw 9\\nSkipping line 2412: expected 8 fields, saw 9\\nSkipping line 2414: expected 8 fields, saw 9\\nSkipping line 2417: expected 8 fields, saw 9\\nSkipping line 2419: expected 8 fields, saw 9\\nSkipping line 2421: expected 8 fields, saw 9\\nSkipping line 2423: expected 8 fields, saw 9\\nSkipping line 2425: expected 8 fields, saw 9\\nSkipping line 2427: expected 8 fields, saw 9\\nSkipping line 2430: expected 8 fields, saw 9\\nSkipping line 2432: expected 8 fields, saw 9\\nSkipping line 2434: expected 8 fields, saw 9\\nSkipping line 2436: expected 8 fields, saw 9\\nSkipping line 2438: expected 8 fields, saw 9\\nSkipping line 2440: expected 8 fields, saw 9\\nSkipping line 2442: expected 8 fields, saw 9\\nSkipping line 2444: expected 8 fields, saw 9\\nSkipping line 2446: expected 8 fields, saw 9\\nSkipping line 2448: expected 8 fields, saw 9\\nSkipping line 2451: expected 8 fields, saw 9\\nSkipping line 2453: expected 8 fields, saw 9\\nSkipping line 2456: expected 8 fields, saw 9\\nSkipping line 2458: expected 8 fields, saw 9\\nSkipping line 2460: expected 8 fields, saw 9\\nSkipping line 2462: expected 8 fields, saw 9\\nSkipping line 2465: expected 8 fields, saw 9\\nSkipping line 2467: expected 8 fields, saw 9\\nSkipping line 2470: expected 8 fields, saw 9\\nSkipping line 2472: expected 8 fields, saw 9\\nSkipping line 2475: expected 8 fields, saw 9\\nSkipping line 2477: expected 8 fields, saw 9\\nSkipping line 2480: expected 8 fields, saw 9\\nSkipping line 2482: expected 8 fields, saw 9\\nSkipping line 2485: expected 8 fields, saw 9\\nSkipping line 2487: expected 8 fields, saw 9\\nSkipping line 2489: expected 8 fields, saw 9\\nSkipping line 2491: expected 8 fields, saw 9\\nSkipping line 2493: expected 8 fields, saw 9\\nSkipping line 2495: expected 8 fields, saw 9\\nSkipping line 2498: expected 8 fields, saw 9\\nSkipping line 2500: expected 8 fields, saw 9\\nSkipping line 2503: expected 8 fields, saw 9\\nSkipping line 2505: expected 8 fields, saw 9\\nSkipping line 2508: expected 8 fields, saw 9\\nSkipping line 2510: expected 8 fields, saw 9\\nSkipping line 2512: expected 8 fields, saw 9\\nSkipping line 2514: expected 8 fields, saw 9\\nSkipping line 2517: expected 8 fields, saw 9\\nSkipping line 2519: expected 8 fields, saw 9\\nSkipping line 2521: expected 8 fields, saw 9\\nSkipping line 2523: expected 8 fields, saw 9\\nSkipping line 2525: expected 8 fields, saw 9\\nSkipping line 2527: expected 8 fields, saw 9\\nSkipping line 2530: expected 8 fields, saw 9\\nSkipping line 2532: expected 8 fields, saw 9\\nSkipping line 2534: expected 8 fields, saw 9\\nSkipping line 2536: expected 8 fields, saw 9\\nSkipping line 2538: expected 8 fields, saw 9\\nSkipping line 2540: expected 8 fields, saw 9\\nSkipping line 2542: expected 8 fields, saw 9\\nSkipping line 2544: expected 8 fields, saw 9\\nSkipping line 2547: expected 8 fields, saw 9\\nSkipping line 2549: expected 8 fields, saw 9\\nSkipping line 2551: expected 8 fields, saw 9\\nSkipping line 2553: expected 8 fields, saw 9\\nSkipping line 2555: expected 8 fields, saw 9\\nSkipping line 2557: expected 8 fields, saw 9\\nSkipping line 2560: expected 8 fields, saw 9\\nSkipping line 2562: expected 8 fields, saw 9\\nSkipping line 2564: expected 8 fields, saw 9\\nSkipping line 2566: expected 8 fields, saw 9\\nSkipping line 2568: expected 8 fields, saw 9\\nSkipping line 2570: expected 8 fields, saw 9\\nSkipping line 2572: expected 8 fields, saw 9\\nSkipping line 2574: expected 8 fields, saw 9\\nSkipping line 2576: expected 8 fields, saw 9\\nSkipping line 2578: expected 8 fields, saw 9\\nSkipping line 2580: expected 8 fields, saw 9\\nSkipping line 2583: expected 8 fields, saw 9\\nSkipping line 2585: expected 8 fields, saw 9\\nSkipping line 2587: expected 8 fields, saw 9\\nSkipping line 2589: expected 8 fields, saw 9\\nSkipping line 2591: expected 8 fields, saw 9\\nSkipping line 2593: expected 8 fields, saw 9\\nSkipping line 2596: expected 8 fields, saw 9\\nSkipping line 2598: expected 8 fields, saw 9\\nSkipping line 2601: expected 8 fields, saw 9\\nSkipping line 2603: expected 8 fields, saw 9\\nSkipping line 2605: expected 8 fields, saw 9\\nSkipping line 2607: expected 8 fields, saw 9\\nSkipping line 2609: expected 8 fields, saw 9\\nSkipping line 2611: expected 8 fields, saw 9\\nSkipping line 2613: expected 8 fields, saw 9\\nSkipping line 2616: expected 8 fields, saw 9\\nSkipping line 2618: expected 8 fields, saw 9\\nSkipping line 2620: expected 8 fields, saw 9\\nSkipping line 2622: expected 8 fields, saw 9\\nSkipping line 2625: expected 8 fields, saw 9\\nSkipping line 2627: expected 8 fields, saw 9\\nSkipping line 2629: expected 8 fields, saw 9\\nSkipping line 2631: expected 8 fields, saw 9\\nSkipping line 2633: expected 8 fields, saw 9\\nSkipping line 2635: expected 8 fields, saw 9\\nSkipping line 2638: expected 8 fields, saw 9\\nSkipping line 2640: expected 8 fields, saw 9\\nSkipping line 2643: expected 8 fields, saw 9\\nSkipping line 2645: expected 8 fields, saw 9\\nSkipping line 2647: expected 8 fields, saw 9\\nSkipping line 2649: expected 8 fields, saw 9\\nSkipping line 2652: expected 8 fields, saw 9\\nSkipping line 2654: expected 8 fields, saw 9\\nSkipping line 2657: expected 8 fields, saw 9\\nSkipping line 2659: expected 8 fields, saw 9\\nSkipping line 2661: expected 8 fields, saw 9\\nSkipping line 2664: expected 8 fields, saw 9\\nSkipping line 2666: expected 8 fields, saw 9\\nSkipping line 2669: expected 8 fields, saw 9\\nSkipping line 2671: expected 8 fields, saw 9\\nSkipping line 2673: expected 8 fields, saw 9\\nSkipping line 2675: expected 8 fields, saw 9\\nSkipping line 2677: expected 8 fields, saw 9\\nSkipping line 2680: expected 8 fields, saw 9\\nSkipping line 2682: expected 8 fields, saw 9\\nSkipping line 2685: expected 8 fields, saw 9\\nSkipping line 2687: expected 8 fields, saw 9\\nSkipping line 2689: expected 8 fields, saw 9\\nSkipping line 2691: expected 8 fields, saw 9\\nSkipping line 2693: expected 8 fields, saw 9\\nSkipping line 2695: expected 8 fields, saw 9\\nSkipping line 2697: expected 8 fields, saw 9\\nSkipping line 2699: expected 8 fields, saw 9\\nSkipping line 2701: expected 8 fields, saw 9\\nSkipping line 2703: expected 8 fields, saw 9\\nSkipping line 2705: expected 8 fields, saw 9\\nSkipping line 2707: expected 8 fields, saw 9\\nSkipping line 2709: expected 8 fields, saw 9\\nSkipping line 2711: expected 8 fields, saw 9\\nSkipping line 2713: expected 8 fields, saw 9\\nSkipping line 2715: expected 8 fields, saw 9\\nSkipping line 2717: expected 8 fields, saw 9\\nSkipping line 2719: expected 8 fields, saw 9\\nSkipping line 2722: expected 8 fields, saw 9\\nSkipping line 2724: expected 8 fields, saw 9\\nSkipping line 2726: expected 8 fields, saw 9\\nSkipping line 2728: expected 8 fields, saw 9\\nSkipping line 2730: expected 8 fields, saw 9\\nSkipping line 2732: expected 8 fields, saw 9\\nSkipping line 2734: expected 8 fields, saw 9\\nSkipping line 2736: expected 8 fields, saw 9\\nSkipping line 2738: expected 8 fields, saw 9\\nSkipping line 2740: expected 8 fields, saw 9\\nSkipping line 2742: expected 8 fields, saw 9\\nSkipping line 2744: expected 8 fields, saw 9\\nSkipping line 2746: expected 8 fields, saw 9\\nSkipping line 2748: expected 8 fields, saw 9\\nSkipping line 2750: expected 8 fields, saw 9\\nSkipping line 2752: expected 8 fields, saw 9\\nSkipping line 2754: expected 8 fields, saw 9\\nSkipping line 2756: expected 8 fields, saw 9\\nSkipping line 2758: expected 8 fields, saw 9\\nSkipping line 2760: expected 8 fields, saw 9\\nSkipping line 2762: expected 8 fields, saw 9\\nSkipping line 2764: expected 8 fields, saw 9\\nSkipping line 2766: expected 8 fields, saw 9\\nSkipping line 2768: expected 8 fields, saw 9\\nSkipping line 2770: expected 8 fields, saw 9\\nSkipping line 2772: expected 8 fields, saw 9\\nSkipping line 2774: expected 8 fields, saw 9\\nSkipping line 2776: expected 8 fields, saw 9\\nSkipping line 2778: expected 8 fields, saw 9\\nSkipping line 2780: expected 8 fields, saw 9\\nSkipping line 2782: expected 8 fields, saw 9\\nSkipping line 2784: expected 8 fields, saw 9\\nSkipping line 2786: expected 8 fields, saw 9\\nSkipping line 2788: expected 8 fields, saw 9\\nSkipping line 2791: expected 8 fields, saw 9\\nSkipping line 2793: expected 8 fields, saw 9\\nSkipping line 2795: expected 8 fields, saw 9\\nSkipping line 2797: expected 8 fields, saw 9\\nSkipping line 2799: expected 8 fields, saw 9\\nSkipping line 2801: expected 8 fields, saw 9\\nSkipping line 2803: expected 8 fields, saw 9\\nSkipping line 2806: expected 8 fields, saw 9\\nSkipping line 2808: expected 8 fields, saw 9\\nSkipping line 2810: expected 8 fields, saw 9\\nSkipping line 2812: expected 8 fields, saw 9\\nSkipping line 2814: expected 8 fields, saw 9\\nSkipping line 2817: expected 8 fields, saw 9\\nSkipping line 2819: expected 8 fields, saw 9\\nSkipping line 2822: expected 8 fields, saw 9\\nSkipping line 2824: expected 8 fields, saw 9\\nSkipping line 2826: expected 8 fields, saw 9\\nSkipping line 2828: expected 8 fields, saw 9\\nSkipping line 2831: expected 8 fields, saw 9\\nSkipping line 2833: expected 8 fields, saw 9\\nSkipping line 2836: expected 8 fields, saw 9\\nSkipping line 2838: expected 8 fields, saw 9\\nSkipping line 2840: expected 8 fields, saw 9\\nSkipping line 2842: expected 8 fields, saw 9\\nSkipping line 2844: expected 8 fields, saw 9\\nSkipping line 2847: expected 8 fields, saw 9\\nSkipping line 2849: expected 8 fields, saw 9\\nSkipping line 2851: expected 8 fields, saw 9\\nSkipping line 2854: expected 8 fields, saw 9\\nSkipping line 2856: expected 8 fields, saw 9\\nSkipping line 2859: expected 8 fields, saw 9\\nSkipping line 2861: expected 8 fields, saw 9\\nSkipping line 2863: expected 8 fields, saw 9\\nSkipping line 2865: expected 8 fields, saw 9\\nSkipping line 2867: expected 8 fields, saw 9\\nSkipping line 2869: expected 8 fields, saw 9\\nSkipping line 2872: expected 8 fields, saw 9\\nSkipping line 2874: expected 8 fields, saw 9\\nSkipping line 2876: expected 8 fields, saw 9\\nSkipping line 2878: expected 8 fields, saw 9\\nSkipping line 2881: expected 8 fields, saw 9\\nSkipping line 2883: expected 8 fields, saw 9\\nSkipping line 2885: expected 8 fields, saw 9\\nSkipping line 2887: expected 8 fields, saw 9\\nSkipping line 2889: expected 8 fields, saw 9\\nSkipping line 2891: expected 8 fields, saw 9\\nSkipping line 2893: expected 8 fields, saw 9\\nSkipping line 2895: expected 8 fields, saw 9\\nSkipping line 2897: expected 8 fields, saw 9\\nSkipping line 2899: expected 8 fields, saw 9\\nSkipping line 2901: expected 8 fields, saw 9\\nSkipping line 2903: expected 8 fields, saw 9\\nSkipping line 2905: expected 8 fields, saw 9\\nSkipping line 2907: expected 8 fields, saw 9\\nSkipping line 2909: expected 8 fields, saw 9\\nSkipping line 2911: expected 8 fields, saw 9\\nSkipping line 2913: expected 8 fields, saw 9\\nSkipping line 2915: expected 8 fields, saw 9\\nSkipping line 2917: expected 8 fields, saw 9\\nSkipping line 2919: expected 8 fields, saw 9\\nSkipping line 2921: expected 8 fields, saw 9\\nSkipping line 2923: expected 8 fields, saw 9\\nSkipping line 2925: expected 8 fields, saw 9\\nSkipping line 2927: expected 8 fields, saw 9\\nSkipping line 2930: expected 8 fields, saw 9\\nSkipping line 2932: expected 8 fields, saw 9\\nSkipping line 2934: expected 8 fields, saw 9\\nSkipping line 2936: expected 8 fields, saw 9\\nSkipping line 2939: expected 8 fields, saw 9\\nSkipping line 2941: expected 8 fields, saw 9\\nSkipping line 2943: expected 8 fields, saw 9\\nSkipping line 2945: expected 8 fields, saw 9\\nSkipping line 2947: expected 8 fields, saw 9\\nSkipping line 2949: expected 8 fields, saw 9\\nSkipping line 2951: expected 8 fields, saw 9\\nSkipping line 2953: expected 8 fields, saw 9\\nSkipping line 2955: expected 8 fields, saw 9\\nSkipping line 2957: expected 8 fields, saw 9\\nSkipping line 2959: expected 8 fields, saw 9\\nSkipping line 2961: expected 8 fields, saw 9\\nSkipping line 2963: expected 8 fields, saw 9\\nSkipping line 2965: expected 8 fields, saw 9\\nSkipping line 2967: expected 8 fields, saw 9\\nSkipping line 2969: expected 8 fields, saw 9\\nSkipping line 2971: expected 8 fields, saw 9\\nSkipping line 2973: expected 8 fields, saw 9\\nSkipping line 2975: expected 8 fields, saw 9\\nSkipping line 2977: expected 8 fields, saw 9\\nSkipping line 2979: expected 8 fields, saw 9\\nSkipping line 2981: expected 8 fields, saw 9\\nSkipping line 2983: expected 8 fields, saw 9\\nSkipping line 2985: expected 8 fields, saw 9\\nSkipping line 2987: expected 8 fields, saw 9\\nSkipping line 2989: expected 8 fields, saw 9\\nSkipping line 2991: expected 8 fields, saw 9\\nSkipping line 2993: expected 8 fields, saw 9\\nSkipping line 2996: expected 8 fields, saw 9\\nSkipping line 2998: expected 8 fields, saw 9\\nSkipping line 3001: expected 8 fields, saw 9\\nSkipping line 3003: expected 8 fields, saw 9\\nSkipping line 3006: expected 8 fields, saw 9\\nSkipping line 3008: expected 8 fields, saw 9\\nSkipping line 3010: expected 8 fields, saw 9\\nSkipping line 3012: expected 8 fields, saw 9\\nSkipping line 3014: expected 8 fields, saw 9\\nSkipping line 3016: expected 8 fields, saw 9\\nSkipping line 3018: expected 8 fields, saw 9\\nSkipping line 3020: expected 8 fields, saw 9\\nSkipping line 3022: expected 8 fields, saw 9\\nSkipping line 3024: expected 8 fields, saw 9\\nSkipping line 3026: expected 8 fields, saw 9\\nSkipping line 3028: expected 8 fields, saw 9\\nSkipping line 3030: expected 8 fields, saw 9\\nSkipping line 3032: expected 8 fields, saw 9\\nSkipping line 3034: expected 8 fields, saw 9\\nSkipping line 3036: expected 8 fields, saw 9\\nSkipping line 3038: expected 8 fields, saw 9\\nSkipping line 3040: expected 8 fields, saw 9\\nSkipping line 3042: expected 8 fields, saw 9\\nSkipping line 3044: expected 8 fields, saw 9\\nSkipping line 3046: expected 8 fields, saw 9\\nSkipping line 3048: expected 8 fields, saw 9\\nSkipping line 3051: expected 8 fields, saw 9\\nSkipping line 3053: expected 8 fields, saw 9\\nSkipping line 3055: expected 8 fields, saw 9\\nSkipping line 3057: expected 8 fields, saw 9\\nSkipping line 3059: expected 8 fields, saw 9\\nSkipping line 3061: expected 8 fields, saw 9\\nSkipping line 3063: expected 8 fields, saw 9\\nSkipping line 3065: expected 8 fields, saw 9\\nSkipping line 3067: expected 8 fields, saw 9\\nSkipping line 3069: expected 8 fields, saw 9\\nSkipping line 3071: expected 8 fields, saw 9\\nSkipping line 3073: expected 8 fields, saw 9\\nSkipping line 3076: expected 8 fields, saw 9\\nSkipping line 3078: expected 8 fields, saw 9\\nSkipping line 3080: expected 8 fields, saw 9\\nSkipping line 3082: expected 8 fields, saw 9\\nSkipping line 3085: expected 8 fields, saw 9\\nSkipping line 3087: expected 8 fields, saw 9\\nSkipping line 3090: expected 8 fields, saw 9\\nSkipping line 3092: expected 8 fields, saw 9\\nSkipping line 3095: expected 8 fields, saw 9\\nSkipping line 3097: expected 8 fields, saw 9\\nSkipping line 3100: expected 8 fields, saw 9\\nSkipping line 3102: expected 8 fields, saw 9\\nSkipping line 3105: expected 8 fields, saw 9\\nSkipping line 3107: expected 8 fields, saw 9\\nSkipping line 3110: expected 8 fields, saw 9\\nSkipping line 3112: expected 8 fields, saw 9\\nSkipping line 3115: expected 8 fields, saw 9\\nSkipping line 3117: expected 8 fields, saw 9\\nSkipping line 3119: expected 8 fields, saw 9\\nSkipping line 3121: expected 8 fields, saw 9\\nSkipping line 3123: expected 8 fields, saw 9\\nSkipping line 3125: expected 8 fields, saw 9\\nSkipping line 3127: expected 8 fields, saw 9\\nSkipping line 3129: expected 8 fields, saw 9\\nSkipping line 3131: expected 8 fields, saw 9\\nSkipping line 3133: expected 8 fields, saw 9\\nSkipping line 3136: expected 8 fields, saw 9\\nSkipping line 3138: expected 8 fields, saw 9\\nSkipping line 3140: expected 8 fields, saw 9\\nSkipping line 3142: expected 8 fields, saw 9\\nSkipping line 3144: expected 8 fields, saw 9\\nSkipping line 3146: expected 8 fields, saw 9\\nSkipping line 3148: expected 8 fields, saw 9\\nSkipping line 3151: expected 8 fields, saw 9\\nSkipping line 3153: expected 8 fields, saw 9\\nSkipping line 3155: expected 8 fields, saw 9\\nSkipping line 3157: expected 8 fields, saw 9\\nSkipping line 3159: expected 8 fields, saw 9\\nSkipping line 3161: expected 8 fields, saw 9\\nSkipping line 3163: expected 8 fields, saw 9\\nSkipping line 3165: expected 8 fields, saw 9\\nSkipping line 3167: expected 8 fields, saw 9\\nSkipping line 3169: expected 8 fields, saw 9\\nSkipping line 3171: expected 8 fields, saw 9\\nSkipping line 3173: expected 8 fields, saw 9\\nSkipping line 3175: expected 8 fields, saw 9\\nSkipping line 3177: expected 8 fields, saw 9\\nSkipping line 3179: expected 8 fields, saw 9\\nSkipping line 3181: expected 8 fields, saw 9\\nSkipping line 3183: expected 8 fields, saw 9\\nSkipping line 3185: expected 8 fields, saw 9\\nSkipping line 3187: expected 8 fields, saw 9\\nSkipping line 3189: expected 8 fields, saw 9\\nSkipping line 3191: expected 8 fields, saw 9\\nSkipping line 3193: expected 8 fields, saw 9\\nSkipping line 3195: expected 8 fields, saw 9\\nSkipping line 3197: expected 8 fields, saw 9\\nSkipping line 3199: expected 8 fields, saw 9\\nSkipping line 3201: expected 8 fields, saw 9\\nSkipping line 3203: expected 8 fields, saw 9\\nSkipping line 3205: expected 8 fields, saw 9\\nSkipping line 3207: expected 8 fields, saw 9\\nSkipping line 3209: expected 8 fields, saw 9\\nSkipping line 3211: expected 8 fields, saw 9\\nSkipping line 3213: expected 8 fields, saw 9\\nSkipping line 3215: expected 8 fields, saw 9\\nSkipping line 3217: expected 8 fields, saw 9\\nSkipping line 3220: expected 8 fields, saw 9\\nSkipping line 3222: expected 8 fields, saw 9\\nSkipping line 3224: expected 8 fields, saw 9\\nSkipping line 3226: expected 8 fields, saw 9\\nSkipping line 3228: expected 8 fields, saw 9\\nSkipping line 3230: expected 8 fields, saw 9\\nSkipping line 3232: expected 8 fields, saw 9\\nSkipping line 3234: expected 8 fields, saw 9\\nSkipping line 3236: expected 8 fields, saw 9\\nSkipping line 3238: expected 8 fields, saw 9\\nSkipping line 3240: expected 8 fields, saw 9\\nSkipping line 3242: expected 8 fields, saw 9\\nSkipping line 3244: expected 8 fields, saw 9\\nSkipping line 3246: expected 8 fields, saw 9\\nSkipping line 3248: expected 8 fields, saw 9\\nSkipping line 3250: expected 8 fields, saw 9\\nSkipping line 3252: expected 8 fields, saw 9\\nSkipping line 3254: expected 8 fields, saw 9\\nSkipping line 3256: expected 8 fields, saw 9\\nSkipping line 3258: expected 8 fields, saw 9\\nSkipping line 3260: expected 8 fields, saw 9\\nSkipping line 3262: expected 8 fields, saw 9\\nSkipping line 3264: expected 8 fields, saw 9\\nSkipping line 3266: expected 8 fields, saw 9\\nSkipping line 3269: expected 8 fields, saw 9\\nSkipping line 3271: expected 8 fields, saw 9\\nSkipping line 3273: expected 8 fields, saw 9\\nSkipping line 3275: expected 8 fields, saw 9\\nSkipping line 3277: expected 8 fields, saw 9\\nSkipping line 3279: expected 8 fields, saw 9\\nSkipping line 3281: expected 8 fields, saw 9\\nSkipping line 3283: expected 8 fields, saw 9\\nSkipping line 3285: expected 8 fields, saw 9\\nSkipping line 3287: expected 8 fields, saw 9\\nSkipping line 3289: expected 8 fields, saw 9\\nSkipping line 3291: expected 8 fields, saw 9\\nSkipping line 3293: expected 8 fields, saw 9\\nSkipping line 3295: expected 8 fields, saw 9\\nSkipping line 3297: expected 8 fields, saw 9\\nSkipping line 3299: expected 8 fields, saw 9\\nSkipping line 3302: expected 8 fields, saw 9\\nSkipping line 3304: expected 8 fields, saw 9\\nSkipping line 3306: expected 8 fields, saw 9\\nSkipping line 3308: expected 8 fields, saw 9\\nSkipping line 3310: expected 8 fields, saw 9\\nSkipping line 3312: expected 8 fields, saw 9\\nSkipping line 3314: expected 8 fields, saw 9\\nSkipping line 3316: expected 8 fields, saw 9\\nSkipping line 3318: expected 8 fields, saw 9\\nSkipping line 3320: expected 8 fields, saw 9\\nSkipping line 3322: expected 8 fields, saw 9\\nSkipping line 3324: expected 8 fields, saw 9\\nSkipping line 3326: expected 8 fields, saw 9\\nSkipping line 3328: expected 8 fields, saw 9\\nSkipping line 3330: expected 8 fields, saw 9\\nSkipping line 3332: expected 8 fields, saw 9\\nSkipping line 3334: expected 8 fields, saw 9\\nSkipping line 3336: expected 8 fields, saw 9\\nSkipping line 3338: expected 8 fields, saw 9\\nSkipping line 3340: expected 8 fields, saw 9\\nSkipping line 3343: expected 8 fields, saw 9\\nSkipping line 3345: expected 8 fields, saw 9\\nSkipping line 3347: expected 8 fields, saw 9\\nSkipping line 3349: expected 8 fields, saw 9\\nSkipping line 3351: expected 8 fields, saw 9\\nSkipping line 3353: expected 8 fields, saw 9\\nSkipping line 3355: expected 8 fields, saw 9\\nSkipping line 3357: expected 8 fields, saw 9\\nSkipping line 3359: expected 8 fields, saw 9\\nSkipping line 3361: expected 8 fields, saw 9\\nSkipping line 3363: expected 8 fields, saw 9\\nSkipping line 3365: expected 8 fields, saw 9\\nSkipping line 3367: expected 8 fields, saw 9\\nSkipping line 3369: expected 8 fields, saw 9\\nSkipping line 3372: expected 8 fields, saw 9\\nSkipping line 3374: expected 8 fields, saw 9\\nSkipping line 3376: expected 8 fields, saw 9\\nSkipping line 3378: expected 8 fields, saw 9\\nSkipping line 3380: expected 8 fields, saw 9\\nSkipping line 3382: expected 8 fields, saw 9\\nSkipping line 3384: expected 8 fields, saw 9\\nSkipping line 3386: expected 8 fields, saw 9\\nSkipping line 3388: expected 8 fields, saw 9\\nSkipping line 3390: expected 8 fields, saw 9\\nSkipping line 3392: expected 8 fields, saw 9\\nSkipping line 3395: expected 8 fields, saw 9\\nSkipping line 3397: expected 8 fields, saw 9\\nSkipping line 3399: expected 8 fields, saw 9\\nSkipping line 3401: expected 8 fields, saw 9\\nSkipping line 3404: expected 8 fields, saw 9\\nSkipping line 3406: expected 8 fields, saw 9\\nSkipping line 3409: expected 8 fields, saw 9\\nSkipping line 3411: expected 8 fields, saw 9\\nSkipping line 3414: expected 8 fields, saw 9\\nSkipping line 3416: expected 8 fields, saw 9\\nSkipping line 3419: expected 8 fields, saw 9\\nSkipping line 3421: expected 8 fields, saw 9\\nSkipping line 3423: expected 8 fields, saw 9\\nSkipping line 3425: expected 8 fields, saw 9\\nSkipping line 3428: expected 8 fields, saw 9\\nSkipping line 3430: expected 8 fields, saw 9\\nSkipping line 3432: expected 8 fields, saw 9\\nSkipping line 3434: expected 8 fields, saw 9\\nSkipping line 3437: expected 8 fields, saw 9\\nSkipping line 3439: expected 8 fields, saw 9\\nSkipping line 3441: expected 8 fields, saw 9\\nSkipping line 3443: expected 8 fields, saw 9\\nSkipping line 3445: expected 8 fields, saw 9\\nSkipping line 3447: expected 8 fields, saw 9\\nSkipping line 3449: expected 8 fields, saw 9\\nSkipping line 3451: expected 8 fields, saw 9\\nSkipping line 3453: expected 8 fields, saw 9\\nSkipping line 3455: expected 8 fields, saw 9\\nSkipping line 3457: expected 8 fields, saw 9\\nSkipping line 3459: expected 8 fields, saw 9\\nSkipping line 3461: expected 8 fields, saw 9\\nSkipping line 3463: expected 8 fields, saw 9\\nSkipping line 3465: expected 8 fields, saw 9\\nSkipping line 3467: expected 8 fields, saw 9\\nSkipping line 3469: expected 8 fields, saw 9\\nSkipping line 3471: expected 8 fields, saw 9\\nSkipping line 3473: expected 8 fields, saw 9\\nSkipping line 3475: expected 8 fields, saw 9\\nSkipping line 3477: expected 8 fields, saw 9\\nSkipping line 3479: expected 8 fields, saw 9\\nSkipping line 3481: expected 8 fields, saw 9\\nSkipping line 3483: expected 8 fields, saw 9\\nSkipping line 3485: expected 8 fields, saw 9\\nSkipping line 3487: expected 8 fields, saw 9\\nSkipping line 3489: expected 8 fields, saw 9\\nSkipping line 3491: expected 8 fields, saw 9\\nSkipping line 3493: expected 8 fields, saw 9\\nSkipping line 3495: expected 8 fields, saw 9\\nSkipping line 3497: expected 8 fields, saw 9\\nSkipping line 3499: expected 8 fields, saw 9\\nSkipping line 3501: expected 8 fields, saw 9\\nSkipping line 3503: expected 8 fields, saw 9\\nSkipping line 3505: expected 8 fields, saw 9\\nSkipping line 3507: expected 8 fields, saw 9\\nSkipping line 3509: expected 8 fields, saw 9\\nSkipping line 3511: expected 8 fields, saw 9\\nSkipping line 3513: expected 8 fields, saw 9\\nSkipping line 3515: expected 8 fields, saw 9\\nSkipping line 3517: expected 8 fields, saw 9\\nSkipping line 3519: expected 8 fields, saw 9\\nSkipping line 3521: expected 8 fields, saw 9\\nSkipping line 3523: expected 8 fields, saw 9\\nSkipping line 3525: expected 8 fields, saw 9\\nSkipping line 3527: expected 8 fields, saw 9\\nSkipping line 3529: expected 8 fields, saw 9\\nSkipping line 3531: expected 8 fields, saw 9\\nSkipping line 3533: expected 8 fields, saw 9\\nSkipping line 3535: expected 8 fields, saw 9\\nSkipping line 3537: expected 8 fields, saw 9\\nSkipping line 3539: expected 8 fields, saw 9\\nSkipping line 3541: expected 8 fields, saw 9\\nSkipping line 3543: expected 8 fields, saw 9\\nSkipping line 3545: expected 8 fields, saw 9\\nSkipping line 3547: expected 8 fields, saw 9\\nSkipping line 3549: expected 8 fields, saw 9\\nSkipping line 3551: expected 8 fields, saw 9\\nSkipping line 3553: expected 8 fields, saw 9\\nSkipping line 3555: expected 8 fields, saw 9\\nSkipping line 3557: expected 8 fields, saw 9\\nSkipping line 3559: expected 8 fields, saw 9\\nSkipping line 3561: expected 8 fields, saw 9\\nSkipping line 3563: expected 8 fields, saw 9\\nSkipping line 3566: expected 8 fields, saw 9\\nSkipping line 3568: expected 8 fields, saw 9\\nSkipping line 3570: expected 8 fields, saw 9\\nSkipping line 3572: expected 8 fields, saw 9\\nSkipping line 3574: expected 8 fields, saw 9\\nSkipping line 3576: expected 8 fields, saw 9\\nSkipping line 3579: expected 8 fields, saw 9\\nSkipping line 3581: expected 8 fields, saw 9\\nSkipping line 3584: expected 8 fields, saw 9\\nSkipping line 3586: expected 8 fields, saw 9\\nSkipping line 3588: expected 8 fields, saw 9\\nSkipping line 3590: expected 8 fields, saw 9\\nSkipping line 3592: expected 8 fields, saw 9\\nSkipping line 3594: expected 8 fields, saw 9\\nSkipping line 3596: expected 8 fields, saw 9\\nSkipping line 3598: expected 8 fields, saw 9\\nSkipping line 3600: expected 8 fields, saw 9\\nSkipping line 3602: expected 8 fields, saw 9\\nSkipping line 3604: expected 8 fields, saw 9\\nSkipping line 3606: expected 8 fields, saw 9\\nSkipping line 3609: expected 8 fields, saw 9\\nSkipping line 3611: expected 8 fields, saw 9\\nSkipping line 3613: expected 8 fields, saw 9\\nSkipping line 3615: expected 8 fields, saw 9\\nSkipping line 3617: expected 8 fields, saw 9\\nSkipping line 3619: expected 8 fields, saw 9\\nSkipping line 3621: expected 8 fields, saw 9\\nSkipping line 3623: expected 8 fields, saw 9\\nSkipping line 3625: expected 8 fields, saw 9\\nSkipping line 3628: expected 8 fields, saw 9\\nSkipping line 3630: expected 8 fields, saw 9\\nSkipping line 3632: expected 8 fields, saw 9\\nSkipping line 3634: expected 8 fields, saw 9\\nSkipping line 3636: expected 8 fields, saw 9\\nSkipping line 3638: expected 8 fields, saw 9\\nSkipping line 3640: expected 8 fields, saw 9\\nSkipping line 3642: expected 8 fields, saw 9\\nSkipping line 3645: expected 8 fields, saw 9\\nSkipping line 3647: expected 8 fields, saw 9\\nSkipping line 3649: expected 8 fields, saw 9\\nSkipping line 3651: expected 8 fields, saw 9\\nSkipping line 3653: expected 8 fields, saw 9\\nSkipping line 3655: expected 8 fields, saw 9\\nSkipping line 3658: expected 8 fields, saw 9\\nSkipping line 3660: expected 8 fields, saw 9\\nSkipping line 3662: expected 8 fields, saw 9\\nSkipping line 3664: expected 8 fields, saw 9\\nSkipping line 3666: expected 8 fields, saw 9\\nSkipping line 3668: expected 8 fields, saw 9\\nSkipping line 3670: expected 8 fields, saw 9\\nSkipping line 3672: expected 8 fields, saw 9\\nSkipping line 3674: expected 8 fields, saw 9\\nSkipping line 3676: expected 8 fields, saw 9\\nSkipping line 3679: expected 8 fields, saw 9\\nSkipping line 3681: expected 8 fields, saw 9\\nSkipping line 3683: expected 8 fields, saw 9\\nSkipping line 3685: expected 8 fields, saw 9\\nSkipping line 3687: expected 8 fields, saw 9\\nSkipping line 3689: expected 8 fields, saw 9\\nSkipping line 3691: expected 8 fields, saw 9\\nSkipping line 3693: expected 8 fields, saw 9\\nSkipping line 3696: expected 8 fields, saw 9\\nSkipping line 3698: expected 8 fields, saw 9\\nSkipping line 3700: expected 8 fields, saw 9\\nSkipping line 3702: expected 8 fields, saw 9\\nSkipping line 3705: expected 8 fields, saw 9\\nSkipping line 3707: expected 8 fields, saw 9\\nSkipping line 3709: expected 8 fields, saw 9\\nSkipping line 3711: expected 8 fields, saw 9\\nSkipping line 3713: expected 8 fields, saw 9\\nSkipping line 3715: expected 8 fields, saw 9\\nSkipping line 3718: expected 8 fields, saw 9\\nSkipping line 3720: expected 8 fields, saw 9\\nSkipping line 3723: expected 8 fields, saw 9\\nSkipping line 3725: expected 8 fields, saw 9\\nSkipping line 3727: expected 8 fields, saw 9\\nSkipping line 3729: expected 8 fields, saw 9\\nSkipping line 3731: expected 8 fields, saw 9\\nSkipping line 3733: expected 8 fields, saw 9\\nSkipping line 3736: expected 8 fields, saw 9\\nSkipping line 3738: expected 8 fields, saw 9\\nSkipping line 3740: expected 8 fields, saw 9\\nSkipping line 3742: expected 8 fields, saw 9\\nSkipping line 3744: expected 8 fields, saw 9\\nSkipping line 3746: expected 8 fields, saw 9\\nSkipping line 3748: expected 8 fields, saw 9\\nSkipping line 3750: expected 8 fields, saw 9\\nSkipping line 3752: expected 8 fields, saw 9\\nSkipping line 3754: expected 8 fields, saw 9\\nSkipping line 3756: expected 8 fields, saw 9\\nSkipping line 3759: expected 8 fields, saw 9\\nSkipping line 3761: expected 8 fields, saw 9\\nSkipping line 3763: expected 8 fields, saw 9\\nSkipping line 3765: expected 8 fields, saw 9\\nSkipping line 3767: expected 8 fields, saw 9\\nSkipping line 3769: expected 8 fields, saw 9\\nSkipping line 3771: expected 8 fields, saw 9\\nSkipping line 3774: expected 8 fields, saw 9\\nSkipping line 3776: expected 8 fields, saw 9\\nSkipping line 3778: expected 8 fields, saw 9\\nSkipping line 3780: expected 8 fields, saw 9\\nSkipping line 3783: expected 8 fields, saw 9\\nSkipping line 3785: expected 8 fields, saw 9\\nSkipping line 3787: expected 8 fields, saw 9\\nSkipping line 3789: expected 8 fields, saw 9\\nSkipping line 3792: expected 8 fields, saw 9\\nSkipping line 3794: expected 8 fields, saw 9\\nSkipping line 3797: expected 8 fields, saw 9\\nSkipping line 3799: expected 8 fields, saw 9\\nSkipping line 3802: expected 8 fields, saw 9\\nSkipping line 3804: expected 8 fields, saw 9\\nSkipping line 3806: expected 8 fields, saw 9\\nSkipping line 3808: expected 8 fields, saw 9\\nSkipping line 3810: expected 8 fields, saw 9\\nSkipping line 3812: expected 8 fields, saw 9\\nSkipping line 3814: expected 8 fields, saw 9\\nSkipping line 3816: expected 8 fields, saw 9\\nSkipping line 3819: expected 8 fields, saw 9\\nSkipping line 3821: expected 8 fields, saw 9\\nSkipping line 3824: expected 8 fields, saw 9\\nSkipping line 3826: expected 8 fields, saw 9\\nSkipping line 3828: expected 8 fields, saw 9\\nSkipping line 3830: expected 8 fields, saw 9\\nSkipping line 3832: expected 8 fields, saw 9\\nSkipping line 3834: expected 8 fields, saw 9\\nSkipping line 3836: expected 8 fields, saw 9\\nSkipping line 3838: expected 8 fields, saw 9\\nSkipping line 3840: expected 8 fields, saw 9\\nSkipping line 3842: expected 8 fields, saw 9\\nSkipping line 3845: expected 8 fields, saw 9\\nSkipping line 3847: expected 8 fields, saw 9\\nSkipping line 3849: expected 8 fields, saw 9\\nSkipping line 3851: expected 8 fields, saw 9\\nSkipping line 3853: expected 8 fields, saw 9\\nSkipping line 3855: expected 8 fields, saw 9\\nSkipping line 3857: expected 8 fields, saw 9\\nSkipping line 3859: expected 8 fields, saw 9\\nSkipping line 3861: expected 8 fields, saw 9\\nSkipping line 3863: expected 8 fields, saw 9\\nSkipping line 3865: expected 8 fields, saw 9\\nSkipping line 3867: expected 8 fields, saw 9\\nSkipping line 3869: expected 8 fields, saw 9\\nSkipping line 3871: expected 8 fields, saw 9\\nSkipping line 3873: expected 8 fields, saw 9\\nSkipping line 3875: expected 8 fields, saw 9\\nSkipping line 3877: expected 8 fields, saw 9\\nSkipping line 3879: expected 8 fields, saw 9\\nSkipping line 3881: expected 8 fields, saw 9\\nSkipping line 3883: expected 8 fields, saw 9\\nSkipping line 3885: expected 8 fields, saw 9\\nSkipping line 3887: expected 8 fields, saw 9\\nSkipping line 3890: expected 8 fields, saw 9\\nSkipping line 3892: expected 8 fields, saw 9\\nSkipping line 3895: expected 8 fields, saw 9\\nSkipping line 3897: expected 8 fields, saw 9\\nSkipping line 3899: expected 8 fields, saw 9\\nSkipping line 3901: expected 8 fields, saw 9\\nSkipping line 3903: expected 8 fields, saw 9\\nSkipping line 3905: expected 8 fields, saw 9\\nSkipping line 3907: expected 8 fields, saw 9\\nSkipping line 3909: expected 8 fields, saw 9\\nSkipping line 3911: expected 8 fields, saw 9\\nSkipping line 3913: expected 8 fields, saw 9\\nSkipping line 3915: expected 8 fields, saw 9\\nSkipping line 3917: expected 8 fields, saw 9\\nSkipping line 3919: expected 8 fields, saw 9\\nSkipping line 3922: expected 8 fields, saw 9\\nSkipping line 3924: expected 8 fields, saw 9\\nSkipping line 3926: expected 8 fields, saw 9\\nSkipping line 3928: expected 8 fields, saw 9\\nSkipping line 3930: expected 8 fields, saw 9\\nSkipping line 3932: expected 8 fields, saw 9\\nSkipping line 3934: expected 8 fields, saw 9\\nSkipping line 3936: expected 8 fields, saw 9\\nSkipping line 3938: expected 8 fields, saw 9\\nSkipping line 3940: expected 8 fields, saw 9\\nSkipping line 3942: expected 8 fields, saw 9\\nSkipping line 3944: expected 8 fields, saw 9\\nSkipping line 3946: expected 8 fields, saw 9\\nSkipping line 3948: expected 8 fields, saw 9\\nSkipping line 3950: expected 8 fields, saw 9\\nSkipping line 3952: expected 8 fields, saw 9\\nSkipping line 3954: expected 8 fields, saw 9\\nSkipping line 3956: expected 8 fields, saw 9\\nSkipping line 3958: expected 8 fields, saw 9\\nSkipping line 3960: expected 8 fields, saw 9\\nSkipping line 3962: expected 8 fields, saw 9\\nSkipping line 3964: expected 8 fields, saw 9\\nSkipping line 3966: expected 8 fields, saw 9\\nSkipping line 3968: expected 8 fields, saw 9\\nSkipping line 3970: expected 8 fields, saw 9\\nSkipping line 3972: expected 8 fields, saw 9\\nSkipping line 3974: expected 8 fields, saw 9\\nSkipping line 3976: expected 8 fields, saw 9\\nSkipping line 3978: expected 8 fields, saw 9\\nSkipping line 3980: expected 8 fields, saw 9\\nSkipping line 3982: expected 8 fields, saw 9\\nSkipping line 3985: expected 8 fields, saw 9\\nSkipping line 3987: expected 8 fields, saw 9\\nSkipping line 3990: expected 8 fields, saw 9\\nSkipping line 3992: expected 8 fields, saw 9\\nSkipping line 3994: expected 8 fields, saw 9\\nSkipping line 3996: expected 8 fields, saw 9\\nSkipping line 3998: expected 8 fields, saw 9\\nSkipping line 4000: expected 8 fields, saw 9\\nSkipping line 4003: expected 8 fields, saw 9\\nSkipping line 4005: expected 8 fields, saw 9\\nSkipping line 4007: expected 8 fields, saw 9\\nSkipping line 4009: expected 8 fields, saw 9\\nSkipping line 4011: expected 8 fields, saw 9\\nSkipping line 4013: expected 8 fields, saw 9\\nSkipping line 4015: expected 8 fields, saw 9\\nSkipping line 4017: expected 8 fields, saw 9\\nSkipping line 4019: expected 8 fields, saw 9\\nSkipping line 4021: expected 8 fields, saw 9\\nSkipping line 4023: expected 8 fields, saw 9\\nSkipping line 4025: expected 8 fields, saw 9\\nSkipping line 4027: expected 8 fields, saw 9\\nSkipping line 4029: expected 8 fields, saw 9\\nSkipping line 4031: expected 8 fields, saw 9\\nSkipping line 4033: expected 8 fields, saw 9\\nSkipping line 4035: expected 8 fields, saw 9\\nSkipping line 4037: expected 8 fields, saw 9\\nSkipping line 4039: expected 8 fields, saw 9\\nSkipping line 4041: expected 8 fields, saw 9\\nSkipping line 4043: expected 8 fields, saw 9\\nSkipping line 4045: expected 8 fields, saw 9\\nSkipping line 4047: expected 8 fields, saw 9\\nSkipping line 4049: expected 8 fields, saw 9\\nSkipping line 4051: expected 8 fields, saw 9\\nSkipping line 4053: expected 8 fields, saw 9\\nSkipping line 4055: expected 8 fields, saw 9\\nSkipping line 4057: expected 8 fields, saw 9\\nSkipping line 4059: expected 8 fields, saw 9\\nSkipping line 4061: expected 8 fields, saw 9\\nSkipping line 4063: expected 8 fields, saw 9\\nSkipping line 4065: expected 8 fields, saw 9\\nSkipping line 4067: expected 8 fields, saw 9\\nSkipping line 4069: expected 8 fields, saw 9\\nSkipping line 4071: expected 8 fields, saw 9\\nSkipping line 4073: expected 8 fields, saw 9\\nSkipping line 4076: expected 8 fields, saw 9\\nSkipping line 4078: expected 8 fields, saw 9\\nSkipping line 4081: expected 8 fields, saw 9\\nSkipping line 4083: expected 8 fields, saw 9\\nSkipping line 4085: expected 8 fields, saw 9\\nSkipping line 4087: expected 8 fields, saw 9\\nSkipping line 4089: expected 8 fields, saw 9\\nSkipping line 4091: expected 8 fields, saw 9\\nSkipping line 4094: expected 8 fields, saw 9\\nSkipping line 4096: expected 8 fields, saw 9\\nSkipping line 4098: expected 8 fields, saw 9\\nSkipping line 4100: expected 8 fields, saw 9\\nSkipping line 4102: expected 8 fields, saw 9\\nSkipping line 4104: expected 8 fields, saw 9\\nSkipping line 4106: expected 8 fields, saw 9\\nSkipping line 4108: expected 8 fields, saw 9\\nSkipping line 4110: expected 8 fields, saw 9\\nSkipping line 4112: expected 8 fields, saw 9\\nSkipping line 4115: expected 8 fields, saw 9\\nSkipping line 4117: expected 8 fields, saw 9\\nSkipping line 4120: expected 8 fields, saw 9\\nSkipping line 4122: expected 8 fields, saw 9\\nSkipping line 4124: expected 8 fields, saw 9\\nSkipping line 4127: expected 8 fields, saw 9\\nSkipping line 4129: expected 8 fields, saw 9\\nSkipping line 4131: expected 8 fields, saw 9\\nSkipping line 4133: expected 8 fields, saw 9\\nSkipping line 4135: expected 8 fields, saw 9\\nSkipping line 4137: expected 8 fields, saw 9\\nSkipping line 4139: expected 8 fields, saw 9\\nSkipping line 4142: expected 8 fields, saw 9\\nSkipping line 4144: expected 8 fields, saw 9\\nSkipping line 4146: expected 8 fields, saw 9\\nSkipping line 4148: expected 8 fields, saw 9\\nSkipping line 4150: expected 8 fields, saw 9\\nSkipping line 4153: expected 8 fields, saw 9\\nSkipping line 4155: expected 8 fields, saw 9\\nSkipping line 4157: expected 8 fields, saw 9\\nSkipping line 4159: expected 8 fields, saw 9\\nSkipping line 4162: expected 8 fields, saw 9\\nSkipping line 4164: expected 8 fields, saw 9\\nSkipping line 4166: expected 8 fields, saw 9\\nSkipping line 4168: expected 8 fields, saw 9\\nSkipping line 4170: expected 8 fields, saw 9\\nSkipping line 4172: expected 8 fields, saw 9\\nSkipping line 4174: expected 8 fields, saw 9\\nSkipping line 4176: expected 8 fields, saw 9\\nSkipping line 4179: expected 8 fields, saw 9\\nSkipping line 4181: expected 8 fields, saw 9\\nSkipping line 4183: expected 8 fields, saw 9\\nSkipping line 4185: expected 8 fields, saw 9\\nSkipping line 4187: expected 8 fields, saw 9\\nSkipping line 4189: expected 8 fields, saw 9\\nSkipping line 4191: expected 8 fields, saw 9\\nSkipping line 4193: expected 8 fields, saw 9\\nSkipping line 4195: expected 8 fields, saw 9\\nSkipping line 4198: expected 8 fields, saw 9\\nSkipping line 4200: expected 8 fields, saw 9\\nSkipping line 4202: expected 8 fields, saw 9\\nSkipping line 4204: expected 8 fields, saw 9\\nSkipping line 4206: expected 8 fields, saw 9\\nSkipping line 4209: expected 8 fields, saw 9\\nSkipping line 4211: expected 8 fields, saw 9\\nSkipping line 4213: expected 8 fields, saw 9\\nSkipping line 4215: expected 8 fields, saw 9\\nSkipping line 4217: expected 8 fields, saw 9\\nSkipping line 4219: expected 8 fields, saw 9\\nSkipping line 4221: expected 8 fields, saw 9\\nSkipping line 4223: expected 8 fields, saw 9\\nSkipping line 4226: expected 8 fields, saw 9\\nSkipping line 4228: expected 8 fields, saw 9\\nSkipping line 4230: expected 8 fields, saw 9\\nSkipping line 4232: expected 8 fields, saw 9\\nSkipping line 4235: expected 8 fields, saw 9\\nSkipping line 4237: expected 8 fields, saw 9\\nSkipping line 4240: expected 8 fields, saw 9\\nSkipping line 4242: expected 8 fields, saw 9\\nSkipping line 4245: expected 8 fields, saw 9\\nSkipping line 4247: expected 8 fields, saw 9\\nSkipping line 4249: expected 8 fields, saw 9\\nSkipping line 4251: expected 8 fields, saw 9\\nSkipping line 4254: expected 8 fields, saw 9\\nSkipping line 4256: expected 8 fields, saw 9\\nSkipping line 4258: expected 8 fields, saw 9\\nSkipping line 4260: expected 8 fields, saw 9\\nSkipping line 4263: expected 8 fields, saw 9\\nSkipping line 4265: expected 8 fields, saw 9\\nSkipping line 4268: expected 8 fields, saw 9\\nSkipping line 4270: expected 8 fields, saw 9\\nSkipping line 4272: expected 8 fields, saw 9\\nSkipping line 4274: expected 8 fields, saw 9\\nSkipping line 4276: expected 8 fields, saw 9\\nSkipping line 4278: expected 8 fields, saw 9\\nSkipping line 4280: expected 8 fields, saw 9\\nSkipping line 4282: expected 8 fields, saw 9\\nSkipping line 4284: expected 8 fields, saw 9\\nSkipping line 4286: expected 8 fields, saw 9\\nSkipping line 4288: expected 8 fields, saw 9\\nSkipping line 4290: expected 8 fields, saw 9\\nSkipping line 4292: expected 8 fields, saw 9\\nSkipping line 4294: expected 8 fields, saw 9\\nSkipping line 4296: expected 8 fields, saw 9\\nSkipping line 4299: expected 8 fields, saw 9\\nSkipping line 4301: expected 8 fields, saw 9\\nSkipping line 4303: expected 8 fields, saw 9\\nSkipping line 4305: expected 8 fields, saw 9\\nSkipping line 4307: expected 8 fields, saw 9\\nSkipping line 4309: expected 8 fields, saw 9\\nSkipping line 4311: expected 8 fields, saw 9\\nSkipping line 4313: expected 8 fields, saw 9\\nSkipping line 4315: expected 8 fields, saw 9\\nSkipping line 4317: expected 8 fields, saw 9\\nSkipping line 4319: expected 8 fields, saw 9\\nSkipping line 4322: expected 8 fields, saw 9\\nSkipping line 4324: expected 8 fields, saw 9\\nSkipping line 4326: expected 8 fields, saw 9\\nSkipping line 4328: expected 8 fields, saw 9\\nSkipping line 4331: expected 8 fields, saw 9\\nSkipping line 4333: expected 8 fields, saw 9\\nSkipping line 4335: expected 8 fields, saw 9\\nSkipping line 4337: expected 8 fields, saw 9\\nSkipping line 4339: expected 8 fields, saw 9\\nSkipping line 4341: expected 8 fields, saw 9\\nSkipping line 4344: expected 8 fields, saw 9\\nSkipping line 4346: expected 8 fields, saw 9\\nSkipping line 4348: expected 8 fields, saw 9\\nSkipping line 4350: expected 8 fields, saw 9\\nSkipping line 4352: expected 8 fields, saw 9\\nSkipping line 4354: expected 8 fields, saw 9\\nSkipping line 4357: expected 8 fields, saw 9\\nSkipping line 4359: expected 8 fields, saw 9\\nSkipping line 4361: expected 8 fields, saw 9\\nSkipping line 4363: expected 8 fields, saw 9\\nSkipping line 4366: expected 8 fields, saw 9\\nSkipping line 4368: expected 8 fields, saw 9\\nSkipping line 4371: expected 8 fields, saw 9\\nSkipping line 4373: expected 8 fields, saw 9\\nSkipping line 4375: expected 8 fields, saw 9\\nSkipping line 4377: expected 8 fields, saw 9\\nSkipping line 4380: expected 8 fields, saw 9\\nSkipping line 4382: expected 8 fields, saw 9\\nSkipping line 4385: expected 8 fields, saw 9\\nSkipping line 4387: expected 8 fields, saw 9\\nSkipping line 4389: expected 8 fields, saw 9\\nSkipping line 4391: expected 8 fields, saw 9\\nSkipping line 4393: expected 8 fields, saw 9\\nSkipping line 4395: expected 8 fields, saw 9\\nSkipping line 4397: expected 8 fields, saw 9\\nSkipping line 4400: expected 8 fields, saw 9\\nSkipping line 4402: expected 8 fields, saw 9\\nSkipping line 4404: expected 8 fields, saw 9\\nSkipping line 4406: expected 8 fields, saw 9\\nSkipping line 4409: expected 8 fields, saw 9\\nSkipping line 4411: expected 8 fields, saw 9\\nSkipping line 4414: expected 8 fields, saw 9\\nSkipping line 4416: expected 8 fields, saw 9\\nSkipping line 4418: expected 8 fields, saw 9\\nSkipping line 4420: expected 8 fields, saw 9\\nSkipping line 4423: expected 8 fields, saw 9\\nSkipping line 4425: expected 8 fields, saw 9\\nSkipping line 4428: expected 8 fields, saw 9\\nSkipping line 4430: expected 8 fields, saw 9\\nSkipping line 4432: expected 8 fields, saw 9\\nSkipping line 4434: expected 8 fields, saw 9\\nSkipping line 4437: expected 8 fields, saw 9\\nSkipping line 4439: expected 8 fields, saw 9\\nSkipping line 4442: expected 8 fields, saw 9\\nSkipping line 4444: expected 8 fields, saw 9\\nSkipping line 4446: expected 8 fields, saw 9\\nSkipping line 4448: expected 8 fields, saw 9\\nSkipping line 4450: expected 8 fields, saw 9\\nSkipping line 4452: expected 8 fields, saw 9\\nSkipping line 4454: expected 8 fields, saw 9\\nSkipping line 4456: expected 8 fields, saw 9\\nSkipping line 4458: expected 8 fields, saw 9\\nSkipping line 4460: expected 8 fields, saw 9\\nSkipping line 4462: expected 8 fields, saw 9\\nSkipping line 4464: expected 8 fields, saw 9\\nSkipping line 4466: expected 8 fields, saw 9\\nSkipping line 4468: expected 8 fields, saw 9\\nSkipping line 4470: expected 8 fields, saw 9\\nSkipping line 4472: expected 8 fields, saw 9\\nSkipping line 4474: expected 8 fields, saw 9\\nSkipping line 4476: expected 8 fields, saw 9\\nSkipping line 4478: expected 8 fields, saw 9\\nSkipping line 4480: expected 8 fields, saw 9\\nSkipping line 4482: expected 8 fields, saw 9\\nSkipping line 4484: expected 8 fields, saw 9\\nSkipping line 4486: expected 8 fields, saw 9\\nSkipping line 4488: expected 8 fields, saw 9\\nSkipping line 4490: expected 8 fields, saw 9\\nSkipping line 4492: expected 8 fields, saw 9\\nSkipping line 4494: expected 8 fields, saw 9\\nSkipping line 4496: expected 8 fields, saw 9\\nSkipping line 4498: expected 8 fields, saw 9\\nSkipping line 4500: expected 8 fields, saw 9\\nSkipping line 4502: expected 8 fields, saw 9\\nSkipping line 4504: expected 8 fields, saw 9\\nSkipping line 4506: expected 8 fields, saw 9\\nSkipping line 4508: expected 8 fields, saw 9\\nSkipping line 4510: expected 8 fields, saw 9\\nSkipping line 4512: expected 8 fields, saw 9\\nSkipping line 4514: expected 8 fields, saw 9\\nSkipping line 4516: expected 8 fields, saw 9\\nSkipping line 4518: expected 8 fields, saw 9\\nSkipping line 4520: expected 8 fields, saw 9\\nSkipping line 4522: expected 8 fields, saw 9\\nSkipping line 4524: expected 8 fields, saw 9\\nSkipping line 4526: expected 8 fields, saw 9\\nSkipping line 4528: expected 8 fields, saw 9\\nSkipping line 4530: expected 8 fields, saw 9\\nSkipping line 4532: expected 8 fields, saw 9\\nSkipping line 4534: expected 8 fields, saw 9\\nSkipping line 4536: expected 8 fields, saw 9\\nSkipping line 4538: expected 8 fields, saw 9\\nSkipping line 4540: expected 8 fields, saw 9\\nSkipping line 4542: expected 8 fields, saw 9\\nSkipping line 4544: expected 8 fields, saw 9\\nSkipping line 4546: expected 8 fields, saw 9\\nSkipping line 4548: expected 8 fields, saw 9\\nSkipping line 4550: expected 8 fields, saw 9\\nSkipping line 4552: expected 8 fields, saw 9\\nSkipping line 4554: expected 8 fields, saw 9\\nSkipping line 4556: expected 8 fields, saw 9\\nSkipping line 4558: expected 8 fields, saw 9\\nSkipping line 4560: expected 8 fields, saw 9\\nSkipping line 4562: expected 8 fields, saw 9\\nSkipping line 4564: expected 8 fields, saw 9\\nSkipping line 4566: expected 8 fields, saw 9\\nSkipping line 4568: expected 8 fields, saw 9\\nSkipping line 4570: expected 8 fields, saw 9\\nSkipping line 4572: expected 8 fields, saw 9\\nSkipping line 4574: expected 8 fields, saw 9\\nSkipping line 4576: expected 8 fields, saw 9\\nSkipping line 4578: expected 8 fields, saw 9\\nSkipping line 4580: expected 8 fields, saw 9\\nSkipping line 4582: expected 8 fields, saw 9\\nSkipping line 4584: expected 8 fields, saw 9\\nSkipping line 4586: expected 8 fields, saw 9\\nSkipping line 4588: expected 8 fields, saw 9\\nSkipping line 4590: expected 8 fields, saw 9\\nSkipping line 4592: expected 8 fields, saw 9\\nSkipping line 4594: expected 8 fields, saw 9\\nSkipping line 4596: expected 8 fields, saw 9\\nSkipping line 4598: expected 8 fields, saw 9\\nSkipping line 4600: expected 8 fields, saw 9\\nSkipping line 4602: expected 8 fields, saw 9\\nSkipping line 4604: expected 8 fields, saw 9\\nSkipping line 4606: expected 8 fields, saw 9\\nSkipping line 4608: expected 8 fields, saw 9\\nSkipping line 4610: expected 8 fields, saw 9\\nSkipping line 4612: expected 8 fields, saw 9\\nSkipping line 4614: expected 8 fields, saw 9\\nSkipping line 4617: expected 8 fields, saw 9\\nSkipping line 4619: expected 8 fields, saw 9\\nSkipping line 4621: expected 8 fields, saw 9\\nSkipping line 4623: expected 8 fields, saw 9\\nSkipping line 4625: expected 8 fields, saw 9\\nSkipping line 4627: expected 8 fields, saw 9\\nSkipping line 4629: expected 8 fields, saw 9\\nSkipping line 4631: expected 8 fields, saw 9\\nSkipping line 4633: expected 8 fields, saw 9\\nSkipping line 4635: expected 8 fields, saw 9\\nSkipping line 4637: expected 8 fields, saw 9\\nSkipping line 4639: expected 8 fields, saw 9\\nSkipping line 4641: expected 8 fields, saw 9\\nSkipping line 4643: expected 8 fields, saw 9\\nSkipping line 4645: expected 8 fields, saw 9\\nSkipping line 4647: expected 8 fields, saw 9\\nSkipping line 4649: expected 8 fields, saw 9\\nSkipping line 4651: expected 8 fields, saw 9\\nSkipping line 4653: expected 8 fields, saw 9\\nSkipping line 4655: expected 8 fields, saw 9\\nSkipping line 4658: expected 8 fields, saw 9\\nSkipping line 4660: expected 8 fields, saw 9\\nSkipping line 4662: expected 8 fields, saw 9\\nSkipping line 4664: expected 8 fields, saw 9\\nSkipping line 4666: expected 8 fields, saw 9\\nSkipping line 4668: expected 8 fields, saw 9\\nSkipping line 4671: expected 8 fields, saw 9\\nSkipping line 4673: expected 8 fields, saw 9\\nSkipping line 4675: expected 8 fields, saw 9\\nSkipping line 4677: expected 8 fields, saw 9\\nSkipping line 4679: expected 8 fields, saw 9\\nSkipping line 4681: expected 8 fields, saw 9\\nSkipping line 4683: expected 8 fields, saw 9\\nSkipping line 4685: expected 8 fields, saw 9\\nSkipping line 4687: expected 8 fields, saw 9\\nSkipping line 4689: expected 8 fields, saw 9\\nSkipping line 4691: expected 8 fields, saw 9\\nSkipping line 4693: expected 8 fields, saw 9\\nSkipping line 4695: expected 8 fields, saw 9\\nSkipping line 4697: expected 8 fields, saw 9\\nSkipping line 4699: expected 8 fields, saw 9\\nSkipping line 4701: expected 8 fields, saw 9\\nSkipping line 4703: expected 8 fields, saw 9\\nSkipping line 4705: expected 8 fields, saw 9\\nSkipping line 4707: expected 8 fields, saw 9\\nSkipping line 4709: expected 8 fields, saw 9\\nSkipping line 4711: expected 8 fields, saw 9\\nSkipping line 4713: expected 8 fields, saw 9\\nSkipping line 4715: expected 8 fields, saw 9\\nSkipping line 4717: expected 8 fields, saw 9\\nSkipping line 4719: expected 8 fields, saw 9\\nSkipping line 4721: expected 8 fields, saw 9\\nSkipping line 4723: expected 8 fields, saw 9\\nSkipping line 4725: expected 8 fields, saw 9\\nSkipping line 4727: expected 8 fields, saw 9\\nSkipping line 4729: expected 8 fields, saw 9\\nSkipping line 4731: expected 8 fields, saw 9\\nSkipping line 4733: expected 8 fields, saw 9\\nSkipping line 4735: expected 8 fields, saw 9\\nSkipping line 4737: expected 8 fields, saw 9\\nSkipping line 4739: expected 8 fields, saw 9\\nSkipping line 4741: expected 8 fields, saw 9\\nSkipping line 4744: expected 8 fields, saw 9\\nSkipping line 4746: expected 8 fields, saw 9\\nSkipping line 4748: expected 8 fields, saw 9\\nSkipping line 4750: expected 8 fields, saw 9\\nSkipping line 4752: expected 8 fields, saw 9\\nSkipping line 4754: expected 8 fields, saw 9\\nSkipping line 4756: expected 8 fields, saw 9\\nSkipping line 4758: expected 8 fields, saw 9\\nSkipping line 4761: expected 8 fields, saw 9\\nSkipping line 4763: expected 8 fields, saw 9\\nSkipping line 4765: expected 8 fields, saw 9\\nSkipping line 4767: expected 8 fields, saw 9\\nSkipping line 4769: expected 8 fields, saw 9\\nSkipping line 4771: expected 8 fields, saw 9\\nSkipping line 4773: expected 8 fields, saw 9\\nSkipping line 4775: expected 8 fields, saw 9\\nSkipping line 4777: expected 8 fields, saw 9\\nSkipping line 4779: expected 8 fields, saw 9\\nSkipping line 4781: expected 8 fields, saw 9\\nSkipping line 4783: expected 8 fields, saw 9\\nSkipping line 4785: expected 8 fields, saw 9\\nSkipping line 4787: expected 8 fields, saw 9\\nSkipping line 4789: expected 8 fields, saw 9\\nSkipping line 4791: expected 8 fields, saw 9\\nSkipping line 4794: expected 8 fields, saw 9\\nSkipping line 4796: expected 8 fields, saw 9\\nSkipping line 4798: expected 8 fields, saw 9\\nSkipping line 4800: expected 8 fields, saw 9\\nSkipping line 4802: expected 8 fields, saw 9\\nSkipping line 4804: expected 8 fields, saw 9\\nSkipping line 4806: expected 8 fields, saw 9\\nSkipping line 4808: expected 8 fields, saw 9\\nSkipping line 4811: expected 8 fields, saw 9\\nSkipping line 4813: expected 8 fields, saw 9\\nSkipping line 4815: expected 8 fields, saw 9\\nSkipping line 4817: expected 8 fields, saw 9\\nSkipping line 4819: expected 8 fields, saw 9\\nSkipping line 4821: expected 8 fields, saw 9\\nSkipping line 4823: expected 8 fields, saw 9\\nSkipping line 4825: expected 8 fields, saw 9\\nSkipping line 4827: expected 8 fields, saw 9\\nSkipping line 4829: expected 8 fields, saw 9\\nSkipping line 4832: expected 8 fields, saw 9\\nSkipping line 4834: expected 8 fields, saw 9\\nSkipping line 4836: expected 8 fields, saw 9\\nSkipping line 4838: expected 8 fields, saw 9\\nSkipping line 4840: expected 8 fields, saw 9\\nSkipping line 4842: expected 8 fields, saw 9\\nSkipping line 4844: expected 8 fields, saw 9\\nSkipping line 4846: expected 8 fields, saw 9\\nSkipping line 4848: expected 8 fields, saw 9\\nSkipping line 4850: expected 8 fields, saw 9\\nSkipping line 4852: expected 8 fields, saw 9\\nSkipping line 4854: expected 8 fields, saw 9\\nSkipping line 4857: expected 8 fields, saw 9\\nSkipping line 4859: expected 8 fields, saw 9\\nSkipping line 4861: expected 8 fields, saw 9\\nSkipping line 4863: expected 8 fields, saw 9\\nSkipping line 4865: expected 8 fields, saw 9\\nSkipping line 4867: expected 8 fields, saw 9\\nSkipping line 4869: expected 8 fields, saw 9\\nSkipping line 4871: expected 8 fields, saw 9\\nSkipping line 4873: expected 8 fields, saw 9\\nSkipping line 4875: expected 8 fields, saw 9\\nSkipping line 4877: expected 8 fields, saw 9\\nSkipping line 4879: expected 8 fields, saw 9\\nSkipping line 4881: expected 8 fields, saw 9\\nSkipping line 4883: expected 8 fields, saw 9\\nSkipping line 4885: expected 8 fields, saw 9\\nSkipping line 4887: expected 8 fields, saw 9\\nSkipping line 4889: expected 8 fields, saw 9\\nSkipping line 4891: expected 8 fields, saw 9\\nSkipping line 4893: expected 8 fields, saw 9\\nSkipping line 4895: expected 8 fields, saw 9\\nSkipping line 4897: expected 8 fields, saw 9\\nSkipping line 4899: expected 8 fields, saw 9\\nSkipping line 4902: expected 8 fields, saw 9\\nSkipping line 4904: expected 8 fields, saw 9\\nSkipping line 4906: expected 8 fields, saw 9\\nSkipping line 4908: expected 8 fields, saw 9\\nSkipping line 4911: expected 8 fields, saw 9\\nSkipping line 4913: expected 8 fields, saw 9\\nSkipping line 4915: expected 8 fields, saw 9\\nSkipping line 4917: expected 8 fields, saw 9\\nSkipping line 4919: expected 8 fields, saw 9\\nSkipping line 4921: expected 8 fields, saw 9\\nSkipping line 4923: expected 8 fields, saw 9\\nSkipping line 4925: expected 8 fields, saw 9\\nSkipping line 4928: expected 8 fields, saw 9\\nSkipping line 4930: expected 8 fields, saw 9\\nSkipping line 4932: expected 8 fields, saw 9\\nSkipping line 4934: expected 8 fields, saw 9\\nSkipping line 4936: expected 8 fields, saw 9\\nSkipping line 4938: expected 8 fields, saw 9\\nSkipping line 4940: expected 8 fields, saw 9\\nSkipping line 4942: expected 8 fields, saw 9\\nSkipping line 4944: expected 8 fields, saw 9\\nSkipping line 4946: expected 8 fields, saw 9\\nSkipping line 4948: expected 8 fields, saw 9\\nSkipping line 4950: expected 8 fields, saw 9\\nSkipping line 4952: expected 8 fields, saw 9\\nSkipping line 4954: expected 8 fields, saw 9\\nSkipping line 4957: expected 8 fields, saw 9\\nSkipping line 4959: expected 8 fields, saw 9\\nSkipping line 4961: expected 8 fields, saw 9\\nSkipping line 4963: expected 8 fields, saw 9\\nSkipping line 4965: expected 8 fields, saw 9\\nSkipping line 4967: expected 8 fields, saw 9\\nSkipping line 4969: expected 8 fields, saw 9\\nSkipping line 4971: expected 8 fields, saw 9\\nSkipping line 4973: expected 8 fields, saw 9\\nSkipping line 4975: expected 8 fields, saw 9\\nSkipping line 4977: expected 8 fields, saw 9\\nSkipping line 4979: expected 8 fields, saw 9\\nSkipping line 4981: expected 8 fields, saw 9\\nSkipping line 4983: expected 8 fields, saw 9\\nSkipping line 4985: expected 8 fields, saw 9\\nSkipping line 4987: expected 8 fields, saw 9\\nSkipping line 4989: expected 8 fields, saw 9\\nSkipping line 4991: expected 8 fields, saw 9\\nSkipping line 4993: expected 8 fields, saw 9\\nSkipping line 4995: expected 8 fields, saw 9\\nSkipping line 4998: expected 8 fields, saw 9\\nSkipping line 5000: expected 8 fields, saw 9\\nSkipping line 5002: expected 8 fields, saw 9\\nSkipping line 5004: expected 8 fields, saw 9\\nSkipping line 5006: expected 8 fields, saw 9\\nSkipping line 5008: expected 8 fields, saw 9\\nSkipping line 5010: expected 8 fields, saw 9\\nSkipping line 5012: expected 8 fields, saw 9\\nSkipping line 5014: expected 8 fields, saw 9\\nSkipping line 5016: expected 8 fields, saw 9\\nSkipping line 5018: expected 8 fields, saw 9\\nSkipping line 5020: expected 8 fields, saw 9\\nSkipping line 5022: expected 8 fields, saw 9\\nSkipping line 5024: expected 8 fields, saw 9\\nSkipping line 5026: expected 8 fields, saw 9\\nSkipping line 5028: expected 8 fields, saw 9\\nSkipping line 5031: expected 8 fields, saw 9\\nSkipping line 5033: expected 8 fields, saw 9\\nSkipping line 5035: expected 8 fields, saw 9\\nSkipping line 5037: expected 8 fields, saw 9\\nSkipping line 5039: expected 8 fields, saw 9\\nSkipping line 5041: expected 8 fields, saw 9\\nSkipping line 5043: expected 8 fields, saw 9\\nSkipping line 5045: expected 8 fields, saw 9\\nSkipping line 5047: expected 8 fields, saw 9\\nSkipping line 5049: expected 8 fields, saw 9\\nSkipping line 5051: expected 8 fields, saw 9\\nSkipping line 5053: expected 8 fields, saw 9\\nSkipping line 5055: expected 8 fields, saw 9\\nSkipping line 5057: expected 8 fields, saw 9\\nSkipping line 5060: expected 8 fields, saw 9\\nSkipping line 5062: expected 8 fields, saw 9\\nSkipping line 5064: expected 8 fields, saw 9\\nSkipping line 5066: expected 8 fields, saw 9\\nSkipping line 5069: expected 8 fields, saw 9\\nSkipping line 5071: expected 8 fields, saw 9\\nSkipping line 5073: expected 8 fields, saw 9\\nSkipping line 5075: expected 8 fields, saw 9\\nSkipping line 5077: expected 8 fields, saw 9\\nSkipping line 5079: expected 8 fields, saw 9\\nSkipping line 5081: expected 8 fields, saw 9\\nSkipping line 5083: expected 8 fields, saw 9\\nSkipping line 5085: expected 8 fields, saw 9\\nSkipping line 5087: expected 8 fields, saw 9\\nSkipping line 5089: expected 8 fields, saw 9\\nSkipping line 5091: expected 8 fields, saw 9\\nSkipping line 5094: expected 8 fields, saw 9\\nSkipping line 5096: expected 8 fields, saw 9\\nSkipping line 5098: expected 8 fields, saw 9\\nSkipping line 5100: expected 8 fields, saw 9\\nSkipping line 5102: expected 8 fields, saw 9\\nSkipping line 5104: expected 8 fields, saw 9\\nSkipping line 5106: expected 8 fields, saw 9\\nSkipping line 5108: expected 8 fields, saw 9\\nSkipping line 5111: expected 8 fields, saw 9\\nSkipping line 5113: expected 8 fields, saw 9\\nSkipping line 5115: expected 8 fields, saw 9\\nSkipping line 5117: expected 8 fields, saw 9\\nSkipping line 5119: expected 8 fields, saw 9\\nSkipping line 5121: expected 8 fields, saw 9\\nSkipping line 5123: expected 8 fields, saw 9\\nSkipping line 5125: expected 8 fields, saw 9\\nSkipping line 5127: expected 8 fields, saw 9\\nSkipping line 5129: expected 8 fields, saw 9\\nSkipping line 5132: expected 8 fields, saw 9\\nSkipping line 5134: expected 8 fields, saw 9\\nSkipping line 5137: expected 8 fields, saw 9\\nSkipping line 5139: expected 8 fields, saw 9\\nSkipping line 5141: expected 8 fields, saw 9\\nSkipping line 5143: expected 8 fields, saw 9\\nSkipping line 5145: expected 8 fields, saw 9\\nSkipping line 5147: expected 8 fields, saw 9\\nSkipping line 5150: expected 8 fields, saw 9\\nSkipping line 5152: expected 8 fields, saw 9\\nSkipping line 5156: expected 8 fields, saw 9\\nSkipping line 5158: expected 8 fields, saw 9\\nSkipping line 5160: expected 8 fields, saw 9\\nSkipping line 5162: expected 8 fields, saw 9\\nSkipping line 5164: expected 8 fields, saw 9\\nSkipping line 5166: expected 8 fields, saw 9\\nSkipping line 5168: expected 8 fields, saw 9\\nSkipping line 5170: expected 8 fields, saw 9\\nSkipping line 5172: expected 8 fields, saw 9\\nSkipping line 5174: expected 8 fields, saw 9\\nSkipping line 5176: expected 8 fields, saw 9\\nSkipping line 5178: expected 8 fields, saw 9\\nSkipping line 5180: expected 8 fields, saw 9\\nSkipping line 5182: expected 8 fields, saw 9\\nSkipping line 5184: expected 8 fields, saw 9\\nSkipping line 5186: expected 8 fields, saw 9\\nSkipping line 5188: expected 8 fields, saw 9\\nSkipping line 5190: expected 8 fields, saw 9\\nSkipping line 5192: expected 8 fields, saw 9\\nSkipping line 5194: expected 8 fields, saw 9\\nSkipping line 5196: expected 8 fields, saw 9\\nSkipping line 5198: expected 8 fields, saw 9\\nSkipping line 5200: expected 8 fields, saw 9\\nSkipping line 5202: expected 8 fields, saw 9\\nSkipping line 5204: expected 8 fields, saw 9\\nSkipping line 5206: expected 8 fields, saw 9\\nSkipping line 5208: expected 8 fields, saw 9\\nSkipping line 5211: expected 8 fields, saw 9\\nSkipping line 5213: expected 8 fields, saw 9\\nSkipping line 5215: expected 8 fields, saw 9\\nSkipping line 5217: expected 8 fields, saw 9\\nSkipping line 5219: expected 8 fields, saw 9\\nSkipping line 5221: expected 8 fields, saw 9\\nSkipping line 5224: expected 8 fields, saw 9\\nSkipping line 5226: expected 8 fields, saw 9\\nSkipping line 5228: expected 8 fields, saw 9\\nSkipping line 5230: expected 8 fields, saw 9\\nSkipping line 5232: expected 8 fields, saw 9\\nSkipping line 5234: expected 8 fields, saw 9\\nSkipping line 5237: expected 8 fields, saw 9\\nSkipping line 5239: expected 8 fields, saw 9\\nSkipping line 5241: expected 8 fields, saw 9\\nSkipping line 5243: expected 8 fields, saw 9\\nSkipping line 5246: expected 8 fields, saw 9\\nSkipping line 5248: expected 8 fields, saw 9\\nSkipping line 5251: expected 8 fields, saw 9\\nSkipping line 5253: expected 8 fields, saw 9\\nSkipping line 5255: expected 8 fields, saw 9\\nSkipping line 5257: expected 8 fields, saw 9\\nSkipping line 5259: expected 8 fields, saw 9\\nSkipping line 5261: expected 8 fields, saw 9\\nSkipping line 5263: expected 8 fields, saw 9\\nSkipping line 5265: expected 8 fields, saw 9\\nSkipping line 5267: expected 8 fields, saw 9\\nSkipping line 5270: expected 8 fields, saw 9\\nSkipping line 5272: expected 8 fields, saw 9\\nSkipping line 5275: expected 8 fields, saw 9\\nSkipping line 5277: expected 8 fields, saw 9\\nSkipping line 5280: expected 8 fields, saw 9\\nSkipping line 5282: expected 8 fields, saw 9\\nSkipping line 5285: expected 8 fields, saw 9\\nSkipping line 5287: expected 8 fields, saw 9\\nSkipping line 5289: expected 8 fields, saw 9\\nSkipping line 5291: expected 8 fields, saw 9\\nSkipping line 5293: expected 8 fields, saw 9\\nSkipping line 5295: expected 8 fields, saw 9\\nSkipping line 5297: expected 8 fields, saw 9\\nSkipping line 5299: expected 8 fields, saw 9\\nSkipping line 5301: expected 8 fields, saw 9\\nSkipping line 5303: expected 8 fields, saw 9\\nSkipping line 5305: expected 8 fields, saw 9\\nSkipping line 5307: expected 8 fields, saw 9\\nSkipping line 5309: expected 8 fields, saw 9\\nSkipping line 5311: expected 8 fields, saw 9\\nSkipping line 5313: expected 8 fields, saw 9\\nSkipping line 5315: expected 8 fields, saw 9\\nSkipping line 5317: expected 8 fields, saw 9\\nSkipping line 5319: expected 8 fields, saw 9\\nSkipping line 5321: expected 8 fields, saw 9\\nSkipping line 5323: expected 8 fields, saw 9\\nSkipping line 5325: expected 8 fields, saw 9\\nSkipping line 5327: expected 8 fields, saw 9\\nSkipping line 5329: expected 8 fields, saw 9\\nSkipping line 5331: expected 8 fields, saw 9\\nSkipping line 5333: expected 8 fields, saw 9\\nSkipping line 5335: expected 8 fields, saw 9\\nSkipping line 5337: expected 8 fields, saw 9\\nSkipping line 5339: expected 8 fields, saw 9\\nSkipping line 5341: expected 8 fields, saw 9\\nSkipping line 5343: expected 8 fields, saw 9\\nSkipping line 5345: expected 8 fields, saw 9\\nSkipping line 5347: expected 8 fields, saw 9\\nSkipping line 5349: expected 8 fields, saw 9\\nSkipping line 5351: expected 8 fields, saw 9\\nSkipping line 5353: expected 8 fields, saw 9\\nSkipping line 5355: expected 8 fields, saw 9\\nSkipping line 5357: expected 8 fields, saw 9\\nSkipping line 5359: expected 8 fields, saw 9\\nSkipping line 5361: expected 8 fields, saw 9\\nSkipping line 5363: expected 8 fields, saw 9\\nSkipping line 5366: expected 8 fields, saw 9\\nSkipping line 5368: expected 8 fields, saw 9\\nSkipping line 5370: expected 8 fields, saw 9\\nSkipping line 5372: expected 8 fields, saw 9\\nSkipping line 5374: expected 8 fields, saw 9\\nSkipping line 5376: expected 8 fields, saw 9\\nSkipping line 5379: expected 8 fields, saw 9\\nSkipping line 5381: expected 8 fields, saw 9\\nSkipping line 5384: expected 8 fields, saw 9\\nSkipping line 5386: expected 8 fields, saw 9\\nSkipping line 5388: expected 8 fields, saw 9\\nSkipping line 5390: expected 8 fields, saw 9\\nSkipping line 5392: expected 8 fields, saw 9\\nSkipping line 5394: expected 8 fields, saw 9\\nSkipping line 5396: expected 8 fields, saw 9\\nSkipping line 5398: expected 8 fields, saw 9\\nSkipping line 5400: expected 8 fields, saw 9\\nSkipping line 5402: expected 8 fields, saw 9\\nSkipping line 5404: expected 8 fields, saw 9\\nSkipping line 5406: expected 8 fields, saw 9\\nSkipping line 5408: expected 8 fields, saw 9\\nSkipping line 5410: expected 8 fields, saw 9\\nSkipping line 5413: expected 8 fields, saw 9\\nSkipping line 5415: expected 8 fields, saw 9\\nSkipping line 5417: expected 8 fields, saw 9\\nSkipping line 5419: expected 8 fields, saw 9\\nSkipping line 5422: expected 8 fields, saw 9\\nSkipping line 5424: expected 8 fields, saw 9\\nSkipping line 5426: expected 8 fields, saw 9\\nSkipping line 5428: expected 8 fields, saw 9\\nSkipping line 5430: expected 8 fields, saw 9\\nSkipping line 5432: expected 8 fields, saw 9\\nSkipping line 5434: expected 8 fields, saw 9\\nSkipping line 5436: expected 8 fields, saw 9\\nSkipping line 5438: expected 8 fields, saw 9\\nSkipping line 5440: expected 8 fields, saw 9\\nSkipping line 5443: expected 8 fields, saw 9\\nSkipping line 5445: expected 8 fields, saw 9\\nSkipping line 5448: expected 8 fields, saw 9\\nSkipping line 5450: expected 8 fields, saw 9\\nSkipping line 5452: expected 8 fields, saw 9\\nSkipping line 5454: expected 8 fields, saw 9\\nSkipping line 5456: expected 8 fields, saw 9\\nSkipping line 5458: expected 8 fields, saw 9\\nSkipping line 5460: expected 8 fields, saw 9\\nSkipping line 5462: expected 8 fields, saw 9\\nSkipping line 5465: expected 8 fields, saw 9\\nSkipping line 5467: expected 8 fields, saw 9\\nSkipping line 5469: expected 8 fields, saw 9\\nSkipping line 5471: expected 8 fields, saw 9\\nSkipping line 5473: expected 8 fields, saw 9\\nSkipping line 5475: expected 8 fields, saw 9\\nSkipping line 5477: expected 8 fields, saw 9\\nSkipping line 5479: expected 8 fields, saw 9\\nSkipping line 5481: expected 8 fields, saw 9\\nSkipping line 5483: expected 8 fields, saw 9\\nSkipping line 5485: expected 8 fields, saw 9\\nSkipping line 5488: expected 8 fields, saw 9\\nSkipping line 5490: expected 8 fields, saw 9\\nSkipping line 5493: expected 8 fields, saw 9\\nSkipping line 5495: expected 8 fields, saw 9\\nSkipping line 5497: expected 8 fields, saw 9\\nSkipping line 5499: expected 8 fields, saw 9\\nSkipping line 5502: expected 8 fields, saw 9\\nSkipping line 5504: expected 8 fields, saw 9\\nSkipping line 5506: expected 8 fields, saw 9\\nSkipping line 5508: expected 8 fields, saw 9\\nSkipping line 5510: expected 8 fields, saw 9\\nSkipping line 5513: expected 8 fields, saw 9\\nSkipping line 5515: expected 8 fields, saw 9\\nSkipping line 5517: expected 8 fields, saw 9\\nSkipping line 5519: expected 8 fields, saw 9\\nSkipping line 5522: expected 8 fields, saw 9\\nSkipping line 5524: expected 8 fields, saw 9\\nSkipping line 5527: expected 8 fields, saw 9\\nSkipping line 5529: expected 8 fields, saw 9\\nSkipping line 5531: expected 8 fields, saw 9\\nSkipping line 5533: expected 8 fields, saw 9\\nSkipping line 5535: expected 8 fields, saw 9\\nSkipping line 5537: expected 8 fields, saw 9\\nSkipping line 5539: expected 8 fields, saw 9\\nSkipping line 5541: expected 8 fields, saw 9\\nSkipping line 5543: expected 8 fields, saw 9\\nSkipping line 5545: expected 8 fields, saw 9\\nSkipping line 5547: expected 8 fields, saw 9\\nSkipping line 5549: expected 8 fields, saw 9\\nSkipping line 5551: expected 8 fields, saw 9\\nSkipping line 5553: expected 8 fields, saw 9\\nSkipping line 5555: expected 8 fields, saw 9\\nSkipping line 5557: expected 8 fields, saw 9\\nSkipping line 5559: expected 8 fields, saw 9\\nSkipping line 5561: expected 8 fields, saw 9\\nSkipping line 5563: expected 8 fields, saw 9\\nSkipping line 5565: expected 8 fields, saw 9\\nSkipping line 5568: expected 8 fields, saw 9\\nSkipping line 5570: expected 8 fields, saw 9\\nSkipping line 5572: expected 8 fields, saw 9\\nSkipping line 5574: expected 8 fields, saw 9\\nSkipping line 5576: expected 8 fields, saw 9\\nSkipping line 5578: expected 8 fields, saw 9\\nSkipping line 5580: expected 8 fields, saw 9\\nSkipping line 5582: expected 8 fields, saw 9\\nSkipping line 5585: expected 8 fields, saw 9\\nSkipping line 5587: expected 8 fields, saw 9\\nSkipping line 5589: expected 8 fields, saw 9\\nSkipping line 5591: expected 8 fields, saw 9\\nSkipping line 5593: expected 8 fields, saw 9\\nSkipping line 5595: expected 8 fields, saw 9\\nSkipping line 5597: expected 8 fields, saw 9\\nSkipping line 5599: expected 8 fields, saw 9\\nSkipping line 5602: expected 8 fields, saw 9\\nSkipping line 5604: expected 8 fields, saw 9\\nSkipping line 5606: expected 8 fields, saw 9\\nSkipping line 5608: expected 8 fields, saw 9\\nSkipping line 5610: expected 8 fields, saw 9\\nSkipping line 5612: expected 8 fields, saw 9\\nSkipping line 5614: expected 8 fields, saw 9\\nSkipping line 5616: expected 8 fields, saw 9\\nSkipping line 5618: expected 8 fields, saw 9\\nSkipping line 5620: expected 8 fields, saw 9\\nSkipping line 5622: expected 8 fields, saw 9\\nSkipping line 5624: expected 8 fields, saw 9\\nSkipping line 5626: expected 8 fields, saw 9\\nSkipping line 5628: expected 8 fields, saw 9\\nSkipping line 5631: expected 8 fields, saw 9\\nSkipping line 5633: expected 8 fields, saw 9\\nSkipping line 5635: expected 8 fields, saw 9\\nSkipping line 5637: expected 8 fields, saw 9\\nSkipping line 5639: expected 8 fields, saw 9\\nSkipping line 5641: expected 8 fields, saw 9\\nSkipping line 5643: expected 8 fields, saw 9\\nSkipping line 5645: expected 8 fields, saw 9\\nSkipping line 5647: expected 8 fields, saw 9\\nSkipping line 5649: expected 8 fields, saw 9\\nSkipping line 5651: expected 8 fields, saw 9\\nSkipping line 5653: expected 8 fields, saw 9\\nSkipping line 5655: expected 8 fields, saw 9\\nSkipping line 5657: expected 8 fields, saw 9\\nSkipping line 5659: expected 8 fields, saw 9\\nSkipping line 5661: expected 8 fields, saw 9\\nSkipping line 5663: expected 8 fields, saw 9\\nSkipping line 5665: expected 8 fields, saw 9\\nSkipping line 5667: expected 8 fields, saw 9\\nSkipping line 5669: expected 8 fields, saw 9\\nSkipping line 5671: expected 8 fields, saw 9\\nSkipping line 5673: expected 8 fields, saw 9\\nSkipping line 5675: expected 8 fields, saw 9\\nSkipping line 5677: expected 8 fields, saw 9\\nSkipping line 5679: expected 8 fields, saw 9\\nSkipping line 5681: expected 8 fields, saw 9\\nSkipping line 5683: expected 8 fields, saw 9\\nSkipping line 5685: expected 8 fields, saw 9\\nSkipping line 5687: expected 8 fields, saw 9\\nSkipping line 5689: expected 8 fields, saw 9\\nSkipping line 5691: expected 8 fields, saw 9\\nSkipping line 5693: expected 8 fields, saw 9\\nSkipping line 5695: expected 8 fields, saw 9\\nSkipping line 5697: expected 8 fields, saw 9\\nSkipping line 5699: expected 8 fields, saw 9\\nSkipping line 5701: expected 8 fields, saw 9\\nSkipping line 5703: expected 8 fields, saw 9\\nSkipping line 5705: expected 8 fields, saw 9\\nSkipping line 5707: expected 8 fields, saw 9\\nSkipping line 5709: expected 8 fields, saw 9\\nSkipping line 5711: expected 8 fields, saw 9\\nSkipping line 5713: expected 8 fields, saw 9\\nSkipping line 5715: expected 8 fields, saw 9\\nSkipping line 5717: expected 8 fields, saw 9\\nSkipping line 5719: expected 8 fields, saw 9\\nSkipping line 5721: expected 8 fields, saw 9\\nSkipping line 5723: expected 8 fields, saw 9\\nSkipping line 5725: expected 8 fields, saw 9\\nSkipping line 5727: expected 8 fields, saw 9\\nSkipping line 5729: expected 8 fields, saw 9\\nSkipping line 5731: expected 8 fields, saw 9\\nSkipping line 5733: expected 8 fields, saw 9\\nSkipping line 5735: expected 8 fields, saw 9\\nSkipping line 5737: expected 8 fields, saw 9\\nSkipping line 5739: expected 8 fields, saw 9\\nSkipping line 5741: expected 8 fields, saw 9\\nSkipping line 5744: expected 8 fields, saw 9\\nSkipping line 5746: expected 8 fields, saw 9\\nSkipping line 5748: expected 8 fields, saw 9\\nSkipping line 5750: expected 8 fields, saw 9\\nSkipping line 5752: expected 8 fields, saw 9\\nSkipping line 5754: expected 8 fields, saw 9\\nSkipping line 5757: expected 8 fields, saw 9\\nSkipping line 5759: expected 8 fields, saw 9\\nSkipping line 5761: expected 8 fields, saw 9\\nSkipping line 5763: expected 8 fields, saw 9\\nSkipping line 5765: expected 8 fields, saw 9\\nSkipping line 5767: expected 8 fields, saw 9\\nSkipping line 5769: expected 8 fields, saw 9\\nSkipping line 5771: expected 8 fields, saw 9\\nSkipping line 5773: expected 8 fields, saw 9\\nSkipping line 5775: expected 8 fields, saw 9\\nSkipping line 5777: expected 8 fields, saw 9\\nSkipping line 5779: expected 8 fields, saw 9\\nSkipping line 5781: expected 8 fields, saw 9\\nSkipping line 5783: expected 8 fields, saw 9\\nSkipping line 5785: expected 8 fields, saw 9\\nSkipping line 5787: expected 8 fields, saw 9\\nSkipping line 5789: expected 8 fields, saw 9\\nSkipping line 5791: expected 8 fields, saw 9\\nSkipping line 5793: expected 8 fields, saw 9\\nSkipping line 5795: expected 8 fields, saw 9\\nSkipping line 5798: expected 8 fields, saw 9\\nSkipping line 5800: expected 8 fields, saw 9\\nSkipping line 5802: expected 8 fields, saw 9\\nSkipping line 5804: expected 8 fields, saw 9\\nSkipping line 5806: expected 8 fields, saw 9\\nSkipping line 5808: expected 8 fields, saw 9\\nSkipping line 5810: expected 8 fields, saw 9\\nSkipping line 5812: expected 8 fields, saw 9\\nSkipping line 5814: expected 8 fields, saw 9\\nSkipping line 5816: expected 8 fields, saw 9\\nSkipping line 5818: expected 8 fields, saw 9\\nSkipping line 5820: expected 8 fields, saw 9\\nSkipping line 5822: expected 8 fields, saw 9\\nSkipping line 5824: expected 8 fields, saw 9\\nSkipping line 5826: expected 8 fields, saw 9\\nSkipping line 5828: expected 8 fields, saw 9\\nSkipping line 5830: expected 8 fields, saw 9\\nSkipping line 5832: expected 8 fields, saw 9\\nSkipping line 5834: expected 8 fields, saw 9\\nSkipping line 5836: expected 8 fields, saw 9\\nSkipping line 5838: expected 8 fields, saw 9\\nSkipping line 5840: expected 8 fields, saw 9\\nSkipping line 5843: expected 8 fields, saw 9\\nSkipping line 5845: expected 8 fields, saw 9\\nSkipping line 5847: expected 8 fields, saw 9\\nSkipping line 5849: expected 8 fields, saw 9\\nSkipping line 5851: expected 8 fields, saw 9\\nSkipping line 5853: expected 8 fields, saw 9\\nSkipping line 5855: expected 8 fields, saw 9\\nSkipping line 5857: expected 8 fields, saw 9\\nSkipping line 5859: expected 8 fields, saw 9\\nSkipping line 5861: expected 8 fields, saw 9\\nSkipping line 5863: expected 8 fields, saw 9\\nSkipping line 5865: expected 8 fields, saw 9\\nSkipping line 5867: expected 8 fields, saw 9\\nSkipping line 5869: expected 8 fields, saw 9\\nSkipping line 5871: expected 8 fields, saw 9\\nSkipping line 5873: expected 8 fields, saw 9\\nSkipping line 5875: expected 8 fields, saw 9\\nSkipping line 5877: expected 8 fields, saw 9\\nSkipping line 5879: expected 8 fields, saw 9\\nSkipping line 5881: expected 8 fields, saw 9\\nSkipping line 5884: expected 8 fields, saw 9\\nSkipping line 5886: expected 8 fields, saw 9\\nSkipping line 5888: expected 8 fields, saw 9\\nSkipping line 5890: expected 8 fields, saw 9\\nSkipping line 5892: expected 8 fields, saw 9\\nSkipping line 5894: expected 8 fields, saw 9\\nSkipping line 5896: expected 8 fields, saw 9\\nSkipping line 5898: expected 8 fields, saw 9\\nSkipping line 5900: expected 8 fields, saw 9\\nSkipping line 5903: expected 8 fields, saw 9\\nSkipping line 5905: expected 8 fields, saw 9\\nSkipping line 5907: expected 8 fields, saw 9\\nSkipping line 5910: expected 8 fields, saw 9\\nSkipping line 5912: expected 8 fields, saw 9\\nSkipping line 5914: expected 8 fields, saw 9\\nSkipping line 5916: expected 8 fields, saw 9\\nSkipping line 5919: expected 8 fields, saw 9\\nSkipping line 5921: expected 8 fields, saw 9\\nSkipping line 5924: expected 8 fields, saw 9\\nSkipping line 5926: expected 8 fields, saw 9\\nSkipping line 5929: expected 8 fields, saw 9\\nSkipping line 5931: expected 8 fields, saw 9\\nSkipping line 5934: expected 8 fields, saw 9\\nSkipping line 5936: expected 8 fields, saw 9\\nSkipping line 5939: expected 8 fields, saw 9\\nSkipping line 5941: expected 8 fields, saw 9\\nSkipping line 5943: expected 8 fields, saw 9\\nSkipping line 5945: expected 8 fields, saw 9\\nSkipping line 5948: expected 8 fields, saw 9\\nSkipping line 5950: expected 8 fields, saw 9\\nSkipping line 5953: expected 8 fields, saw 9\\nSkipping line 5955: expected 8 fields, saw 9\\nSkipping line 5957: expected 8 fields, saw 9\\nSkipping line 5959: expected 8 fields, saw 9\\nSkipping line 5961: expected 8 fields, saw 9\\nSkipping line 5963: expected 8 fields, saw 9\\nSkipping line 5965: expected 8 fields, saw 9\\nSkipping line 5967: expected 8 fields, saw 9\\nSkipping line 5969: expected 8 fields, saw 9\\nSkipping line 5971: expected 8 fields, saw 9\\nSkipping line 5974: expected 8 fields, saw 9\\nSkipping line 5976: expected 8 fields, saw 9\\nSkipping line 5978: expected 8 fields, saw 9\\nSkipping line 5980: expected 8 fields, saw 9\\nSkipping line 5982: expected 8 fields, saw 9\\nSkipping line 5984: expected 8 fields, saw 9\\nSkipping line 5986: expected 8 fields, saw 9\\nSkipping line 5988: expected 8 fields, saw 9\\nSkipping line 5990: expected 8 fields, saw 9\\nSkipping line 5992: expected 8 fields, saw 9\\nSkipping line 5994: expected 8 fields, saw 9\\nSkipping line 5996: expected 8 fields, saw 9\\nSkipping line 5998: expected 8 fields, saw 9\\nSkipping line 6000: expected 8 fields, saw 9\\nSkipping line 6002: expected 8 fields, saw 9\\nSkipping line 6004: expected 8 fields, saw 9\\nSkipping line 6006: expected 8 fields, saw 9\\nSkipping line 6008: expected 8 fields, saw 9\\nSkipping line 6010: expected 8 fields, saw 9\\nSkipping line 6012: expected 8 fields, saw 9\\nSkipping line 6014: expected 8 fields, saw 9\\nSkipping line 6016: expected 8 fields, saw 9\\nSkipping line 6019: expected 8 fields, saw 9\\nSkipping line 6021: expected 8 fields, saw 9\\nSkipping line 6023: expected 8 fields, saw 9\\nSkipping line 6025: expected 8 fields, saw 9\\nSkipping line 6027: expected 8 fields, saw 9\\nSkipping line 6029: expected 8 fields, saw 9\\nSkipping line 6031: expected 8 fields, saw 9\\nSkipping line 6033: expected 8 fields, saw 9\\nSkipping line 6035: expected 8 fields, saw 9\\nSkipping line 6037: expected 8 fields, saw 9\\nSkipping line 6039: expected 8 fields, saw 9\\nSkipping line 6041: expected 8 fields, saw 9\\nSkipping line 6043: expected 8 fields, saw 9\\nSkipping line 6045: expected 8 fields, saw 9\\nSkipping line 6047: expected 8 fields, saw 9\\nSkipping line 6049: expected 8 fields, saw 9\\nSkipping line 6052: expected 8 fields, saw 9\\nSkipping line 6054: expected 8 fields, saw 9\\nSkipping line 6056: expected 8 fields, saw 9\\nSkipping line 6058: expected 8 fields, saw 9\\nSkipping line 6060: expected 8 fields, saw 9\\nSkipping line 6062: expected 8 fields, saw 9\\nSkipping line 6064: expected 8 fields, saw 9\\nSkipping line 6066: expected 8 fields, saw 9\\nSkipping line 6068: expected 8 fields, saw 9\\nSkipping line 6070: expected 8 fields, saw 9\\nSkipping line 6072: expected 8 fields, saw 9\\nSkipping line 6074: expected 8 fields, saw 9\\nSkipping line 6076: expected 8 fields, saw 9\\nSkipping line 6078: expected 8 fields, saw 9\\nSkipping line 6080: expected 8 fields, saw 9\\nSkipping line 6082: expected 8 fields, saw 9\\nSkipping line 6084: expected 8 fields, saw 9\\nSkipping line 6086: expected 8 fields, saw 9\\nSkipping line 6089: expected 8 fields, saw 9\\nSkipping line 6091: expected 8 fields, saw 9\\nSkipping line 6093: expected 8 fields, saw 9\\nSkipping line 6095: expected 8 fields, saw 9\\nSkipping line 6097: expected 8 fields, saw 9\\nSkipping line 6099: expected 8 fields, saw 9\\nSkipping line 6102: expected 8 fields, saw 9\\nSkipping line 6104: expected 8 fields, saw 9\\nSkipping line 6106: expected 8 fields, saw 9\\nSkipping line 6108: expected 8 fields, saw 9\\nSkipping line 6110: expected 8 fields, saw 9\\nSkipping line 6113: expected 8 fields, saw 9\\nSkipping line 6115: expected 8 fields, saw 9\\nSkipping line 6117: expected 8 fields, saw 9\\nSkipping line 6119: expected 8 fields, saw 9\\nSkipping line 6121: expected 8 fields, saw 9\\nSkipping line 6123: expected 8 fields, saw 9\\nSkipping line 6125: expected 8 fields, saw 9\\nSkipping line 6127: expected 8 fields, saw 9\\nSkipping line 6129: expected 8 fields, saw 9\\nSkipping line 6131: expected 8 fields, saw 9\\nSkipping line 6133: expected 8 fields, saw 9\\nSkipping line 6135: expected 8 fields, saw 9\\nSkipping line 6138: expected 8 fields, saw 9\\nSkipping line 6140: expected 8 fields, saw 9\\nSkipping line 6142: expected 8 fields, saw 9\\nSkipping line 6144: expected 8 fields, saw 9\\nSkipping line 6146: expected 8 fields, saw 9\\nSkipping line 6148: expected 8 fields, saw 9\\nSkipping line 6150: expected 8 fields, saw 9\\nSkipping line 6152: expected 8 fields, saw 9\\nSkipping line 6154: expected 8 fields, saw 9\\nSkipping line 6156: expected 8 fields, saw 9\\nSkipping line 6158: expected 8 fields, saw 9\\nSkipping line 6160: expected 8 fields, saw 9\\nSkipping line 6162: expected 8 fields, saw 9\\nSkipping line 6164: expected 8 fields, saw 9\\nSkipping line 6166: expected 8 fields, saw 9\\nSkipping line 6168: expected 8 fields, saw 9\\nSkipping line 6170: expected 8 fields, saw 9\\nSkipping line 6172: expected 8 fields, saw 9\\nSkipping line 6174: expected 8 fields, saw 9\\nSkipping line 6176: expected 8 fields, saw 9\\nSkipping line 6178: expected 8 fields, saw 9\\nSkipping line 6180: expected 8 fields, saw 9\\nSkipping line 6182: expected 8 fields, saw 9\\nSkipping line 6184: expected 8 fields, saw 9\\nSkipping line 6186: expected 8 fields, saw 9\\nSkipping line 6188: expected 8 fields, saw 9\\nSkipping line 6190: expected 8 fields, saw 9\\nSkipping line 6192: expected 8 fields, saw 9\\nSkipping line 6194: expected 8 fields, saw 9\\nSkipping line 6196: expected 8 fields, saw 9\\nSkipping line 6198: expected 8 fields, saw 9\\nSkipping line 6200: expected 8 fields, saw 9\\nSkipping line 6202: expected 8 fields, saw 9\\nSkipping line 6204: expected 8 fields, saw 9\\nSkipping line 6206: expected 8 fields, saw 9\\nSkipping line 6208: expected 8 fields, saw 9\\nSkipping line 6211: expected 8 fields, saw 9\\nSkipping line 6213: expected 8 fields, saw 9\\nSkipping line 6215: expected 8 fields, saw 9\\nSkipping line 6217: expected 8 fields, saw 9\\nSkipping line 6219: expected 8 fields, saw 9\\nSkipping line 6221: expected 8 fields, saw 9\\nSkipping line 6223: expected 8 fields, saw 9\\nSkipping line 6225: expected 8 fields, saw 9\\nSkipping line 6227: expected 8 fields, saw 9\\nSkipping line 6229: expected 8 fields, saw 9\\nSkipping line 6231: expected 8 fields, saw 9\\nSkipping line 6233: expected 8 fields, saw 9\\nSkipping line 6235: expected 8 fields, saw 9\\nSkipping line 6237: expected 8 fields, saw 9\\nSkipping line 6239: expected 8 fields, saw 9\\nSkipping line 6241: expected 8 fields, saw 9\\nSkipping line 6243: expected 8 fields, saw 9\\nSkipping line 6245: expected 8 fields, saw 9\\nSkipping line 6247: expected 8 fields, saw 9\\nSkipping line 6249: expected 8 fields, saw 9\\nSkipping line 6251: expected 8 fields, saw 9\\nSkipping line 6253: expected 8 fields, saw 9\\nSkipping line 6255: expected 8 fields, saw 9\\nSkipping line 6257: expected 8 fields, saw 9\\nSkipping line 6259: expected 8 fields, saw 9\\nSkipping line 6261: expected 8 fields, saw 9\\nSkipping line 6263: expected 8 fields, saw 9\\nSkipping line 6265: expected 8 fields, saw 9\\nSkipping line 6267: expected 8 fields, saw 9\\nSkipping line 6269: expected 8 fields, saw 9\\nSkipping line 6271: expected 8 fields, saw 9\\nSkipping line 6273: expected 8 fields, saw 9\\nSkipping line 6276: expected 8 fields, saw 9\\nSkipping line 6278: expected 8 fields, saw 9\\nSkipping line 6280: expected 8 fields, saw 9\\nSkipping line 6282: expected 8 fields, saw 9\\nSkipping line 6284: expected 8 fields, saw 9\\nSkipping line 6286: expected 8 fields, saw 9\\nSkipping line 6288: expected 8 fields, saw 9\\nSkipping line 6290: expected 8 fields, saw 9\\nSkipping line 6292: expected 8 fields, saw 9\\nSkipping line 6294: expected 8 fields, saw 9\\nSkipping line 6296: expected 8 fields, saw 9\\nSkipping line 6298: expected 8 fields, saw 9\\nSkipping line 6301: expected 8 fields, saw 9\\nSkipping line 6303: expected 8 fields, saw 9\\nSkipping line 6305: expected 8 fields, saw 9\\nSkipping line 6307: expected 8 fields, saw 9\\nSkipping line 6309: expected 8 fields, saw 9\\nSkipping line 6311: expected 8 fields, saw 9\\nSkipping line 6313: expected 8 fields, saw 9\\nSkipping line 6315: expected 8 fields, saw 9\\nSkipping line 6317: expected 8 fields, saw 9\\nSkipping line 6319: expected 8 fields, saw 9\\nSkipping line 6321: expected 8 fields, saw 9\\nSkipping line 6323: expected 8 fields, saw 9\\nSkipping line 6325: expected 8 fields, saw 9\\nSkipping line 6327: expected 8 fields, saw 9\\nSkipping line 6329: expected 8 fields, saw 9\\nSkipping line 6331: expected 8 fields, saw 9\\nSkipping line 6333: expected 8 fields, saw 9\\nSkipping line 6335: expected 8 fields, saw 9\\nSkipping line 6337: expected 8 fields, saw 9\\nSkipping line 6339: expected 8 fields, saw 9\\nSkipping line 6341: expected 8 fields, saw 9\\nSkipping line 6343: expected 8 fields, saw 9\\nSkipping line 6345: expected 8 fields, saw 9\\nSkipping line 6348: expected 8 fields, saw 9\\nSkipping line 6350: expected 8 fields, saw 9\\nSkipping line 6352: expected 8 fields, saw 9\\nSkipping line 6354: expected 8 fields, saw 9\\nSkipping line 6356: expected 8 fields, saw 9\\nSkipping line 6358: expected 8 fields, saw 9\\nSkipping line 6360: expected 8 fields, saw 9\\nSkipping line 6362: expected 8 fields, saw 9\\nSkipping line 6364: expected 8 fields, saw 9\\nSkipping line 6366: expected 8 fields, saw 9\\nSkipping line 6368: expected 8 fields, saw 9\\nSkipping line 6370: expected 8 fields, saw 9\\nSkipping line 6372: expected 8 fields, saw 9\\nSkipping line 6374: expected 8 fields, saw 9\\nSkipping line 6376: expected 8 fields, saw 9\\nSkipping line 6378: expected 8 fields, saw 9\\nSkipping line 6381: expected 8 fields, saw 9\\nSkipping line 6383: expected 8 fields, saw 9\\nSkipping line 6385: expected 8 fields, saw 9\\nSkipping line 6387: expected 8 fields, saw 9\\nSkipping line 6389: expected 8 fields, saw 9\\nSkipping line 6391: expected 8 fields, saw 9\\nSkipping line 6393: expected 8 fields, saw 9\\nSkipping line 6395: expected 8 fields, saw 9\\nSkipping line 6397: expected 8 fields, saw 9\\nSkipping line 6399: expected 8 fields, saw 9\\nSkipping line 6401: expected 8 fields, saw 9\\nSkipping line 6403: expected 8 fields, saw 9\\nSkipping line 6405: expected 8 fields, saw 9\\nSkipping line 6407: expected 8 fields, saw 9\\nSkipping line 6409: expected 8 fields, saw 9\\nSkipping line 6411: expected 8 fields, saw 9\\nSkipping line 6413: expected 8 fields, saw 9\\nSkipping line 6415: expected 8 fields, saw 9\\nSkipping line 6417: expected 8 fields, saw 9\\nSkipping line 6419: expected 8 fields, saw 9\\nSkipping line 6421: expected 8 fields, saw 9\\nSkipping line 6423: expected 8 fields, saw 9\\nSkipping line 6425: expected 8 fields, saw 9\\nSkipping line 6427: expected 8 fields, saw 9\\nSkipping line 6429: expected 8 fields, saw 9\\nSkipping line 6431: expected 8 fields, saw 9\\nSkipping line 6433: expected 8 fields, saw 9\\nSkipping line 6436: expected 8 fields, saw 9\\nSkipping line 6438: expected 8 fields, saw 9\\nSkipping line 6440: expected 8 fields, saw 9\\nSkipping line 6442: expected 8 fields, saw 9\\nSkipping line 6444: expected 8 fields, saw 9\\nSkipping line 6446: expected 8 fields, saw 9\\nSkipping line 6449: expected 8 fields, saw 9\\nSkipping line 6451: expected 8 fields, saw 9\\nSkipping line 6453: expected 8 fields, saw 9\\nSkipping line 6455: expected 8 fields, saw 9\\nSkipping line 6457: expected 8 fields, saw 9\\nSkipping line 6459: expected 8 fields, saw 9\\nSkipping line 6461: expected 8 fields, saw 9\\nSkipping line 6463: expected 8 fields, saw 9\\nSkipping line 6465: expected 8 fields, saw 9\\nSkipping line 6467: expected 8 fields, saw 9\\nSkipping line 6469: expected 8 fields, saw 9\\nSkipping line 6471: expected 8 fields, saw 9\\nSkipping line 6473: expected 8 fields, saw 9\\nSkipping line 6475: expected 8 fields, saw 9\\nSkipping line 6477: expected 8 fields, saw 9\\nSkipping line 6479: expected 8 fields, saw 9\\nSkipping line 6481: expected 8 fields, saw 9\\nSkipping line 6483: expected 8 fields, saw 9\\nSkipping line 6485: expected 8 fields, saw 9\\nSkipping line 6487: expected 8 fields, saw 9\\nSkipping line 6489: expected 8 fields, saw 9\\nSkipping line 6491: expected 8 fields, saw 9\\nSkipping line 6493: expected 8 fields, saw 9\\nSkipping line 6495: expected 8 fields, saw 9\\nSkipping line 6497: expected 8 fields, saw 9\\nSkipping line 6499: expected 8 fields, saw 9\\nSkipping line 6501: expected 8 fields, saw 9\\nSkipping line 6503: expected 8 fields, saw 9\\nSkipping line 6506: expected 8 fields, saw 9\\nSkipping line 6508: expected 8 fields, saw 9\\nSkipping line 6510: expected 8 fields, saw 9\\nSkipping line 6512: expected 8 fields, saw 9\\nSkipping line 6514: expected 8 fields, saw 9\\nSkipping line 6516: expected 8 fields, saw 9\\nSkipping line 6518: expected 8 fields, saw 9\\nSkipping line 6520: expected 8 fields, saw 9\\nSkipping line 6522: expected 8 fields, saw 9\\nSkipping line 6524: expected 8 fields, saw 9\\nSkipping line 6526: expected 8 fields, saw 9\\nSkipping line 6528: expected 8 fields, saw 9\\nSkipping line 6530: expected 8 fields, saw 9\\nSkipping line 6532: expected 8 fields, saw 9\\nSkipping line 6534: expected 8 fields, saw 9\\nSkipping line 6536: expected 8 fields, saw 9\\nSkipping line 6538: expected 8 fields, saw 9\\nSkipping line 6540: expected 8 fields, saw 9\\nSkipping line 6542: expected 8 fields, saw 9\\nSkipping line 6544: expected 8 fields, saw 9\\nSkipping line 6546: expected 8 fields, saw 9\\nSkipping line 6548: expected 8 fields, saw 9\\nSkipping line 6550: expected 8 fields, saw 9\\nSkipping line 6552: expected 8 fields, saw 9\\nSkipping line 6554: expected 8 fields, saw 9\\nSkipping line 6556: expected 8 fields, saw 9\\nSkipping line 6558: expected 8 fields, saw 9\\nSkipping line 6560: expected 8 fields, saw 9\\nSkipping line 6562: expected 8 fields, saw 9\\nSkipping line 6565: expected 8 fields, saw 9\\nSkipping line 6567: expected 8 fields, saw 9\\nSkipping line 6569: expected 8 fields, saw 9\\nSkipping line 6571: expected 8 fields, saw 9\\nSkipping line 6573: expected 8 fields, saw 9\\nSkipping line 6575: expected 8 fields, saw 9\\nSkipping line 6577: expected 8 fields, saw 9\\nSkipping line 6579: expected 8 fields, saw 9\\nSkipping line 6581: expected 8 fields, saw 9\\nSkipping line 6583: expected 8 fields, saw 9\\nSkipping line 6585: expected 8 fields, saw 9\\nSkipping line 6587: expected 8 fields, saw 9\\nSkipping line 6590: expected 8 fields, saw 9\\nSkipping line 6592: expected 8 fields, saw 9\\nSkipping line 6594: expected 8 fields, saw 9\\nSkipping line 6596: expected 8 fields, saw 9\\nSkipping line 6598: expected 8 fields, saw 9\\nSkipping line 6600: expected 8 fields, saw 9\\nSkipping line 6603: expected 8 fields, saw 9\\nSkipping line 6605: expected 8 fields, saw 9\\nSkipping line 6608: expected 8 fields, saw 9\\nSkipping line 6610: expected 8 fields, saw 9\\nSkipping line 6613: expected 8 fields, saw 9\\nSkipping line 6615: expected 8 fields, saw 9\\nSkipping line 6617: expected 8 fields, saw 9\\nSkipping line 6619: expected 8 fields, saw 9\\nSkipping line 6622: expected 8 fields, saw 9\\nSkipping line 6624: expected 8 fields, saw 9\\nSkipping line 6626: expected 8 fields, saw 9\\nSkipping line 6628: expected 8 fields, saw 9\\nSkipping line 6631: expected 8 fields, saw 9\\nSkipping line 6633: expected 8 fields, saw 9\\nSkipping line 6636: expected 8 fields, saw 9\\nSkipping line 6638: expected 8 fields, saw 9\\nSkipping line 6640: expected 8 fields, saw 9\\nSkipping line 6642: expected 8 fields, saw 9\\nSkipping line 6644: expected 8 fields, saw 9\\nSkipping line 6646: expected 8 fields, saw 9\\nSkipping line 6648: expected 8 fields, saw 9\\nSkipping line 6650: expected 8 fields, saw 9\\nSkipping line 6653: expected 8 fields, saw 9\\nSkipping line 6655: expected 8 fields, saw 9\\nSkipping line 6658: expected 8 fields, saw 9\\nSkipping line 6660: expected 8 fields, saw 9\\nSkipping line 6662: expected 8 fields, saw 9\\nSkipping line 6665: expected 8 fields, saw 9\\nSkipping line 6667: expected 8 fields, saw 9\\nSkipping line 6669: expected 8 fields, saw 9\\nSkipping line 6671: expected 8 fields, saw 9\\nSkipping line 6674: expected 8 fields, saw 9\\nSkipping line 6676: expected 8 fields, saw 9\\nSkipping line 6678: expected 8 fields, saw 9\\nSkipping line 6680: expected 8 fields, saw 9\\nSkipping line 6682: expected 8 fields, saw 9\\nSkipping line 6684: expected 8 fields, saw 9\\nSkipping line 6686: expected 8 fields, saw 9\\nSkipping line 6688: expected 8 fields, saw 9\\nSkipping line 6690: expected 8 fields, saw 9\\nSkipping line 6692: expected 8 fields, saw 9\\nSkipping line 6695: expected 8 fields, saw 9\\nSkipping line 6697: expected 8 fields, saw 9\\nSkipping line 6699: expected 8 fields, saw 9\\nSkipping line 6701: expected 8 fields, saw 9\\nSkipping line 6703: expected 8 fields, saw 9\\nSkipping line 6705: expected 8 fields, saw 9\\nSkipping line 6707: expected 8 fields, saw 9\\nSkipping line 6709: expected 8 fields, saw 9\\nSkipping line 6711: expected 8 fields, saw 9\\nSkipping line 6713: expected 8 fields, saw 9\\nSkipping line 6715: expected 8 fields, saw 9\\nSkipping line 6718: expected 8 fields, saw 9\\nSkipping line 6720: expected 8 fields, saw 9\\nSkipping line 6723: expected 8 fields, saw 9\\nSkipping line 6725: expected 8 fields, saw 9\\nSkipping line 6727: expected 8 fields, saw 9\\nSkipping line 6729: expected 8 fields, saw 9\\nSkipping line 6732: expected 8 fields, saw 9\\nSkipping line 6734: expected 8 fields, saw 9\\nSkipping line 6736: expected 8 fields, saw 9\\nSkipping line 6738: expected 8 fields, saw 9\\nSkipping line 6740: expected 8 fields, saw 9\\nSkipping line 6742: expected 8 fields, saw 9\\nSkipping line 6744: expected 8 fields, saw 9\\nSkipping line 6747: expected 8 fields, saw 9\\nSkipping line 6749: expected 8 fields, saw 9\\nSkipping line 6752: expected 8 fields, saw 9\\nSkipping line 6754: expected 8 fields, saw 9\\nSkipping line 6757: expected 8 fields, saw 9\\nSkipping line 6759: expected 8 fields, saw 9\\nSkipping line 6761: expected 8 fields, saw 9\\nSkipping line 6763: expected 8 fields, saw 9\\nSkipping line 6766: expected 8 fields, saw 9\\nSkipping line 6768: expected 8 fields, saw 9\\nSkipping line 6771: expected 8 fields, saw 9\\nSkipping line 6773: expected 8 fields, saw 9\\nSkipping line 6776: expected 8 fields, saw 9\\nSkipping line 6778: expected 8 fields, saw 9\\nSkipping line 6781: expected 8 fields, saw 9\\nSkipping line 6783: expected 8 fields, saw 9\\nSkipping line 6785: expected 8 fields, saw 9\\nSkipping line 6787: expected 8 fields, saw 9\\nSkipping line 6789: expected 8 fields, saw 9\\nSkipping line 6791: expected 8 fields, saw 9\\nSkipping line 6793: expected 8 fields, saw 9\\nSkipping line 6795: expected 8 fields, saw 9\\nSkipping line 6797: expected 8 fields, saw 9\\nSkipping line 6799: expected 8 fields, saw 9\\nSkipping line 6801: expected 8 fields, saw 9\\nSkipping line 6803: expected 8 fields, saw 9\\nSkipping line 6805: expected 8 fields, saw 9\\nSkipping line 6807: expected 8 fields, saw 9\\nSkipping line 6809: expected 8 fields, saw 9\\nSkipping line 6811: expected 8 fields, saw 9\\nSkipping line 6814: expected 8 fields, saw 9\\nSkipping line 6816: expected 8 fields, saw 9\\nSkipping line 6818: expected 8 fields, saw 9\\nSkipping line 6820: expected 8 fields, saw 9\\nSkipping line 6822: expected 8 fields, saw 9\\nSkipping line 6824: expected 8 fields, saw 9\\nSkipping line 6826: expected 8 fields, saw 9\\nSkipping line 6828: expected 8 fields, saw 9\\nSkipping line 6830: expected 8 fields, saw 9\\nSkipping line 6832: expected 8 fields, saw 9\\nSkipping line 6834: expected 8 fields, saw 9\\nSkipping line 6836: expected 8 fields, saw 9\\nSkipping line 6838: expected 8 fields, saw 9\\nSkipping line 6840: expected 8 fields, saw 9\\nSkipping line 6842: expected 8 fields, saw 9\\nSkipping line 6845: expected 8 fields, saw 9\\nSkipping line 6847: expected 8 fields, saw 9\\nSkipping line 6850: expected 8 fields, saw 9\\nSkipping line 6852: expected 8 fields, saw 9\\nSkipping line 6854: expected 8 fields, saw 9\\nSkipping line 6856: expected 8 fields, saw 9\\nSkipping line 6858: expected 8 fields, saw 9\\nSkipping line 6860: expected 8 fields, saw 9\\nSkipping line 6862: expected 8 fields, saw 9\\nSkipping line 6864: expected 8 fields, saw 9\\nSkipping line 6866: expected 8 fields, saw 9\\nSkipping line 6868: expected 8 fields, saw 9\\nSkipping line 6870: expected 8 fields, saw 9\\nSkipping line 6872: expected 8 fields, saw 9\\nSkipping line 6875: expected 8 fields, saw 9\\nSkipping line 6877: expected 8 fields, saw 9\\nSkipping line 6879: expected 8 fields, saw 9\\nSkipping line 6881: expected 8 fields, saw 9\\nSkipping line 6883: expected 8 fields, saw 9\\nSkipping line 6885: expected 8 fields, saw 9\\nSkipping line 6887: expected 8 fields, saw 9\\nSkipping line 6889: expected 8 fields, saw 9\\nSkipping line 6891: expected 8 fields, saw 9\\nSkipping line 6893: expected 8 fields, saw 9\\nSkipping line 6895: expected 8 fields, saw 9\\nSkipping line 6897: expected 8 fields, saw 9\\nSkipping line 6899: expected 8 fields, saw 9\\nSkipping line 6901: expected 8 fields, saw 9\\nSkipping line 6903: expected 8 fields, saw 9\\nSkipping line 6905: expected 8 fields, saw 9\\nSkipping line 6907: expected 8 fields, saw 9\\nSkipping line 6910: expected 8 fields, saw 9\\nSkipping line 6912: expected 8 fields, saw 9\\nSkipping line 6914: expected 8 fields, saw 9\\nSkipping line 6916: expected 8 fields, saw 9\\nSkipping line 6918: expected 8 fields, saw 9\\nSkipping line 6920: expected 8 fields, saw 9\\nSkipping line 6922: expected 8 fields, saw 9\\nSkipping line 6924: expected 8 fields, saw 9\\nSkipping line 6927: expected 8 fields, saw 9\\nSkipping line 6929: expected 8 fields, saw 9\\nSkipping line 6931: expected 8 fields, saw 9\\nSkipping line 6933: expected 8 fields, saw 9\\nSkipping line 6935: expected 8 fields, saw 9\\nSkipping line 6937: expected 8 fields, saw 9\\nSkipping line 6939: expected 8 fields, saw 9\\nSkipping line 6941: expected 8 fields, saw 9\\nSkipping line 6943: expected 8 fields, saw 9\\nSkipping line 6945: expected 8 fields, saw 9\\nSkipping line 6947: expected 8 fields, saw 9\\nSkipping line 6949: expected 8 fields, saw 9\\nSkipping line 6951: expected 8 fields, saw 9\\nSkipping line 6953: expected 8 fields, saw 9\\nSkipping line 6955: expected 8 fields, saw 9\\nSkipping line 6957: expected 8 fields, saw 9\\nSkipping line 6959: expected 8 fields, saw 9\\nSkipping line 6961: expected 8 fields, saw 9\\nSkipping line 6963: expected 8 fields, saw 9\\nSkipping line 6965: expected 8 fields, saw 9\\nSkipping line 6967: expected 8 fields, saw 9\\nSkipping line 6969: expected 8 fields, saw 9\\nSkipping line 6972: expected 8 fields, saw 9\\nSkipping line 6974: expected 8 fields, saw 9\\nSkipping line 6976: expected 8 fields, saw 9\\nSkipping line 6978: expected 8 fields, saw 9\\nSkipping line 6980: expected 8 fields, saw 9\\nSkipping line 6982: expected 8 fields, saw 9\\nSkipping line 6984: expected 8 fields, saw 9\\nSkipping line 6986: expected 8 fields, saw 9\\nSkipping line 6988: expected 8 fields, saw 9\\nSkipping line 6990: expected 8 fields, saw 9\\nSkipping line 6992: expected 8 fields, saw 9\\nSkipping line 6994: expected 8 fields, saw 9\\nSkipping line 6997: expected 8 fields, saw 9\\nSkipping line 6999: expected 8 fields, saw 9\\nSkipping line 7001: expected 8 fields, saw 9\\nSkipping line 7003: expected 8 fields, saw 9\\nSkipping line 7005: expected 8 fields, saw 9\\nSkipping line 7007: expected 8 fields, saw 9\\nSkipping line 7009: expected 8 fields, saw 9\\nSkipping line 7011: expected 8 fields, saw 9\\nSkipping line 7013: expected 8 fields, saw 9\\nSkipping line 7015: expected 8 fields, saw 9\\nSkipping line 7017: expected 8 fields, saw 9\\nSkipping line 7019: expected 8 fields, saw 9\\nSkipping line 7021: expected 8 fields, saw 9\\nSkipping line 7023: expected 8 fields, saw 9\\nSkipping line 7025: expected 8 fields, saw 9\\nSkipping line 7027: expected 8 fields, saw 9\\nSkipping line 7030: expected 8 fields, saw 9\\nSkipping line 7032: expected 8 fields, saw 9\\nSkipping line 7034: expected 8 fields, saw 9\\nSkipping line 7036: expected 8 fields, saw 9\\nSkipping line 7038: expected 8 fields, saw 9\\nSkipping line 7040: expected 8 fields, saw 9\\nSkipping line 7042: expected 8 fields, saw 9\\nSkipping line 7044: expected 8 fields, saw 9\\nSkipping line 7046: expected 8 fields, saw 9\\nSkipping line 7048: expected 8 fields, saw 9\\nSkipping line 7051: expected 8 fields, saw 9\\nSkipping line 7053: expected 8 fields, saw 9\\nSkipping line 7055: expected 8 fields, saw 9\\nSkipping line 7057: expected 8 fields, saw 9\\nSkipping line 7059: expected 8 fields, saw 9\\nSkipping line 7061: expected 8 fields, saw 9\\nSkipping line 7063: expected 8 fields, saw 9\\nSkipping line 7065: expected 8 fields, saw 9\\nSkipping line 7067: expected 8 fields, saw 9\\nSkipping line 7069: expected 8 fields, saw 9\\nSkipping line 7071: expected 8 fields, saw 9\\nSkipping line 7073: expected 8 fields, saw 9\\nSkipping line 7075: expected 8 fields, saw 9\\nSkipping line 7077: expected 8 fields, saw 9\\nSkipping line 7080: expected 8 fields, saw 9\\nSkipping line 7082: expected 8 fields, saw 9\\nSkipping line 7084: expected 8 fields, saw 9\\nSkipping line 7086: expected 8 fields, saw 9\\nSkipping line 7089: expected 8 fields, saw 9\\nSkipping line 7091: expected 8 fields, saw 9\\nSkipping line 7093: expected 8 fields, saw 9\\nSkipping line 7095: expected 8 fields, saw 9\\nSkipping line 7097: expected 8 fields, saw 9\\nSkipping line 7099: expected 8 fields, saw 9\\nSkipping line 7101: expected 8 fields, saw 9\\nSkipping line 7103: expected 8 fields, saw 9\\nSkipping line 7106: expected 8 fields, saw 9\\nSkipping line 7108: expected 8 fields, saw 9\\nSkipping line 7110: expected 8 fields, saw 9\\nSkipping line 7112: expected 8 fields, saw 9\\nSkipping line 7114: expected 8 fields, saw 9\\nSkipping line 7116: expected 8 fields, saw 9\\nSkipping line 7118: expected 8 fields, saw 9\\nSkipping line 7120: expected 8 fields, saw 9\\nSkipping line 7123: expected 8 fields, saw 9\\nSkipping line 7125: expected 8 fields, saw 9\\nSkipping line 7127: expected 8 fields, saw 9\\nSkipping line 7129: expected 8 fields, saw 9\\nSkipping line 7132: expected 8 fields, saw 9\\nSkipping line 7134: expected 8 fields, saw 9\\nSkipping line 7136: expected 8 fields, saw 9\\nSkipping line 7138: expected 8 fields, saw 9\\nSkipping line 7140: expected 8 fields, saw 9\\nSkipping line 7142: expected 8 fields, saw 9\\nSkipping line 7144: expected 8 fields, saw 9\\nSkipping line 7146: expected 8 fields, saw 9\\nSkipping line 7149: expected 8 fields, saw 9\\nSkipping line 7151: expected 8 fields, saw 9\\nSkipping line 7153: expected 8 fields, saw 9\\nSkipping line 7155: expected 8 fields, saw 9\\nSkipping line 7157: expected 8 fields, saw 9\\nSkipping line 7159: expected 8 fields, saw 9\\nSkipping line 7161: expected 8 fields, saw 9\\nSkipping line 7163: expected 8 fields, saw 9\\nSkipping line 7165: expected 8 fields, saw 9\\nSkipping line 7167: expected 8 fields, saw 9\\nSkipping line 7170: expected 8 fields, saw 9\\nSkipping line 7172: expected 8 fields, saw 9\\nSkipping line 7174: expected 8 fields, saw 9\\nSkipping line 7176: expected 8 fields, saw 9\\nSkipping line 7178: expected 8 fields, saw 9\\nSkipping line 7180: expected 8 fields, saw 9\\nSkipping line 7182: expected 8 fields, saw 9\\nSkipping line 7184: expected 8 fields, saw 9\\nSkipping line 7186: expected 8 fields, saw 9\\nSkipping line 7188: expected 8 fields, saw 9\\nSkipping line 7190: expected 8 fields, saw 9\\nSkipping line 7192: expected 8 fields, saw 9\\nSkipping line 7194: expected 8 fields, saw 9\\nSkipping line 7196: expected 8 fields, saw 9\\nSkipping line 7198: expected 8 fields, saw 9\\nSkipping line 7200: expected 8 fields, saw 9\\nSkipping line 7202: expected 8 fields, saw 9\\nSkipping line 7204: expected 8 fields, saw 9\\nSkipping line 7206: expected 8 fields, saw 9\\nSkipping line 7208: expected 8 fields, saw 9\\nSkipping line 7211: expected 8 fields, saw 9\\nSkipping line 7213: expected 8 fields, saw 9\\nSkipping line 7215: expected 8 fields, saw 9\\nSkipping line 7217: expected 8 fields, saw 9\\nSkipping line 7220: expected 8 fields, saw 9\\nSkipping line 7222: expected 8 fields, saw 9\\nSkipping line 7225: expected 8 fields, saw 9\\nSkipping line 7227: expected 8 fields, saw 9\\nSkipping line 7229: expected 8 fields, saw 9\\nSkipping line 7231: expected 8 fields, saw 9\\nSkipping line 7234: expected 8 fields, saw 9\\nSkipping line 7236: expected 8 fields, saw 9\\nSkipping line 7238: expected 8 fields, saw 9\\nSkipping line 7240: expected 8 fields, saw 9\\nSkipping line 7242: expected 8 fields, saw 9\\nSkipping line 7244: expected 8 fields, saw 9\\nSkipping line 7246: expected 8 fields, saw 9\\nSkipping line 7248: expected 8 fields, saw 9\\nSkipping line 7250: expected 8 fields, saw 9\\nSkipping line 7252: expected 8 fields, saw 9\\nSkipping line 7254: expected 8 fields, saw 9\\nSkipping line 7256: expected 8 fields, saw 9\\nSkipping line 7258: expected 8 fields, saw 9\\nSkipping line 7260: expected 8 fields, saw 9\\nSkipping line 7262: expected 8 fields, saw 9\\nSkipping line 7264: expected 8 fields, saw 9\\nSkipping line 7266: expected 8 fields, saw 9\\nSkipping line 7268: expected 8 fields, saw 9\\nSkipping line 7270: expected 8 fields, saw 9\\nSkipping line 7272: expected 8 fields, saw 9\\nSkipping line 7274: expected 8 fields, saw 9\\nSkipping line 7276: expected 8 fields, saw 9\\nSkipping line 7278: expected 8 fields, saw 9\\nSkipping line 7280: expected 8 fields, saw 9\\nSkipping line 7282: expected 8 fields, saw 9\\nSkipping line 7284: expected 8 fields, saw 9\\nSkipping line 7286: expected 8 fields, saw 9\\nSkipping line 7288: expected 8 fields, saw 9\\nSkipping line 7290: expected 8 fields, saw 9\\nSkipping line 7292: expected 8 fields, saw 9\\nSkipping line 7294: expected 8 fields, saw 9\\nSkipping line 7296: expected 8 fields, saw 9\\nSkipping line 7299: expected 8 fields, saw 9\\nSkipping line 7301: expected 8 fields, saw 9\\nSkipping line 7303: expected 8 fields, saw 9\\nSkipping line 7305: expected 8 fields, saw 9\\nSkipping line 7307: expected 8 fields, saw 9\\nSkipping line 7309: expected 8 fields, saw 9\\nSkipping line 7311: expected 8 fields, saw 9\\nSkipping line 7313: expected 8 fields, saw 9\\nSkipping line 7316: expected 8 fields, saw 9\\nSkipping line 7318: expected 8 fields, saw 9\\nSkipping line 7320: expected 8 fields, saw 9\\nSkipping line 7322: expected 8 fields, saw 9\\nSkipping line 7324: expected 8 fields, saw 9\\nSkipping line 7326: expected 8 fields, saw 9\\nSkipping line 7329: expected 8 fields, saw 9\\nSkipping line 7331: expected 8 fields, saw 9\\nSkipping line 7334: expected 8 fields, saw 9\\nSkipping line 7336: expected 8 fields, saw 9\\nSkipping line 7339: expected 8 fields, saw 9\\nSkipping line 7341: expected 8 fields, saw 9\\nSkipping line 7343: expected 8 fields, saw 9\\nSkipping line 7345: expected 8 fields, saw 9\\nSkipping line 7347: expected 8 fields, saw 9\\nSkipping line 7349: expected 8 fields, saw 9\\nSkipping line 7351: expected 8 fields, saw 9\\nSkipping line 7353: expected 8 fields, saw 9\\nSkipping line 7355: expected 8 fields, saw 9\\nSkipping line 7357: expected 8 fields, saw 9\\nSkipping line 7360: expected 8 fields, saw 9\\nSkipping line 7362: expected 8 fields, saw 9\\nSkipping line 7364: expected 8 fields, saw 9\\nSkipping line 7366: expected 8 fields, saw 9\\nSkipping line 7368: expected 8 fields, saw 9\\nSkipping line 7370: expected 8 fields, saw 9\\nSkipping line 7373: expected 8 fields, saw 9\\nSkipping line 7375: expected 8 fields, saw 9\\nSkipping line 7377: expected 8 fields, saw 9\\nSkipping line 7379: expected 8 fields, saw 9\\nSkipping line 7381: expected 8 fields, saw 9\\nSkipping line 7383: expected 8 fields, saw 9\\nSkipping line 7386: expected 8 fields, saw 9\\nSkipping line 7388: expected 8 fields, saw 9\\nSkipping line 7390: expected 8 fields, saw 9\\nSkipping line 7392: expected 8 fields, saw 9\\nSkipping line 7394: expected 8 fields, saw 9\\nSkipping line 7396: expected 8 fields, saw 9\\nSkipping line 7399: expected 8 fields, saw 9\\nSkipping line 7401: expected 8 fields, saw 9\\nSkipping line 7403: expected 8 fields, saw 9\\nSkipping line 7405: expected 8 fields, saw 9\\nSkipping line 7407: expected 8 fields, saw 9\\nSkipping line 7409: expected 8 fields, saw 9\\nSkipping line 7411: expected 8 fields, saw 9\\nSkipping line 7413: expected 8 fields, saw 9\\nSkipping line 7415: expected 8 fields, saw 9\\nSkipping line 7418: expected 8 fields, saw 9\\nSkipping line 7420: expected 8 fields, saw 9\\nSkipping line 7423: expected 8 fields, saw 9\\nSkipping line 7425: expected 8 fields, saw 9\\nSkipping line 7428: expected 8 fields, saw 9\\nSkipping line 7430: expected 8 fields, saw 9\\nSkipping line 7432: expected 8 fields, saw 9\\nSkipping line 7434: expected 8 fields, saw 9\\nSkipping line 7436: expected 8 fields, saw 9\\nSkipping line 7439: expected 8 fields, saw 9\\nSkipping line 7441: expected 8 fields, saw 9\\nSkipping line 7444: expected 8 fields, saw 9\\nSkipping line 7446: expected 8 fields, saw 9\\nSkipping line 7449: expected 8 fields, saw 9\\nSkipping line 7451: expected 8 fields, saw 9\\nSkipping line 7453: expected 8 fields, saw 9\\nSkipping line 7455: expected 8 fields, saw 9\\nSkipping line 7457: expected 8 fields, saw 9\\nSkipping line 7459: expected 8 fields, saw 9\\nSkipping line 7461: expected 8 fields, saw 9\\nSkipping line 7463: expected 8 fields, saw 9\\nSkipping line 7465: expected 8 fields, saw 9\\nSkipping line 7467: expected 8 fields, saw 9\\nSkipping line 7469: expected 8 fields, saw 9\\nSkipping line 7471: expected 8 fields, saw 9\\nSkipping line 7474: expected 8 fields, saw 9\\nSkipping line 7476: expected 8 fields, saw 9\\nSkipping line 7479: expected 8 fields, saw 9\\nSkipping line 7481: expected 8 fields, saw 9\\nSkipping line 7484: expected 8 fields, saw 9\\nSkipping line 7486: expected 8 fields, saw 9\\nSkipping line 7488: expected 8 fields, saw 9\\nSkipping line 7490: expected 8 fields, saw 9\\nSkipping line 7492: expected 8 fields, saw 9\\nSkipping line 7494: expected 8 fields, saw 9\\nSkipping line 7496: expected 8 fields, saw 9\\nSkipping line 7498: expected 8 fields, saw 9\\nSkipping line 7500: expected 8 fields, saw 9\\nSkipping line 7502: expected 8 fields, saw 9\\nSkipping line 7504: expected 8 fields, saw 9\\nSkipping line 7506: expected 8 fields, saw 9\\nSkipping line 7508: expected 8 fields, saw 9\\nSkipping line 7510: expected 8 fields, saw 9\\nSkipping line 7512: expected 8 fields, saw 9\\nSkipping line 7514: expected 8 fields, saw 9\\nSkipping line 7516: expected 8 fields, saw 9\\nSkipping line 7518: expected 8 fields, saw 9\\nSkipping line 7520: expected 8 fields, saw 9\\nSkipping line 7522: expected 8 fields, saw 9\\nSkipping line 7524: expected 8 fields, saw 9\\nSkipping line 7526: expected 8 fields, saw 9\\nSkipping line 7528: expected 8 fields, saw 9\\nSkipping line 7530: expected 8 fields, saw 9\\nSkipping line 7532: expected 8 fields, saw 9\\nSkipping line 7534: expected 8 fields, saw 9\\nSkipping line 7536: expected 8 fields, saw 9\\nSkipping line 7538: expected 8 fields, saw 9\\nSkipping line 7540: expected 8 fields, saw 9\\nSkipping line 7542: expected 8 fields, saw 9\\nSkipping line 7544: expected 8 fields, saw 9\\nSkipping line 7546: expected 8 fields, saw 9\\nSkipping line 7549: expected 8 fields, saw 9\\nSkipping line 7551: expected 8 fields, saw 9\\nSkipping line 7553: expected 8 fields, saw 9\\nSkipping line 7555: expected 8 fields, saw 9\\nSkipping line 7557: expected 8 fields, saw 9\\nSkipping line 7559: expected 8 fields, saw 9\\nSkipping line 7562: expected 8 fields, saw 9\\nSkipping line 7564: expected 8 fields, saw 9\\nSkipping line 7567: expected 8 fields, saw 9\\nSkipping line 7569: expected 8 fields, saw 9\\nSkipping line 7572: expected 8 fields, saw 9\\nSkipping line 7574: expected 8 fields, saw 9\\nSkipping line 7577: expected 8 fields, saw 9\\nSkipping line 7579: expected 8 fields, saw 9\\nSkipping line 7582: expected 8 fields, saw 9\\nSkipping line 7584: expected 8 fields, saw 9\\nSkipping line 7586: expected 8 fields, saw 9\\nSkipping line 7588: expected 8 fields, saw 9\\nSkipping line 7590: expected 8 fields, saw 9\\nSkipping line 7592: expected 8 fields, saw 9\\nSkipping line 7594: expected 8 fields, saw 9\\nSkipping line 7596: expected 8 fields, saw 9\\nSkipping line 7599: expected 8 fields, saw 9\\nSkipping line 7601: expected 8 fields, saw 9\\nSkipping line 7603: expected 8 fields, saw 9\\nSkipping line 7605: expected 8 fields, saw 9\\nSkipping line 7607: expected 8 fields, saw 9\\nSkipping line 7609: expected 8 fields, saw 9\\nSkipping line 7611: expected 8 fields, saw 9\\nSkipping line 7613: expected 8 fields, saw 9\\nSkipping line 7616: expected 8 fields, saw 9\\nSkipping line 7618: expected 8 fields, saw 9\\nSkipping line 7620: expected 8 fields, saw 9\\nSkipping line 7622: expected 8 fields, saw 9\\nSkipping line 7624: expected 8 fields, saw 9\\nSkipping line 7626: expected 8 fields, saw 9\\nSkipping line 7628: expected 8 fields, saw 9\\nSkipping line 7630: expected 8 fields, saw 9\\nSkipping line 7632: expected 8 fields, saw 9\\nSkipping line 7634: expected 8 fields, saw 9\\nSkipping line 7636: expected 8 fields, saw 9\\nSkipping line 7638: expected 8 fields, saw 9\\nSkipping line 7640: expected 8 fields, saw 9\\nSkipping line 7642: expected 8 fields, saw 9\\nSkipping line 7644: expected 8 fields, saw 9\\nSkipping line 7646: expected 8 fields, saw 9\\nSkipping line 7648: expected 8 fields, saw 9\\nSkipping line 7650: expected 8 fields, saw 9\\nSkipping line 7652: expected 8 fields, saw 9\\nSkipping line 7654: expected 8 fields, saw 9\\nSkipping line 7656: expected 8 fields, saw 9\\nSkipping line 7658: expected 8 fields, saw 9\\nSkipping line 7660: expected 8 fields, saw 9\\nSkipping line 7662: expected 8 fields, saw 9\\nSkipping line 7664: expected 8 fields, saw 9\\nSkipping line 7666: expected 8 fields, saw 9\\nSkipping line 7669: expected 8 fields, saw 9\\nSkipping line 7671: expected 8 fields, saw 9\\nSkipping line 7673: expected 8 fields, saw 9\\nSkipping line 7675: expected 8 fields, saw 9\\nSkipping line 7677: expected 8 fields, saw 9\\nSkipping line 7679: expected 8 fields, saw 9\\nSkipping line 7681: expected 8 fields, saw 9\\nSkipping line 7683: expected 8 fields, saw 9\\nSkipping line 7685: expected 8 fields, saw 9\\nSkipping line 7687: expected 8 fields, saw 9\\nSkipping line 7689: expected 8 fields, saw 9\\nSkipping line 7691: expected 8 fields, saw 9\\nSkipping line 7693: expected 8 fields, saw 9\\nSkipping line 7695: expected 8 fields, saw 9\\nSkipping line 7697: expected 8 fields, saw 9\\nSkipping line 7699: expected 8 fields, saw 9\\nSkipping line 7701: expected 8 fields, saw 9\\nSkipping line 7704: expected 8 fields, saw 9\\nSkipping line 7706: expected 8 fields, saw 9\\nSkipping line 7708: expected 8 fields, saw 9\\nSkipping line 7710: expected 8 fields, saw 9\\nSkipping line 7712: expected 8 fields, saw 9\\nSkipping line 7714: expected 8 fields, saw 9\\nSkipping line 7716: expected 8 fields, saw 9\\nSkipping line 7718: expected 8 fields, saw 9\\nSkipping line 7720: expected 8 fields, saw 9\\nSkipping line 7722: expected 8 fields, saw 9\\nSkipping line 7724: expected 8 fields, saw 9\\nSkipping line 7726: expected 8 fields, saw 9\\nSkipping line 7728: expected 8 fields, saw 9\\nSkipping line 7730: expected 8 fields, saw 9\\nSkipping line 7732: expected 8 fields, saw 9\\nSkipping line 7734: expected 8 fields, saw 9\\nSkipping line 7737: expected 8 fields, saw 9\\nSkipping line 7739: expected 8 fields, saw 9\\nSkipping line 7742: expected 8 fields, saw 9\\nSkipping line 7744: expected 8 fields, saw 9\\nSkipping line 7746: expected 8 fields, saw 9\\nSkipping line 7748: expected 8 fields, saw 9\\nSkipping line 7750: expected 8 fields, saw 9\\nSkipping line 7752: expected 8 fields, saw 9\\nSkipping line 7754: expected 8 fields, saw 9\\nSkipping line 7756: expected 8 fields, saw 9\\nSkipping line 7758: expected 8 fields, saw 9\\nSkipping line 7760: expected 8 fields, saw 9\\nSkipping line 7762: expected 8 fields, saw 9\\nSkipping line 7764: expected 8 fields, saw 9\\nSkipping line 7766: expected 8 fields, saw 9\\nSkipping line 7768: expected 8 fields, saw 9\\nSkipping line 7770: expected 8 fields, saw 9\\nSkipping line 7772: expected 8 fields, saw 9\\nSkipping line 7774: expected 8 fields, saw 9\\nSkipping line 7776: expected 8 fields, saw 9\\nSkipping line 7779: expected 8 fields, saw 9\\nSkipping line 7781: expected 8 fields, saw 9\\nSkipping line 7784: expected 8 fields, saw 9\\nSkipping line 7786: expected 8 fields, saw 9\\nSkipping line 7788: expected 8 fields, saw 9\\nSkipping line 7790: expected 8 fields, saw 9\\nSkipping line 7792: expected 8 fields, saw 9\\nSkipping line 7794: expected 8 fields, saw 9\\nSkipping line 7796: expected 8 fields, saw 9\\nSkipping line 7798: expected 8 fields, saw 9\\nSkipping line 7800: expected 8 fields, saw 9\\nSkipping line 7802: expected 8 fields, saw 9\\nSkipping line 7804: expected 8 fields, saw 9\\nSkipping line 7806: expected 8 fields, saw 9\\nSkipping line 7808: expected 8 fields, saw 9\\nSkipping line 7810: expected 8 fields, saw 9\\nSkipping line 7812: expected 8 fields, saw 9\\nSkipping line 7814: expected 8 fields, saw 9\\nSkipping line 7816: expected 8 fields, saw 9\\nSkipping line 7818: expected 8 fields, saw 9\\nSkipping line 7820: expected 8 fields, saw 9\\nSkipping line 7822: expected 8 fields, saw 9\\nSkipping line 7824: expected 8 fields, saw 9\\nSkipping line 7826: expected 8 fields, saw 9\\nSkipping line 7828: expected 8 fields, saw 9\\nSkipping line 7830: expected 8 fields, saw 9\\nSkipping line 7832: expected 8 fields, saw 9\\nSkipping line 7834: expected 8 fields, saw 9\\nSkipping line 7837: expected 8 fields, saw 9\\nSkipping line 7839: expected 8 fields, saw 9\\nSkipping line 7841: expected 8 fields, saw 9\\nSkipping line 7843: expected 8 fields, saw 9\\nSkipping line 7845: expected 8 fields, saw 9\\nSkipping line 7847: expected 8 fields, saw 9\\nSkipping line 7849: expected 8 fields, saw 9\\nSkipping line 7851: expected 8 fields, saw 9\\nSkipping line 7853: expected 8 fields, saw 9\\nSkipping line 7855: expected 8 fields, saw 9\\nSkipping line 7857: expected 8 fields, saw 9\\nSkipping line 7860: expected 8 fields, saw 9\\nSkipping line 7862: expected 8 fields, saw 9\\nSkipping line 7864: expected 8 fields, saw 9\\nSkipping line 7866: expected 8 fields, saw 9\\nSkipping line 7868: expected 8 fields, saw 9\\nSkipping line 7871: expected 8 fields, saw 9\\nSkipping line 7873: expected 8 fields, saw 9\\nSkipping line 7875: expected 8 fields, saw 9\\nSkipping line 7877: expected 8 fields, saw 9\\nSkipping line 7879: expected 8 fields, saw 9\\nSkipping line 7881: expected 8 fields, saw 9\\nSkipping line 7883: expected 8 fields, saw 9\\nSkipping line 7885: expected 8 fields, saw 9\\nSkipping line 7887: expected 8 fields, saw 9\\nSkipping line 7889: expected 8 fields, saw 9\\nSkipping line 7891: expected 8 fields, saw 9\\nSkipping line 7893: expected 8 fields, saw 9\\nSkipping line 7895: expected 8 fields, saw 9\\nSkipping line 7897: expected 8 fields, saw 9\\nSkipping line 7899: expected 8 fields, saw 9\\nSkipping line 7901: expected 8 fields, saw 9\\nSkipping line 7903: expected 8 fields, saw 9\\nSkipping line 7905: expected 8 fields, saw 9\\nSkipping line 7907: expected 8 fields, saw 9\\nSkipping line 7909: expected 8 fields, saw 9\\nSkipping line 7911: expected 8 fields, saw 9\\nSkipping line 7913: expected 8 fields, saw 9\\nSkipping line 7915: expected 8 fields, saw 9\\nSkipping line 7917: expected 8 fields, saw 9\\nSkipping line 7919: expected 8 fields, saw 9\\nSkipping line 7921: expected 8 fields, saw 9\\nSkipping line 7923: expected 8 fields, saw 9\\nSkipping line 7925: expected 8 fields, saw 9\\nSkipping line 7928: expected 8 fields, saw 9\\nSkipping line 7930: expected 8 fields, saw 9\\nSkipping line 7932: expected 8 fields, saw 9\\nSkipping line 7934: expected 8 fields, saw 9\\nSkipping line 7936: expected 8 fields, saw 9\\nSkipping line 7938: expected 8 fields, saw 9\\nSkipping line 7940: expected 8 fields, saw 9\\nSkipping line 7942: expected 8 fields, saw 9\\nSkipping line 7944: expected 8 fields, saw 9\\nSkipping line 7946: expected 8 fields, saw 9\\nSkipping line 7949: expected 8 fields, saw 9\\nSkipping line 7951: expected 8 fields, saw 9\\nSkipping line 7953: expected 8 fields, saw 9\\nSkipping line 7955: expected 8 fields, saw 9\\nSkipping line 7957: expected 8 fields, saw 9\\nSkipping line 7959: expected 8 fields, saw 9\\nSkipping line 7961: expected 8 fields, saw 9\\nSkipping line 7963: expected 8 fields, saw 9\\nSkipping line 7965: expected 8 fields, saw 9\\nSkipping line 7967: expected 8 fields, saw 9\\nSkipping line 7970: expected 8 fields, saw 9\\nSkipping line 7972: expected 8 fields, saw 9\\nSkipping line 7974: expected 8 fields, saw 9\\nSkipping line 7976: expected 8 fields, saw 9\\nSkipping line 7978: expected 8 fields, saw 9\\nSkipping line 7980: expected 8 fields, saw 9\\nSkipping line 7982: expected 8 fields, saw 9\\nSkipping line 7984: expected 8 fields, saw 9\\nSkipping line 7986: expected 8 fields, saw 9\\nSkipping line 7988: expected 8 fields, saw 9\\nSkipping line 7990: expected 8 fields, saw 9\\nSkipping line 7992: expected 8 fields, saw 9\\nSkipping line 7994: expected 8 fields, saw 9\\nSkipping line 7996: expected 8 fields, saw 9\\nSkipping line 7998: expected 8 fields, saw 9\\nSkipping line 8000: expected 8 fields, saw 9\\nSkipping line 8002: expected 8 fields, saw 9\\nSkipping line 8004: expected 8 fields, saw 9\\nSkipping line 8006: expected 8 fields, saw 9\\nSkipping line 8008: expected 8 fields, saw 9\\nSkipping line 8010: expected 8 fields, saw 9\\nSkipping line 8012: expected 8 fields, saw 9\\nSkipping line 8014: expected 8 fields, saw 9\\nSkipping line 8016: expected 8 fields, saw 9\\nSkipping line 8019: expected 8 fields, saw 9\\nSkipping line 8021: expected 8 fields, saw 9\\nSkipping line 8023: expected 8 fields, saw 9\\nSkipping line 8025: expected 8 fields, saw 9\\nSkipping line 8028: expected 8 fields, saw 9\\nSkipping line 8030: expected 8 fields, saw 9\\nSkipping line 8032: expected 8 fields, saw 9\\nSkipping line 8034: expected 8 fields, saw 9\\nSkipping line 8036: expected 8 fields, saw 9\\nSkipping line 8038: expected 8 fields, saw 9\\nSkipping line 8040: expected 8 fields, saw 9\\nSkipping line 8042: expected 8 fields, saw 9\\nSkipping line 8044: expected 8 fields, saw 9\\nSkipping line 8046: expected 8 fields, saw 9\\nSkipping line 8048: expected 8 fields, saw 9\\nSkipping line 8050: expected 8 fields, saw 9\\nSkipping line 8053: expected 8 fields, saw 9\\nSkipping line 8055: expected 8 fields, saw 9\\nSkipping line 8057: expected 8 fields, saw 9\\nSkipping line 8059: expected 8 fields, saw 9\\nSkipping line 8061: expected 8 fields, saw 9\\nSkipping line 8063: expected 8 fields, saw 9\\nSkipping line 8065: expected 8 fields, saw 9\\nSkipping line 8067: expected 8 fields, saw 9\\nSkipping line 8069: expected 8 fields, saw 9\\nSkipping line 8071: expected 8 fields, saw 9\\nSkipping line 8073: expected 8 fields, saw 9\\nSkipping line 8075: expected 8 fields, saw 9\\nSkipping line 8077: expected 8 fields, saw 9\\nSkipping line 8079: expected 8 fields, saw 9\\nSkipping line 8081: expected 8 fields, saw 9\\nSkipping line 8083: expected 8 fields, saw 9\\nSkipping line 8085: expected 8 fields, saw 9\\nSkipping line 8087: expected 8 fields, saw 9\\nSkipping line 8089: expected 8 fields, saw 9\\nSkipping line 8091: expected 8 fields, saw 9\\nSkipping line 8093: expected 8 fields, saw 9\\nSkipping line 8095: expected 8 fields, saw 9\\nSkipping line 8097: expected 8 fields, saw 9\\nSkipping line 8099: expected 8 fields, saw 9\\nSkipping line 8101: expected 8 fields, saw 9\\nSkipping line 8103: expected 8 fields, saw 9\\nSkipping line 8105: expected 8 fields, saw 9\\nSkipping line 8107: expected 8 fields, saw 9\\nSkipping line 8109: expected 8 fields, saw 9\\nSkipping line 8111: expected 8 fields, saw 9\\nSkipping line 8113: expected 8 fields, saw 9\\nSkipping line 8115: expected 8 fields, saw 9\\nSkipping line 8117: expected 8 fields, saw 9\\nSkipping line 8119: expected 8 fields, saw 9\\nSkipping line 8121: expected 8 fields, saw 9\\nSkipping line 8123: expected 8 fields, saw 9\\nSkipping line 8125: expected 8 fields, saw 9\\nSkipping line 8127: expected 8 fields, saw 9\\nSkipping line 8129: expected 8 fields, saw 9\\nSkipping line 8131: expected 8 fields, saw 9\\nSkipping line 8133: expected 8 fields, saw 9\\nSkipping line 8135: expected 8 fields, saw 9\\nSkipping line 8137: expected 8 fields, saw 9\\nSkipping line 8139: expected 8 fields, saw 9\\nSkipping line 8141: expected 8 fields, saw 9\\nSkipping line 8143: expected 8 fields, saw 9\\nSkipping line 8145: expected 8 fields, saw 9\\nSkipping line 8147: expected 8 fields, saw 9\\nSkipping line 8150: expected 8 fields, saw 9\\nSkipping line 8152: expected 8 fields, saw 9\\nSkipping line 8154: expected 8 fields, saw 9\\nSkipping line 8156: expected 8 fields, saw 9\\nSkipping line 8159: expected 8 fields, saw 9\\nSkipping line 8161: expected 8 fields, saw 9\\nSkipping line 8163: expected 8 fields, saw 9\\nSkipping line 8165: expected 8 fields, saw 9\\nSkipping line 8167: expected 8 fields, saw 9\\nSkipping line 8169: expected 8 fields, saw 9\\nSkipping line 8171: expected 8 fields, saw 9\\nSkipping line 8173: expected 8 fields, saw 9\\nSkipping line 8175: expected 8 fields, saw 9\\nSkipping line 8177: expected 8 fields, saw 9\\nSkipping line 8179: expected 8 fields, saw 9\\nSkipping line 8181: expected 8 fields, saw 9\\nSkipping line 8183: expected 8 fields, saw 9\\nSkipping line 8185: expected 8 fields, saw 9\\nSkipping line 8187: expected 8 fields, saw 9\\nSkipping line 8189: expected 8 fields, saw 9\\nSkipping line 8191: expected 8 fields, saw 9\\nSkipping line 8193: expected 8 fields, saw 9\\nSkipping line 8195: expected 8 fields, saw 9\\nSkipping line 8197: expected 8 fields, saw 9\\nSkipping line 8199: expected 8 fields, saw 9\\nSkipping line 8201: expected 8 fields, saw 9\\nSkipping line 8203: expected 8 fields, saw 9\\nSkipping line 8205: expected 8 fields, saw 9\\nSkipping line 8207: expected 8 fields, saw 9\\nSkipping line 8209: expected 8 fields, saw 9\\nSkipping line 8212: expected 8 fields, saw 9\\nSkipping line 8214: expected 8 fields, saw 9\\nSkipping line 8216: expected 8 fields, saw 9\\nSkipping line 8218: expected 8 fields, saw 9\\nSkipping line 8220: expected 8 fields, saw 9\\nSkipping line 8222: expected 8 fields, saw 9\\nSkipping line 8224: expected 8 fields, saw 9\\nSkipping line 8226: expected 8 fields, saw 9\\nSkipping line 8228: expected 8 fields, saw 9\\nSkipping line 8230: expected 8 fields, saw 9\\nSkipping line 8232: expected 8 fields, saw 9\\nSkipping line 8234: expected 8 fields, saw 9\\nSkipping line 8236: expected 8 fields, saw 9\\nSkipping line 8238: expected 8 fields, saw 9\\nSkipping line 8240: expected 8 fields, saw 9\\nSkipping line 8242: expected 8 fields, saw 9\\nSkipping line 8244: expected 8 fields, saw 9\\nSkipping line 8246: expected 8 fields, saw 9\\nSkipping line 8248: expected 8 fields, saw 9\\nSkipping line 8250: expected 8 fields, saw 9\\nSkipping line 8252: expected 8 fields, saw 9\\nSkipping line 8254: expected 8 fields, saw 9\\nSkipping line 8256: expected 8 fields, saw 9\\nSkipping line 8258: expected 8 fields, saw 9\\nSkipping line 8260: expected 8 fields, saw 9\\nSkipping line 8263: expected 8 fields, saw 9\\nSkipping line 8265: expected 8 fields, saw 9\\nSkipping line 8267: expected 8 fields, saw 9\\nSkipping line 8269: expected 8 fields, saw 9\\nSkipping line 8271: expected 8 fields, saw 9\\nSkipping line 8273: expected 8 fields, saw 9\\nSkipping line 8275: expected 8 fields, saw 9\\nSkipping line 8277: expected 8 fields, saw 9\\nSkipping line 8279: expected 8 fields, saw 9\\nSkipping line 8281: expected 8 fields, saw 9\\nSkipping line 8284: expected 8 fields, saw 9\\nSkipping line 8286: expected 8 fields, saw 9\\nSkipping line 8289: expected 8 fields, saw 9\\nSkipping line 8291: expected 8 fields, saw 9\\nSkipping line 8294: expected 8 fields, saw 9\\nSkipping line 8296: expected 8 fields, saw 9\\nSkipping line 8299: expected 8 fields, saw 9\\nSkipping line 8301: expected 8 fields, saw 9\\nSkipping line 8303: expected 8 fields, saw 9\\nSkipping line 8305: expected 8 fields, saw 9\\nSkipping line 8308: expected 8 fields, saw 9\\nSkipping line 8310: expected 8 fields, saw 9\\nSkipping line 8313: expected 8 fields, saw 9\\nSkipping line 8315: expected 8 fields, saw 9\\nSkipping line 8317: expected 8 fields, saw 9\\nSkipping line 8319: expected 8 fields, saw 9\\nSkipping line 8321: expected 8 fields, saw 9\\nSkipping line 8323: expected 8 fields, saw 9\\nSkipping line 8325: expected 8 fields, saw 9\\nSkipping line 8327: expected 8 fields, saw 9\\nSkipping line 8329: expected 8 fields, saw 9\\nSkipping line 8331: expected 8 fields, saw 9\\nSkipping line 8333: expected 8 fields, saw 9\\nSkipping line 8335: expected 8 fields, saw 9\\nSkipping line 8337: expected 8 fields, saw 9\\nSkipping line 8339: expected 8 fields, saw 9\\nSkipping line 8341: expected 8 fields, saw 9\\nSkipping line 8343: expected 8 fields, saw 9\\nSkipping line 8346: expected 8 fields, saw 9\\nSkipping line 8348: expected 8 fields, saw 9\\nSkipping line 8350: expected 8 fields, saw 9\\nSkipping line 8352: expected 8 fields, saw 9\\nSkipping line 8354: expected 8 fields, saw 9\\nSkipping line 8356: expected 8 fields, saw 9\\nSkipping line 8358: expected 8 fields, saw 9\\nSkipping line 8360: expected 8 fields, saw 9\\nSkipping line 8362: expected 8 fields, saw 9\\nSkipping line 8364: expected 8 fields, saw 9\\nSkipping line 8367: expected 8 fields, saw 9\\nSkipping line 8369: expected 8 fields, saw 9\\nSkipping line 8371: expected 8 fields, saw 9\\nSkipping line 8373: expected 8 fields, saw 9\\nSkipping line 8375: expected 8 fields, saw 9\\nSkipping line 8377: expected 8 fields, saw 9\\nSkipping line 8379: expected 8 fields, saw 9\\nSkipping line 8381: expected 8 fields, saw 9\\nSkipping line 8383: expected 8 fields, saw 9\\nSkipping line 8385: expected 8 fields, saw 9\\nSkipping line 8387: expected 8 fields, saw 9\\nSkipping line 8389: expected 8 fields, saw 9\\nSkipping line 8391: expected 8 fields, saw 9\\nSkipping line 8393: expected 8 fields, saw 9\\nSkipping line 8395: expected 8 fields, saw 9\\nSkipping line 8397: expected 8 fields, saw 9\\nSkipping line 8399: expected 8 fields, saw 9\\nSkipping line 8401: expected 8 fields, saw 9\\nSkipping line 8403: expected 8 fields, saw 9\\nSkipping line 8405: expected 8 fields, saw 9\\nSkipping line 8407: expected 8 fields, saw 9\\nSkipping line 8410: expected 8 fields, saw 9\\nSkipping line 8412: expected 8 fields, saw 9\\nSkipping line 8415: expected 8 fields, saw 9\\nSkipping line 8417: expected 8 fields, saw 9\\nSkipping line 8419: expected 8 fields, saw 9\\nSkipping line 8421: expected 8 fields, saw 9\\nSkipping line 8423: expected 8 fields, saw 9\\nSkipping line 8425: expected 8 fields, saw 9\\nSkipping line 8427: expected 8 fields, saw 9\\nSkipping line 8429: expected 8 fields, saw 9\\nSkipping line 8431: expected 8 fields, saw 9\\nSkipping line 8433: expected 8 fields, saw 9\\nSkipping line 8435: expected 8 fields, saw 9\\nSkipping line 8437: expected 8 fields, saw 9\\nSkipping line 8439: expected 8 fields, saw 9\\nSkipping line 8441: expected 8 fields, saw 9\\nSkipping line 8444: expected 8 fields, saw 9\\nSkipping line 8446: expected 8 fields, saw 9\\nSkipping line 8448: expected 8 fields, saw 9\\nSkipping line 8450: expected 8 fields, saw 9\\nSkipping line 8452: expected 8 fields, saw 9\\nSkipping line 8454: expected 8 fields, saw 9\\nSkipping line 8456: expected 8 fields, saw 9\\nSkipping line 8458: expected 8 fields, saw 9\\nSkipping line 8460: expected 8 fields, saw 9\\nSkipping line 8462: expected 8 fields, saw 9\\nSkipping line 8464: expected 8 fields, saw 9\\nSkipping line 8466: expected 8 fields, saw 9\\nSkipping line 8469: expected 8 fields, saw 9\\nSkipping line 8471: expected 8 fields, saw 9\\nSkipping line 8473: expected 8 fields, saw 9\\nSkipping line 8475: expected 8 fields, saw 9\\nSkipping line 8477: expected 8 fields, saw 9\\nSkipping line 8479: expected 8 fields, saw 9\\nSkipping line 8481: expected 8 fields, saw 9\\nSkipping line 8483: expected 8 fields, saw 9\\nSkipping line 8485: expected 8 fields, saw 9\\nSkipping line 8487: expected 8 fields, saw 9\\nSkipping line 8490: expected 8 fields, saw 9\\nSkipping line 8492: expected 8 fields, saw 9\\nSkipping line 8495: expected 8 fields, saw 9\\nSkipping line 8497: expected 8 fields, saw 9\\nSkipping line 8499: expected 8 fields, saw 9\\nSkipping line 8501: expected 8 fields, saw 9\\nSkipping line 8503: expected 8 fields, saw 9\\nSkipping line 8505: expected 8 fields, saw 9\\nSkipping line 8507: expected 8 fields, saw 9\\nSkipping line 8509: expected 8 fields, saw 9\\nSkipping line 8511: expected 8 fields, saw 9\\nSkipping line 8513: expected 8 fields, saw 9\\nSkipping line 8515: expected 8 fields, saw 9\\nSkipping line 8517: expected 8 fields, saw 9\\nSkipping line 8519: expected 8 fields, saw 9\\nSkipping line 8521: expected 8 fields, saw 9\\nSkipping line 8523: expected 8 fields, saw 9\\nSkipping line 8525: expected 8 fields, saw 9\\nSkipping line 8527: expected 8 fields, saw 9\\nSkipping line 8529: expected 8 fields, saw 9\\nSkipping line 8531: expected 8 fields, saw 9\\nSkipping line 8533: expected 8 fields, saw 9\\nSkipping line 8535: expected 8 fields, saw 9\\nSkipping line 8537: expected 8 fields, saw 9\\nSkipping line 8539: expected 8 fields, saw 9\\nSkipping line 8541: expected 8 fields, saw 9\\nSkipping line 8544: expected 8 fields, saw 9\\nSkipping line 8546: expected 8 fields, saw 9\\nSkipping line 8548: expected 8 fields, saw 9\\nSkipping line 8550: expected 8 fields, saw 9\\nSkipping line 8552: expected 8 fields, saw 9\\nSkipping line 8554: expected 8 fields, saw 9\\nSkipping line 8556: expected 8 fields, saw 9\\nSkipping line 8558: expected 8 fields, saw 9\\nSkipping line 8561: expected 8 fields, saw 9\\nSkipping line 8563: expected 8 fields, saw 9\\nSkipping line 8565: expected 8 fields, saw 9\\nSkipping line 8567: expected 8 fields, saw 9\\nSkipping line 8569: expected 8 fields, saw 9\\nSkipping line 8571: expected 8 fields, saw 9\\nSkipping line 8573: expected 8 fields, saw 9\\nSkipping line 8575: expected 8 fields, saw 9\\nSkipping line 8578: expected 8 fields, saw 9\\nSkipping line 8580: expected 8 fields, saw 9\\nSkipping line 8582: expected 8 fields, saw 9\\nSkipping line 8584: expected 8 fields, saw 9\\nSkipping line 8586: expected 8 fields, saw 9\\nSkipping line 8588: expected 8 fields, saw 9\\nSkipping line 8590: expected 8 fields, saw 9\\nSkipping line 8592: expected 8 fields, saw 9\\nSkipping line 8594: expected 8 fields, saw 9\\nSkipping line 8596: expected 8 fields, saw 9\\nSkipping line 8598: expected 8 fields, saw 9\\nSkipping line 8600: expected 8 fields, saw 9\\nSkipping line 8602: expected 8 fields, saw 9\\nSkipping line 8604: expected 8 fields, saw 9\\nSkipping line 8606: expected 8 fields, saw 9\\nSkipping line 8608: expected 8 fields, saw 9\\nSkipping line 8610: expected 8 fields, saw 9\\nSkipping line 8612: expected 8 fields, saw 9\\nSkipping line 8614: expected 8 fields, saw 9\\nSkipping line 8616: expected 8 fields, saw 9\\nSkipping line 8618: expected 8 fields, saw 9\\nSkipping line 8620: expected 8 fields, saw 9\\nSkipping line 8622: expected 8 fields, saw 9\\nSkipping line 8624: expected 8 fields, saw 9\\nSkipping line 8626: expected 8 fields, saw 9\\nSkipping line 8628: expected 8 fields, saw 9\\nSkipping line 8630: expected 8 fields, saw 9\\nSkipping line 8632: expected 8 fields, saw 9\\nSkipping line 8634: expected 8 fields, saw 9\\nSkipping line 8636: expected 8 fields, saw 9\\nSkipping line 8639: expected 8 fields, saw 9\\nSkipping line 8641: expected 8 fields, saw 9\\nSkipping line 8643: expected 8 fields, saw 9\\nSkipping line 8645: expected 8 fields, saw 9\\nSkipping line 8647: expected 8 fields, saw 9\\nSkipping line 8649: expected 8 fields, saw 9\\nSkipping line 8651: expected 8 fields, saw 9\\nSkipping line 8654: expected 8 fields, saw 9\\nSkipping line 8656: expected 8 fields, saw 9\\nSkipping line 8659: expected 8 fields, saw 9\\nSkipping line 8661: expected 8 fields, saw 9\\nSkipping line 8664: expected 8 fields, saw 9\\nSkipping line 8666: expected 8 fields, saw 9\\nSkipping line 8668: expected 8 fields, saw 9\\nSkipping line 8670: expected 8 fields, saw 9\\nSkipping line 8673: expected 8 fields, saw 9\\nSkipping line 8675: expected 8 fields, saw 9\\nSkipping line 8678: expected 8 fields, saw 9\\nSkipping line 8680: expected 8 fields, saw 9\\nSkipping line 8682: expected 8 fields, saw 9\\nSkipping line 8684: expected 8 fields, saw 9\\nSkipping line 8687: expected 8 fields, saw 9\\nSkipping line 8689: expected 8 fields, saw 9\\nSkipping line 8691: expected 8 fields, saw 9\\nSkipping line 8693: expected 8 fields, saw 9\\nSkipping line 8696: expected 8 fields, saw 9\\nSkipping line 8698: expected 8 fields, saw 9\\nSkipping line 8701: expected 8 fields, saw 9\\nSkipping line 8703: expected 8 fields, saw 9\\nSkipping line 8706: expected 8 fields, saw 9\\nSkipping line 8708: expected 8 fields, saw 9\\nSkipping line 8711: expected 8 fields, saw 9\\nSkipping line 8713: expected 8 fields, saw 9\\nSkipping line 8715: expected 8 fields, saw 9\\nSkipping line 8717: expected 8 fields, saw 9\\nSkipping line 8719: expected 8 fields, saw 9\\nSkipping line 8722: expected 8 fields, saw 9\\nSkipping line 8724: expected 8 fields, saw 9\\nSkipping line 8726: expected 8 fields, saw 9\\nSkipping line 8728: expected 8 fields, saw 9\\nSkipping line 8731: expected 8 fields, saw 9\\nSkipping line 8733: expected 8 fields, saw 9\\nSkipping line 8735: expected 8 fields, saw 9\\nSkipping line 8737: expected 8 fields, saw 9\\nSkipping line 8740: expected 8 fields, saw 9\\nSkipping line 8742: expected 8 fields, saw 9\\nSkipping line 8745: expected 8 fields, saw 9\\nSkipping line 8747: expected 8 fields, saw 9\\nSkipping line 8749: expected 8 fields, saw 9\\nSkipping line 8751: expected 8 fields, saw 9\\nSkipping line 8754: expected 8 fields, saw 9\\nSkipping line 8756: expected 8 fields, saw 9\\nSkipping line 8759: expected 8 fields, saw 9\\nSkipping line 8761: expected 8 fields, saw 9\\nSkipping line 8764: expected 8 fields, saw 9\\nSkipping line 8766: expected 8 fields, saw 9\\nSkipping line 8769: expected 8 fields, saw 9\\nSkipping line 8771: expected 8 fields, saw 9\\nSkipping line 8774: expected 8 fields, saw 9\\nSkipping line 8776: expected 8 fields, saw 9\\nSkipping line 8779: expected 8 fields, saw 9\\nSkipping line 8781: expected 8 fields, saw 9\\nSkipping line 8784: expected 8 fields, saw 9\\nSkipping line 8786: expected 8 fields, saw 9\\nSkipping line 8789: expected 8 fields, saw 9\\nSkipping line 8791: expected 8 fields, saw 9\\nSkipping line 8794: expected 8 fields, saw 9\\nSkipping line 8796: expected 8 fields, saw 9\\nSkipping line 8798: expected 8 fields, saw 9\\nSkipping line 8800: expected 8 fields, saw 9\\nSkipping line 8803: expected 8 fields, saw 9\\nSkipping line 8805: expected 8 fields, saw 9\\nSkipping line 8808: expected 8 fields, saw 9\\nSkipping line 8810: expected 8 fields, saw 9\\nSkipping line 8813: expected 8 fields, saw 9\\nSkipping line 8815: expected 8 fields, saw 9\\nSkipping line 8817: expected 8 fields, saw 9\\nSkipping line 8819: expected 8 fields, saw 9\\nSkipping line 8822: expected 8 fields, saw 9\\nSkipping line 8824: expected 8 fields, saw 9\\nSkipping line 8827: expected 8 fields, saw 9\\nSkipping line 8829: expected 8 fields, saw 9\\nSkipping line 8831: expected 8 fields, saw 9\\nSkipping line 8833: expected 8 fields, saw 9\\nSkipping line 8835: expected 8 fields, saw 9\\nSkipping line 8837: expected 8 fields, saw 9\\nSkipping line 8839: expected 8 fields, saw 9\\nSkipping line 8841: expected 8 fields, saw 9\\nSkipping line 8844: expected 8 fields, saw 9\\nSkipping line 8846: expected 8 fields, saw 9\\nSkipping line 8849: expected 8 fields, saw 9\\nSkipping line 8851: expected 8 fields, saw 9\\nSkipping line 8854: expected 8 fields, saw 9\\nSkipping line 8856: expected 8 fields, saw 9\\nSkipping line 8859: expected 8 fields, saw 9\\nSkipping line 8861: expected 8 fields, saw 9\\nSkipping line 8863: expected 8 fields, saw 9\\nSkipping line 8865: expected 8 fields, saw 9\\nSkipping line 8867: expected 8 fields, saw 9\\nSkipping line 8869: expected 8 fields, saw 9\\nSkipping line 8872: expected 8 fields, saw 9\\nSkipping line 8874: expected 8 fields, saw 9\\nSkipping line 8876: expected 8 fields, saw 9\\nSkipping line 8878: expected 8 fields, saw 9\\nSkipping line 8880: expected 8 fields, saw 9\\nSkipping line 8882: expected 8 fields, saw 9\\nSkipping line 8884: expected 8 fields, saw 9\\nSkipping line 8886: expected 8 fields, saw 9\\nSkipping line 8888: expected 8 fields, saw 9\\nSkipping line 8890: expected 8 fields, saw 9\\nSkipping line 8892: expected 8 fields, saw 9\\nSkipping line 8894: expected 8 fields, saw 9\\nSkipping line 8896: expected 8 fields, saw 9\\nSkipping line 8898: expected 8 fields, saw 9\\nSkipping line 8900: expected 8 fields, saw 9\\nSkipping line 8902: expected 8 fields, saw 9\\nSkipping line 8904: expected 8 fields, saw 9\\nSkipping line 8906: expected 8 fields, saw 9\\nSkipping line 8908: expected 8 fields, saw 9\\nSkipping line 8910: expected 8 fields, saw 9\\nSkipping line 8912: expected 8 fields, saw 9\\nSkipping line 8914: expected 8 fields, saw 9\\nSkipping line 8916: expected 8 fields, saw 9\\nSkipping line 8918: expected 8 fields, saw 9\\nSkipping line 8920: expected 8 fields, saw 9\\nSkipping line 8922: expected 8 fields, saw 9\\nSkipping line 8924: expected 8 fields, saw 9\\nSkipping line 8926: expected 8 fields, saw 9\\nSkipping line 8928: expected 8 fields, saw 9\\nSkipping line 8930: expected 8 fields, saw 9\\nSkipping line 8932: expected 8 fields, saw 9\\nSkipping line 8934: expected 8 fields, saw 9\\nSkipping line 8936: expected 8 fields, saw 9\\nSkipping line 8938: expected 8 fields, saw 9\\nSkipping line 8940: expected 8 fields, saw 9\\nSkipping line 8942: expected 8 fields, saw 9\\nSkipping line 8944: expected 8 fields, saw 9\\nSkipping line 8946: expected 8 fields, saw 9\\nSkipping line 8948: expected 8 fields, saw 9\\nSkipping line 8950: expected 8 fields, saw 9\\nSkipping line 8952: expected 8 fields, saw 9\\nSkipping line 8954: expected 8 fields, saw 9\\nSkipping line 8956: expected 8 fields, saw 9\\nSkipping line 8958: expected 8 fields, saw 9\\nSkipping line 8960: expected 8 fields, saw 9\\nSkipping line 8962: expected 8 fields, saw 9\\nSkipping line 8964: expected 8 fields, saw 9\\nSkipping line 8967: expected 8 fields, saw 9\\nSkipping line 8969: expected 8 fields, saw 9\\nSkipping line 8971: expected 8 fields, saw 9\\nSkipping line 8973: expected 8 fields, saw 9\\nSkipping line 8975: expected 8 fields, saw 9\\nSkipping line 8978: expected 8 fields, saw 9\\nSkipping line 8980: expected 8 fields, saw 9\\nSkipping line 8983: expected 8 fields, saw 9\\nSkipping line 8985: expected 8 fields, saw 9\\nSkipping line 8987: expected 8 fields, saw 9\\nSkipping line 8989: expected 8 fields, saw 9\\nSkipping line 8991: expected 8 fields, saw 9\\nSkipping line 8993: expected 8 fields, saw 9\\nSkipping line 8996: expected 8 fields, saw 9\\nSkipping line 8998: expected 8 fields, saw 9\\nSkipping line 9000: expected 8 fields, saw 9\\nSkipping line 9002: expected 8 fields, saw 9\\nSkipping line 9004: expected 8 fields, saw 9\\nSkipping line 9006: expected 8 fields, saw 9\\nSkipping line 9008: expected 8 fields, saw 9\\nSkipping line 9010: expected 8 fields, saw 9\\nSkipping line 9012: expected 8 fields, saw 9\\nSkipping line 9014: expected 8 fields, saw 9\\nSkipping line 9016: expected 8 fields, saw 9\\nSkipping line 9018: expected 8 fields, saw 9\\nSkipping line 9020: expected 8 fields, saw 9\\nSkipping line 9022: expected 8 fields, saw 9\\nSkipping line 9025: expected 8 fields, saw 9\\nSkipping line 9027: expected 8 fields, saw 9\\nSkipping line 9029: expected 8 fields, saw 9\\nSkipping line 9031: expected 8 fields, saw 9\\nSkipping line 9034: expected 8 fields, saw 9\\nSkipping line 9036: expected 8 fields, saw 9\\nSkipping line 9038: expected 8 fields, saw 9\\nSkipping line 9040: expected 8 fields, saw 9\\nSkipping line 9042: expected 8 fields, saw 9\\nSkipping line 9044: expected 8 fields, saw 9\\nSkipping line 9046: expected 8 fields, saw 9\\nSkipping line 9048: expected 8 fields, saw 9\\nSkipping line 9050: expected 8 fields, saw 9\\nSkipping line 9052: expected 8 fields, saw 9\\nSkipping line 9054: expected 8 fields, saw 9\\nSkipping line 9056: expected 8 fields, saw 9\\nSkipping line 9058: expected 8 fields, saw 9\\nSkipping line 9060: expected 8 fields, saw 9\\nSkipping line 9062: expected 8 fields, saw 9\\nSkipping line 9064: expected 8 fields, saw 9\\nSkipping line 9066: expected 8 fields, saw 9\\nSkipping line 9068: expected 8 fields, saw 9\\nSkipping line 9070: expected 8 fields, saw 9\\nSkipping line 9072: expected 8 fields, saw 9\\nSkipping line 9074: expected 8 fields, saw 9\\nSkipping line 9076: expected 8 fields, saw 9\\nSkipping line 9079: expected 8 fields, saw 9\\nSkipping line 9081: expected 8 fields, saw 9\\nSkipping line 9083: expected 8 fields, saw 9\\nSkipping line 9085: expected 8 fields, saw 9\\nSkipping line 9088: expected 8 fields, saw 9\\nSkipping line 9090: expected 8 fields, saw 9\\nSkipping line 9093: expected 8 fields, saw 9\\nSkipping line 9095: expected 8 fields, saw 9\\nSkipping line 9098: expected 8 fields, saw 9\\nSkipping line 9100: expected 8 fields, saw 9\\nSkipping line 9102: expected 8 fields, saw 9\\nSkipping line 9104: expected 8 fields, saw 9\\nSkipping line 9106: expected 8 fields, saw 9\\nSkipping line 9108: expected 8 fields, saw 9\\nSkipping line 9111: expected 8 fields, saw 9\\nSkipping line 9113: expected 8 fields, saw 9\\nSkipping line 9115: expected 8 fields, saw 9\\nSkipping line 9117: expected 8 fields, saw 9\\nSkipping line 9119: expected 8 fields, saw 9\\nSkipping line 9121: expected 8 fields, saw 9\\nSkipping line 9123: expected 8 fields, saw 9\\nSkipping line 9125: expected 8 fields, saw 9\\nSkipping line 9127: expected 8 fields, saw 9\\nSkipping line 9130: expected 8 fields, saw 9\\nSkipping line 9132: expected 8 fields, saw 9\\nSkipping line 9135: expected 8 fields, saw 9\\nSkipping line 9137: expected 8 fields, saw 9\\nSkipping line 9139: expected 8 fields, saw 9\\nSkipping line 9141: expected 8 fields, saw 9\\nSkipping line 9143: expected 8 fields, saw 9\\nSkipping line 9145: expected 8 fields, saw 9\\nSkipping line 9147: expected 8 fields, saw 9\\nSkipping line 9149: expected 8 fields, saw 9\\nSkipping line 9151: expected 8 fields, saw 9\\nSkipping line 9153: expected 8 fields, saw 9\\nSkipping line 9155: expected 8 fields, saw 9\\nSkipping line 9157: expected 8 fields, saw 9\\nSkipping line 9159: expected 8 fields, saw 9\\nSkipping line 9161: expected 8 fields, saw 9\\nSkipping line 9163: expected 8 fields, saw 9\\nSkipping line 9165: expected 8 fields, saw 9\\nSkipping line 9167: expected 8 fields, saw 9\\nSkipping line 9169: expected 8 fields, saw 9\\nSkipping line 9171: expected 8 fields, saw 9\\nSkipping line 9173: expected 8 fields, saw 9\\nSkipping line 9175: expected 8 fields, saw 9\\nSkipping line 9177: expected 8 fields, saw 9\\nSkipping line 9179: expected 8 fields, saw 9\\nSkipping line 9181: expected 8 fields, saw 9\\nSkipping line 9183: expected 8 fields, saw 9\\nSkipping line 9185: expected 8 fields, saw 9\\nSkipping line 9187: expected 8 fields, saw 9\\nSkipping line 9189: expected 8 fields, saw 9\\nSkipping line 9191: expected 8 fields, saw 9\\nSkipping line 9193: expected 8 fields, saw 9\\nSkipping line 9195: expected 8 fields, saw 9\\nSkipping line 9197: expected 8 fields, saw 9\\nSkipping line 9199: expected 8 fields, saw 9\\nSkipping line 9201: expected 8 fields, saw 9\\nSkipping line 9203: expected 8 fields, saw 9\\nSkipping line 9205: expected 8 fields, saw 9\\nSkipping line 9207: expected 8 fields, saw 9\\nSkipping line 9209: expected 8 fields, saw 9\\nSkipping line 9211: expected 8 fields, saw 9\\nSkipping line 9213: expected 8 fields, saw 9\\nSkipping line 9215: expected 8 fields, saw 9\\nSkipping line 9217: expected 8 fields, saw 9\\nSkipping line 9219: expected 8 fields, saw 9\\nSkipping line 9221: expected 8 fields, saw 9\\nSkipping line 9223: expected 8 fields, saw 9\\nSkipping line 9225: expected 8 fields, saw 9\\nSkipping line 9227: expected 8 fields, saw 9\\nSkipping line 9230: expected 8 fields, saw 9\\nSkipping line 9232: expected 8 fields, saw 9\\nSkipping line 9234: expected 8 fields, saw 9\\nSkipping line 9236: expected 8 fields, saw 9\\nSkipping line 9238: expected 8 fields, saw 9\\nSkipping line 9240: expected 8 fields, saw 9\\nSkipping line 9243: expected 8 fields, saw 9\\nSkipping line 9245: expected 8 fields, saw 9\\nSkipping line 9247: expected 8 fields, saw 9\\nSkipping line 9249: expected 8 fields, saw 9\\nSkipping line 9251: expected 8 fields, saw 9\\nSkipping line 9253: expected 8 fields, saw 9\\nSkipping line 9255: expected 8 fields, saw 9\\nSkipping line 9257: expected 8 fields, saw 9\\nSkipping line 9259: expected 8 fields, saw 9\\nSkipping line 9261: expected 8 fields, saw 9\\nSkipping line 9263: expected 8 fields, saw 9\\nSkipping line 9265: expected 8 fields, saw 9\\nSkipping line 9267: expected 8 fields, saw 9\\nSkipping line 9269: expected 8 fields, saw 9\\nSkipping line 9271: expected 8 fields, saw 9\\nSkipping line 9273: expected 8 fields, saw 9\\nSkipping line 9276: expected 8 fields, saw 9\\nSkipping line 9278: expected 8 fields, saw 9\\nSkipping line 9280: expected 8 fields, saw 9\\nSkipping line 9282: expected 8 fields, saw 9\\nSkipping line 9284: expected 8 fields, saw 9\\nSkipping line 9286: expected 8 fields, saw 9\\nSkipping line 9289: expected 8 fields, saw 9\\nSkipping line 9291: expected 8 fields, saw 9\\nSkipping line 9293: expected 8 fields, saw 9\\nSkipping line 9295: expected 8 fields, saw 9\\nSkipping line 9297: expected 8 fields, saw 9\\nSkipping line 9299: expected 8 fields, saw 9\\nSkipping line 9302: expected 8 fields, saw 9\\nSkipping line 9304: expected 8 fields, saw 9\\nSkipping line 9307: expected 8 fields, saw 9\\nSkipping line 9309: expected 8 fields, saw 9\\nSkipping line 9311: expected 8 fields, saw 9\\nSkipping line 9313: expected 8 fields, saw 9\\nSkipping line 9315: expected 8 fields, saw 9\\nSkipping line 9317: expected 8 fields, saw 9\\nSkipping line 9319: expected 8 fields, saw 9\\nSkipping line 9321: expected 8 fields, saw 9\\nSkipping line 9323: expected 8 fields, saw 9\\nSkipping line 9325: expected 8 fields, saw 9\\nSkipping line 9327: expected 8 fields, saw 9\\nSkipping line 9329: expected 8 fields, saw 9\\nSkipping line 9331: expected 8 fields, saw 9\\nSkipping line 9333: expected 8 fields, saw 9\\nSkipping line 9336: expected 8 fields, saw 9\\nSkipping line 9338: expected 8 fields, saw 9\\nSkipping line 9341: expected 8 fields, saw 9\\nSkipping line 9343: expected 8 fields, saw 9\\nSkipping line 9346: expected 8 fields, saw 9\\nSkipping line 9348: expected 8 fields, saw 9\\nSkipping line 9350: expected 8 fields, saw 9\\nSkipping line 9352: expected 8 fields, saw 9\\nSkipping line 9354: expected 8 fields, saw 9\\nSkipping line 9356: expected 8 fields, saw 9\\nSkipping line 9358: expected 8 fields, saw 9\\nSkipping line 9360: expected 8 fields, saw 9\\nSkipping line 9362: expected 8 fields, saw 9\\nSkipping line 9364: expected 8 fields, saw 9\\nSkipping line 9366: expected 8 fields, saw 9\\nSkipping line 9369: expected 8 fields, saw 9\\nSkipping line 9371: expected 8 fields, saw 9\\nSkipping line 9374: expected 8 fields, saw 9\\nSkipping line 9376: expected 8 fields, saw 9\\nSkipping line 9379: expected 8 fields, saw 9\\nSkipping line 9381: expected 8 fields, saw 9\\nSkipping line 9384: expected 8 fields, saw 9\\nSkipping line 9386: expected 8 fields, saw 9\\nSkipping line 9389: expected 8 fields, saw 9\\nSkipping line 9391: expected 8 fields, saw 9\\nSkipping line 9393: expected 8 fields, saw 9\\nSkipping line 9395: expected 8 fields, saw 9\\nSkipping line 9397: expected 8 fields, saw 9\\nSkipping line 9399: expected 8 fields, saw 9\\nSkipping line 9401: expected 8 fields, saw 9\\nSkipping line 9404: expected 8 fields, saw 9\\nSkipping line 9406: expected 8 fields, saw 9\\nSkipping line 9409: expected 8 fields, saw 9\\nSkipping line 9411: expected 8 fields, saw 9\\nSkipping line 9414: expected 8 fields, saw 9\\nSkipping line 9416: expected 8 fields, saw 9\\nSkipping line 9419: expected 8 fields, saw 9\\nSkipping line 9421: expected 8 fields, saw 9\\nSkipping line 9423: expected 8 fields, saw 9\\nSkipping line 9425: expected 8 fields, saw 9\\nSkipping line 9427: expected 8 fields, saw 9\\nSkipping line 9429: expected 8 fields, saw 9\\nSkipping line 9431: expected 8 fields, saw 9\\nSkipping line 9433: expected 8 fields, saw 9\\nSkipping line 9435: expected 8 fields, saw 9\\nSkipping line 9437: expected 8 fields, saw 9\\nSkipping line 9440: expected 8 fields, saw 9\\nSkipping line 9442: expected 8 fields, saw 9\\nSkipping line 9445: expected 8 fields, saw 9\\nSkipping line 9447: expected 8 fields, saw 9\\nSkipping line 9450: expected 8 fields, saw 9\\nSkipping line 9452: expected 8 fields, saw 9\\nSkipping line 9454: expected 8 fields, saw 9\\nSkipping line 9456: expected 8 fields, saw 9\\nSkipping line 9458: expected 8 fields, saw 9\\nSkipping line 9461: expected 8 fields, saw 9\\nSkipping line 9463: expected 8 fields, saw 9\\nSkipping line 9465: expected 8 fields, saw 9\\nSkipping line 9467: expected 8 fields, saw 9\\nSkipping line 9469: expected 8 fields, saw 9\\nSkipping line 9471: expected 8 fields, saw 9\\nSkipping line 9473: expected 8 fields, saw 9\\nSkipping line 9475: expected 8 fields, saw 9\\nSkipping line 9477: expected 8 fields, saw 9\\nSkipping line 9479: expected 8 fields, saw 9\\nSkipping line 9481: expected 8 fields, saw 9\\nSkipping line 9483: expected 8 fields, saw 9\\nSkipping line 9485: expected 8 fields, saw 9\\nSkipping line 9487: expected 8 fields, saw 9\\nSkipping line 9489: expected 8 fields, saw 9\\nSkipping line 9491: expected 8 fields, saw 9\\nSkipping line 9493: expected 8 fields, saw 9\\nSkipping line 9495: expected 8 fields, saw 9\\nSkipping line 9497: expected 8 fields, saw 9\\nSkipping line 9499: expected 8 fields, saw 9\\nSkipping line 9501: expected 8 fields, saw 9\\nSkipping line 9503: expected 8 fields, saw 9\\nSkipping line 9505: expected 8 fields, saw 9\\nSkipping line 9507: expected 8 fields, saw 9\\nSkipping line 9509: expected 8 fields, saw 9\\nSkipping line 9511: expected 8 fields, saw 9\\nSkipping line 9513: expected 8 fields, saw 9\\nSkipping line 9515: expected 8 fields, saw 9\\nSkipping line 9517: expected 8 fields, saw 9\\nSkipping line 9519: expected 8 fields, saw 9\\nSkipping line 9522: expected 8 fields, saw 9\\nSkipping line 9524: expected 8 fields, saw 9\\nSkipping line 9526: expected 8 fields, saw 9\\nSkipping line 9528: expected 8 fields, saw 9\\nSkipping line 9530: expected 8 fields, saw 9\\nSkipping line 9532: expected 8 fields, saw 9\\nSkipping line 9534: expected 8 fields, saw 9\\nSkipping line 9536: expected 8 fields, saw 9\\nSkipping line 9538: expected 8 fields, saw 9\\nSkipping line 9540: expected 8 fields, saw 9\\nSkipping line 9542: expected 8 fields, saw 9\\nSkipping line 9544: expected 8 fields, saw 9\\nSkipping line 9546: expected 8 fields, saw 9\\nSkipping line 9548: expected 8 fields, saw 9\\nSkipping line 9550: expected 8 fields, saw 9\\nSkipping line 9552: expected 8 fields, saw 9\\nSkipping line 9554: expected 8 fields, saw 9\\nSkipping line 9556: expected 8 fields, saw 9\\nSkipping line 9558: expected 8 fields, saw 9\\nSkipping line 9560: expected 8 fields, saw 9\\nSkipping line 9562: expected 8 fields, saw 9\\nSkipping line 9564: expected 8 fields, saw 9\\nSkipping line 9566: expected 8 fields, saw 9\\nSkipping line 9568: expected 8 fields, saw 9\\nSkipping line 9570: expected 8 fields, saw 9\\nSkipping line 9572: expected 8 fields, saw 9\\nSkipping line 9574: expected 8 fields, saw 9\\nSkipping line 9576: expected 8 fields, saw 9\\nSkipping line 9578: expected 8 fields, saw 9\\nSkipping line 9580: expected 8 fields, saw 9\\nSkipping line 9582: expected 8 fields, saw 9\\nSkipping line 9584: expected 8 fields, saw 9\\nSkipping line 9586: expected 8 fields, saw 9\\nSkipping line 9588: expected 8 fields, saw 9\\nSkipping line 9590: expected 8 fields, saw 9\\nSkipping line 9592: expected 8 fields, saw 9\\nSkipping line 9595: expected 8 fields, saw 9\\nSkipping line 9597: expected 8 fields, saw 9\\nSkipping line 9599: expected 8 fields, saw 9\\nSkipping line 9601: expected 8 fields, saw 9\\nSkipping line 9603: expected 8 fields, saw 9\\nSkipping line 9605: expected 8 fields, saw 9\\nSkipping line 9607: expected 8 fields, saw 9\\nSkipping line 9609: expected 8 fields, saw 9\\nSkipping line 9612: expected 8 fields, saw 9\\nSkipping line 9614: expected 8 fields, saw 9\\nSkipping line 9616: expected 8 fields, saw 9\\nSkipping line 9618: expected 8 fields, saw 9\\nSkipping line 9620: expected 8 fields, saw 9\\nSkipping line 9622: expected 8 fields, saw 9\\nSkipping line 9624: expected 8 fields, saw 9\\nSkipping line 9626: expected 8 fields, saw 9\\nSkipping line 9628: expected 8 fields, saw 9\\nSkipping line 9630: expected 8 fields, saw 9\\nSkipping line 9632: expected 8 fields, saw 9\\nSkipping line 9634: expected 8 fields, saw 9\\nSkipping line 9636: expected 8 fields, saw 9\\nSkipping line 9638: expected 8 fields, saw 9\\nSkipping line 9640: expected 8 fields, saw 9\\nSkipping line 9642: expected 8 fields, saw 9\\nSkipping line 9644: expected 8 fields, saw 9\\nSkipping line 9647: expected 8 fields, saw 9\\nSkipping line 9649: expected 8 fields, saw 9\\nSkipping line 9651: expected 8 fields, saw 9\\nSkipping line 9653: expected 8 fields, saw 9\\nSkipping line 9655: expected 8 fields, saw 9\\nSkipping line 9657: expected 8 fields, saw 9\\nSkipping line 9659: expected 8 fields, saw 9\\nSkipping line 9662: expected 8 fields, saw 9\\nSkipping line 9664: expected 8 fields, saw 9\\nSkipping line 9666: expected 8 fields, saw 9\\nSkipping line 9668: expected 8 fields, saw 9\\nSkipping line 9670: expected 8 fields, saw 9\\nSkipping line 9672: expected 8 fields, saw 9\\nSkipping line 9674: expected 8 fields, saw 9\\nSkipping line 9676: expected 8 fields, saw 9\\nSkipping line 9678: expected 8 fields, saw 9\\nSkipping line 9681: expected 8 fields, saw 9\\nSkipping line 9683: expected 8 fields, saw 9\\nSkipping line 9686: expected 8 fields, saw 9\\nSkipping line 9688: expected 8 fields, saw 9\\nSkipping line 9690: expected 8 fields, saw 9\\nSkipping line 9692: expected 8 fields, saw 9\\nSkipping line 9694: expected 8 fields, saw 9\\nSkipping line 9696: expected 8 fields, saw 9\\nSkipping line 9699: expected 8 fields, saw 9\\nSkipping line 9701: expected 8 fields, saw 9\\nSkipping line 9704: expected 8 fields, saw 9\\nSkipping line 9706: expected 8 fields, saw 9\\nSkipping line 9708: expected 8 fields, saw 9\\nSkipping line 9710: expected 8 fields, saw 9\\nSkipping line 9713: expected 8 fields, saw 9\\nSkipping line 9715: expected 8 fields, saw 9\\nSkipping line 9718: expected 8 fields, saw 9\\nSkipping line 9720: expected 8 fields, saw 9\\nSkipping line 9723: expected 8 fields, saw 9\\nSkipping line 9725: expected 8 fields, saw 9\\nSkipping line 9727: expected 8 fields, saw 9\\nSkipping line 9729: expected 8 fields, saw 9\\nSkipping line 9731: expected 8 fields, saw 9\\nSkipping line 9733: expected 8 fields, saw 9\\nSkipping line 9735: expected 8 fields, saw 9\\nSkipping line 9737: expected 8 fields, saw 9\\nSkipping line 9739: expected 8 fields, saw 9\\nSkipping line 9741: expected 8 fields, saw 9\\nSkipping line 9743: expected 8 fields, saw 9\\nSkipping line 9745: expected 8 fields, saw 9\\nSkipping line 9747: expected 8 fields, saw 9\\nSkipping line 9749: expected 8 fields, saw 9\\nSkipping line 9751: expected 8 fields, saw 9\\nSkipping line 9753: expected 8 fields, saw 9\\nSkipping line 9755: expected 8 fields, saw 9\\nSkipping line 9757: expected 8 fields, saw 9\\nSkipping line 9759: expected 8 fields, saw 9\\nSkipping line 9761: expected 8 fields, saw 9\\nSkipping line 9763: expected 8 fields, saw 9\\nSkipping line 9765: expected 8 fields, saw 9\\nSkipping line 9767: expected 8 fields, saw 9\\nSkipping line 9770: expected 8 fields, saw 9\\nSkipping line 9772: expected 8 fields, saw 9\\nSkipping line 9774: expected 8 fields, saw 9\\nSkipping line 9776: expected 8 fields, saw 9\\nSkipping line 9778: expected 8 fields, saw 9\\nSkipping line 9780: expected 8 fields, saw 9\\nSkipping line 9782: expected 8 fields, saw 9\\nSkipping line 9784: expected 8 fields, saw 9\\nSkipping line 9786: expected 8 fields, saw 9\\nSkipping line 9788: expected 8 fields, saw 9\\nSkipping line 9790: expected 8 fields, saw 9\\nSkipping line 9792: expected 8 fields, saw 9\\nSkipping line 9794: expected 8 fields, saw 9\\nSkipping line 9796: expected 8 fields, saw 9\\nSkipping line 9798: expected 8 fields, saw 9\\nSkipping line 9800: expected 8 fields, saw 9\\nSkipping line 9803: expected 8 fields, saw 9\\nSkipping line 9805: expected 8 fields, saw 9\\nSkipping line 9807: expected 8 fields, saw 9\\nSkipping line 9809: expected 8 fields, saw 9\\nSkipping line 9811: expected 8 fields, saw 9\\nSkipping line 9813: expected 8 fields, saw 9\\nSkipping line 9815: expected 8 fields, saw 9\\nSkipping line 9817: expected 8 fields, saw 9\\nSkipping line 9819: expected 8 fields, saw 9\\nSkipping line 9821: expected 8 fields, saw 9\\nSkipping line 9823: expected 8 fields, saw 9\\nSkipping line 9825: expected 8 fields, saw 9\\nSkipping line 9827: expected 8 fields, saw 9\\nSkipping line 9829: expected 8 fields, saw 9\\nSkipping line 9831: expected 8 fields, saw 9\\nSkipping line 9833: expected 8 fields, saw 9\\nSkipping line 9835: expected 8 fields, saw 9\\nSkipping line 9837: expected 8 fields, saw 9\\nSkipping line 9839: expected 8 fields, saw 9\\nSkipping line 9841: expected 8 fields, saw 9\\nSkipping line 9843: expected 8 fields, saw 9\\nSkipping line 9845: expected 8 fields, saw 9\\nSkipping line 9847: expected 8 fields, saw 9\\nSkipping line 9849: expected 8 fields, saw 9\\nSkipping line 9851: expected 8 fields, saw 9\\nSkipping line 9853: expected 8 fields, saw 9\\nSkipping line 9855: expected 8 fields, saw 9\\nSkipping line 9857: expected 8 fields, saw 9\\nSkipping line 9859: expected 8 fields, saw 9\\nSkipping line 9861: expected 8 fields, saw 9\\nSkipping line 9863: expected 8 fields, saw 9\\nSkipping line 9865: expected 8 fields, saw 9\\nSkipping line 9867: expected 8 fields, saw 9\\nSkipping line 9869: expected 8 fields, saw 9\\nSkipping line 9871: expected 8 fields, saw 9\\nSkipping line 9873: expected 8 fields, saw 9\\nSkipping line 9875: expected 8 fields, saw 9\\nSkipping line 9877: expected 8 fields, saw 9\\nSkipping line 9879: expected 8 fields, saw 9\\nSkipping line 9881: expected 8 fields, saw 9\\nSkipping line 9883: expected 8 fields, saw 9\\nSkipping line 9885: expected 8 fields, saw 9\\nSkipping line 9887: expected 8 fields, saw 9\\nSkipping line 9889: expected 8 fields, saw 9\\nSkipping line 9891: expected 8 fields, saw 9\\nSkipping line 9893: expected 8 fields, saw 9\\nSkipping line 9895: expected 8 fields, saw 9\\nSkipping line 9897: expected 8 fields, saw 9\\nSkipping line 9899: expected 8 fields, saw 9\\nSkipping line 9901: expected 8 fields, saw 9\\nSkipping line 9903: expected 8 fields, saw 9\\nSkipping line 9905: expected 8 fields, saw 9\\nSkipping line 9907: expected 8 fields, saw 9\\nSkipping line 9909: expected 8 fields, saw 9\\nSkipping line 9911: expected 8 fields, saw 9\\nSkipping line 9913: expected 8 fields, saw 9\\nSkipping line 9915: expected 8 fields, saw 9\\nSkipping line 9917: expected 8 fields, saw 9\\nSkipping line 9919: expected 8 fields, saw 9\\nSkipping line 9921: expected 8 fields, saw 9\\nSkipping line 9923: expected 8 fields, saw 9\\nSkipping line 9925: expected 8 fields, saw 9\\nSkipping line 9927: expected 8 fields, saw 9\\nSkipping line 9929: expected 8 fields, saw 9\\nSkipping line 9931: expected 8 fields, saw 9\\nSkipping line 9933: expected 8 fields, saw 9\\nSkipping line 9935: expected 8 fields, saw 9\\nSkipping line 9937: expected 8 fields, saw 9\\nSkipping line 9939: expected 8 fields, saw 9\\nSkipping line 9941: expected 8 fields, saw 9\\nSkipping line 9943: expected 8 fields, saw 9\\nSkipping line 9945: expected 8 fields, saw 9\\nSkipping line 9947: expected 8 fields, saw 9\\nSkipping line 9949: expected 8 fields, saw 9\\nSkipping line 9951: expected 8 fields, saw 9\\nSkipping line 9953: expected 8 fields, saw 9\\nSkipping line 9955: expected 8 fields, saw 9\\nSkipping line 9957: expected 8 fields, saw 9\\nSkipping line 9959: expected 8 fields, saw 9\\nSkipping line 9961: expected 8 fields, saw 9\\nSkipping line 9963: expected 8 fields, saw 9\\nSkipping line 9965: expected 8 fields, saw 9\\nSkipping line 9967: expected 8 fields, saw 9\\nSkipping line 9969: expected 8 fields, saw 9\\nSkipping line 9971: expected 8 fields, saw 9\\nSkipping line 9973: expected 8 fields, saw 9\\nSkipping line 9975: expected 8 fields, saw 9\\nSkipping line 9977: expected 8 fields, saw 9\\nSkipping line 9979: expected 8 fields, saw 9\\nSkipping line 9981: expected 8 fields, saw 9\\nSkipping line 9983: expected 8 fields, saw 9\\nSkipping line 9986: expected 8 fields, saw 9\\nSkipping line 9988: expected 8 fields, saw 9\\nSkipping line 9990: expected 8 fields, saw 9\\nSkipping line 9992: expected 8 fields, saw 9\\nSkipping line 9994: expected 8 fields, saw 9\\nSkipping line 9996: expected 8 fields, saw 9\\nSkipping line 9998: expected 8 fields, saw 9\\nSkipping line 10000: expected 8 fields, saw 9\\nSkipping line 10002: expected 8 fields, saw 9\\nSkipping line 10004: expected 8 fields, saw 9\\nSkipping line 10006: expected 8 fields, saw 9\\nSkipping line 10008: expected 8 fields, saw 9\\nSkipping line 10010: expected 8 fields, saw 9\\nSkipping line 10012: expected 8 fields, saw 9\\nSkipping line 10014: expected 8 fields, saw 9\\nSkipping line 10016: expected 8 fields, saw 9\\nSkipping line 10018: expected 8 fields, saw 9\\nSkipping line 10020: expected 8 fields, saw 9\\nSkipping line 10022: expected 8 fields, saw 9\\nSkipping line 10024: expected 8 fields, saw 9\\nSkipping line 10026: expected 8 fields, saw 9\\nSkipping line 10028: expected 8 fields, saw 9\\nSkipping line 10030: expected 8 fields, saw 9\\nSkipping line 10032: expected 8 fields, saw 9\\nSkipping line 10034: expected 8 fields, saw 9\\nSkipping line 10036: expected 8 fields, saw 9\\nSkipping line 10038: expected 8 fields, saw 9\\nSkipping line 10040: expected 8 fields, saw 9\\nSkipping line 10042: expected 8 fields, saw 9\\nSkipping line 10044: expected 8 fields, saw 9\\nSkipping line 10046: expected 8 fields, saw 9\\nSkipping line 10048: expected 8 fields, saw 9\\nSkipping line 10050: expected 8 fields, saw 9\\nSkipping line 10052: expected 8 fields, saw 9\\nSkipping line 10054: expected 8 fields, saw 9\\nSkipping line 10056: expected 8 fields, saw 9\\nSkipping line 10058: expected 8 fields, saw 9\\nSkipping line 10060: expected 8 fields, saw 9\\nSkipping line 10062: expected 8 fields, saw 9\\nSkipping line 10064: expected 8 fields, saw 9\\nSkipping line 10066: expected 8 fields, saw 9\\nSkipping line 10068: expected 8 fields, saw 9\\nSkipping line 10070: expected 8 fields, saw 9\\nSkipping line 10072: expected 8 fields, saw 9\\nSkipping line 10074: expected 8 fields, saw 9\\nSkipping line 10076: expected 8 fields, saw 9\\nSkipping line 10078: expected 8 fields, saw 9\\nSkipping line 10080: expected 8 fields, saw 9\\nSkipping line 10082: expected 8 fields, saw 9\\nSkipping line 10084: expected 8 fields, saw 9\\nSkipping line 10086: expected 8 fields, saw 9\\nSkipping line 10088: expected 8 fields, saw 9\\nSkipping line 10090: expected 8 fields, saw 9\\nSkipping line 10092: expected 8 fields, saw 9\\nSkipping line 10094: expected 8 fields, saw 9\\nSkipping line 10096: expected 8 fields, saw 9\\nSkipping line 10098: expected 8 fields, saw 9\\nSkipping line 10100: expected 8 fields, saw 9\\nSkipping line 10102: expected 8 fields, saw 9\\nSkipping line 10104: expected 8 fields, saw 9\\nSkipping line 10106: expected 8 fields, saw 9\\nSkipping line 10108: expected 8 fields, saw 9\\nSkipping line 10110: expected 8 fields, saw 9\\nSkipping line 10112: expected 8 fields, saw 9\\nSkipping line 10114: expected 8 fields, saw 9\\nSkipping line 10116: expected 8 fields, saw 9\\nSkipping line 10118: expected 8 fields, saw 9\\nSkipping line 10120: expected 8 fields, saw 9\\nSkipping line 10122: expected 8 fields, saw 9\\nSkipping line 10124: expected 8 fields, saw 9\\nSkipping line 10126: expected 8 fields, saw 9\\nSkipping line 10128: expected 8 fields, saw 9\\nSkipping line 10130: expected 8 fields, saw 9\\nSkipping line 10132: expected 8 fields, saw 9\\nSkipping line 10134: expected 8 fields, saw 9\\nSkipping line 10136: expected 8 fields, saw 9\\nSkipping line 10138: expected 8 fields, saw 9\\nSkipping line 10140: expected 8 fields, saw 9\\nSkipping line 10142: expected 8 fields, saw 9\\nSkipping line 10144: expected 8 fields, saw 9\\nSkipping line 10146: expected 8 fields, saw 9\\nSkipping line 10148: expected 8 fields, saw 9\\nSkipping line 10150: expected 8 fields, saw 9\\nSkipping line 10152: expected 8 fields, saw 9\\nSkipping line 10154: expected 8 fields, saw 9\\nSkipping line 10156: expected 8 fields, saw 9\\nSkipping line 10158: expected 8 fields, saw 9\\nSkipping line 10160: expected 8 fields, saw 9\\nSkipping line 10162: expected 8 fields, saw 9\\nSkipping line 10164: expected 8 fields, saw 9\\nSkipping line 10166: expected 8 fields, saw 9\\nSkipping line 10168: expected 8 fields, saw 9\\nSkipping line 10170: expected 8 fields, saw 9\\nSkipping line 10172: expected 8 fields, saw 9\\nSkipping line 10174: expected 8 fields, saw 9\\nSkipping line 10176: expected 8 fields, saw 9\\nSkipping line 10178: expected 8 fields, saw 9\\nSkipping line 10180: expected 8 fields, saw 9\\nSkipping line 10182: expected 8 fields, saw 9\\nSkipping line 10184: expected 8 fields, saw 9\\nSkipping line 10186: expected 8 fields, saw 9\\nSkipping line 10188: expected 8 fields, saw 9\\nSkipping line 10190: expected 8 fields, saw 9\\nSkipping line 10192: expected 8 fields, saw 9\\nSkipping line 10194: expected 8 fields, saw 9\\nSkipping line 10197: expected 8 fields, saw 9\\nSkipping line 10199: expected 8 fields, saw 9\\nSkipping line 10201: expected 8 fields, saw 9\\nSkipping line 10203: expected 8 fields, saw 9\\nSkipping line 10205: expected 8 fields, saw 9\\nSkipping line 10207: expected 8 fields, saw 9\\nSkipping line 10209: expected 8 fields, saw 9\\nSkipping line 10211: expected 8 fields, saw 9\\nSkipping line 10213: expected 8 fields, saw 9\\nSkipping line 10215: expected 8 fields, saw 9\\nSkipping line 10217: expected 8 fields, saw 9\\nSkipping line 10219: expected 8 fields, saw 9\\nSkipping line 10222: expected 8 fields, saw 9\\nSkipping line 10224: expected 8 fields, saw 9\\nSkipping line 10226: expected 8 fields, saw 9\\nSkipping line 10228: expected 8 fields, saw 9\\nSkipping line 10230: expected 8 fields, saw 9\\nSkipping line 10232: expected 8 fields, saw 9\\nSkipping line 10234: expected 8 fields, saw 9\\nSkipping line 10236: expected 8 fields, saw 9\\nSkipping line 10238: expected 8 fields, saw 9\\nSkipping line 10240: expected 8 fields, saw 9\\nSkipping line 10242: expected 8 fields, saw 9\\nSkipping line 10244: expected 8 fields, saw 9\\nSkipping line 10246: expected 8 fields, saw 9\\nSkipping line 10248: expected 8 fields, saw 9\\nSkipping line 10250: expected 8 fields, saw 9\\nSkipping line 10252: expected 8 fields, saw 9\\nSkipping line 10254: expected 8 fields, saw 9\\nSkipping line 10256: expected 8 fields, saw 9\\nSkipping line 10258: expected 8 fields, saw 9\\nSkipping line 10260: expected 8 fields, saw 9\\nSkipping line 10262: expected 8 fields, saw 9\\nSkipping line 10264: expected 8 fields, saw 9\\nSkipping line 10266: expected 8 fields, saw 9\\nSkipping line 10268: expected 8 fields, saw 9\\nSkipping line 10270: expected 8 fields, saw 9\\nSkipping line 10272: expected 8 fields, saw 9\\nSkipping line 10274: expected 8 fields, saw 9\\nSkipping line 10276: expected 8 fields, saw 9\\nSkipping line 10278: expected 8 fields, saw 9\\nSkipping line 10280: expected 8 fields, saw 9\\nSkipping line 10282: expected 8 fields, saw 9\\nSkipping line 10284: expected 8 fields, saw 9\\nSkipping line 10286: expected 8 fields, saw 9\\nSkipping line 10288: expected 8 fields, saw 9\\nSkipping line 10290: expected 8 fields, saw 9\\nSkipping line 10292: expected 8 fields, saw 9\\nSkipping line 10294: expected 8 fields, saw 9\\nSkipping line 10296: expected 8 fields, saw 9\\nSkipping line 10298: expected 8 fields, saw 9\\nSkipping line 10300: expected 8 fields, saw 9\\nSkipping line 10302: expected 8 fields, saw 9\\nSkipping line 10304: expected 8 fields, saw 9\\nSkipping line 10306: expected 8 fields, saw 9\\nSkipping line 10308: expected 8 fields, saw 9\\nSkipping line 10310: expected 8 fields, saw 9\\nSkipping line 10312: expected 8 fields, saw 9\\nSkipping line 10314: expected 8 fields, saw 9\\nSkipping line 10316: expected 8 fields, saw 9\\nSkipping line 10318: expected 8 fields, saw 9\\nSkipping line 10320: expected 8 fields, saw 9\\nSkipping line 10322: expected 8 fields, saw 9\\nSkipping line 10324: expected 8 fields, saw 9\\nSkipping line 10326: expected 8 fields, saw 9\\nSkipping line 10328: expected 8 fields, saw 9\\nSkipping line 10330: expected 8 fields, saw 9\\nSkipping line 10332: expected 8 fields, saw 9\\nSkipping line 10334: expected 8 fields, saw 9\\nSkipping line 10336: expected 8 fields, saw 9\\nSkipping line 10338: expected 8 fields, saw 9\\nSkipping line 10340: expected 8 fields, saw 9\\nSkipping line 10342: expected 8 fields, saw 9\\nSkipping line 10344: expected 8 fields, saw 9\\nSkipping line 10347: expected 8 fields, saw 9\\nSkipping line 10349: expected 8 fields, saw 9\\nSkipping line 10351: expected 8 fields, saw 9\\nSkipping line 10353: expected 8 fields, saw 9\\nSkipping line 10356: expected 8 fields, saw 9\\nSkipping line 10358: expected 8 fields, saw 9\\nSkipping line 10360: expected 8 fields, saw 9\\nSkipping line 10362: expected 8 fields, saw 9\\nSkipping line 10364: expected 8 fields, saw 9\\nSkipping line 10366: expected 8 fields, saw 9\\nSkipping line 10368: expected 8 fields, saw 9\\nSkipping line 10370: expected 8 fields, saw 9\\nSkipping line 10373: expected 8 fields, saw 9\\nSkipping line 10375: expected 8 fields, saw 9\\nSkipping line 10377: expected 8 fields, saw 9\\nSkipping line 10379: expected 8 fields, saw 9\\nSkipping line 10381: expected 8 fields, saw 9\\nSkipping line 10383: expected 8 fields, saw 9\\nSkipping line 10385: expected 8 fields, saw 9\\nSkipping line 10387: expected 8 fields, saw 9\\nSkipping line 10389: expected 8 fields, saw 9\\nSkipping line 10391: expected 8 fields, saw 9\\nSkipping line 10394: expected 8 fields, saw 9\\nSkipping line 10396: expected 8 fields, saw 9\\nSkipping line 10398: expected 8 fields, saw 9\\nSkipping line 10400: expected 8 fields, saw 9\\nSkipping line 10402: expected 8 fields, saw 9\\nSkipping line 10404: expected 8 fields, saw 9\\nSkipping line 10407: expected 8 fields, saw 9\\nSkipping line 10409: expected 8 fields, saw 9\\nSkipping line 10411: expected 8 fields, saw 9\\nSkipping line 10413: expected 8 fields, saw 9\\nSkipping line 10415: expected 8 fields, saw 9\\nSkipping line 10417: expected 8 fields, saw 9\\nSkipping line 10419: expected 8 fields, saw 9\\nSkipping line 10421: expected 8 fields, saw 9\\nSkipping line 10423: expected 8 fields, saw 9\\nSkipping line 10425: expected 8 fields, saw 9\\nSkipping line 10427: expected 8 fields, saw 9\\nSkipping line 10429: expected 8 fields, saw 9\\nSkipping line 10431: expected 8 fields, saw 9\\nSkipping line 10433: expected 8 fields, saw 9\\nSkipping line 10435: expected 8 fields, saw 9\\nSkipping line 10438: expected 8 fields, saw 9\\nSkipping line 10440: expected 8 fields, saw 9\\nSkipping line 10443: expected 8 fields, saw 9\\nSkipping line 10445: expected 8 fields, saw 9\\nSkipping line 10447: expected 8 fields, saw 9\\nSkipping line 10449: expected 8 fields, saw 9\\nSkipping line 10451: expected 8 fields, saw 9\\nSkipping line 10453: expected 8 fields, saw 9\\nSkipping line 10455: expected 8 fields, saw 9\\nSkipping line 10457: expected 8 fields, saw 9\\nSkipping line 10461: expected 8 fields, saw 9\\nSkipping line 10463: expected 8 fields, saw 9\\nSkipping line 10465: expected 8 fields, saw 9\\nSkipping line 10467: expected 8 fields, saw 9\\nSkipping line 10469: expected 8 fields, saw 9\\nSkipping line 10472: expected 8 fields, saw 9\\nSkipping line 10474: expected 8 fields, saw 9\\nSkipping line 10477: expected 8 fields, saw 9\\nSkipping line 10479: expected 8 fields, saw 9\\nSkipping line 10481: expected 8 fields, saw 9\\nSkipping line 10483: expected 8 fields, saw 9\\nSkipping line 10486: expected 8 fields, saw 9\\nSkipping line 10488: expected 8 fields, saw 9\\nSkipping line 10490: expected 8 fields, saw 9\\nSkipping line 10492: expected 8 fields, saw 9\\nSkipping line 10494: expected 8 fields, saw 9\\nSkipping line 10496: expected 8 fields, saw 9\\nSkipping line 10498: expected 8 fields, saw 9\\nSkipping line 10500: expected 8 fields, saw 9\\nSkipping line 10502: expected 8 fields, saw 9\\nSkipping line 10504: expected 8 fields, saw 9\\nSkipping line 10506: expected 8 fields, saw 9\\nSkipping line 10508: expected 8 fields, saw 9\\nSkipping line 10510: expected 8 fields, saw 9\\nSkipping line 10512: expected 8 fields, saw 9\\nSkipping line 10514: expected 8 fields, saw 9\\nSkipping line 10516: expected 8 fields, saw 9\\nSkipping line 10518: expected 8 fields, saw 9\\nSkipping line 10520: expected 8 fields, saw 9\\nSkipping line 10522: expected 8 fields, saw 9\\nSkipping line 10524: expected 8 fields, saw 9\\nSkipping line 10526: expected 8 fields, saw 9\\nSkipping line 10528: expected 8 fields, saw 9\\nSkipping line 10531: expected 8 fields, saw 9\\nSkipping line 10533: expected 8 fields, saw 9\\nSkipping line 10535: expected 8 fields, saw 9\\nSkipping line 10537: expected 8 fields, saw 9\\nSkipping line 10539: expected 8 fields, saw 9\\nSkipping line 10541: expected 8 fields, saw 9\\nSkipping line 10543: expected 8 fields, saw 9\\nSkipping line 10545: expected 8 fields, saw 9\\nSkipping line 10547: expected 8 fields, saw 9\\nSkipping line 10549: expected 8 fields, saw 9\\nSkipping line 10551: expected 8 fields, saw 9\\nSkipping line 10553: expected 8 fields, saw 9\\nSkipping line 10555: expected 8 fields, saw 9\\nSkipping line 10557: expected 8 fields, saw 9\\nSkipping line 10559: expected 8 fields, saw 9\\nSkipping line 10561: expected 8 fields, saw 9\\nSkipping line 10563: expected 8 fields, saw 9\\nSkipping line 10565: expected 8 fields, saw 9\\nSkipping line 10567: expected 8 fields, saw 9\\nSkipping line 10569: expected 8 fields, saw 9\\nSkipping line 10571: expected 8 fields, saw 9\\nSkipping line 10573: expected 8 fields, saw 9\\nSkipping line 10575: expected 8 fields, saw 9\\nSkipping line 10577: expected 8 fields, saw 9\\nSkipping line 10579: expected 8 fields, saw 9\\nSkipping line 10581: expected 8 fields, saw 9\\nSkipping line 10583: expected 8 fields, saw 9\\nSkipping line 10585: expected 8 fields, saw 9\\nSkipping line 10587: expected 8 fields, saw 9\\nSkipping line 10589: expected 8 fields, saw 9\\nSkipping line 10591: expected 8 fields, saw 9\\nSkipping line 10593: expected 8 fields, saw 9\\nSkipping line 10595: expected 8 fields, saw 9\\nSkipping line 10597: expected 8 fields, saw 9\\nSkipping line 10599: expected 8 fields, saw 9\\nSkipping line 10601: expected 8 fields, saw 9\\nSkipping line 10603: expected 8 fields, saw 9\\nSkipping line 10605: expected 8 fields, saw 9\\nSkipping line 10607: expected 8 fields, saw 9\\nSkipping line 10609: expected 8 fields, saw 9\\nSkipping line 10611: expected 8 fields, saw 9\\nSkipping line 10613: expected 8 fields, saw 9\\nSkipping line 10615: expected 8 fields, saw 9\\nSkipping line 10617: expected 8 fields, saw 9\\nSkipping line 10619: expected 8 fields, saw 9\\nSkipping line 10621: expected 8 fields, saw 9\\nSkipping line 10623: expected 8 fields, saw 9\\nSkipping line 10625: expected 8 fields, saw 9\\nSkipping line 10627: expected 8 fields, saw 9\\nSkipping line 10629: expected 8 fields, saw 9\\nSkipping line 10631: expected 8 fields, saw 9\\nSkipping line 10633: expected 8 fields, saw 9\\nSkipping line 10635: expected 8 fields, saw 9\\nSkipping line 10637: expected 8 fields, saw 9\\nSkipping line 10639: expected 8 fields, saw 9\\nSkipping line 10641: expected 8 fields, saw 9\\nSkipping line 10643: expected 8 fields, saw 9\\nSkipping line 10645: expected 8 fields, saw 9\\nSkipping line 10647: expected 8 fields, saw 9\\nSkipping line 10649: expected 8 fields, saw 9\\nSkipping line 10651: expected 8 fields, saw 9\\nSkipping line 10653: expected 8 fields, saw 9\\nSkipping line 10655: expected 8 fields, saw 9\\nSkipping line 10657: expected 8 fields, saw 9\\nSkipping line 10659: expected 8 fields, saw 9\\nSkipping line 10661: expected 8 fields, saw 9\\nSkipping line 10663: expected 8 fields, saw 9\\nSkipping line 10665: expected 8 fields, saw 9\\nSkipping line 10667: expected 8 fields, saw 9\\nSkipping line 10669: expected 8 fields, saw 9\\nSkipping line 10671: expected 8 fields, saw 9\\nSkipping line 10673: expected 8 fields, saw 9\\nSkipping line 10675: expected 8 fields, saw 9\\nSkipping line 10677: expected 8 fields, saw 9\\nSkipping line 10679: expected 8 fields, saw 9\\nSkipping line 10681: expected 8 fields, saw 9\\nSkipping line 10683: expected 8 fields, saw 9\\nSkipping line 10685: expected 8 fields, saw 9\\nSkipping line 10687: expected 8 fields, saw 9\\nSkipping line 10689: expected 8 fields, saw 9\\nSkipping line 10691: expected 8 fields, saw 9\\nSkipping line 10693: expected 8 fields, saw 9\\nSkipping line 10695: expected 8 fields, saw 9\\nSkipping line 10697: expected 8 fields, saw 9\\nSkipping line 10699: expected 8 fields, saw 9\\nSkipping line 10701: expected 8 fields, saw 9\\nSkipping line 10703: expected 8 fields, saw 9\\nSkipping line 10705: expected 8 fields, saw 9\\nSkipping line 10707: expected 8 fields, saw 9\\nSkipping line 10709: expected 8 fields, saw 9\\nSkipping line 10711: expected 8 fields, saw 9\\nSkipping line 10713: expected 8 fields, saw 9\\nSkipping line 10715: expected 8 fields, saw 9\\nSkipping line 10717: expected 8 fields, saw 9\\nSkipping line 10719: expected 8 fields, saw 9\\nSkipping line 10722: expected 8 fields, saw 9\\nSkipping line 10724: expected 8 fields, saw 9\\nSkipping line 10727: expected 8 fields, saw 9\\nSkipping line 10729: expected 8 fields, saw 9\\nSkipping line 10732: expected 8 fields, saw 9\\nSkipping line 10734: expected 8 fields, saw 9\\nSkipping line 10736: expected 8 fields, saw 9\\nSkipping line 10738: expected 8 fields, saw 9\\nSkipping line 10740: expected 8 fields, saw 9\\nSkipping line 10742: expected 8 fields, saw 9\\nSkipping line 10744: expected 8 fields, saw 9\\nSkipping line 10746: expected 8 fields, saw 9\\nSkipping line 10748: expected 8 fields, saw 9\\nSkipping line 10750: expected 8 fields, saw 9\\nSkipping line 10752: expected 8 fields, saw 9\\nSkipping line 10754: expected 8 fields, saw 9\\nSkipping line 10756: expected 8 fields, saw 9\\nSkipping line 10759: expected 8 fields, saw 9\\nSkipping line 10761: expected 8 fields, saw 9\\nSkipping line 10763: expected 8 fields, saw 9\\nSkipping line 10765: expected 8 fields, saw 9\\nSkipping line 10767: expected 8 fields, saw 9\\nSkipping line 10769: expected 8 fields, saw 9\\nSkipping line 10771: expected 8 fields, saw 9\\nSkipping line 10773: expected 8 fields, saw 9\\nSkipping line 10775: expected 8 fields, saw 9\\nSkipping line 10777: expected 8 fields, saw 9\\nSkipping line 10779: expected 8 fields, saw 9\\nSkipping line 10781: expected 8 fields, saw 9\\nSkipping line 10783: expected 8 fields, saw 9\\nSkipping line 10785: expected 8 fields, saw 9\\nSkipping line 10787: expected 8 fields, saw 9\\nSkipping line 10789: expected 8 fields, saw 9\\nSkipping line 10791: expected 8 fields, saw 9\\nSkipping line 10794: expected 8 fields, saw 9\\nSkipping line 10796: expected 8 fields, saw 9\\nSkipping line 10799: expected 8 fields, saw 9\\nSkipping line 10801: expected 8 fields, saw 9\\nSkipping line 10803: expected 8 fields, saw 9\\nSkipping line 10805: expected 8 fields, saw 9\\nSkipping line 10807: expected 8 fields, saw 9\\nSkipping line 10809: expected 8 fields, saw 9\\nSkipping line 10811: expected 8 fields, saw 9\\nSkipping line 10813: expected 8 fields, saw 9\\nSkipping line 10815: expected 8 fields, saw 9\\nSkipping line 10817: expected 8 fields, saw 9\\nSkipping line 10819: expected 8 fields, saw 9\\nSkipping line 10821: expected 8 fields, saw 9\\nSkipping line 10823: expected 8 fields, saw 9\\nSkipping line 10825: expected 8 fields, saw 9\\nSkipping line 10828: expected 8 fields, saw 9\\nSkipping line 10830: expected 8 fields, saw 9\\nSkipping line 10832: expected 8 fields, saw 9\\nSkipping line 10834: expected 8 fields, saw 9\\nSkipping line 10836: expected 8 fields, saw 9\\nSkipping line 10838: expected 8 fields, saw 9\\nSkipping line 10840: expected 8 fields, saw 9\\nSkipping line 10842: expected 8 fields, saw 9\\nSkipping line 10844: expected 8 fields, saw 9\\nSkipping line 10846: expected 8 fields, saw 9\\nSkipping line 10848: expected 8 fields, saw 9\\nSkipping line 10850: expected 8 fields, saw 9\\nSkipping line 10852: expected 8 fields, saw 9\\nSkipping line 10854: expected 8 fields, saw 9\\nSkipping line 10856: expected 8 fields, saw 9\\nSkipping line 10858: expected 8 fields, saw 9\\nSkipping line 10860: expected 8 fields, saw 9\\nSkipping line 10862: expected 8 fields, saw 9\\nSkipping line 10864: expected 8 fields, saw 9\\nSkipping line 10866: expected 8 fields, saw 9\\nSkipping line 10868: expected 8 fields, saw 9\\nSkipping line 10870: expected 8 fields, saw 9\\nSkipping line 10872: expected 8 fields, saw 9\\nSkipping line 10874: expected 8 fields, saw 9\\nSkipping line 10876: expected 8 fields, saw 9\\nSkipping line 10878: expected 8 fields, saw 9\\nSkipping line 10880: expected 8 fields, saw 9\\nSkipping line 10882: expected 8 fields, saw 9\\nSkipping line 10884: expected 8 fields, saw 9\\nSkipping line 10886: expected 8 fields, saw 9\\nSkipping line 10888: expected 8 fields, saw 9\\nSkipping line 10890: expected 8 fields, saw 9\\nSkipping line 10892: expected 8 fields, saw 9\\nSkipping line 10894: expected 8 fields, saw 9\\nSkipping line 10896: expected 8 fields, saw 9\\nSkipping line 10898: expected 8 fields, saw 9\\nSkipping line 10900: expected 8 fields, saw 9\\nSkipping line 10902: expected 8 fields, saw 9\\nSkipping line 10904: expected 8 fields, saw 9\\nSkipping line 10906: expected 8 fields, saw 9\\nSkipping line 10908: expected 8 fields, saw 9\\nSkipping line 10910: expected 8 fields, saw 9\\nSkipping line 10912: expected 8 fields, saw 9\\nSkipping line 10914: expected 8 fields, saw 9\\nSkipping line 10916: expected 8 fields, saw 9\\nSkipping line 10918: expected 8 fields, saw 9\\nSkipping line 10920: expected 8 fields, saw 9\\nSkipping line 10922: expected 8 fields, saw 9\\nSkipping line 10924: expected 8 fields, saw 9\\nSkipping line 10926: expected 8 fields, saw 9\\nSkipping line 10928: expected 8 fields, saw 9\\nSkipping line 10930: expected 8 fields, saw 9\\nSkipping line 10932: expected 8 fields, saw 9\\nSkipping line 10934: expected 8 fields, saw 9\\nSkipping line 10936: expected 8 fields, saw 9\\nSkipping line 10938: expected 8 fields, saw 9\\nSkipping line 10940: expected 8 fields, saw 9\\nSkipping line 10942: expected 8 fields, saw 9\\nSkipping line 10944: expected 8 fields, saw 9\\nSkipping line 10946: expected 8 fields, saw 9\\nSkipping line 10948: expected 8 fields, saw 9\\nSkipping line 10950: expected 8 fields, saw 9\\nSkipping line 10952: expected 8 fields, saw 9\\nSkipping line 10954: expected 8 fields, saw 9\\nSkipping line 10956: expected 8 fields, saw 9\\nSkipping line 10958: expected 8 fields, saw 9\\nSkipping line 10960: expected 8 fields, saw 9\\nSkipping line 10962: expected 8 fields, saw 9\\nSkipping line 10964: expected 8 fields, saw 9\\nSkipping line 10966: expected 8 fields, saw 9\\nSkipping line 10968: expected 8 fields, saw 9\\nSkipping line 10970: expected 8 fields, saw 9\\nSkipping line 10972: expected 8 fields, saw 9\\nSkipping line 10974: expected 8 fields, saw 9\\nSkipping line 10976: expected 8 fields, saw 9\\nSkipping line 10978: expected 8 fields, saw 9\\nSkipping line 10980: expected 8 fields, saw 9\\nSkipping line 10982: expected 8 fields, saw 9\\nSkipping line 10984: expected 8 fields, saw 9\\nSkipping line 10986: expected 8 fields, saw 9\\nSkipping line 10989: expected 8 fields, saw 9\\nSkipping line 10991: expected 8 fields, saw 9\\nSkipping line 10993: expected 8 fields, saw 9\\nSkipping line 10995: expected 8 fields, saw 9\\nSkipping line 10997: expected 8 fields, saw 9\\nSkipping line 10999: expected 8 fields, saw 9\\nSkipping line 11001: expected 8 fields, saw 9\\nSkipping line 11004: expected 8 fields, saw 9\\nSkipping line 11006: expected 8 fields, saw 9\\nSkipping line 11008: expected 8 fields, saw 9\\nSkipping line 11010: expected 8 fields, saw 9\\nSkipping line 11012: expected 8 fields, saw 9\\nSkipping line 11014: expected 8 fields, saw 9\\nSkipping line 11016: expected 8 fields, saw 9\\nSkipping line 11018: expected 8 fields, saw 9\\nSkipping line 11020: expected 8 fields, saw 9\\nSkipping line 11022: expected 8 fields, saw 9\\nSkipping line 11024: expected 8 fields, saw 9\\nSkipping line 11026: expected 8 fields, saw 9\\nSkipping line 11028: expected 8 fields, saw 9\\nSkipping line 11030: expected 8 fields, saw 9\\nSkipping line 11032: expected 8 fields, saw 9\\nSkipping line 11034: expected 8 fields, saw 9\\nSkipping line 11036: expected 8 fields, saw 9\\nSkipping line 11038: expected 8 fields, saw 9\\nSkipping line 11040: expected 8 fields, saw 9\\nSkipping line 11042: expected 8 fields, saw 9\\nSkipping line 11044: expected 8 fields, saw 9\\nSkipping line 11046: expected 8 fields, saw 9\\nSkipping line 11048: expected 8 fields, saw 9\\nSkipping line 11050: expected 8 fields, saw 9\\nSkipping line 11052: expected 8 fields, saw 9\\nSkipping line 11054: expected 8 fields, saw 9\\nSkipping line 11056: expected 8 fields, saw 9\\nSkipping line 11058: expected 8 fields, saw 9\\nSkipping line 11060: expected 8 fields, saw 9\\nSkipping line 11062: expected 8 fields, saw 9\\nSkipping line 11064: expected 8 fields, saw 9\\nSkipping line 11066: expected 8 fields, saw 9\\nSkipping line 11068: expected 8 fields, saw 9\\nSkipping line 11070: expected 8 fields, saw 9\\nSkipping line 11072: expected 8 fields, saw 9\\nSkipping line 11074: expected 8 fields, saw 9\\nSkipping line 11076: expected 8 fields, saw 9\\nSkipping line 11078: expected 8 fields, saw 9\\nSkipping line 11080: expected 8 fields, saw 9\\nSkipping line 11082: expected 8 fields, saw 9\\nSkipping line 11084: expected 8 fields, saw 9\\nSkipping line 11086: expected 8 fields, saw 9\\nSkipping line 11088: expected 8 fields, saw 9\\nSkipping line 11090: expected 8 fields, saw 9\\nSkipping line 11092: expected 8 fields, saw 9\\nSkipping line 11094: expected 8 fields, saw 9\\nSkipping line 11096: expected 8 fields, saw 9\\nSkipping line 11098: expected 8 fields, saw 9\\nSkipping line 11100: expected 8 fields, saw 9\\nSkipping line 11102: expected 8 fields, saw 9\\nSkipping line 11104: expected 8 fields, saw 9\\nSkipping line 11106: expected 8 fields, saw 9\\nSkipping line 11108: expected 8 fields, saw 9\\nSkipping line 11110: expected 8 fields, saw 9\\nSkipping line 11112: expected 8 fields, saw 9\\nSkipping line 11114: expected 8 fields, saw 9\\nSkipping line 11117: expected 8 fields, saw 9\\nSkipping line 11119: expected 8 fields, saw 9\\nSkipping line 11121: expected 8 fields, saw 9\\nSkipping line 11123: expected 8 fields, saw 9\\nSkipping line 11125: expected 8 fields, saw 9\\nSkipping line 11127: expected 8 fields, saw 9\\nSkipping line 11129: expected 8 fields, saw 9\\nSkipping line 11131: expected 8 fields, saw 9\\nSkipping line 11133: expected 8 fields, saw 9\\nSkipping line 11135: expected 8 fields, saw 9\\nSkipping line 11138: expected 8 fields, saw 9\\nSkipping line 11140: expected 8 fields, saw 9\\nSkipping line 11142: expected 8 fields, saw 9\\nSkipping line 11144: expected 8 fields, saw 9\\nSkipping line 11146: expected 8 fields, saw 9\\nSkipping line 11148: expected 8 fields, saw 9\\nSkipping line 11150: expected 8 fields, saw 9\\nSkipping line 11152: expected 8 fields, saw 9\\nSkipping line 11154: expected 8 fields, saw 9\\nSkipping line 11156: expected 8 fields, saw 9\\nSkipping line 11158: expected 8 fields, saw 9\\nSkipping line 11160: expected 8 fields, saw 9\\nSkipping line 11163: expected 8 fields, saw 9\\nSkipping line 11165: expected 8 fields, saw 9\\nSkipping line 11167: expected 8 fields, saw 9\\nSkipping line 11169: expected 8 fields, saw 9\\nSkipping line 11171: expected 8 fields, saw 9\\nSkipping line 11173: expected 8 fields, saw 9\\nSkipping line 11175: expected 8 fields, saw 9\\nSkipping line 11177: expected 8 fields, saw 9\\nSkipping line 11179: expected 8 fields, saw 9\\nSkipping line 11181: expected 8 fields, saw 9\\nSkipping line 11184: expected 8 fields, saw 9\\nSkipping line 11186: expected 8 fields, saw 9\\nSkipping line 11188: expected 8 fields, saw 9\\nSkipping line 11190: expected 8 fields, saw 9\\nSkipping line 11192: expected 8 fields, saw 9\\nSkipping line 11194: expected 8 fields, saw 9\\nSkipping line 11196: expected 8 fields, saw 9\\nSkipping line 11198: expected 8 fields, saw 9\\nSkipping line 11200: expected 8 fields, saw 9\\nSkipping line 11202: expected 8 fields, saw 9\\nSkipping line 11204: expected 8 fields, saw 9\\nSkipping line 11206: expected 8 fields, saw 9\\nSkipping line 11208: expected 8 fields, saw 9\\nSkipping line 11210: expected 8 fields, saw 9\\nSkipping line 11213: expected 8 fields, saw 9\\nSkipping line 11215: expected 8 fields, saw 9\\nSkipping line 11217: expected 8 fields, saw 9\\nSkipping line 11219: expected 8 fields, saw 9\\nSkipping line 11221: expected 8 fields, saw 9\\nSkipping line 11223: expected 8 fields, saw 9\\nSkipping line 11225: expected 8 fields, saw 9\\nSkipping line 11227: expected 8 fields, saw 9\\nSkipping line 11229: expected 8 fields, saw 9\\nSkipping line 11231: expected 8 fields, saw 9\\nSkipping line 11233: expected 8 fields, saw 9\\nSkipping line 11235: expected 8 fields, saw 9\\nSkipping line 11238: expected 8 fields, saw 9\\nSkipping line 11240: expected 8 fields, saw 9\\nSkipping line 11242: expected 8 fields, saw 9\\nSkipping line 11244: expected 8 fields, saw 9\\nSkipping line 11246: expected 8 fields, saw 9\\nSkipping line 11248: expected 8 fields, saw 9\\nSkipping line 11251: expected 8 fields, saw 9\\nSkipping line 11253: expected 8 fields, saw 9\\nSkipping line 11256: expected 8 fields, saw 9\\nSkipping line 11258: expected 8 fields, saw 9\\nSkipping line 11260: expected 8 fields, saw 9\\nSkipping line 11262: expected 8 fields, saw 9\\nSkipping line 11264: expected 8 fields, saw 9\\nSkipping line 11266: expected 8 fields, saw 9\\nSkipping line 11268: expected 8 fields, saw 9\\nSkipping line 11270: expected 8 fields, saw 9\\nSkipping line 11272: expected 8 fields, saw 9\\nSkipping line 11274: expected 8 fields, saw 9\\nSkipping line 11276: expected 8 fields, saw 9\\nSkipping line 11278: expected 8 fields, saw 9\\nSkipping line 11280: expected 8 fields, saw 9\\nSkipping line 11282: expected 8 fields, saw 9\\nSkipping line 11284: expected 8 fields, saw 9\\nSkipping line 11286: expected 8 fields, saw 9\\nSkipping line 11289: expected 8 fields, saw 9\\nSkipping line 11291: expected 8 fields, saw 9\\nSkipping line 11293: expected 8 fields, saw 9\\nSkipping line 11295: expected 8 fields, saw 9\\nSkipping line 11297: expected 8 fields, saw 9\\nSkipping line 11299: expected 8 fields, saw 9\\nSkipping line 11301: expected 8 fields, saw 9\\nSkipping line 11303: expected 8 fields, saw 9\\nSkipping line 11305: expected 8 fields, saw 9\\nSkipping line 11307: expected 8 fields, saw 9\\nSkipping line 11309: expected 8 fields, saw 9\\nSkipping line 11312: expected 8 fields, saw 9\\nSkipping line 11314: expected 8 fields, saw 9\\nSkipping line 11316: expected 8 fields, saw 9\\nSkipping line 11318: expected 8 fields, saw 9\\nSkipping line 11320: expected 8 fields, saw 9\\nSkipping line 11322: expected 8 fields, saw 9\\nSkipping line 11324: expected 8 fields, saw 9\\nSkipping line 11326: expected 8 fields, saw 9\\nSkipping line 11328: expected 8 fields, saw 9\\nSkipping line 11330: expected 8 fields, saw 9\\nSkipping line 11332: expected 8 fields, saw 9\\nSkipping line 11334: expected 8 fields, saw 9\\nSkipping line 11336: expected 8 fields, saw 9\\nSkipping line 11338: expected 8 fields, saw 9\\nSkipping line 11340: expected 8 fields, saw 9\\nSkipping line 11342: expected 8 fields, saw 9\\nSkipping line 11344: expected 8 fields, saw 9\\nSkipping line 11346: expected 8 fields, saw 9\\nSkipping line 11348: expected 8 fields, saw 9\\nSkipping line 11350: expected 8 fields, saw 9\\nSkipping line 11352: expected 8 fields, saw 9\\nSkipping line 11354: expected 8 fields, saw 9\\nSkipping line 11356: expected 8 fields, saw 9\\nSkipping line 11358: expected 8 fields, saw 9\\nSkipping line 11360: expected 8 fields, saw 9\\nSkipping line 11362: expected 8 fields, saw 9\\nSkipping line 11364: expected 8 fields, saw 9\\nSkipping line 11366: expected 8 fields, saw 9\\nSkipping line 11368: expected 8 fields, saw 9\\nSkipping line 11370: expected 8 fields, saw 9\\nSkipping line 11372: expected 8 fields, saw 9\\nSkipping line 11374: expected 8 fields, saw 9\\nSkipping line 11377: expected 8 fields, saw 9\\nSkipping line 11379: expected 8 fields, saw 9\\nSkipping line 11381: expected 8 fields, saw 9\\nSkipping line 11383: expected 8 fields, saw 9\\nSkipping line 11385: expected 8 fields, saw 9\\nSkipping line 11387: expected 8 fields, saw 9\\nSkipping line 11389: expected 8 fields, saw 9\\nSkipping line 11391: expected 8 fields, saw 9\\nSkipping line 11393: expected 8 fields, saw 9\\nSkipping line 11395: expected 8 fields, saw 9\\nSkipping line 11397: expected 8 fields, saw 9\\nSkipping line 11399: expected 8 fields, saw 9\\nSkipping line 11401: expected 8 fields, saw 9\\nSkipping line 11403: expected 8 fields, saw 9\\nSkipping line 11405: expected 8 fields, saw 9\\nSkipping line 11407: expected 8 fields, saw 9\\nSkipping line 11409: expected 8 fields, saw 9\\nSkipping line 11411: expected 8 fields, saw 9\\nSkipping line 11413: expected 8 fields, saw 9\\nSkipping line 11415: expected 8 fields, saw 9\\nSkipping line 11417: expected 8 fields, saw 9\\nSkipping line 11419: expected 8 fields, saw 9\\nSkipping line 11422: expected 8 fields, saw 9\\nSkipping line 11424: expected 8 fields, saw 9\\nSkipping line 11426: expected 8 fields, saw 9\\nSkipping line 11428: expected 8 fields, saw 9\\nSkipping line 11430: expected 8 fields, saw 9\\nSkipping line 11432: expected 8 fields, saw 9\\nSkipping line 11434: expected 8 fields, saw 9\\nSkipping line 11436: expected 8 fields, saw 9\\nSkipping line 11438: expected 8 fields, saw 9\\nSkipping line 11440: expected 8 fields, saw 9\\nSkipping line 11442: expected 8 fields, saw 9\\nSkipping line 11444: expected 8 fields, saw 9\\nSkipping line 11446: expected 8 fields, saw 9\\nSkipping line 11448: expected 8 fields, saw 9\\nSkipping line 11450: expected 8 fields, saw 9\\nSkipping line 11452: expected 8 fields, saw 9\\nSkipping line 11454: expected 8 fields, saw 9\\nSkipping line 11456: expected 8 fields, saw 9\\nSkipping line 11458: expected 8 fields, saw 9\\nSkipping line 11460: expected 8 fields, saw 9\\nSkipping line 11462: expected 8 fields, saw 9\\nSkipping line 11464: expected 8 fields, saw 9\\nSkipping line 11466: expected 8 fields, saw 9\\nSkipping line 11468: expected 8 fields, saw 9\\nSkipping line 11470: expected 8 fields, saw 9\\nSkipping line 11472: expected 8 fields, saw 9\\nSkipping line 11474: expected 8 fields, saw 9\\nSkipping line 11476: expected 8 fields, saw 9\\nSkipping line 11478: expected 8 fields, saw 9\\nSkipping line 11480: expected 8 fields, saw 9\\nSkipping line 11482: expected 8 fields, saw 9\\nSkipping line 11484: expected 8 fields, saw 9\\nSkipping line 11486: expected 8 fields, saw 9\\nSkipping line 11488: expected 8 fields, saw 9\\nSkipping line 11490: expected 8 fields, saw 9\\nSkipping line 11492: expected 8 fields, saw 9\\nSkipping line 11494: expected 8 fields, saw 9\\nSkipping line 11496: expected 8 fields, saw 9\\nSkipping line 11498: expected 8 fields, saw 9\\nSkipping line 11500: expected 8 fields, saw 9\\nSkipping line 11502: expected 8 fields, saw 9\\nSkipping line 11504: expected 8 fields, saw 9\\nSkipping line 11507: expected 8 fields, saw 9\\nSkipping line 11509: expected 8 fields, saw 9\\nSkipping line 11511: expected 8 fields, saw 9\\nSkipping line 11513: expected 8 fields, saw 9\\nSkipping line 11515: expected 8 fields, saw 9\\nSkipping line 11517: expected 8 fields, saw 9\\nSkipping line 11519: expected 8 fields, saw 9\\nSkipping line 11521: expected 8 fields, saw 9\\nSkipping line 11523: expected 8 fields, saw 9\\nSkipping line 11525: expected 8 fields, saw 9\\nSkipping line 11527: expected 8 fields, saw 9\\nSkipping line 11529: expected 8 fields, saw 9\\nSkipping line 11531: expected 8 fields, saw 9\\nSkipping line 11533: expected 8 fields, saw 9\\nSkipping line 11535: expected 8 fields, saw 9\\nSkipping line 11537: expected 8 fields, saw 9\\nSkipping line 11539: expected 8 fields, saw 9\\nSkipping line 11541: expected 8 fields, saw 9\\nSkipping line 11543: expected 8 fields, saw 9\\nSkipping line 11545: expected 8 fields, saw 9\\nSkipping line 11547: expected 8 fields, saw 9\\nSkipping line 11549: expected 8 fields, saw 9\\nSkipping line 11551: expected 8 fields, saw 9\\nSkipping line 11553: expected 8 fields, saw 9\\nSkipping line 11556: expected 8 fields, saw 9\\nSkipping line 11558: expected 8 fields, saw 9\\nSkipping line 11560: expected 8 fields, saw 9\\nSkipping line 11562: expected 8 fields, saw 9\\nSkipping line 11564: expected 8 fields, saw 9\\nSkipping line 11566: expected 8 fields, saw 9\\nSkipping line 11568: expected 8 fields, saw 9\\nSkipping line 11570: expected 8 fields, saw 9\\nSkipping line 11572: expected 8 fields, saw 9\\nSkipping line 11574: expected 8 fields, saw 9\\nSkipping line 11577: expected 8 fields, saw 9\\nSkipping line 11579: expected 8 fields, saw 9\\nSkipping line 11582: expected 8 fields, saw 9\\nSkipping line 11584: expected 8 fields, saw 9\\nSkipping line 11586: expected 8 fields, saw 9\\nSkipping line 11588: expected 8 fields, saw 9\\nSkipping line 11590: expected 8 fields, saw 9\\nSkipping line 11592: expected 8 fields, saw 9\\nSkipping line 11594: expected 8 fields, saw 9\\nSkipping line 11596: expected 8 fields, saw 9\\nSkipping line 11598: expected 8 fields, saw 9\\nSkipping line 11600: expected 8 fields, saw 9\\nSkipping line 11602: expected 8 fields, saw 9\\nSkipping line 11604: expected 8 fields, saw 9\\nSkipping line 11606: expected 8 fields, saw 9\\nSkipping line 11608: expected 8 fields, saw 9\\nSkipping line 11610: expected 8 fields, saw 9\\nSkipping line 11612: expected 8 fields, saw 9\\nSkipping line 11614: expected 8 fields, saw 9\\nSkipping line 11616: expected 8 fields, saw 9\\nSkipping line 11618: expected 8 fields, saw 9\\nSkipping line 11620: expected 8 fields, saw 9\\nSkipping line 11622: expected 8 fields, saw 9\\nSkipping line 11624: expected 8 fields, saw 9\\nSkipping line 11626: expected 8 fields, saw 9\\nSkipping line 11628: expected 8 fields, saw 9\\nSkipping line 11630: expected 8 fields, saw 9\\nSkipping line 11632: expected 8 fields, saw 9\\nSkipping line 11634: expected 8 fields, saw 9\\nSkipping line 11636: expected 8 fields, saw 9\\nSkipping line 11638: expected 8 fields, saw 9\\nSkipping line 11640: expected 8 fields, saw 9\\nSkipping line 11642: expected 8 fields, saw 9\\nSkipping line 11644: expected 8 fields, saw 9\\nSkipping line 11646: expected 8 fields, saw 9\\nSkipping line 11648: expected 8 fields, saw 9\\nSkipping line 11650: expected 8 fields, saw 9\\nSkipping line 11652: expected 8 fields, saw 9\\nSkipping line 11654: expected 8 fields, saw 9\\nSkipping line 11656: expected 8 fields, saw 9\\nSkipping line 11658: expected 8 fields, saw 9\\nSkipping line 11660: expected 8 fields, saw 9\\nSkipping line 11662: expected 8 fields, saw 9\\nSkipping line 11664: expected 8 fields, saw 9\\nSkipping line 11666: expected 8 fields, saw 9\\nSkipping line 11668: expected 8 fields, saw 9\\nSkipping line 11670: expected 8 fields, saw 9\\nSkipping line 11672: expected 8 fields, saw 9\\nSkipping line 11674: expected 8 fields, saw 9\\nSkipping line 11676: expected 8 fields, saw 9\\nSkipping line 11678: expected 8 fields, saw 9\\nSkipping line 11680: expected 8 fields, saw 9\\nSkipping line 11682: expected 8 fields, saw 9\\nSkipping line 11684: expected 8 fields, saw 9\\nSkipping line 11686: expected 8 fields, saw 9\\nSkipping line 11688: expected 8 fields, saw 9\\nSkipping line 11690: expected 8 fields, saw 9\\nSkipping line 11692: expected 8 fields, saw 9\\nSkipping line 11694: expected 8 fields, saw 9\\nSkipping line 11696: expected 8 fields, saw 9\\nSkipping line 11698: expected 8 fields, saw 9\\nSkipping line 11700: expected 8 fields, saw 9\\nSkipping line 11702: expected 8 fields, saw 9\\nSkipping line 11704: expected 8 fields, saw 9\\nSkipping line 11706: expected 8 fields, saw 9\\nSkipping line 11708: expected 8 fields, saw 9\\nSkipping line 11711: expected 8 fields, saw 9\\nSkipping line 11713: expected 8 fields, saw 9\\nSkipping line 11715: expected 8 fields, saw 9\\nSkipping line 11717: expected 8 fields, saw 9\\nSkipping line 11719: expected 8 fields, saw 9\\nSkipping line 11721: expected 8 fields, saw 9\\nSkipping line 11723: expected 8 fields, saw 9\\nSkipping line 11725: expected 8 fields, saw 9\\nSkipping line 11727: expected 8 fields, saw 9\\nSkipping line 11729: expected 8 fields, saw 9\\nSkipping line 11731: expected 8 fields, saw 9\\nSkipping line 11733: expected 8 fields, saw 9\\nSkipping line 11735: expected 8 fields, saw 9\\nSkipping line 11737: expected 8 fields, saw 9\\nSkipping line 11739: expected 8 fields, saw 9\\nSkipping line 11742: expected 8 fields, saw 9\\nSkipping line 11744: expected 8 fields, saw 9\\nSkipping line 11746: expected 8 fields, saw 9\\nSkipping line 11748: expected 8 fields, saw 9\\nSkipping line 11751: expected 8 fields, saw 9\\nSkipping line 11753: expected 8 fields, saw 9\\nSkipping line 11755: expected 8 fields, saw 9\\nSkipping line 11757: expected 8 fields, saw 9\\nSkipping line 11759: expected 8 fields, saw 9\\nSkipping line 11761: expected 8 fields, saw 9\\nSkipping line 11763: expected 8 fields, saw 9\\nSkipping line 11765: expected 8 fields, saw 9\\nSkipping line 11767: expected 8 fields, saw 9\\nSkipping line 11769: expected 8 fields, saw 9\\nSkipping line 11771: expected 8 fields, saw 9\\nSkipping line 11773: expected 8 fields, saw 9\\nSkipping line 11775: expected 8 fields, saw 9\\nSkipping line 11777: expected 8 fields, saw 9\\nSkipping line 11779: expected 8 fields, saw 9\\nSkipping line 11781: expected 8 fields, saw 9\\nSkipping line 11783: expected 8 fields, saw 9\\nSkipping line 11785: expected 8 fields, saw 9\\nSkipping line 11787: expected 8 fields, saw 9\\nSkipping line 11789: expected 8 fields, saw 9\\nSkipping line 11791: expected 8 fields, saw 9\\nSkipping line 11794: expected 8 fields, saw 9\\nSkipping line 11796: expected 8 fields, saw 9\\nSkipping line 11798: expected 8 fields, saw 9\\nSkipping line 11800: expected 8 fields, saw 9\\nSkipping line 11802: expected 8 fields, saw 9\\nSkipping line 11804: expected 8 fields, saw 9\\nSkipping line 11806: expected 8 fields, saw 9\\nSkipping line 11808: expected 8 fields, saw 9\\nSkipping line 11810: expected 8 fields, saw 9\\nSkipping line 11812: expected 8 fields, saw 9\\nSkipping line 11814: expected 8 fields, saw 9\\nSkipping line 11816: expected 8 fields, saw 9\\nSkipping line 11819: expected 8 fields, saw 9\\nSkipping line 11821: expected 8 fields, saw 9\\nSkipping line 11823: expected 8 fields, saw 9\\nSkipping line 11825: expected 8 fields, saw 9\\nSkipping line 11827: expected 8 fields, saw 9\\nSkipping line 11829: expected 8 fields, saw 9\\nSkipping line 11831: expected 8 fields, saw 9\\nSkipping line 11833: expected 8 fields, saw 9\\nSkipping line 11835: expected 8 fields, saw 9\\nSkipping line 11837: expected 8 fields, saw 9\\nSkipping line 11840: expected 8 fields, saw 9\\nSkipping line 11842: expected 8 fields, saw 9\\nSkipping line 11844: expected 8 fields, saw 9\\nSkipping line 11846: expected 8 fields, saw 9\\nSkipping line 11848: expected 8 fields, saw 9\\nSkipping line 11850: expected 8 fields, saw 9\\nSkipping line 11852: expected 8 fields, saw 9\\nSkipping line 11854: expected 8 fields, saw 9\\nSkipping line 11856: expected 8 fields, saw 9\\nSkipping line 11858: expected 8 fields, saw 9\\nSkipping line 11860: expected 8 fields, saw 9\\nSkipping line 11862: expected 8 fields, saw 9\\nSkipping line 11864: expected 8 fields, saw 9\\nSkipping line 11866: expected 8 fields, saw 9\\nSkipping line 11868: expected 8 fields, saw 9\\nSkipping line 11870: expected 8 fields, saw 9\\nSkipping line 11872: expected 8 fields, saw 9\\nSkipping line 11874: expected 8 fields, saw 9\\nSkipping line 11876: expected 8 fields, saw 9\\nSkipping line 11878: expected 8 fields, saw 9\\nSkipping line 11880: expected 8 fields, saw 9\\nSkipping line 11882: expected 8 fields, saw 9\\nSkipping line 11884: expected 8 fields, saw 9\\nSkipping line 11886: expected 8 fields, saw 9\\nSkipping line 11888: expected 8 fields, saw 9\\nSkipping line 11890: expected 8 fields, saw 9\\nSkipping line 11892: expected 8 fields, saw 9\\nSkipping line 11894: expected 8 fields, saw 9\\nSkipping line 11896: expected 8 fields, saw 9\\nSkipping line 11898: expected 8 fields, saw 9\\nSkipping line 11901: expected 8 fields, saw 9\\nSkipping line 11903: expected 8 fields, saw 9\\nSkipping line 11905: expected 8 fields, saw 9\\nSkipping line 11907: expected 8 fields, saw 9\\nSkipping line 11909: expected 8 fields, saw 9\\nSkipping line 11911: expected 8 fields, saw 9\\nSkipping line 11913: expected 8 fields, saw 9\\nSkipping line 11915: expected 8 fields, saw 9\\nSkipping line 11917: expected 8 fields, saw 9\\nSkipping line 11919: expected 8 fields, saw 9\\nSkipping line 11921: expected 8 fields, saw 9\\nSkipping line 11923: expected 8 fields, saw 9\\nSkipping line 11926: expected 8 fields, saw 9\\nSkipping line 11928: expected 8 fields, saw 9\\nSkipping line 11930: expected 8 fields, saw 9\\nSkipping line 11932: expected 8 fields, saw 9\\nSkipping line 11934: expected 8 fields, saw 9\\nSkipping line 11936: expected 8 fields, saw 9\\nSkipping line 11938: expected 8 fields, saw 9\\nSkipping line 11940: expected 8 fields, saw 9\\nSkipping line 11942: expected 8 fields, saw 9\\nSkipping line 11944: expected 8 fields, saw 9\\nSkipping line 11947: expected 8 fields, saw 9\\nSkipping line 11949: expected 8 fields, saw 9\\nSkipping line 11952: expected 8 fields, saw 9\\nSkipping line 11954: expected 8 fields, saw 9\\nSkipping line 11956: expected 8 fields, saw 9\\nSkipping line 11958: expected 8 fields, saw 9\\nSkipping line 11960: expected 8 fields, saw 9\\nSkipping line 11962: expected 8 fields, saw 9\\nSkipping line 11964: expected 8 fields, saw 9\\nSkipping line 11966: expected 8 fields, saw 9\\nSkipping line 11969: expected 8 fields, saw 9\\nSkipping line 11971: expected 8 fields, saw 9\\nSkipping line 11973: expected 8 fields, saw 9\\nSkipping line 11975: expected 8 fields, saw 9\\nSkipping line 11978: expected 8 fields, saw 9\\nSkipping line 11980: expected 8 fields, saw 9\\nSkipping line 11982: expected 8 fields, saw 9\\nSkipping line 11984: expected 8 fields, saw 9\\nSkipping line 11987: expected 8 fields, saw 9\\nSkipping line 11989: expected 8 fields, saw 9\\nSkipping line 11991: expected 8 fields, saw 9\\nSkipping line 11993: expected 8 fields, saw 9\\nSkipping line 11995: expected 8 fields, saw 9\\nSkipping line 11997: expected 8 fields, saw 9\\nSkipping line 11999: expected 8 fields, saw 9\\nSkipping line 12001: expected 8 fields, saw 9\\nSkipping line 12003: expected 8 fields, saw 9\\nSkipping line 12005: expected 8 fields, saw 9\\nSkipping line 12007: expected 8 fields, saw 9\\nSkipping line 12009: expected 8 fields, saw 9\\nSkipping line 12012: expected 8 fields, saw 9\\nSkipping line 12014: expected 8 fields, saw 9\\nSkipping line 12016: expected 8 fields, saw 9\\nSkipping line 12018: expected 8 fields, saw 9\\nSkipping line 12020: expected 8 fields, saw 9\\nSkipping line 12022: expected 8 fields, saw 9\\nSkipping line 12025: expected 8 fields, saw 9\\nSkipping line 12027: expected 8 fields, saw 9\\nSkipping line 12029: expected 8 fields, saw 9\\nSkipping line 12031: expected 8 fields, saw 9\\n'\n"
     ]
    },
    {
     "data": {
      "text/html": [
       "<div>\n",
       "<style scoped>\n",
       "    .dataframe tbody tr th:only-of-type {\n",
       "        vertical-align: middle;\n",
       "    }\n",
       "\n",
       "    .dataframe tbody tr th {\n",
       "        vertical-align: top;\n",
       "    }\n",
       "\n",
       "    .dataframe thead th {\n",
       "        text-align: right;\n",
       "    }\n",
       "</style>\n",
       "<table border=\"1\" class=\"dataframe\">\n",
       "  <thead>\n",
       "    <tr style=\"text-align: right;\">\n",
       "      <th></th>\n",
       "      <th>conv_id</th>\n",
       "      <th>utterance_idx</th>\n",
       "      <th>context</th>\n",
       "      <th>prompt</th>\n",
       "      <th>speaker_idx</th>\n",
       "      <th>utterance</th>\n",
       "      <th>selfeval</th>\n",
       "      <th>tags</th>\n",
       "    </tr>\n",
       "  </thead>\n",
       "  <tbody>\n",
       "    <tr>\n",
       "      <th>0</th>\n",
       "      <td>hit:3_conv:6</td>\n",
       "      <td>1</td>\n",
       "      <td>terrified</td>\n",
       "      <td>Today_comma_as i was leaving for work in the m...</td>\n",
       "      <td>6</td>\n",
       "      <td>Today_comma_as i was leaving for work in the m...</td>\n",
       "      <td>4|5|5_5|5|5</td>\n",
       "      <td>NaN</td>\n",
       "    </tr>\n",
       "    <tr>\n",
       "      <th>1</th>\n",
       "      <td>hit:3_conv:6</td>\n",
       "      <td>3</td>\n",
       "      <td>terrified</td>\n",
       "      <td>Today_comma_as i was leaving for work in the m...</td>\n",
       "      <td>6</td>\n",
       "      <td>Yeah_comma_i'm doing alright now_comma_ but wi...</td>\n",
       "      <td>4|5|5_5|5|5</td>\n",
       "      <td>NaN</td>\n",
       "    </tr>\n",
       "    <tr>\n",
       "      <th>2</th>\n",
       "      <td>hit:3_conv:6</td>\n",
       "      <td>5</td>\n",
       "      <td>terrified</td>\n",
       "      <td>Today_comma_as i was leaving for work in the m...</td>\n",
       "      <td>6</td>\n",
       "      <td>The car was badly damaged_comma_i veered outsi...</td>\n",
       "      <td>4|5|5_5|5|5</td>\n",
       "      <td>NaN</td>\n",
       "    </tr>\n",
       "    <tr>\n",
       "      <th>3</th>\n",
       "      <td>hit:4_conv:9</td>\n",
       "      <td>1</td>\n",
       "      <td>surprised</td>\n",
       "      <td>I was walking through my hallway a few week ag...</td>\n",
       "      <td>8</td>\n",
       "      <td>A few weeks ago_comma_ I was walking through m...</td>\n",
       "      <td>5|5|5_3|5|5</td>\n",
       "      <td>NaN</td>\n",
       "    </tr>\n",
       "    <tr>\n",
       "      <th>4</th>\n",
       "      <td>hit:4_conv:9</td>\n",
       "      <td>3</td>\n",
       "      <td>surprised</td>\n",
       "      <td>I was walking through my hallway a few week ag...</td>\n",
       "      <td>8</td>\n",
       "      <td>I may have let out a scream that will have him...</td>\n",
       "      <td>5|5|5_3|5|5</td>\n",
       "      <td>NaN</td>\n",
       "    </tr>\n",
       "    <tr>\n",
       "      <th>...</th>\n",
       "      <td>...</td>\n",
       "      <td>...</td>\n",
       "      <td>...</td>\n",
       "      <td>...</td>\n",
       "      <td>...</td>\n",
       "      <td>...</td>\n",
       "      <td>...</td>\n",
       "      <td>...</td>\n",
       "    </tr>\n",
       "    <tr>\n",
       "      <th>6313</th>\n",
       "      <td>hit:12350_conv:24701</td>\n",
       "      <td>5</td>\n",
       "      <td>prepared</td>\n",
       "      <td>When I went into labor with my son_comma_ it w...</td>\n",
       "      <td>791</td>\n",
       "      <td>In the end_comma_ yes--growing too big is actu...</td>\n",
       "      <td>5|5|5_5|5|5</td>\n",
       "      <td>NaN</td>\n",
       "    </tr>\n",
       "    <tr>\n",
       "      <th>6314</th>\n",
       "      <td>hit:12361_conv:24722</td>\n",
       "      <td>1</td>\n",
       "      <td>prepared</td>\n",
       "      <td>One time I studied all night for my final exam!</td>\n",
       "      <td>547</td>\n",
       "      <td>One time I studied all night for my final exam!</td>\n",
       "      <td>4|4|5_4|4|3</td>\n",
       "      <td>NaN</td>\n",
       "    </tr>\n",
       "    <tr>\n",
       "      <th>6315</th>\n",
       "      <td>hit:12361_conv:24722</td>\n",
       "      <td>3</td>\n",
       "      <td>prepared</td>\n",
       "      <td>One time I studied all night for my final exam!</td>\n",
       "      <td>547</td>\n",
       "      <td>It was for Organic Chemistry</td>\n",
       "      <td>4|4|5_4|4|3</td>\n",
       "      <td>NaN</td>\n",
       "    </tr>\n",
       "    <tr>\n",
       "      <th>6316</th>\n",
       "      <td>hit:12392_conv:24785</td>\n",
       "      <td>1</td>\n",
       "      <td>furious</td>\n",
       "      <td>One of my coworkers has been arguing with his ...</td>\n",
       "      <td>791</td>\n",
       "      <td>One of my coworkers has been arguing with his ...</td>\n",
       "      <td>4|5|5_5|5|5</td>\n",
       "      <td>NaN</td>\n",
       "    </tr>\n",
       "    <tr>\n",
       "      <th>6317</th>\n",
       "      <td>hit:12392_conv:24785</td>\n",
       "      <td>3</td>\n",
       "      <td>furious</td>\n",
       "      <td>One of my coworkers has been arguing with his ...</td>\n",
       "      <td>791</td>\n",
       "      <td>Everything and anything. It's annoying_comma_ ...</td>\n",
       "      <td>4|5|5_5|5|5</td>\n",
       "      <td>NaN</td>\n",
       "    </tr>\n",
       "  </tbody>\n",
       "</table>\n",
       "<p>6318 rows × 8 columns</p>\n",
       "</div>"
      ],
      "text/plain": [
       "                   conv_id  utterance_idx    context  \\\n",
       "0             hit:3_conv:6              1  terrified   \n",
       "1             hit:3_conv:6              3  terrified   \n",
       "2             hit:3_conv:6              5  terrified   \n",
       "3             hit:4_conv:9              1  surprised   \n",
       "4             hit:4_conv:9              3  surprised   \n",
       "...                    ...            ...        ...   \n",
       "6313  hit:12350_conv:24701              5   prepared   \n",
       "6314  hit:12361_conv:24722              1   prepared   \n",
       "6315  hit:12361_conv:24722              3   prepared   \n",
       "6316  hit:12392_conv:24785              1    furious   \n",
       "6317  hit:12392_conv:24785              3    furious   \n",
       "\n",
       "                                                 prompt  speaker_idx  \\\n",
       "0     Today_comma_as i was leaving for work in the m...            6   \n",
       "1     Today_comma_as i was leaving for work in the m...            6   \n",
       "2     Today_comma_as i was leaving for work in the m...            6   \n",
       "3     I was walking through my hallway a few week ag...            8   \n",
       "4     I was walking through my hallway a few week ag...            8   \n",
       "...                                                 ...          ...   \n",
       "6313  When I went into labor with my son_comma_ it w...          791   \n",
       "6314    One time I studied all night for my final exam!          547   \n",
       "6315    One time I studied all night for my final exam!          547   \n",
       "6316  One of my coworkers has been arguing with his ...          791   \n",
       "6317  One of my coworkers has been arguing with his ...          791   \n",
       "\n",
       "                                              utterance     selfeval tags  \n",
       "0     Today_comma_as i was leaving for work in the m...  4|5|5_5|5|5  NaN  \n",
       "1     Yeah_comma_i'm doing alright now_comma_ but wi...  4|5|5_5|5|5  NaN  \n",
       "2     The car was badly damaged_comma_i veered outsi...  4|5|5_5|5|5  NaN  \n",
       "3     A few weeks ago_comma_ I was walking through m...  5|5|5_3|5|5  NaN  \n",
       "4     I may have let out a scream that will have him...  5|5|5_3|5|5  NaN  \n",
       "...                                                 ...          ...  ...  \n",
       "6313  In the end_comma_ yes--growing too big is actu...  5|5|5_5|5|5  NaN  \n",
       "6314    One time I studied all night for my final exam!  4|4|5_4|4|3  NaN  \n",
       "6315                       It was for Organic Chemistry  4|4|5_4|4|3  NaN  \n",
       "6316  One of my coworkers has been arguing with his ...  4|5|5_5|5|5  NaN  \n",
       "6317  Everything and anything. It's annoying_comma_ ...  4|5|5_5|5|5  NaN  \n",
       "\n",
       "[6318 rows x 8 columns]"
      ]
     },
     "execution_count": 4,
     "metadata": {},
     "output_type": "execute_result"
    }
   ],
   "source": [
    "import pandas as pd\n",
    "# data = pd.read_csv(r'/content/drive/MyDrive/chi.csv',header= 0,encoding= 'unicode_escape',error_bad_lines=False)\n",
    "df = pd.read_csv(r'valid.csv',error_bad_lines=False)\n",
    "df"
   ]
  },
  {
   "cell_type": "code",
   "execution_count": 5,
   "metadata": {
    "id": "s-ipuX2AGhg6"
   },
   "outputs": [],
   "source": [
    "emo=df[\"context\"].unique()"
   ]
  },
  {
   "cell_type": "code",
   "execution_count": 7,
   "metadata": {
    "id": "GEEbHuXFGhjv"
   },
   "outputs": [
    {
     "data": {
      "text/plain": [
       "surprised       336\n",
       "annoyed         282\n",
       "impressed       231\n",
       "sad             229\n",
       "excited         225\n",
       "embarrassed     218\n",
       "lonely          217\n",
       "prepared        217\n",
       "disappointed    215\n",
       "confident       212\n",
       "afraid          207\n",
       "jealous         202\n",
       "content         199\n",
       "angry           196\n",
       "joyful          192\n",
       "terrified       190\n",
       "sentimental     189\n",
       "hopeful         188\n",
       "disgusted       187\n",
       "proud           187\n",
       "anxious         183\n",
       "nostalgic       179\n",
       "furious         179\n",
       "apprehensive    174\n",
       "devastated      174\n",
       "grateful        172\n",
       "anticipating    171\n",
       "trusting        170\n",
       "caring          165\n",
       "guilty          161\n",
       "ashamed         159\n",
       "faithful        112\n",
       "Name: context, dtype: int64"
      ]
     },
     "execution_count": 7,
     "metadata": {},
     "output_type": "execute_result"
    }
   ],
   "source": [
    "df['context'].value_counts()"
   ]
  },
  {
   "cell_type": "code",
   "execution_count": 8,
   "metadata": {
    "id": "4QK4a94kGhmW"
   },
   "outputs": [],
   "source": []
  },
  {
   "cell_type": "code",
   "execution_count": 10,
   "metadata": {},
   "outputs": [
    {
     "data": {
      "text/html": [
       "<div>\n",
       "<style scoped>\n",
       "    .dataframe tbody tr th:only-of-type {\n",
       "        vertical-align: middle;\n",
       "    }\n",
       "\n",
       "    .dataframe tbody tr th {\n",
       "        vertical-align: top;\n",
       "    }\n",
       "\n",
       "    .dataframe thead th {\n",
       "        text-align: right;\n",
       "    }\n",
       "</style>\n",
       "<table border=\"1\" class=\"dataframe\">\n",
       "  <thead>\n",
       "    <tr style=\"text-align: right;\">\n",
       "      <th></th>\n",
       "      <th>context</th>\n",
       "      <th>prompt</th>\n",
       "      <th>utterance</th>\n",
       "    </tr>\n",
       "  </thead>\n",
       "  <tbody>\n",
       "    <tr>\n",
       "      <th>0</th>\n",
       "      <td>terrified</td>\n",
       "      <td>Today_comma_as i was leaving for work in the m...</td>\n",
       "      <td>Today_comma_as i was leaving for work in the m...</td>\n",
       "    </tr>\n",
       "    <tr>\n",
       "      <th>1</th>\n",
       "      <td>terrified</td>\n",
       "      <td>Today_comma_as i was leaving for work in the m...</td>\n",
       "      <td>Yeah_comma_i'm doing alright now_comma_ but wi...</td>\n",
       "    </tr>\n",
       "    <tr>\n",
       "      <th>2</th>\n",
       "      <td>terrified</td>\n",
       "      <td>Today_comma_as i was leaving for work in the m...</td>\n",
       "      <td>The car was badly damaged_comma_i veered outsi...</td>\n",
       "    </tr>\n",
       "    <tr>\n",
       "      <th>3</th>\n",
       "      <td>surprised</td>\n",
       "      <td>I was walking through my hallway a few week ag...</td>\n",
       "      <td>A few weeks ago_comma_ I was walking through m...</td>\n",
       "    </tr>\n",
       "    <tr>\n",
       "      <th>4</th>\n",
       "      <td>surprised</td>\n",
       "      <td>I was walking through my hallway a few week ag...</td>\n",
       "      <td>I may have let out a scream that will have him...</td>\n",
       "    </tr>\n",
       "    <tr>\n",
       "      <th>...</th>\n",
       "      <td>...</td>\n",
       "      <td>...</td>\n",
       "      <td>...</td>\n",
       "    </tr>\n",
       "    <tr>\n",
       "      <th>6313</th>\n",
       "      <td>prepared</td>\n",
       "      <td>When I went into labor with my son_comma_ it w...</td>\n",
       "      <td>In the end_comma_ yes--growing too big is actu...</td>\n",
       "    </tr>\n",
       "    <tr>\n",
       "      <th>6314</th>\n",
       "      <td>prepared</td>\n",
       "      <td>One time I studied all night for my final exam!</td>\n",
       "      <td>One time I studied all night for my final exam!</td>\n",
       "    </tr>\n",
       "    <tr>\n",
       "      <th>6315</th>\n",
       "      <td>prepared</td>\n",
       "      <td>One time I studied all night for my final exam!</td>\n",
       "      <td>It was for Organic Chemistry</td>\n",
       "    </tr>\n",
       "    <tr>\n",
       "      <th>6316</th>\n",
       "      <td>furious</td>\n",
       "      <td>One of my coworkers has been arguing with his ...</td>\n",
       "      <td>One of my coworkers has been arguing with his ...</td>\n",
       "    </tr>\n",
       "    <tr>\n",
       "      <th>6317</th>\n",
       "      <td>furious</td>\n",
       "      <td>One of my coworkers has been arguing with his ...</td>\n",
       "      <td>Everything and anything. It's annoying_comma_ ...</td>\n",
       "    </tr>\n",
       "  </tbody>\n",
       "</table>\n",
       "<p>6318 rows × 3 columns</p>\n",
       "</div>"
      ],
      "text/plain": [
       "        context                                             prompt  \\\n",
       "0     terrified  Today_comma_as i was leaving for work in the m...   \n",
       "1     terrified  Today_comma_as i was leaving for work in the m...   \n",
       "2     terrified  Today_comma_as i was leaving for work in the m...   \n",
       "3     surprised  I was walking through my hallway a few week ag...   \n",
       "4     surprised  I was walking through my hallway a few week ag...   \n",
       "...         ...                                                ...   \n",
       "6313   prepared  When I went into labor with my son_comma_ it w...   \n",
       "6314   prepared    One time I studied all night for my final exam!   \n",
       "6315   prepared    One time I studied all night for my final exam!   \n",
       "6316    furious  One of my coworkers has been arguing with his ...   \n",
       "6317    furious  One of my coworkers has been arguing with his ...   \n",
       "\n",
       "                                              utterance  \n",
       "0     Today_comma_as i was leaving for work in the m...  \n",
       "1     Yeah_comma_i'm doing alright now_comma_ but wi...  \n",
       "2     The car was badly damaged_comma_i veered outsi...  \n",
       "3     A few weeks ago_comma_ I was walking through m...  \n",
       "4     I may have let out a scream that will have him...  \n",
       "...                                                 ...  \n",
       "6313  In the end_comma_ yes--growing too big is actu...  \n",
       "6314    One time I studied all night for my final exam!  \n",
       "6315                       It was for Organic Chemistry  \n",
       "6316  One of my coworkers has been arguing with his ...  \n",
       "6317  Everything and anything. It's annoying_comma_ ...  \n",
       "\n",
       "[6318 rows x 3 columns]"
      ]
     },
     "execution_count": 10,
     "metadata": {},
     "output_type": "execute_result"
    }
   ],
   "source": [
    "df"
   ]
  },
  {
   "cell_type": "code",
   "execution_count": 9,
   "metadata": {
    "colab": {
     "base_uri": "https://localhost:8080/",
     "height": 36
    },
    "id": "6NgmZnQUGhom",
    "outputId": "25ae4b45-661f-40b7-90cf-44af9020293d"
   },
   "outputs": [
    {
     "data": {
      "text/plain": [
       "'Today_comma_as i was leaving for work in the morning_comma_i had a tire burst in the middle of a busy road. That scared the hell out of me!'"
      ]
     },
     "execution_count": 9,
     "metadata": {},
     "output_type": "execute_result"
    }
   ],
   "source": [
    "df['prompt'][0]"
   ]
  },
  {
   "cell_type": "code",
   "execution_count": 12,
   "metadata": {
    "colab": {
     "base_uri": "https://localhost:8080/"
    },
    "id": "pKmN_hi2Ghq_",
    "outputId": "a46a0924-d7ed-433b-f167-96465192780d"
   },
   "outputs": [
    {
     "data": {
      "text/plain": [
       "Int64Index([  22,   23,   24,   51,   52,   53,  148,  149,  316,  317,\n",
       "            ...\n",
       "            5773, 6056, 6057, 6068, 6069, 6070, 6139, 6140, 6298, 6299],\n",
       "           dtype='int64', length=172)"
      ]
     },
     "execution_count": 12,
     "metadata": {},
     "output_type": "execute_result"
    }
   ],
   "source": [
    "df[df['context'] == 'grateful'][\"utterance\"].index"
   ]
  },
  {
   "cell_type": "code",
   "execution_count": 13,
   "metadata": {
    "id": "b3ACDM-UGXgN"
   },
   "outputs": [],
   "source": [
    "#移除錯誤句子\n",
    "for index, rows in df.iterrows():\n",
    "    if len(rows[\"utterance\"])>=1000:\n",
    "    # print(index)\n",
    "        df.drop(index , inplace=True)\n",
    "\n",
    "# data.drop(1480 , inplace=True)"
   ]
  },
  {
   "cell_type": "code",
   "execution_count": 16,
   "metadata": {
    "id": "-2H8djmgDWSZ"
   },
   "outputs": [],
   "source": [
    "for index, row in df.iterrows():\n",
    "#     row[\"utterance\"] = row[\"utterance\"].replace(\"_comma_\",'，')\n",
    "    row[\"utterance\"] = row[\"utterance\"].replace(\"，\",',')"
   ]
  },
  {
   "cell_type": "code",
   "execution_count": null,
   "metadata": {
    "id": "vXz_dwA3AVeY"
   },
   "outputs": [],
   "source": [
    "# data[\"conv_chinese\"] = \"\""
   ]
  },
  {
   "cell_type": "code",
   "execution_count": null,
   "metadata": {
    "id": "CsIbVahF-g86"
   },
   "outputs": [],
   "source": [
    "# pip install google_trans_new\n",
    "# !pip install googletrans==4.0.0-rc1"
   ]
  },
  {
   "cell_type": "code",
   "execution_count": 17,
   "metadata": {},
   "outputs": [
    {
     "data": {
      "text/html": [
       "<div>\n",
       "<style scoped>\n",
       "    .dataframe tbody tr th:only-of-type {\n",
       "        vertical-align: middle;\n",
       "    }\n",
       "\n",
       "    .dataframe tbody tr th {\n",
       "        vertical-align: top;\n",
       "    }\n",
       "\n",
       "    .dataframe thead th {\n",
       "        text-align: right;\n",
       "    }\n",
       "</style>\n",
       "<table border=\"1\" class=\"dataframe\">\n",
       "  <thead>\n",
       "    <tr style=\"text-align: right;\">\n",
       "      <th></th>\n",
       "      <th>context</th>\n",
       "      <th>prompt</th>\n",
       "      <th>utterance</th>\n",
       "    </tr>\n",
       "  </thead>\n",
       "  <tbody>\n",
       "    <tr>\n",
       "      <th>0</th>\n",
       "      <td>terrified</td>\n",
       "      <td>Today_comma_as i was leaving for work in the m...</td>\n",
       "      <td>Today,as i was leaving for work in the morning...</td>\n",
       "    </tr>\n",
       "    <tr>\n",
       "      <th>1</th>\n",
       "      <td>terrified</td>\n",
       "      <td>Today_comma_as i was leaving for work in the m...</td>\n",
       "      <td>Yeah,i'm doing alright now, but with minor inj...</td>\n",
       "    </tr>\n",
       "    <tr>\n",
       "      <th>2</th>\n",
       "      <td>terrified</td>\n",
       "      <td>Today_comma_as i was leaving for work in the m...</td>\n",
       "      <td>The car was badly damaged,i veered outside the...</td>\n",
       "    </tr>\n",
       "    <tr>\n",
       "      <th>3</th>\n",
       "      <td>surprised</td>\n",
       "      <td>I was walking through my hallway a few week ag...</td>\n",
       "      <td>A few weeks ago, I was walking through my hall...</td>\n",
       "    </tr>\n",
       "    <tr>\n",
       "      <th>4</th>\n",
       "      <td>surprised</td>\n",
       "      <td>I was walking through my hallway a few week ag...</td>\n",
       "      <td>I may have let out a scream that will have him...</td>\n",
       "    </tr>\n",
       "    <tr>\n",
       "      <th>...</th>\n",
       "      <td>...</td>\n",
       "      <td>...</td>\n",
       "      <td>...</td>\n",
       "    </tr>\n",
       "    <tr>\n",
       "      <th>6313</th>\n",
       "      <td>prepared</td>\n",
       "      <td>When I went into labor with my son_comma_ it w...</td>\n",
       "      <td>In the end, yes--growing too big is actually h...</td>\n",
       "    </tr>\n",
       "    <tr>\n",
       "      <th>6314</th>\n",
       "      <td>prepared</td>\n",
       "      <td>One time I studied all night for my final exam!</td>\n",
       "      <td>One time I studied all night for my final exam!</td>\n",
       "    </tr>\n",
       "    <tr>\n",
       "      <th>6315</th>\n",
       "      <td>prepared</td>\n",
       "      <td>One time I studied all night for my final exam!</td>\n",
       "      <td>It was for Organic Chemistry</td>\n",
       "    </tr>\n",
       "    <tr>\n",
       "      <th>6316</th>\n",
       "      <td>furious</td>\n",
       "      <td>One of my coworkers has been arguing with his ...</td>\n",
       "      <td>One of my coworkers has been arguing with his ...</td>\n",
       "    </tr>\n",
       "    <tr>\n",
       "      <th>6317</th>\n",
       "      <td>furious</td>\n",
       "      <td>One of my coworkers has been arguing with his ...</td>\n",
       "      <td>Everything and anything. It's annoying, though...</td>\n",
       "    </tr>\n",
       "  </tbody>\n",
       "</table>\n",
       "<p>6313 rows × 3 columns</p>\n",
       "</div>"
      ],
      "text/plain": [
       "        context                                             prompt  \\\n",
       "0     terrified  Today_comma_as i was leaving for work in the m...   \n",
       "1     terrified  Today_comma_as i was leaving for work in the m...   \n",
       "2     terrified  Today_comma_as i was leaving for work in the m...   \n",
       "3     surprised  I was walking through my hallway a few week ag...   \n",
       "4     surprised  I was walking through my hallway a few week ag...   \n",
       "...         ...                                                ...   \n",
       "6313   prepared  When I went into labor with my son_comma_ it w...   \n",
       "6314   prepared    One time I studied all night for my final exam!   \n",
       "6315   prepared    One time I studied all night for my final exam!   \n",
       "6316    furious  One of my coworkers has been arguing with his ...   \n",
       "6317    furious  One of my coworkers has been arguing with his ...   \n",
       "\n",
       "                                              utterance  \n",
       "0     Today,as i was leaving for work in the morning...  \n",
       "1     Yeah,i'm doing alright now, but with minor inj...  \n",
       "2     The car was badly damaged,i veered outside the...  \n",
       "3     A few weeks ago, I was walking through my hall...  \n",
       "4     I may have let out a scream that will have him...  \n",
       "...                                                 ...  \n",
       "6313  In the end, yes--growing too big is actually h...  \n",
       "6314    One time I studied all night for my final exam!  \n",
       "6315                       It was for Organic Chemistry  \n",
       "6316  One of my coworkers has been arguing with his ...  \n",
       "6317  Everything and anything. It's annoying, though...  \n",
       "\n",
       "[6313 rows x 3 columns]"
      ]
     },
     "execution_count": 17,
     "metadata": {},
     "output_type": "execute_result"
    }
   ],
   "source": [
    "df"
   ]
  },
  {
   "cell_type": "code",
   "execution_count": null,
   "metadata": {},
   "outputs": [],
   "source": []
  },
  {
   "cell_type": "code",
   "execution_count": null,
   "metadata": {},
   "outputs": [],
   "source": []
  },
  {
   "cell_type": "code",
   "execution_count": null,
   "metadata": {},
   "outputs": [],
   "source": []
  },
  {
   "cell_type": "code",
   "execution_count": null,
   "metadata": {
    "id": "eZasUjBV3M9_"
   },
   "outputs": [],
   "source": [
    "import pandas as pd\n",
    "data = pd.read_csv(r't2.csv')\n",
    "data"
   ]
  },
  {
   "cell_type": "code",
   "execution_count": null,
   "metadata": {
    "id": "Ka0wL4a3r8P0"
   },
   "outputs": [],
   "source": [
    "data = data.iloc[: , 3:]\n",
    "data"
   ]
  },
  {
   "cell_type": "code",
   "execution_count": null,
   "metadata": {
    "id": "1N6wIo8lq915"
   },
   "outputs": [],
   "source": [
    "data[\"conv_chinese\"][5122]"
   ]
  },
  {
   "cell_type": "code",
   "execution_count": null,
   "metadata": {
    "id": "w1Vz0xVu2cuq"
   },
   "outputs": [],
   "source": [
    "from googletrans import Translator\n",
    "import time\n",
    "from google.colab import files"
   ]
  },
  {
   "cell_type": "code",
   "execution_count": null,
   "metadata": {
    "id": "EO9e6R6DGhtV"
   },
   "outputs": [],
   "source": [
    "# translator = Translator() \n",
    "# translate_text = translator.translate('我覺得今天天氣不好',lang_tgt='en')  \n",
    "# print(translate_text)\n",
    "\n",
    "# Basic Translate\n",
    "# results = translator.translate('我覺得今天天氣不好。')\n",
    "# print(results)\n",
    "# print(results.text)\n",
    "\n",
    "\n",
    "# data[\"conv_chinese\"] = data[\"utterance\"].map(lambda x: translator.translate(x, src=\"en\", dest=\"zh-TW\").text)\n",
    "\n",
    "# time.sleep(30)\n",
    "\n",
    "for index, row in data[14000:].iterrows():\n",
    "  # row[\"utterance\"] = row[\"utterance\"].replace(\"_comma_\",'，')\n",
    "  translator = Translator()\n",
    "  # row[\"conv_chinese\"] = \" \"\n",
    "  data[\"conv_chinese\"][index] = translator.translate(row[\"utterance\"], src=\"en\", dest=\"zh-TW\").text\n",
    "  print(index)\n",
    "  # print(data[\"conv_chinese\"][index])\n",
    "  time.sleep(1)\n",
    "  if index%1000==0:\n",
    "    data.to_csv('t2.csv',index=False)\n",
    "\n",
    "# for index, row in data[15000:].iterrows():\n",
    "#   # row[\"utterance\"] = row[\"utterance\"].replace(\"_comma_\",'，')\n",
    "#   translator = Translator()\n",
    "#   nt = translator.translate(row[\"utterance\"], src=\"en\", dest=\"zh-TW\").text\n",
    "#   print(index)\n",
    "#   row[\"conv_chinese\"] = nt\n",
    "#   time.sleep(1)\n",
    "#   if index%20000==0:\n",
    "#     data.to_csv('train_chi.csv')\n",
    "#   if index%30000==0:\n",
    "#     data.to_csv('train_chi.csv')\n",
    "#     files.download(\"train_chi.csv\")\n",
    "#     break\n"
   ]
  },
  {
   "cell_type": "code",
   "execution_count": null,
   "metadata": {
    "id": "u6ZASsaL1vtD"
   },
   "outputs": [],
   "source": [
    "data.to_csv('t1.csv',index=False)\n",
    "# files.download(\"train_chi.csv\")"
   ]
  },
  {
   "cell_type": "code",
   "execution_count": null,
   "metadata": {
    "colab": {
     "base_uri": "https://localhost:8080/"
    },
    "id": "jfbi7Xw7nL1I",
    "outputId": "a14d8b1a-0ad0-4dd6-cdf2-cdf036ee9fa7"
   },
   "outputs": [
    {
     "data": {
      "text/plain": [
       "nan"
      ]
     },
     "execution_count": 67,
     "metadata": {},
     "output_type": "execute_result"
    }
   ],
   "source": [
    "data[\"conv_chinese\"][5150]"
   ]
  },
  {
   "cell_type": "markdown",
   "metadata": {
    "id": "qVVto6sLopqb"
   },
   "source": [
    "**TEST**"
   ]
  },
  {
   "cell_type": "code",
   "execution_count": null,
   "metadata": {
    "colab": {
     "base_uri": "https://localhost:8080/"
    },
    "id": "yrp56tAgVjkY",
    "outputId": "824d8ccb-086b-4098-83c5-c3134b7c0a08"
   },
   "outputs": [
    {
     "name": "stdout",
     "output_type": "stream",
     "text": [
      "A spotless clean home， and HOT dinner on the table. Its priceless to get hot food when you are a mom. lol  nan\n"
     ]
    }
   ],
   "source": [
    "x=14001\n",
    "print(data[\"utterance\"][x],data[\"conv_chinese\"][x])\n",
    "#I once had to go camping it didn't have the right equipment. So I went to the store and bought a new tent and sleeping bag."
   ]
  },
  {
   "cell_type": "markdown",
   "metadata": {
    "id": "GU4Ax9oiWH2o"
   },
   "source": [
    "## **整理句子段落**"
   ]
  },
  {
   "cell_type": "code",
   "execution_count": null,
   "metadata": {
    "id": "we7WIoSNRJKO"
   },
   "outputs": [],
   "source": [
    "import pandas as pd\n",
    "train = pd.read_csv(r'/content/drive/MyDrive/50000.csv')"
   ]
  },
  {
   "cell_type": "code",
   "execution_count": null,
   "metadata": {
    "id": "LtgfWFgTlYfl"
   },
   "outputs": [],
   "source": [
    "train=train[:50001]"
   ]
  },
  {
   "cell_type": "code",
   "execution_count": null,
   "metadata": {
    "colab": {
     "base_uri": "https://localhost:8080/",
     "height": 209
    },
    "id": "g53NO-9Rqyqs",
    "outputId": "fc3d0dc9-fc50-41e3-f0b4-acc344b5f5eb"
   },
   "outputs": [
    {
     "data": {
      "text/html": [
       "<div>\n",
       "<style scoped>\n",
       "    .dataframe tbody tr th:only-of-type {\n",
       "        vertical-align: middle;\n",
       "    }\n",
       "\n",
       "    .dataframe tbody tr th {\n",
       "        vertical-align: top;\n",
       "    }\n",
       "\n",
       "    .dataframe thead th {\n",
       "        text-align: right;\n",
       "    }\n",
       "</style>\n",
       "<table border=\"1\" class=\"dataframe\">\n",
       "  <thead>\n",
       "    <tr style=\"text-align: right;\">\n",
       "      <th></th>\n",
       "      <th>Unnamed: 0</th>\n",
       "      <th>context</th>\n",
       "      <th>prompt</th>\n",
       "      <th>utterance</th>\n",
       "      <th>conv_chinese</th>\n",
       "    </tr>\n",
       "  </thead>\n",
       "  <tbody>\n",
       "    <tr>\n",
       "      <th>49998</th>\n",
       "      <td>49998</td>\n",
       "      <td>disappointed</td>\n",
       "      <td>I had my air and heating guy come over for a r...</td>\n",
       "      <td>My air and heating guy came over for a routine...</td>\n",
       "      <td>我的空氣和加熱傢伙過來用於系統的例行檢查。他告訴我，我需要一個全新的空調機組。我不是太開心了</td>\n",
       "    </tr>\n",
       "    <tr>\n",
       "      <th>49999</th>\n",
       "      <td>49999</td>\n",
       "      <td>disappointed</td>\n",
       "      <td>I had my air and heating guy come over for a r...</td>\n",
       "      <td>That's awful! Especially in the middle of summer!</td>\n",
       "      <td>那是糟糕的！特別是在夏天中間！</td>\n",
       "    </tr>\n",
       "    <tr>\n",
       "      <th>50000</th>\n",
       "      <td>50000</td>\n",
       "      <td>disappointed</td>\n",
       "      <td>I had my air and heating guy come over for a r...</td>\n",
       "      <td>I know.  The worst part is the unexpected cost...</td>\n",
       "      <td>我知道。最糟糕的部分是它的意外成本。</td>\n",
       "    </tr>\n",
       "  </tbody>\n",
       "</table>\n",
       "</div>"
      ],
      "text/plain": [
       "       Unnamed: 0  ...                                    conv_chinese\n",
       "49998       49998  ...  我的空氣和加熱傢伙過來用於系統的例行檢查。他告訴我，我需要一個全新的空調機組。我不是太開心了\n",
       "49999       49999  ...                                 那是糟糕的！特別是在夏天中間！\n",
       "50000       50000  ...                              我知道。最糟糕的部分是它的意外成本。\n",
       "\n",
       "[3 rows x 5 columns]"
      ]
     },
     "execution_count": 52,
     "metadata": {},
     "output_type": "execute_result"
    }
   ],
   "source": [
    "train[49998:50001]"
   ]
  },
  {
   "cell_type": "code",
   "execution_count": null,
   "metadata": {
    "colab": {
     "base_uri": "https://localhost:8080/",
     "height": 49
    },
    "id": "jgqylU0FozqQ",
    "outputId": "c0d87511-ec08-4a7e-a85c-114bd31f579d"
   },
   "outputs": [
    {
     "data": {
      "text/html": [
       "<div>\n",
       "<style scoped>\n",
       "    .dataframe tbody tr th:only-of-type {\n",
       "        vertical-align: middle;\n",
       "    }\n",
       "\n",
       "    .dataframe tbody tr th {\n",
       "        vertical-align: top;\n",
       "    }\n",
       "\n",
       "    .dataframe thead th {\n",
       "        text-align: right;\n",
       "    }\n",
       "</style>\n",
       "<table border=\"1\" class=\"dataframe\">\n",
       "  <thead>\n",
       "    <tr style=\"text-align: right;\">\n",
       "      <th></th>\n",
       "      <th>context</th>\n",
       "      <th>conv</th>\n",
       "    </tr>\n",
       "  </thead>\n",
       "  <tbody>\n",
       "  </tbody>\n",
       "</table>\n",
       "</div>"
      ],
      "text/plain": [
       "Empty DataFrame\n",
       "Columns: [context, conv]\n",
       "Index: []"
      ]
     },
     "execution_count": 48,
     "metadata": {},
     "output_type": "execute_result"
    }
   ],
   "source": [
    "df =pd.DataFrame(columns=['context','conv'])\n",
    "df"
   ]
  },
  {
   "cell_type": "code",
   "execution_count": null,
   "metadata": {
    "id": "OoNkYkg8vzSq"
   },
   "outputs": [],
   "source": [
    "# df.loc[0,'context']='s'\n",
    "# df"
   ]
  },
  {
   "cell_type": "code",
   "execution_count": null,
   "metadata": {
    "id": "XAxrcGAIon2x"
   },
   "outputs": [],
   "source": [
    "# first=False\n",
    "ii=0\n",
    "for index,row in train.iterrows():\n",
    "    if index>0 and train['context'][index]==train['context'][index+1] and train['context'][index]!=train['context'][index-1]:\n",
    "    num=1\n",
    "    elif index==0:\n",
    "    num=1\n",
    "    elif train['context'][index]!=train['context'][index+1]:\n",
    "    num=3\n",
    "    else:\n",
    "    num=2\n",
    "\n",
    "    if num==1:\n",
    "    x = train['conv_chinese'][index] + train['conv_chinese'][index+1]\n",
    "    y = train['context'][index]\n",
    "    df.loc[ii,'conv']=x\n",
    "    df.loc[ii,'context']=y\n",
    "    elif num==2:\n",
    "    df.loc[ii,'conv']+= \" \"+train['conv_chinese'][index+1]\n",
    "    else:\n",
    "    ii=ii+1"
   ]
  },
  {
   "cell_type": "code",
   "execution_count": null,
   "metadata": {
    "id": "6bZ3kK6gL8Mr"
   },
   "outputs": [],
   "source": [
    "df.head(52)"
   ]
  },
  {
   "cell_type": "code",
   "execution_count": null,
   "metadata": {
    "id": "vEvhfdWHbQ3b"
   },
   "outputs": [],
   "source": [
    "saved_df = df"
   ]
  },
  {
   "cell_type": "code",
   "execution_count": null,
   "metadata": {
    "id": "wOHeMiGqXYGW"
   },
   "outputs": [],
   "source": [
    "df.drop(df.loc[df['context']=='content'].index, inplace=True)"
   ]
  },
  {
   "cell_type": "code",
   "execution_count": null,
   "metadata": {
    "id": "Eh1O57zckTmc"
   },
   "outputs": [],
   "source": [
    "for i in df.loc[df['context']=='surprised'].index:\n",
    "  df['context'][i]='excited'"
   ]
  },
  {
   "cell_type": "code",
   "execution_count": null,
   "metadata": {
    "id": "MBDcfDNdlclI"
   },
   "outputs": [],
   "source": [
    "for i in df.loc[df['context']=='ashamed'].index:\n",
    "  df['context'][i]='guilty'"
   ]
  },
  {
   "cell_type": "code",
   "execution_count": null,
   "metadata": {
    "colab": {
     "base_uri": "https://localhost:8080/"
    },
    "id": "IPftEOS9kzmT",
    "outputId": "b0293b0e-1032-4a4b-da09-d3164124fee3"
   },
   "outputs": [
    {
     "data": {
      "text/plain": [
       "Int64Index([   23,    94,   103,   174,   193,   371,   391,   413,   441,\n",
       "              475,\n",
       "            ...\n",
       "            10947, 10972, 10997, 11022, 11050, 11094, 11115, 11137, 11163,\n",
       "            11275],\n",
       "           dtype='int64', length=216)"
      ]
     },
     "execution_count": 112,
     "metadata": {},
     "output_type": "execute_result"
    }
   ],
   "source": [
    "df.loc[df['context']=='ashamed'].index"
   ]
  },
  {
   "cell_type": "code",
   "execution_count": null,
   "metadata": {
    "colab": {
     "base_uri": "https://localhost:8080/"
    },
    "id": "qaCwEyOVmttV",
    "outputId": "dcb54aaf-02b3-41a7-d579-9b60f2079964"
   },
   "outputs": [
    {
     "data": {
      "text/plain": [
       "Int64Index([   23,    24,    29,    31,    46,    94,    97,   103,   106,\n",
       "              123,\n",
       "            ...\n",
       "            11115, 11127, 11137, 11138, 11163, 11164, 11194, 11202, 11222,\n",
       "            11275],\n",
       "           dtype='int64', length=604)"
      ]
     },
     "execution_count": 115,
     "metadata": {},
     "output_type": "execute_result"
    }
   ],
   "source": [
    "df.loc[df['context']=='guilty'].index"
   ]
  },
  {
   "cell_type": "code",
   "execution_count": null,
   "metadata": {
    "colab": {
     "base_uri": "https://localhost:8080/"
    },
    "id": "Eo3YlhQHVbUv",
    "outputId": "1d8ef07a-4694-40f9-d210-1ae0ac92f7d3"
   },
   "outputs": [
    {
     "data": {
      "text/plain": [
       "array(['sentimental', 'afraid', 'proud', 'terrified', 'joyful', 'angry',\n",
       "       'sad', 'jealous', 'embarrassed', 'excited', 'lonely', 'guilty',\n",
       "       'trusting', 'disgusted', 'anxious'], dtype=object)"
      ]
     },
     "execution_count": 116,
     "metadata": {},
     "output_type": "execute_result"
    }
   ],
   "source": [
    "df['context'].unique()"
   ]
  },
  {
   "cell_type": "code",
   "execution_count": null,
   "metadata": {
    "id": "qlmkK2DHNuIq"
   },
   "outputs": [],
   "source": [
    "df.to_csv('chatdata_v1.csv',index=True)"
   ]
  },
  {
   "cell_type": "code",
   "execution_count": null,
   "metadata": {
    "colab": {
     "base_uri": "https://localhost:8080/",
     "height": 36
    },
    "id": "xsT1rjuMvfUy",
    "outputId": "f62a512d-5cbe-41df-f9eb-aaa100fff751"
   },
   "outputs": [
    {
     "data": {
      "application/vnd.google.colaboratory.intrinsic+json": {
       "type": "string"
      },
      "text/plain": [
       "'人們一直被拒絕，但這不應該是讓它勸阻你的目標。發生了什麼？ 從一個我想上班的地方被拒絕，而不是三次'"
      ]
     },
     "execution_count": 34,
     "metadata": {},
     "output_type": "execute_result"
    }
   ],
   "source": [
    "df['conv'][11]"
   ]
  },
  {
   "cell_type": "code",
   "execution_count": null,
   "metadata": {
    "colab": {
     "base_uri": "https://localhost:8080/",
     "height": 418
    },
    "id": "2K6_OPCtnlK0",
    "outputId": "6008f2aa-6924-43a1-cce6-2ac01111a749"
   },
   "outputs": [
    {
     "data": {
      "text/html": [
       "<div>\n",
       "<style scoped>\n",
       "    .dataframe tbody tr th:only-of-type {\n",
       "        vertical-align: middle;\n",
       "    }\n",
       "\n",
       "    .dataframe tbody tr th {\n",
       "        vertical-align: top;\n",
       "    }\n",
       "\n",
       "    .dataframe thead th {\n",
       "        text-align: right;\n",
       "    }\n",
       "</style>\n",
       "<table border=\"1\" class=\"dataframe\">\n",
       "  <thead>\n",
       "    <tr style=\"text-align: right;\">\n",
       "      <th></th>\n",
       "      <th>Unnamed: 0</th>\n",
       "      <th>context</th>\n",
       "      <th>conv</th>\n",
       "    </tr>\n",
       "  </thead>\n",
       "  <tbody>\n",
       "    <tr>\n",
       "      <th>0</th>\n",
       "      <td>0</td>\n",
       "      <td>sentimental</td>\n",
       "      <td>我記得和我最好的朋友一起看煙花。這是我們第一次在一起共度時光。雖然有很多人，但我們覺得就像世...</td>\n",
       "    </tr>\n",
       "    <tr>\n",
       "      <th>1</th>\n",
       "      <td>1</td>\n",
       "      <td>afraid</td>\n",
       "      <td>當我看到黑暗時，感覺就像擊中空白牆哦是的？我真的沒有看到如何 難道你不覺得..這是一個奇蹟 ...</td>\n",
       "    </tr>\n",
       "    <tr>\n",
       "      <th>2</th>\n",
       "      <td>2</td>\n",
       "      <td>proud</td>\n",
       "      <td>你好，今天過得好嗎做得好..你怎麼樣 我很好，試圖了解某人在看到黑暗時覺得有人可以覺得擊中空...</td>\n",
       "    </tr>\n",
       "    <tr>\n",
       "      <th>3</th>\n",
       "      <td>3</td>\n",
       "      <td>proud</td>\n",
       "      <td>我從來沒有欺騙過我的妻子。這就是你永遠不應該做的事情，善於你。 是的，但我並不容易，但我很自...</td>\n",
       "    </tr>\n",
       "    <tr>\n",
       "      <th>4</th>\n",
       "      <td>4</td>\n",
       "      <td>terrified</td>\n",
       "      <td>求職面試總是讓我汗水子彈，一般來說，讓我感到不舒服，可以在那樣的顯微鏡下看。不要緊張。剛準備...</td>\n",
       "    </tr>\n",
       "    <tr>\n",
       "      <th>...</th>\n",
       "      <td>...</td>\n",
       "      <td>...</td>\n",
       "      <td>...</td>\n",
       "    </tr>\n",
       "    <tr>\n",
       "      <th>10354</th>\n",
       "      <td>11281</td>\n",
       "      <td>angry</td>\n",
       "      <td>我們花了很多錢在比薩餅上。訂單都錯了。當我們打電話給他們時，他們對我們非常粗魯。聽起來真可怕...</td>\n",
       "    </tr>\n",
       "    <tr>\n",
       "      <th>10355</th>\n",
       "      <td>11282</td>\n",
       "      <td>afraid</td>\n",
       "      <td>今天早上我在廚房裡看到了一隻老鼠....可怕的小動物哎呀，我會一直嚇壞了。你是怎麼處理的呢？...</td>\n",
       "    </tr>\n",
       "    <tr>\n",
       "      <th>10356</th>\n",
       "      <td>11283</td>\n",
       "      <td>sentimental</td>\n",
       "      <td>我的丈夫和我剛慶祝我們的第九個結婚紀念日。那太好了......幾乎十年了！ 我知道！我們經歷...</td>\n",
       "    </tr>\n",
       "    <tr>\n",
       "      <th>10357</th>\n",
       "      <td>11284</td>\n",
       "      <td>joyful</td>\n",
       "      <td>今天下午我在動物園裡遇見一個女孩。令人敬畏的第一次約會！希望它適合你。 我很樂觀。我覺得它進...</td>\n",
       "    </tr>\n",
       "    <tr>\n",
       "      <th>10358</th>\n",
       "      <td>11286</td>\n",
       "      <td>sad</td>\n",
       "      <td>我的空氣和加熱傢伙過來用於系統的例行檢查。他告訴我，我需要一個全新的空調機組。我不是太開心了...</td>\n",
       "    </tr>\n",
       "  </tbody>\n",
       "</table>\n",
       "<p>10359 rows × 3 columns</p>\n",
       "</div>"
      ],
      "text/plain": [
       "       Unnamed: 0  ...                                               conv\n",
       "0               0  ...  我記得和我最好的朋友一起看煙花。這是我們第一次在一起共度時光。雖然有很多人，但我們覺得就像世...\n",
       "1               1  ...  當我看到黑暗時，感覺就像擊中空白牆哦是的？我真的沒有看到如何 難道你不覺得..這是一個奇蹟 ...\n",
       "2               2  ...  你好，今天過得好嗎做得好..你怎麼樣 我很好，試圖了解某人在看到黑暗時覺得有人可以覺得擊中空...\n",
       "3               3  ...  我從來沒有欺騙過我的妻子。這就是你永遠不應該做的事情，善於你。 是的，但我並不容易，但我很自...\n",
       "4               4  ...  求職面試總是讓我汗水子彈，一般來說，讓我感到不舒服，可以在那樣的顯微鏡下看。不要緊張。剛準備...\n",
       "...           ...  ...                                                ...\n",
       "10354       11281  ...  我們花了很多錢在比薩餅上。訂單都錯了。當我們打電話給他們時，他們對我們非常粗魯。聽起來真可怕...\n",
       "10355       11282  ...  今天早上我在廚房裡看到了一隻老鼠....可怕的小動物哎呀，我會一直嚇壞了。你是怎麼處理的呢？...\n",
       "10356       11283  ...  我的丈夫和我剛慶祝我們的第九個結婚紀念日。那太好了......幾乎十年了！ 我知道！我們經歷...\n",
       "10357       11284  ...  今天下午我在動物園裡遇見一個女孩。令人敬畏的第一次約會！希望它適合你。 我很樂觀。我覺得它進...\n",
       "10358       11286  ...  我的空氣和加熱傢伙過來用於系統的例行檢查。他告訴我，我需要一個全新的空調機組。我不是太開心了...\n",
       "\n",
       "[10359 rows x 3 columns]"
      ]
     },
     "execution_count": 119,
     "metadata": {},
     "output_type": "execute_result"
    }
   ],
   "source": [
    "f1=pd.read_csv('chatdata_v1.csv')\n",
    "f1"
   ]
  },
  {
   "cell_type": "code",
   "execution_count": null,
   "metadata": {
    "colab": {
     "base_uri": "https://localhost:8080/"
    },
    "id": "WSyaberKriDR",
    "outputId": "0f67c3e7-5079-435e-e6f0-8e10629497ed"
   },
   "outputs": [
    {
     "data": {
      "text/plain": [
       "excited        1859\n",
       "sad            1802\n",
       "joyful         1158\n",
       "proud           930\n",
       "angry           796\n",
       "guilty          604\n",
       "anxious         587\n",
       "lonely          413\n",
       "afraid          395\n",
       "terrified       364\n",
       "disgusted       349\n",
       "jealous         339\n",
       "embarrassed     294\n",
       "sentimental     264\n",
       "trusting        205\n",
       "Name: context, dtype: int64"
      ]
     },
     "execution_count": 121,
     "metadata": {},
     "output_type": "execute_result"
    }
   ],
   "source": [
    "df['context'].value_counts()"
   ]
  },
  {
   "cell_type": "markdown",
   "metadata": {
    "id": "o0fAfOwnPvtZ"
   },
   "source": [
    "## **LSTM**"
   ]
  },
  {
   "cell_type": "code",
   "execution_count": 1,
   "metadata": {
    "id": "-SgWKlztr_6g"
   },
   "outputs": [
    {
     "name": "stderr",
     "output_type": "stream",
     "text": [
      "Using TensorFlow backend.\n"
     ]
    },
    {
     "name": "stdout",
     "output_type": "stream",
     "text": [
      "2.0.0\n",
      "2.3.1\n"
     ]
    }
   ],
   "source": [
    "\"\"\"\n",
    "训练网络，并保存模型，其中LSTM的实现采用Python中的keras库\n",
    "\"\"\"\n",
    "import keras\n",
    "import tensorflow as tf\n",
    "print(tf.version.VERSION)\n",
    "print(keras.__version__)\n",
    "\n",
    "\n",
    "import pandas as pd \n",
    "import numpy as np \n",
    "import jieba\n",
    "import multiprocessing\n",
    "\n",
    "import gensim\n",
    "from gensim.models.word2vec import Word2Vec\n",
    "from gensim.corpora.dictionary import Dictionary\n",
    "from tensorflow.keras.preprocessing import sequence\n",
    "\n",
    "from sklearn.model_selection import train_test_split\n",
    "from tensorflow.keras.models import Sequential\n",
    "from tensorflow.keras.layers import Embedding, LSTM, Dense, Dropout, Activation, Flatten\n",
    "from sklearn.preprocessing import LabelEncoder\n",
    "\n",
    "np.random.seed(13107)  # For Reproducibility\n",
    "import sys\n",
    "# sess = tf.compat.v1.Session()\n",
    "# sys.setrecursionlimit(1000000"
   ]
  },
  {
   "cell_type": "code",
   "execution_count": 2,
   "metadata": {},
   "outputs": [],
   "source": [
    "# set parameters:\n",
    "cpu_count = multiprocessing.cpu_count() # 4\n",
    "vocab_dim = 50\n",
    "n_iterations = 2  # ideally more..\n",
    "n_exposures = 20 # 所有频数超过10的词语\n",
    "window_size = 7\n",
    "n_epochs = 30\n",
    "input_length = 100\n",
    "maxlen = 100\n",
    "batch_size = 8"
   ]
  },
  {
   "cell_type": "code",
   "execution_count": 3,
   "metadata": {
    "colab": {
     "base_uri": "https://localhost:8080/",
     "height": 418
    },
    "id": "yhEMk9a8CFgC",
    "outputId": "b236ebfc-74ec-4671-c432-09b457c0975f"
   },
   "outputs": [
    {
     "data": {
      "text/html": [
       "<div>\n",
       "<style scoped>\n",
       "    .dataframe tbody tr th:only-of-type {\n",
       "        vertical-align: middle;\n",
       "    }\n",
       "\n",
       "    .dataframe tbody tr th {\n",
       "        vertical-align: top;\n",
       "    }\n",
       "\n",
       "    .dataframe thead th {\n",
       "        text-align: right;\n",
       "    }\n",
       "</style>\n",
       "<table border=\"1\" class=\"dataframe\">\n",
       "  <thead>\n",
       "    <tr style=\"text-align: right;\">\n",
       "      <th></th>\n",
       "      <th>Unnamed: 0</th>\n",
       "      <th>context</th>\n",
       "      <th>conv</th>\n",
       "    </tr>\n",
       "  </thead>\n",
       "  <tbody>\n",
       "    <tr>\n",
       "      <th>0</th>\n",
       "      <td>0</td>\n",
       "      <td>sentimental</td>\n",
       "      <td>我記得和我最好的朋友一起看煙花。這是我們第一次在一起共度時光。雖然有很多人，但我們覺得就像世...</td>\n",
       "    </tr>\n",
       "    <tr>\n",
       "      <th>1</th>\n",
       "      <td>1</td>\n",
       "      <td>afraid</td>\n",
       "      <td>當我看到黑暗時，感覺就像擊中空白牆哦是的？我真的沒有看到如何 難道你不覺得..這是一個奇蹟 ...</td>\n",
       "    </tr>\n",
       "    <tr>\n",
       "      <th>2</th>\n",
       "      <td>2</td>\n",
       "      <td>proud</td>\n",
       "      <td>你好，今天過得好嗎做得好..你怎麼樣 我很好，試圖了解某人在看到黑暗時覺得有人可以覺得擊中空...</td>\n",
       "    </tr>\n",
       "    <tr>\n",
       "      <th>3</th>\n",
       "      <td>3</td>\n",
       "      <td>proud</td>\n",
       "      <td>我從來沒有欺騙過我的妻子。這就是你永遠不應該做的事情，善於你。 是的，但我並不容易，但我很自...</td>\n",
       "    </tr>\n",
       "    <tr>\n",
       "      <th>4</th>\n",
       "      <td>4</td>\n",
       "      <td>terrified</td>\n",
       "      <td>求職面試總是讓我汗水子彈，一般來說，讓我感到不舒服，可以在那樣的顯微鏡下看。不要緊張。剛準備...</td>\n",
       "    </tr>\n",
       "    <tr>\n",
       "      <th>...</th>\n",
       "      <td>...</td>\n",
       "      <td>...</td>\n",
       "      <td>...</td>\n",
       "    </tr>\n",
       "    <tr>\n",
       "      <th>10354</th>\n",
       "      <td>11281</td>\n",
       "      <td>angry</td>\n",
       "      <td>我們花了很多錢在比薩餅上。訂單都錯了。當我們打電話給他們時，他們對我們非常粗魯。聽起來真可怕...</td>\n",
       "    </tr>\n",
       "    <tr>\n",
       "      <th>10355</th>\n",
       "      <td>11282</td>\n",
       "      <td>afraid</td>\n",
       "      <td>今天早上我在廚房裡看到了一隻老鼠....可怕的小動物哎呀，我會一直嚇壞了。你是怎麼處理的呢？...</td>\n",
       "    </tr>\n",
       "    <tr>\n",
       "      <th>10356</th>\n",
       "      <td>11283</td>\n",
       "      <td>sentimental</td>\n",
       "      <td>我的丈夫和我剛慶祝我們的第九個結婚紀念日。那太好了......幾乎十年了！ 我知道！我們經歷...</td>\n",
       "    </tr>\n",
       "    <tr>\n",
       "      <th>10357</th>\n",
       "      <td>11284</td>\n",
       "      <td>joyful</td>\n",
       "      <td>今天下午我在動物園裡遇見一個女孩。令人敬畏的第一次約會！希望它適合你。 我很樂觀。我覺得它進...</td>\n",
       "    </tr>\n",
       "    <tr>\n",
       "      <th>10358</th>\n",
       "      <td>11286</td>\n",
       "      <td>sad</td>\n",
       "      <td>我的空氣和加熱傢伙過來用於系統的例行檢查。他告訴我，我需要一個全新的空調機組。我不是太開心了...</td>\n",
       "    </tr>\n",
       "  </tbody>\n",
       "</table>\n",
       "<p>10359 rows × 3 columns</p>\n",
       "</div>"
      ],
      "text/plain": [
       "       Unnamed: 0      context  \\\n",
       "0               0  sentimental   \n",
       "1               1       afraid   \n",
       "2               2        proud   \n",
       "3               3        proud   \n",
       "4               4    terrified   \n",
       "...           ...          ...   \n",
       "10354       11281        angry   \n",
       "10355       11282       afraid   \n",
       "10356       11283  sentimental   \n",
       "10357       11284       joyful   \n",
       "10358       11286          sad   \n",
       "\n",
       "                                                    conv  \n",
       "0      我記得和我最好的朋友一起看煙花。這是我們第一次在一起共度時光。雖然有很多人，但我們覺得就像世...  \n",
       "1      當我看到黑暗時，感覺就像擊中空白牆哦是的？我真的沒有看到如何 難道你不覺得..這是一個奇蹟 ...  \n",
       "2      你好，今天過得好嗎做得好..你怎麼樣 我很好，試圖了解某人在看到黑暗時覺得有人可以覺得擊中空...  \n",
       "3      我從來沒有欺騙過我的妻子。這就是你永遠不應該做的事情，善於你。 是的，但我並不容易，但我很自...  \n",
       "4      求職面試總是讓我汗水子彈，一般來說，讓我感到不舒服，可以在那樣的顯微鏡下看。不要緊張。剛準備...  \n",
       "...                                                  ...  \n",
       "10354  我們花了很多錢在比薩餅上。訂單都錯了。當我們打電話給他們時，他們對我們非常粗魯。聽起來真可怕...  \n",
       "10355  今天早上我在廚房裡看到了一隻老鼠....可怕的小動物哎呀，我會一直嚇壞了。你是怎麼處理的呢？...  \n",
       "10356  我的丈夫和我剛慶祝我們的第九個結婚紀念日。那太好了......幾乎十年了！ 我知道！我們經歷...  \n",
       "10357  今天下午我在動物園裡遇見一個女孩。令人敬畏的第一次約會！希望它適合你。 我很樂觀。我覺得它進...  \n",
       "10358  我的空氣和加熱傢伙過來用於系統的例行檢查。他告訴我，我需要一個全新的空調機組。我不是太開心了...  \n",
       "\n",
       "[10359 rows x 3 columns]"
      ]
     },
     "execution_count": 3,
     "metadata": {},
     "output_type": "execute_result"
    }
   ],
   "source": [
    "df=pd.read_csv('chatdata_v1.csv')\n",
    "df"
   ]
  },
  {
   "cell_type": "markdown",
   "metadata": {},
   "source": [
    "### try to label category"
   ]
  },
  {
   "cell_type": "code",
   "execution_count": 4,
   "metadata": {
    "id": "lTD6BTchzAFf"
   },
   "outputs": [
    {
     "data": {
      "text/html": [
       "<div>\n",
       "<style scoped>\n",
       "    .dataframe tbody tr th:only-of-type {\n",
       "        vertical-align: middle;\n",
       "    }\n",
       "\n",
       "    .dataframe tbody tr th {\n",
       "        vertical-align: top;\n",
       "    }\n",
       "\n",
       "    .dataframe thead th {\n",
       "        text-align: right;\n",
       "    }\n",
       "</style>\n",
       "<table border=\"1\" class=\"dataframe\">\n",
       "  <thead>\n",
       "    <tr style=\"text-align: right;\">\n",
       "      <th></th>\n",
       "      <th>Unnamed: 0</th>\n",
       "      <th>context</th>\n",
       "      <th>conv</th>\n",
       "      <th>code</th>\n",
       "      <th>new</th>\n",
       "    </tr>\n",
       "  </thead>\n",
       "  <tbody>\n",
       "    <tr>\n",
       "      <th>0</th>\n",
       "      <td>0</td>\n",
       "      <td>sentimental</td>\n",
       "      <td>我記得和我最好的朋友一起看煙花。這是我們第一次在一起共度時光。雖然有很多人，但我們覺得就像世...</td>\n",
       "      <td>12</td>\n",
       "      <td>sentimental</td>\n",
       "    </tr>\n",
       "    <tr>\n",
       "      <th>1</th>\n",
       "      <td>1</td>\n",
       "      <td>afraid</td>\n",
       "      <td>當我看到黑暗時，感覺就像擊中空白牆哦是的？我真的沒有看到如何 難道你不覺得..這是一個奇蹟 ...</td>\n",
       "      <td>0</td>\n",
       "      <td>afraid</td>\n",
       "    </tr>\n",
       "    <tr>\n",
       "      <th>2</th>\n",
       "      <td>2</td>\n",
       "      <td>proud</td>\n",
       "      <td>你好，今天過得好嗎做得好..你怎麼樣 我很好，試圖了解某人在看到黑暗時覺得有人可以覺得擊中空...</td>\n",
       "      <td>10</td>\n",
       "      <td>proud</td>\n",
       "    </tr>\n",
       "    <tr>\n",
       "      <th>3</th>\n",
       "      <td>3</td>\n",
       "      <td>proud</td>\n",
       "      <td>我從來沒有欺騙過我的妻子。這就是你永遠不應該做的事情，善於你。 是的，但我並不容易，但我很自...</td>\n",
       "      <td>10</td>\n",
       "      <td>proud</td>\n",
       "    </tr>\n",
       "    <tr>\n",
       "      <th>4</th>\n",
       "      <td>4</td>\n",
       "      <td>terrified</td>\n",
       "      <td>求職面試總是讓我汗水子彈，一般來說，讓我感到不舒服，可以在那樣的顯微鏡下看。不要緊張。剛準備...</td>\n",
       "      <td>13</td>\n",
       "      <td>terrified</td>\n",
       "    </tr>\n",
       "    <tr>\n",
       "      <th>...</th>\n",
       "      <td>...</td>\n",
       "      <td>...</td>\n",
       "      <td>...</td>\n",
       "      <td>...</td>\n",
       "      <td>...</td>\n",
       "    </tr>\n",
       "    <tr>\n",
       "      <th>10354</th>\n",
       "      <td>11281</td>\n",
       "      <td>angry</td>\n",
       "      <td>我們花了很多錢在比薩餅上。訂單都錯了。當我們打電話給他們時，他們對我們非常粗魯。聽起來真可怕...</td>\n",
       "      <td>1</td>\n",
       "      <td>angry</td>\n",
       "    </tr>\n",
       "    <tr>\n",
       "      <th>10355</th>\n",
       "      <td>11282</td>\n",
       "      <td>afraid</td>\n",
       "      <td>今天早上我在廚房裡看到了一隻老鼠....可怕的小動物哎呀，我會一直嚇壞了。你是怎麼處理的呢？...</td>\n",
       "      <td>0</td>\n",
       "      <td>afraid</td>\n",
       "    </tr>\n",
       "    <tr>\n",
       "      <th>10356</th>\n",
       "      <td>11283</td>\n",
       "      <td>sentimental</td>\n",
       "      <td>我的丈夫和我剛慶祝我們的第九個結婚紀念日。那太好了......幾乎十年了！ 我知道！我們經歷...</td>\n",
       "      <td>12</td>\n",
       "      <td>sentimental</td>\n",
       "    </tr>\n",
       "    <tr>\n",
       "      <th>10357</th>\n",
       "      <td>11284</td>\n",
       "      <td>joyful</td>\n",
       "      <td>今天下午我在動物園裡遇見一個女孩。令人敬畏的第一次約會！希望它適合你。 我很樂觀。我覺得它進...</td>\n",
       "      <td>8</td>\n",
       "      <td>joyful</td>\n",
       "    </tr>\n",
       "    <tr>\n",
       "      <th>10358</th>\n",
       "      <td>11286</td>\n",
       "      <td>sad</td>\n",
       "      <td>我的空氣和加熱傢伙過來用於系統的例行檢查。他告訴我，我需要一個全新的空調機組。我不是太開心了...</td>\n",
       "      <td>11</td>\n",
       "      <td>sad</td>\n",
       "    </tr>\n",
       "  </tbody>\n",
       "</table>\n",
       "<p>10359 rows × 5 columns</p>\n",
       "</div>"
      ],
      "text/plain": [
       "       Unnamed: 0      context  \\\n",
       "0               0  sentimental   \n",
       "1               1       afraid   \n",
       "2               2        proud   \n",
       "3               3        proud   \n",
       "4               4    terrified   \n",
       "...           ...          ...   \n",
       "10354       11281        angry   \n",
       "10355       11282       afraid   \n",
       "10356       11283  sentimental   \n",
       "10357       11284       joyful   \n",
       "10358       11286          sad   \n",
       "\n",
       "                                                    conv  code          new  \n",
       "0      我記得和我最好的朋友一起看煙花。這是我們第一次在一起共度時光。雖然有很多人，但我們覺得就像世...    12  sentimental  \n",
       "1      當我看到黑暗時，感覺就像擊中空白牆哦是的？我真的沒有看到如何 難道你不覺得..這是一個奇蹟 ...     0       afraid  \n",
       "2      你好，今天過得好嗎做得好..你怎麼樣 我很好，試圖了解某人在看到黑暗時覺得有人可以覺得擊中空...    10        proud  \n",
       "3      我從來沒有欺騙過我的妻子。這就是你永遠不應該做的事情，善於你。 是的，但我並不容易，但我很自...    10        proud  \n",
       "4      求職面試總是讓我汗水子彈，一般來說，讓我感到不舒服，可以在那樣的顯微鏡下看。不要緊張。剛準備...    13    terrified  \n",
       "...                                                  ...   ...          ...  \n",
       "10354  我們花了很多錢在比薩餅上。訂單都錯了。當我們打電話給他們時，他們對我們非常粗魯。聽起來真可怕...     1        angry  \n",
       "10355  今天早上我在廚房裡看到了一隻老鼠....可怕的小動物哎呀，我會一直嚇壞了。你是怎麼處理的呢？...     0       afraid  \n",
       "10356  我的丈夫和我剛慶祝我們的第九個結婚紀念日。那太好了......幾乎十年了！ 我知道！我們經歷...    12  sentimental  \n",
       "10357  今天下午我在動物園裡遇見一個女孩。令人敬畏的第一次約會！希望它適合你。 我很樂觀。我覺得它進...     8       joyful  \n",
       "10358  我的空氣和加熱傢伙過來用於系統的例行檢查。他告訴我，我需要一個全新的空調機組。我不是太開心了...    11          sad  \n",
       "\n",
       "[10359 rows x 5 columns]"
      ]
     },
     "execution_count": 4,
     "metadata": {},
     "output_type": "execute_result"
    }
   ],
   "source": [
    "df=pd.read_csv('chatdata_v1.csv')\n",
    "# y = dfile['context']\n",
    "from sklearn.preprocessing import LabelEncoder\n",
    "LE = LabelEncoder()\n",
    "df['code'] = LE.fit_transform(df['context'])\n",
    "df['new']=LE.inverse_transform(df['code']) #將code轉回category\n",
    "df"
   ]
  },
  {
   "cell_type": "markdown",
   "metadata": {},
   "source": [
    "## Main"
   ]
  },
  {
   "cell_type": "code",
   "execution_count": 5,
   "metadata": {},
   "outputs": [],
   "source": [
    "# from keras.backend.tensorflow_backend import set_session\n",
    "from tensorflow.python.keras import backend as K\n",
    "config = tf.compat.v1.ConfigProto()\n",
    "# config.gpu_options.allocator_type = 'BFC' #A \"Best-fit with coalescing\" algorithm, simplified from a version of dlmalloc.\n",
    "config.gpu_options.per_process_gpu_memory_fraction = 0.8\n",
    "# config.gpu_options.allow_growth =True\n",
    "sess = tf.compat.v1.Session(config=config)\n",
    "K.set_session(sess)\n",
    "# set_session(tf.compat.v1.Session(config=config)) "
   ]
  },
  {
   "cell_type": "code",
   "execution_count": 6,
   "metadata": {},
   "outputs": [],
   "source": [
    "# physical_devices = tf.config.list_physical_devices('GPU') \n",
    "physical_devices = tf.config.experimental.list_physical_devices('GPU')\n",
    "tf.config.experimental.set_memory_growth(physical_devices[0], True)"
   ]
  },
  {
   "cell_type": "code",
   "execution_count": 7,
   "metadata": {
    "colab": {
     "base_uri": "https://localhost:8080/",
     "height": 1000
    },
    "id": "wjBvGLcSlWbh",
    "outputId": "92d4e2bc-c605-46b8-952a-01d180f5d020"
   },
   "outputs": [],
   "source": [
    "def loadfile():\n",
    "    dfile=pd.read_csv('chatdata_v1.csv')\n",
    "    sentence = dfile['conv']\n",
    "    LE = LabelEncoder()\n",
    "    dfile['code'] = LE.fit_transform(dfile['context'])\n",
    "    y = dfile['code']\n",
    "\n",
    "    return sentence,y\n",
    "\n",
    "\n",
    "#对句子经行分词，并去掉换行符\n",
    "def tokenizer(text):\n",
    "    ''' Simple Parser converting each document to lower-case, then\n",
    "        removing the breaks for new lines and finally splitting on the\n",
    "        whitespace\n",
    "    '''\n",
    "\n",
    "    text = [jieba.lcut(document.replace('\\n', '')) for document in text]\n",
    "    return text\n",
    "\n",
    "\n",
    "def create_dictionaries(model=None,sentence=None):\n",
    "    ''' Function does are number of Jobs:\n",
    "        1- Creates a word to index mapping\n",
    "        2- Creates a word to vector mapping\n",
    "        3- Transforms the Training and Testing Dictionaries\n",
    "    '''\n",
    "    if (sentence is not None) and (model is not None):\n",
    "        gensim_dict = Dictionary()\n",
    "#         words = list(model.wv.index_to_key)\n",
    "        gensim_dict.doc2bow(model.wv.vocab.keys(),allow_update=True)\n",
    "        #  freqxiao10->0 所以k+1\n",
    "        w2indx = {v: k+1 for k, v in gensim_dict.items()}#所有频数超过10的词语的索引,(k->v)=>(v->k)\n",
    "        w2vec = {word: model[word] for word in w2indx.keys()}#所有频数超过10的词语的词向量, (word->model(word))\n",
    "\n",
    "        def parse_dataset(sentence):\n",
    "            ''' Words become integers\n",
    "            '''\n",
    "            data=[]\n",
    "            for sent in sentence:\n",
    "                new_txt = []\n",
    "                for word in sent:\n",
    "                    try:\n",
    "                        new_txt.append(w2indx[word])\n",
    "                    except:\n",
    "                        new_txt.append(0) # freqxiao10->0\n",
    "                data.append(new_txt)\n",
    "            return data # word=>index\n",
    "        sentence=parse_dataset(sentence)\n",
    "        sentence= sequence.pad_sequences(sentence, maxlen=maxlen)#每个句子所含词语对应的索引，所以句子中含有频数小于10的词语，索引为0\n",
    "        return w2indx, w2vec,sentence\n",
    "    else:\n",
    "        print('No data provided...')\n",
    "\n",
    "def word2vec_train(sentence):\n",
    "\n",
    "    model = Word2Vec(size=vocab_dim,\n",
    "              min_count=n_exposures, #忽略所有出現頻率小於10的詞\n",
    "              window=window_size,\n",
    "              workers=cpu_count)\n",
    "    model.build_vocab(sentence) # input: list\n",
    "    model.train(sentence,total_examples=10359, epochs=n_iterations)\n",
    "    \n",
    "    model.save('Word2vec_model.pkl')\n",
    "#     model = gensim.models.Word2Vec.load(\"Word2vec_model.pkl\")\n",
    "    index_dict, word_vectors,sentence = create_dictionaries(model=model,sentence=sentence)\n",
    "    return   index_dict, word_vectors,sentence\n",
    "\n",
    "\n",
    "def get_data(index_dict,word_vectors,sentence,y):\n",
    "\n",
    "    n_symbols = len(index_dict) + 1  # 所有詞語的索引数，频数小于10的词语索引为0，所以加1\n",
    "    embedding_weights = np.zeros((n_symbols, vocab_dim)) # 初始化 索引为0的词语，词向量全为0\n",
    "    for word, index in index_dict.items(): # 從index為1的詞語開始，對每個詞語對應其詞向量\n",
    "        embedding_weights[index, :] = word_vectors[word]\n",
    "    x_train, x_test, y_train, y_test = train_test_split(sentence, y, test_size=0.2)\n",
    "    y_train = keras.utils.to_categorical(y_train,num_classes=15) \n",
    "    y_test = keras.utils.to_categorical(y_test,num_classes=15)\n",
    "    # print(x_train.shape,y_train.shape)\n",
    "    return n_symbols,embedding_weights,x_train,y_train,x_test,y_test\n",
    "\n",
    "\n",
    "##定義網路結構\n",
    "def train_lstm(n_symbols,embedding_weights,x_train,y_train,x_test,y_test):\n",
    "    print ('Defining a Simple Keras Model...')\n",
    "    model = Sequential()  # or Graph or whatever\n",
    "    model.add(Embedding(output_dim=50,\n",
    "              input_dim=n_symbols,\n",
    "              mask_zero=True,\n",
    "              weights=[embedding_weights],\n",
    "              input_length=100))  # Adding Input Length \n",
    "    model.add(LSTM(units=50, activation='tanh'))\n",
    "    model.add(Dropout(0.5))\n",
    "#     model.add(LSTM(units = 50))\n",
    "#     model.add(Dropout(0.2))\n",
    "    # model.add(Dense(100))\n",
    "    model.add(Dense(15,activation='softmax')) # Dense=>全连接层,输出维度=3\n",
    "    model.add(Activation('softmax'))\n",
    "    # model.add(Flatten())\n",
    "    print(model.summary())\n",
    "    print('Compiling the Model...')\n",
    "    model.compile(loss = 'categorical_crossentropy', optimizer = 'adam', metrics = ['accuracy'])\n",
    "\n",
    "    print(\"Train...\") # batch_size=32\n",
    "    model.fit(x_train, y_train, batch_size=batch_size, epochs=n_epochs,verbose=1)\n",
    "\n",
    "    print(\"Evaluate...\")\n",
    "    score = model.evaluate(x_test, y_test,batch_size=batch_size)\n",
    "#     yaml_string = model.to_yaml()\n",
    "    model.save('/model/lstm.1')\n",
    "#     with open('/model/lstm.yml', 'w') as outfile:\n",
    "#         outfile.write( yaml.dump(yaml_string, default_flow_style=True) )\n",
    "    model.save_weights('/model/lstm.h5')\n",
    "    print('Test score:', score)\n"
   ]
  },
  {
   "cell_type": "code",
   "execution_count": 8,
   "metadata": {
    "colab": {
     "base_uri": "https://localhost:8080/"
    },
    "id": "QkWraFjQBHcN",
    "outputId": "a47bd2de-fdf8-4d31-e87e-0a1c83305ce4"
   },
   "outputs": [
    {
     "name": "stderr",
     "output_type": "stream",
     "text": [
      "Building prefix dict from the default dictionary ...\n",
      "Loading model from cache C:\\Users\\JOUNG_~1\\AppData\\Local\\Temp\\jieba.cache\n"
     ]
    },
    {
     "name": "stdout",
     "output_type": "stream",
     "text": [
      "Loading Data...\n",
      "10359 10359\n",
      "Tokenising...\n"
     ]
    },
    {
     "name": "stderr",
     "output_type": "stream",
     "text": [
      "Loading model cost 0.445 seconds.\n",
      "Prefix dict has been built successfully.\n"
     ]
    },
    {
     "name": "stdout",
     "output_type": "stream",
     "text": [
      "Training a Word2vec model...\n"
     ]
    },
    {
     "name": "stderr",
     "output_type": "stream",
     "text": [
      "C:\\Users\\joung_msi_1\\anaconda3\\envs\\yyh\\lib\\site-packages\\ipykernel_launcher.py:34: DeprecationWarning: Call to deprecated `__getitem__` (Method will be removed in 4.0.0, use self.wv.__getitem__() instead).\n"
     ]
    },
    {
     "name": "stdout",
     "output_type": "stream",
     "text": [
      "Setting up Arrays for Keras Embedding Layer...\n",
      "x_train.shape and y_train.shape:\n",
      "(8287, 100) (8287, 15)\n",
      "Defining a Simple Keras Model...\n",
      "Model: \"sequential\"\n",
      "_________________________________________________________________\n",
      "Layer (type)                 Output Shape              Param #   \n",
      "=================================================================\n",
      "embedding (Embedding)        (None, 100, 50)           101400    \n",
      "_________________________________________________________________\n",
      "lstm (LSTM)                  (None, 50)                20200     \n",
      "_________________________________________________________________\n",
      "dropout (Dropout)            (None, 50)                0         \n",
      "_________________________________________________________________\n",
      "dense (Dense)                (None, 15)                765       \n",
      "_________________________________________________________________\n",
      "activation (Activation)      (None, 15)                0         \n",
      "=================================================================\n",
      "Total params: 122,365\n",
      "Trainable params: 122,365\n",
      "Non-trainable params: 0\n",
      "_________________________________________________________________\n",
      "None\n",
      "Compiling the Model...\n",
      "Train...\n",
      "Train on 8287 samples\n",
      "Epoch 1/30\n",
      "   8/8287 [..............................] - ETA: 3:32:22"
     ]
    },
    {
     "ename": "InternalError",
     "evalue": "2 root error(s) found.\n  (0) Internal:  Blas GEMM launch failed : a.shape=(8, 50), b.shape=(8, 15), m=50, n=15, k=8\n\t [[node MatMul_1 (defined at \\joung_msi_1\\anaconda3\\envs\\yyh\\lib\\site-packages\\tensorflow_core\\python\\framework\\ops.py:1751) ]]\n\t [[Reshape_8/_30]]\n  (1) Internal:  Blas GEMM launch failed : a.shape=(8, 50), b.shape=(8, 15), m=50, n=15, k=8\n\t [[node MatMul_1 (defined at \\joung_msi_1\\anaconda3\\envs\\yyh\\lib\\site-packages\\tensorflow_core\\python\\framework\\ops.py:1751) ]]\n0 successful operations.\n0 derived errors ignored. [Op:__inference_distributed_function_8322]\n\nFunction call stack:\ndistributed_function -> distributed_function\n",
     "output_type": "error",
     "traceback": [
      "\u001b[1;31m---------------------------------------------------------------------------\u001b[0m",
      "\u001b[1;31mInternalError\u001b[0m                             Traceback (most recent call last)",
      "\u001b[1;32mC:\\Users\\JOUNG_~1\\AppData\\Local\\Temp/ipykernel_13428/770756554.py\u001b[0m in \u001b[0;36m<module>\u001b[1;34m\u001b[0m\n\u001b[0;32m     12\u001b[0m \u001b[0mprint\u001b[0m\u001b[1;33m(\u001b[0m\u001b[1;34m\"x_train.shape and y_train.shape:\"\u001b[0m\u001b[1;33m)\u001b[0m\u001b[1;33m\u001b[0m\u001b[1;33m\u001b[0m\u001b[0m\n\u001b[0;32m     13\u001b[0m \u001b[0mprint\u001b[0m\u001b[1;33m(\u001b[0m\u001b[0mx_train\u001b[0m\u001b[1;33m.\u001b[0m\u001b[0mshape\u001b[0m\u001b[1;33m,\u001b[0m\u001b[0my_train\u001b[0m\u001b[1;33m.\u001b[0m\u001b[0mshape\u001b[0m\u001b[1;33m)\u001b[0m\u001b[1;33m\u001b[0m\u001b[1;33m\u001b[0m\u001b[0m\n\u001b[1;32m---> 14\u001b[1;33m \u001b[0mtrain_lstm\u001b[0m\u001b[1;33m(\u001b[0m\u001b[0mn_symbols\u001b[0m\u001b[1;33m,\u001b[0m\u001b[0membedding_weights\u001b[0m\u001b[1;33m,\u001b[0m\u001b[0mx_train\u001b[0m\u001b[1;33m,\u001b[0m\u001b[0my_train\u001b[0m\u001b[1;33m,\u001b[0m\u001b[0mx_test\u001b[0m\u001b[1;33m,\u001b[0m\u001b[0my_test\u001b[0m\u001b[1;33m)\u001b[0m\u001b[1;33m\u001b[0m\u001b[1;33m\u001b[0m\u001b[0m\n\u001b[0m",
      "\u001b[1;32mC:\\Users\\JOUNG_~1\\AppData\\Local\\Temp/ipykernel_13428/2593707618.py\u001b[0m in \u001b[0;36mtrain_lstm\u001b[1;34m(n_symbols, embedding_weights, x_train, y_train, x_test, y_test)\u001b[0m\n\u001b[0;32m    103\u001b[0m \u001b[1;33m\u001b[0m\u001b[0m\n\u001b[0;32m    104\u001b[0m     \u001b[0mprint\u001b[0m\u001b[1;33m(\u001b[0m\u001b[1;34m\"Train...\"\u001b[0m\u001b[1;33m)\u001b[0m \u001b[1;31m# batch_size=32\u001b[0m\u001b[1;33m\u001b[0m\u001b[1;33m\u001b[0m\u001b[0m\n\u001b[1;32m--> 105\u001b[1;33m     \u001b[0mmodel\u001b[0m\u001b[1;33m.\u001b[0m\u001b[0mfit\u001b[0m\u001b[1;33m(\u001b[0m\u001b[0mx_train\u001b[0m\u001b[1;33m,\u001b[0m \u001b[0my_train\u001b[0m\u001b[1;33m,\u001b[0m \u001b[0mbatch_size\u001b[0m\u001b[1;33m=\u001b[0m\u001b[0mbatch_size\u001b[0m\u001b[1;33m,\u001b[0m \u001b[0mepochs\u001b[0m\u001b[1;33m=\u001b[0m\u001b[0mn_epochs\u001b[0m\u001b[1;33m,\u001b[0m\u001b[0mverbose\u001b[0m\u001b[1;33m=\u001b[0m\u001b[1;36m1\u001b[0m\u001b[1;33m)\u001b[0m\u001b[1;33m\u001b[0m\u001b[1;33m\u001b[0m\u001b[0m\n\u001b[0m\u001b[0;32m    106\u001b[0m \u001b[1;33m\u001b[0m\u001b[0m\n\u001b[0;32m    107\u001b[0m     \u001b[0mprint\u001b[0m\u001b[1;33m(\u001b[0m\u001b[1;34m\"Evaluate...\"\u001b[0m\u001b[1;33m)\u001b[0m\u001b[1;33m\u001b[0m\u001b[1;33m\u001b[0m\u001b[0m\n",
      "\u001b[1;32m~\\anaconda3\\envs\\yyh\\lib\\site-packages\\tensorflow_core\\python\\keras\\engine\\training.py\u001b[0m in \u001b[0;36mfit\u001b[1;34m(self, x, y, batch_size, epochs, verbose, callbacks, validation_split, validation_data, shuffle, class_weight, sample_weight, initial_epoch, steps_per_epoch, validation_steps, validation_freq, max_queue_size, workers, use_multiprocessing, **kwargs)\u001b[0m\n\u001b[0;32m    726\u001b[0m         \u001b[0mmax_queue_size\u001b[0m\u001b[1;33m=\u001b[0m\u001b[0mmax_queue_size\u001b[0m\u001b[1;33m,\u001b[0m\u001b[1;33m\u001b[0m\u001b[1;33m\u001b[0m\u001b[0m\n\u001b[0;32m    727\u001b[0m         \u001b[0mworkers\u001b[0m\u001b[1;33m=\u001b[0m\u001b[0mworkers\u001b[0m\u001b[1;33m,\u001b[0m\u001b[1;33m\u001b[0m\u001b[1;33m\u001b[0m\u001b[0m\n\u001b[1;32m--> 728\u001b[1;33m         use_multiprocessing=use_multiprocessing)\n\u001b[0m\u001b[0;32m    729\u001b[0m \u001b[1;33m\u001b[0m\u001b[0m\n\u001b[0;32m    730\u001b[0m   def evaluate(self,\n",
      "\u001b[1;32m~\\anaconda3\\envs\\yyh\\lib\\site-packages\\tensorflow_core\\python\\keras\\engine\\training_v2.py\u001b[0m in \u001b[0;36mfit\u001b[1;34m(self, model, x, y, batch_size, epochs, verbose, callbacks, validation_split, validation_data, shuffle, class_weight, sample_weight, initial_epoch, steps_per_epoch, validation_steps, validation_freq, **kwargs)\u001b[0m\n\u001b[0;32m    322\u001b[0m                 \u001b[0mmode\u001b[0m\u001b[1;33m=\u001b[0m\u001b[0mModeKeys\u001b[0m\u001b[1;33m.\u001b[0m\u001b[0mTRAIN\u001b[0m\u001b[1;33m,\u001b[0m\u001b[1;33m\u001b[0m\u001b[1;33m\u001b[0m\u001b[0m\n\u001b[0;32m    323\u001b[0m                 \u001b[0mtraining_context\u001b[0m\u001b[1;33m=\u001b[0m\u001b[0mtraining_context\u001b[0m\u001b[1;33m,\u001b[0m\u001b[1;33m\u001b[0m\u001b[1;33m\u001b[0m\u001b[0m\n\u001b[1;32m--> 324\u001b[1;33m                 total_epochs=epochs)\n\u001b[0m\u001b[0;32m    325\u001b[0m             \u001b[0mcbks\u001b[0m\u001b[1;33m.\u001b[0m\u001b[0mmake_logs\u001b[0m\u001b[1;33m(\u001b[0m\u001b[0mmodel\u001b[0m\u001b[1;33m,\u001b[0m \u001b[0mepoch_logs\u001b[0m\u001b[1;33m,\u001b[0m \u001b[0mtraining_result\u001b[0m\u001b[1;33m,\u001b[0m \u001b[0mModeKeys\u001b[0m\u001b[1;33m.\u001b[0m\u001b[0mTRAIN\u001b[0m\u001b[1;33m)\u001b[0m\u001b[1;33m\u001b[0m\u001b[1;33m\u001b[0m\u001b[0m\n\u001b[0;32m    326\u001b[0m \u001b[1;33m\u001b[0m\u001b[0m\n",
      "\u001b[1;32m~\\anaconda3\\envs\\yyh\\lib\\site-packages\\tensorflow_core\\python\\keras\\engine\\training_v2.py\u001b[0m in \u001b[0;36mrun_one_epoch\u001b[1;34m(model, iterator, execution_function, dataset_size, batch_size, strategy, steps_per_epoch, num_samples, mode, training_context, total_epochs)\u001b[0m\n\u001b[0;32m    121\u001b[0m         step=step, mode=mode, size=current_batch_size) as batch_logs:\n\u001b[0;32m    122\u001b[0m       \u001b[1;32mtry\u001b[0m\u001b[1;33m:\u001b[0m\u001b[1;33m\u001b[0m\u001b[1;33m\u001b[0m\u001b[0m\n\u001b[1;32m--> 123\u001b[1;33m         \u001b[0mbatch_outs\u001b[0m \u001b[1;33m=\u001b[0m \u001b[0mexecution_function\u001b[0m\u001b[1;33m(\u001b[0m\u001b[0miterator\u001b[0m\u001b[1;33m)\u001b[0m\u001b[1;33m\u001b[0m\u001b[1;33m\u001b[0m\u001b[0m\n\u001b[0m\u001b[0;32m    124\u001b[0m       \u001b[1;32mexcept\u001b[0m \u001b[1;33m(\u001b[0m\u001b[0mStopIteration\u001b[0m\u001b[1;33m,\u001b[0m \u001b[0merrors\u001b[0m\u001b[1;33m.\u001b[0m\u001b[0mOutOfRangeError\u001b[0m\u001b[1;33m)\u001b[0m\u001b[1;33m:\u001b[0m\u001b[1;33m\u001b[0m\u001b[1;33m\u001b[0m\u001b[0m\n\u001b[0;32m    125\u001b[0m         \u001b[1;31m# TODO(kaftan): File bug about tf function and errors.OutOfRangeError?\u001b[0m\u001b[1;33m\u001b[0m\u001b[1;33m\u001b[0m\u001b[1;33m\u001b[0m\u001b[0m\n",
      "\u001b[1;32m~\\anaconda3\\envs\\yyh\\lib\\site-packages\\tensorflow_core\\python\\keras\\engine\\training_v2_utils.py\u001b[0m in \u001b[0;36mexecution_function\u001b[1;34m(input_fn)\u001b[0m\n\u001b[0;32m     84\u001b[0m     \u001b[1;31m# `numpy` translates Tensors to values in Eager mode.\u001b[0m\u001b[1;33m\u001b[0m\u001b[1;33m\u001b[0m\u001b[1;33m\u001b[0m\u001b[0m\n\u001b[0;32m     85\u001b[0m     return nest.map_structure(_non_none_constant_value,\n\u001b[1;32m---> 86\u001b[1;33m                               distributed_function(input_fn))\n\u001b[0m\u001b[0;32m     87\u001b[0m \u001b[1;33m\u001b[0m\u001b[0m\n\u001b[0;32m     88\u001b[0m   \u001b[1;32mreturn\u001b[0m \u001b[0mexecution_function\u001b[0m\u001b[1;33m\u001b[0m\u001b[1;33m\u001b[0m\u001b[0m\n",
      "\u001b[1;32m~\\anaconda3\\envs\\yyh\\lib\\site-packages\\tensorflow_core\\python\\eager\\def_function.py\u001b[0m in \u001b[0;36m__call__\u001b[1;34m(self, *args, **kwds)\u001b[0m\n\u001b[0;32m    455\u001b[0m \u001b[1;33m\u001b[0m\u001b[0m\n\u001b[0;32m    456\u001b[0m     \u001b[0mtracing_count\u001b[0m \u001b[1;33m=\u001b[0m \u001b[0mself\u001b[0m\u001b[1;33m.\u001b[0m\u001b[0m_get_tracing_count\u001b[0m\u001b[1;33m(\u001b[0m\u001b[1;33m)\u001b[0m\u001b[1;33m\u001b[0m\u001b[1;33m\u001b[0m\u001b[0m\n\u001b[1;32m--> 457\u001b[1;33m     \u001b[0mresult\u001b[0m \u001b[1;33m=\u001b[0m \u001b[0mself\u001b[0m\u001b[1;33m.\u001b[0m\u001b[0m_call\u001b[0m\u001b[1;33m(\u001b[0m\u001b[1;33m*\u001b[0m\u001b[0margs\u001b[0m\u001b[1;33m,\u001b[0m \u001b[1;33m**\u001b[0m\u001b[0mkwds\u001b[0m\u001b[1;33m)\u001b[0m\u001b[1;33m\u001b[0m\u001b[1;33m\u001b[0m\u001b[0m\n\u001b[0m\u001b[0;32m    458\u001b[0m     \u001b[1;32mif\u001b[0m \u001b[0mtracing_count\u001b[0m \u001b[1;33m==\u001b[0m \u001b[0mself\u001b[0m\u001b[1;33m.\u001b[0m\u001b[0m_get_tracing_count\u001b[0m\u001b[1;33m(\u001b[0m\u001b[1;33m)\u001b[0m\u001b[1;33m:\u001b[0m\u001b[1;33m\u001b[0m\u001b[1;33m\u001b[0m\u001b[0m\n\u001b[0;32m    459\u001b[0m       \u001b[0mself\u001b[0m\u001b[1;33m.\u001b[0m\u001b[0m_call_counter\u001b[0m\u001b[1;33m.\u001b[0m\u001b[0mcalled_without_tracing\u001b[0m\u001b[1;33m(\u001b[0m\u001b[1;33m)\u001b[0m\u001b[1;33m\u001b[0m\u001b[1;33m\u001b[0m\u001b[0m\n",
      "\u001b[1;32m~\\anaconda3\\envs\\yyh\\lib\\site-packages\\tensorflow_core\\python\\eager\\def_function.py\u001b[0m in \u001b[0;36m_call\u001b[1;34m(self, *args, **kwds)\u001b[0m\n\u001b[0;32m    518\u001b[0m         \u001b[1;31m# Lifting succeeded, so variables are initialized and we can run the\u001b[0m\u001b[1;33m\u001b[0m\u001b[1;33m\u001b[0m\u001b[1;33m\u001b[0m\u001b[0m\n\u001b[0;32m    519\u001b[0m         \u001b[1;31m# stateless function.\u001b[0m\u001b[1;33m\u001b[0m\u001b[1;33m\u001b[0m\u001b[1;33m\u001b[0m\u001b[0m\n\u001b[1;32m--> 520\u001b[1;33m         \u001b[1;32mreturn\u001b[0m \u001b[0mself\u001b[0m\u001b[1;33m.\u001b[0m\u001b[0m_stateless_fn\u001b[0m\u001b[1;33m(\u001b[0m\u001b[1;33m*\u001b[0m\u001b[0margs\u001b[0m\u001b[1;33m,\u001b[0m \u001b[1;33m**\u001b[0m\u001b[0mkwds\u001b[0m\u001b[1;33m)\u001b[0m\u001b[1;33m\u001b[0m\u001b[1;33m\u001b[0m\u001b[0m\n\u001b[0m\u001b[0;32m    521\u001b[0m     \u001b[1;32melse\u001b[0m\u001b[1;33m:\u001b[0m\u001b[1;33m\u001b[0m\u001b[1;33m\u001b[0m\u001b[0m\n\u001b[0;32m    522\u001b[0m       \u001b[0mcanon_args\u001b[0m\u001b[1;33m,\u001b[0m \u001b[0mcanon_kwds\u001b[0m \u001b[1;33m=\u001b[0m\u001b[0;31m \u001b[0m\u001b[0;31m\\\u001b[0m\u001b[1;33m\u001b[0m\u001b[1;33m\u001b[0m\u001b[0m\n",
      "\u001b[1;32m~\\anaconda3\\envs\\yyh\\lib\\site-packages\\tensorflow_core\\python\\eager\\function.py\u001b[0m in \u001b[0;36m__call__\u001b[1;34m(self, *args, **kwargs)\u001b[0m\n\u001b[0;32m   1821\u001b[0m     \u001b[1;34m\"\"\"Calls a graph function specialized to the inputs.\"\"\"\u001b[0m\u001b[1;33m\u001b[0m\u001b[1;33m\u001b[0m\u001b[0m\n\u001b[0;32m   1822\u001b[0m     \u001b[0mgraph_function\u001b[0m\u001b[1;33m,\u001b[0m \u001b[0margs\u001b[0m\u001b[1;33m,\u001b[0m \u001b[0mkwargs\u001b[0m \u001b[1;33m=\u001b[0m \u001b[0mself\u001b[0m\u001b[1;33m.\u001b[0m\u001b[0m_maybe_define_function\u001b[0m\u001b[1;33m(\u001b[0m\u001b[0margs\u001b[0m\u001b[1;33m,\u001b[0m \u001b[0mkwargs\u001b[0m\u001b[1;33m)\u001b[0m\u001b[1;33m\u001b[0m\u001b[1;33m\u001b[0m\u001b[0m\n\u001b[1;32m-> 1823\u001b[1;33m     \u001b[1;32mreturn\u001b[0m \u001b[0mgraph_function\u001b[0m\u001b[1;33m.\u001b[0m\u001b[0m_filtered_call\u001b[0m\u001b[1;33m(\u001b[0m\u001b[0margs\u001b[0m\u001b[1;33m,\u001b[0m \u001b[0mkwargs\u001b[0m\u001b[1;33m)\u001b[0m  \u001b[1;31m# pylint: disable=protected-access\u001b[0m\u001b[1;33m\u001b[0m\u001b[1;33m\u001b[0m\u001b[0m\n\u001b[0m\u001b[0;32m   1824\u001b[0m \u001b[1;33m\u001b[0m\u001b[0m\n\u001b[0;32m   1825\u001b[0m   \u001b[1;33m@\u001b[0m\u001b[0mproperty\u001b[0m\u001b[1;33m\u001b[0m\u001b[1;33m\u001b[0m\u001b[0m\n",
      "\u001b[1;32m~\\anaconda3\\envs\\yyh\\lib\\site-packages\\tensorflow_core\\python\\eager\\function.py\u001b[0m in \u001b[0;36m_filtered_call\u001b[1;34m(self, args, kwargs)\u001b[0m\n\u001b[0;32m   1139\u001b[0m          if isinstance(t, (ops.Tensor,\n\u001b[0;32m   1140\u001b[0m                            resource_variable_ops.BaseResourceVariable))),\n\u001b[1;32m-> 1141\u001b[1;33m         self.captured_inputs)\n\u001b[0m\u001b[0;32m   1142\u001b[0m \u001b[1;33m\u001b[0m\u001b[0m\n\u001b[0;32m   1143\u001b[0m   \u001b[1;32mdef\u001b[0m \u001b[0m_call_flat\u001b[0m\u001b[1;33m(\u001b[0m\u001b[0mself\u001b[0m\u001b[1;33m,\u001b[0m \u001b[0margs\u001b[0m\u001b[1;33m,\u001b[0m \u001b[0mcaptured_inputs\u001b[0m\u001b[1;33m,\u001b[0m \u001b[0mcancellation_manager\u001b[0m\u001b[1;33m=\u001b[0m\u001b[1;32mNone\u001b[0m\u001b[1;33m)\u001b[0m\u001b[1;33m:\u001b[0m\u001b[1;33m\u001b[0m\u001b[1;33m\u001b[0m\u001b[0m\n",
      "\u001b[1;32m~\\anaconda3\\envs\\yyh\\lib\\site-packages\\tensorflow_core\\python\\eager\\function.py\u001b[0m in \u001b[0;36m_call_flat\u001b[1;34m(self, args, captured_inputs, cancellation_manager)\u001b[0m\n\u001b[0;32m   1222\u001b[0m     \u001b[1;32mif\u001b[0m \u001b[0mexecuting_eagerly\u001b[0m\u001b[1;33m:\u001b[0m\u001b[1;33m\u001b[0m\u001b[1;33m\u001b[0m\u001b[0m\n\u001b[0;32m   1223\u001b[0m       flat_outputs = forward_function.call(\n\u001b[1;32m-> 1224\u001b[1;33m           ctx, args, cancellation_manager=cancellation_manager)\n\u001b[0m\u001b[0;32m   1225\u001b[0m     \u001b[1;32melse\u001b[0m\u001b[1;33m:\u001b[0m\u001b[1;33m\u001b[0m\u001b[1;33m\u001b[0m\u001b[0m\n\u001b[0;32m   1226\u001b[0m       \u001b[0mgradient_name\u001b[0m \u001b[1;33m=\u001b[0m \u001b[0mself\u001b[0m\u001b[1;33m.\u001b[0m\u001b[0m_delayed_rewrite_functions\u001b[0m\u001b[1;33m.\u001b[0m\u001b[0mregister\u001b[0m\u001b[1;33m(\u001b[0m\u001b[1;33m)\u001b[0m\u001b[1;33m\u001b[0m\u001b[1;33m\u001b[0m\u001b[0m\n",
      "\u001b[1;32m~\\anaconda3\\envs\\yyh\\lib\\site-packages\\tensorflow_core\\python\\eager\\function.py\u001b[0m in \u001b[0;36mcall\u001b[1;34m(self, ctx, args, cancellation_manager)\u001b[0m\n\u001b[0;32m    509\u001b[0m               \u001b[0minputs\u001b[0m\u001b[1;33m=\u001b[0m\u001b[0margs\u001b[0m\u001b[1;33m,\u001b[0m\u001b[1;33m\u001b[0m\u001b[1;33m\u001b[0m\u001b[0m\n\u001b[0;32m    510\u001b[0m               \u001b[0mattrs\u001b[0m\u001b[1;33m=\u001b[0m\u001b[1;33m(\u001b[0m\u001b[1;34m\"executor_type\"\u001b[0m\u001b[1;33m,\u001b[0m \u001b[0mexecutor_type\u001b[0m\u001b[1;33m,\u001b[0m \u001b[1;34m\"config_proto\"\u001b[0m\u001b[1;33m,\u001b[0m \u001b[0mconfig\u001b[0m\u001b[1;33m)\u001b[0m\u001b[1;33m,\u001b[0m\u001b[1;33m\u001b[0m\u001b[1;33m\u001b[0m\u001b[0m\n\u001b[1;32m--> 511\u001b[1;33m               ctx=ctx)\n\u001b[0m\u001b[0;32m    512\u001b[0m         \u001b[1;32melse\u001b[0m\u001b[1;33m:\u001b[0m\u001b[1;33m\u001b[0m\u001b[1;33m\u001b[0m\u001b[0m\n\u001b[0;32m    513\u001b[0m           outputs = execute.execute_with_cancellation(\n",
      "\u001b[1;32m~\\anaconda3\\envs\\yyh\\lib\\site-packages\\tensorflow_core\\python\\eager\\execute.py\u001b[0m in \u001b[0;36mquick_execute\u001b[1;34m(op_name, num_outputs, inputs, attrs, ctx, name)\u001b[0m\n\u001b[0;32m     65\u001b[0m     \u001b[1;32melse\u001b[0m\u001b[1;33m:\u001b[0m\u001b[1;33m\u001b[0m\u001b[1;33m\u001b[0m\u001b[0m\n\u001b[0;32m     66\u001b[0m       \u001b[0mmessage\u001b[0m \u001b[1;33m=\u001b[0m \u001b[0me\u001b[0m\u001b[1;33m.\u001b[0m\u001b[0mmessage\u001b[0m\u001b[1;33m\u001b[0m\u001b[1;33m\u001b[0m\u001b[0m\n\u001b[1;32m---> 67\u001b[1;33m     \u001b[0msix\u001b[0m\u001b[1;33m.\u001b[0m\u001b[0mraise_from\u001b[0m\u001b[1;33m(\u001b[0m\u001b[0mcore\u001b[0m\u001b[1;33m.\u001b[0m\u001b[0m_status_to_exception\u001b[0m\u001b[1;33m(\u001b[0m\u001b[0me\u001b[0m\u001b[1;33m.\u001b[0m\u001b[0mcode\u001b[0m\u001b[1;33m,\u001b[0m \u001b[0mmessage\u001b[0m\u001b[1;33m)\u001b[0m\u001b[1;33m,\u001b[0m \u001b[1;32mNone\u001b[0m\u001b[1;33m)\u001b[0m\u001b[1;33m\u001b[0m\u001b[1;33m\u001b[0m\u001b[0m\n\u001b[0m\u001b[0;32m     68\u001b[0m   \u001b[1;32mexcept\u001b[0m \u001b[0mTypeError\u001b[0m \u001b[1;32mas\u001b[0m \u001b[0me\u001b[0m\u001b[1;33m:\u001b[0m\u001b[1;33m\u001b[0m\u001b[1;33m\u001b[0m\u001b[0m\n\u001b[0;32m     69\u001b[0m     keras_symbolic_tensors = [\n",
      "\u001b[1;32m~\\anaconda3\\envs\\yyh\\lib\\site-packages\\six.py\u001b[0m in \u001b[0;36mraise_from\u001b[1;34m(value, from_value)\u001b[0m\n",
      "\u001b[1;31mInternalError\u001b[0m: 2 root error(s) found.\n  (0) Internal:  Blas GEMM launch failed : a.shape=(8, 50), b.shape=(8, 15), m=50, n=15, k=8\n\t [[node MatMul_1 (defined at \\joung_msi_1\\anaconda3\\envs\\yyh\\lib\\site-packages\\tensorflow_core\\python\\framework\\ops.py:1751) ]]\n\t [[Reshape_8/_30]]\n  (1) Internal:  Blas GEMM launch failed : a.shape=(8, 50), b.shape=(8, 15), m=50, n=15, k=8\n\t [[node MatMul_1 (defined at \\joung_msi_1\\anaconda3\\envs\\yyh\\lib\\site-packages\\tensorflow_core\\python\\framework\\ops.py:1751) ]]\n0 successful operations.\n0 derived errors ignored. [Op:__inference_distributed_function_8322]\n\nFunction call stack:\ndistributed_function -> distributed_function\n"
     ]
    }
   ],
   "source": [
    "#訓練模型並保存\n",
    "print('Loading Data...')\n",
    "sentence,y=loadfile()\n",
    "print(len(sentence),len(y))\n",
    "print('Tokenising...')\n",
    "sentence = tokenizer(sentence)\n",
    "print('Training a Word2vec model...')\n",
    "index_dict, word_vectors,sentence=word2vec_train(sentence)\n",
    "\n",
    "print('Setting up Arrays for Keras Embedding Layer...')\n",
    "n_symbols,embedding_weights,x_train,y_train,x_test,y_test=get_data(index_dict, word_vectors,sentence,y)\n",
    "print(\"x_train.shape and y_train.shape:\")\n",
    "print(x_train.shape,y_train.shape)\n",
    "train_lstm(n_symbols,embedding_weights,x_train,y_train,x_test,y_test)"
   ]
  },
  {
   "cell_type": "markdown",
   "metadata": {},
   "source": [
    "## Test"
   ]
  },
  {
   "cell_type": "code",
   "execution_count": null,
   "metadata": {},
   "outputs": [],
   "source": [
    "!nvidia-smi -l"
   ]
  },
  {
   "cell_type": "code",
   "execution_count": null,
   "metadata": {
    "colab": {
     "base_uri": "https://localhost:8080/"
    },
    "id": "Z8iQBPlwhZ1w",
    "outputId": "547f9fb8-f2ca-463c-d680-2200f263dd64"
   },
   "outputs": [
    {
     "data": {
      "text/plain": [
       "Unnamed: 0                                                  42000\n",
       "context                                                 surprised\n",
       "prompt          I was startled when I walked up on a snake a f...\n",
       "utterance                                  No， but I attacked it.\n",
       "conv_chinese                                            不，但我襲擊了它。\n",
       "Name: 42000, dtype: object"
      ]
     },
     "execution_count": 12,
     "metadata": {},
     "output_type": "execute_result"
    }
   ],
   "source": [
    "train.iloc[42000]"
   ]
  },
  {
   "cell_type": "code",
   "execution_count": null,
   "metadata": {
    "id": "n2qCf1i6P3g1"
   },
   "outputs": [],
   "source": [
    "import functools\n",
    "check_add_one = lambda arr:functools.reduce(lambda x,y:(x+1==y if isinstance(x,int) else x[0] and x[1]+1==y, y),arr)[0]"
   ]
  },
  {
   "cell_type": "code",
   "execution_count": null,
   "metadata": {
    "colab": {
     "base_uri": "https://localhost:8080/"
    },
    "id": "sPjbRQouP3eW",
    "outputId": "b54ac836-066d-4c11-ad9e-b6399f3722f2"
   },
   "outputs": [
    {
     "data": {
      "text/plain": [
       "False"
      ]
     },
     "execution_count": 3,
     "metadata": {},
     "output_type": "execute_result"
    }
   ],
   "source": [
    "check_add_one([1,2,3,4,5])"
   ]
  },
  {
   "cell_type": "code",
   "execution_count": null,
   "metadata": {
    "id": "RjVv8_L2P3Zd"
   },
   "outputs": [],
   "source": [
    "pip uninstall tensorflow-estimator tensorboard tb-nightly tf-estimator-nightly"
   ]
  },
  {
   "cell_type": "code",
   "execution_count": null,
   "metadata": {
    "id": "_TrGc4AkP3XA"
   },
   "outputs": [],
   "source": []
  },
  {
   "cell_type": "code",
   "execution_count": null,
   "metadata": {
    "id": "8b9eI3PPP3UF"
   },
   "outputs": [],
   "source": []
  }
 ],
 "metadata": {
  "accelerator": "GPU",
  "colab": {
   "collapsed_sections": [
    "V0C1wl1LPZ80",
    "GU4Ax9oiWH2o"
   ],
   "name": "@@chatbot ",
   "provenance": []
  },
  "kernelspec": {
   "display_name": "Python 3",
   "language": "python",
   "name": "python3"
  },
  "language_info": {
   "codemirror_mode": {
    "name": "ipython",
    "version": 3
   },
   "file_extension": ".py",
   "mimetype": "text/x-python",
   "name": "python",
   "nbconvert_exporter": "python",
   "pygments_lexer": "ipython3",
   "version": "3.8.5"
  }
 },
 "nbformat": 4,
 "nbformat_minor": 1
}
